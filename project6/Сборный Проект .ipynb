{
 "cells": [
  {
   "cell_type": "markdown",
   "metadata": {},
   "source": [
    "## Цели и задачи проекта\n",
    "Цель данного проекта - разобраться, как ведут себя пользователи  мобильного приложения для продажи продуктов питания и повлияет ли изменение шрифта на их поведение. \n",
    "\n",
    "В процессе мы изучим воронку продаж, узнайте, как и сколько пользователей доходит до покупки, а сколько — «застревает» на предыдущих шагах и на каких именно.\n",
    "\n",
    "После этого исследуем результаты A/A/B-эксперимента. Проверим, как влияет изменение шрифтов на поведение пользователей и какой шрифт лучше. Для повыщения уверенности пользователей разбили на 3 группы: 2 контрольные со старыми шрифтами и одну экспериментальную — с новыми, таким образом если две контрольные группы окажутся равны, мы можем быть уверены в точности проведенного тестирования. Если же между значениями A и A будут существенные различия, это поможет обнаружить факторы, которые привели к искажению результатов. Сравнение контрольных групп также помогает понять, сколько времени и данных потребуется для дальнейших тестов."
   ]
  },
  {
   "cell_type": "code",
   "execution_count": 1,
   "metadata": {},
   "outputs": [],
   "source": [
    "import pandas as pd\n",
    "import datetime as dt\n",
    "import scipy.stats as st\n",
    "import numpy as np\n",
    "import matplotlib.pyplot as plt\n",
    "from pandas.plotting import register_matplotlib_converters\n",
    "import math as mth\n",
    "import warnings"
   ]
  },
  {
   "cell_type": "markdown",
   "metadata": {},
   "source": [
    "## Шаг 1. Откроем файл с данными и изучим общую информацию\n",
    "\n",
    "На этом этапе мы ознакомимся с данными, их количеством и форматом"
   ]
  },
  {
   "cell_type": "code",
   "execution_count": 2,
   "metadata": {},
   "outputs": [],
   "source": [
    "data = pd.read_csv('/datasets/logs_exp.csv', sep='\\t', parse_dates=['EventTimestamp'])"
   ]
  },
  {
   "cell_type": "code",
   "execution_count": 3,
   "metadata": {
    "scrolled": true
   },
   "outputs": [
    {
     "data": {
      "text/html": [
       "<div>\n",
       "<style scoped>\n",
       "    .dataframe tbody tr th:only-of-type {\n",
       "        vertical-align: middle;\n",
       "    }\n",
       "\n",
       "    .dataframe tbody tr th {\n",
       "        vertical-align: top;\n",
       "    }\n",
       "\n",
       "    .dataframe thead th {\n",
       "        text-align: right;\n",
       "    }\n",
       "</style>\n",
       "<table border=\"1\" class=\"dataframe\">\n",
       "  <thead>\n",
       "    <tr style=\"text-align: right;\">\n",
       "      <th></th>\n",
       "      <th>EventName</th>\n",
       "      <th>DeviceIDHash</th>\n",
       "      <th>EventTimestamp</th>\n",
       "      <th>ExpId</th>\n",
       "    </tr>\n",
       "  </thead>\n",
       "  <tbody>\n",
       "    <tr>\n",
       "      <th>0</th>\n",
       "      <td>MainScreenAppear</td>\n",
       "      <td>4575588528974610257</td>\n",
       "      <td>1564029816</td>\n",
       "      <td>246</td>\n",
       "    </tr>\n",
       "    <tr>\n",
       "      <th>1</th>\n",
       "      <td>MainScreenAppear</td>\n",
       "      <td>7416695313311560658</td>\n",
       "      <td>1564053102</td>\n",
       "      <td>246</td>\n",
       "    </tr>\n",
       "    <tr>\n",
       "      <th>2</th>\n",
       "      <td>PaymentScreenSuccessful</td>\n",
       "      <td>3518123091307005509</td>\n",
       "      <td>1564054127</td>\n",
       "      <td>248</td>\n",
       "    </tr>\n",
       "    <tr>\n",
       "      <th>3</th>\n",
       "      <td>CartScreenAppear</td>\n",
       "      <td>3518123091307005509</td>\n",
       "      <td>1564054127</td>\n",
       "      <td>248</td>\n",
       "    </tr>\n",
       "    <tr>\n",
       "      <th>4</th>\n",
       "      <td>PaymentScreenSuccessful</td>\n",
       "      <td>6217807653094995999</td>\n",
       "      <td>1564055322</td>\n",
       "      <td>248</td>\n",
       "    </tr>\n",
       "  </tbody>\n",
       "</table>\n",
       "</div>"
      ],
      "text/plain": [
       "                 EventName         DeviceIDHash EventTimestamp  ExpId\n",
       "0         MainScreenAppear  4575588528974610257     1564029816    246\n",
       "1         MainScreenAppear  7416695313311560658     1564053102    246\n",
       "2  PaymentScreenSuccessful  3518123091307005509     1564054127    248\n",
       "3         CartScreenAppear  3518123091307005509     1564054127    248\n",
       "4  PaymentScreenSuccessful  6217807653094995999     1564055322    248"
      ]
     },
     "execution_count": 3,
     "metadata": {},
     "output_type": "execute_result"
    }
   ],
   "source": [
    "data.head()"
   ]
  },
  {
   "cell_type": "code",
   "execution_count": 4,
   "metadata": {},
   "outputs": [
    {
     "name": "stdout",
     "output_type": "stream",
     "text": [
      "<class 'pandas.core.frame.DataFrame'>\n",
      "RangeIndex: 244126 entries, 0 to 244125\n",
      "Data columns (total 4 columns):\n",
      " #   Column          Non-Null Count   Dtype \n",
      "---  ------          --------------   ----- \n",
      " 0   EventName       244126 non-null  object\n",
      " 1   DeviceIDHash    244126 non-null  int64 \n",
      " 2   EventTimestamp  244126 non-null  object\n",
      " 3   ExpId           244126 non-null  int64 \n",
      "dtypes: int64(2), object(2)\n",
      "memory usage: 7.5+ MB\n"
     ]
    }
   ],
   "source": [
    "data.info()"
   ]
  },
  {
   "cell_type": "markdown",
   "metadata": {},
   "source": [
    "### Вывод\n",
    "В таблице четыре столбца и 244126 строк. Названия столбцов не в удобном формате, а столбец с датой не в формате дат. Исправим это в следующем шаге"
   ]
  },
  {
   "cell_type": "markdown",
   "metadata": {},
   "source": [
    "## Шаг 2. Подготовим данные\n",
    "Теперь перейдем к предобработке данных: изменим название столбцов, преведем данные с датами в более удобный и понятный формат, а также проверим данные на наличие пропусков и дубликатов"
   ]
  },
  {
   "cell_type": "markdown",
   "metadata": {},
   "source": [
    "### Заменим названия столбцов на удобные \n"
   ]
  },
  {
   "cell_type": "code",
   "execution_count": 5,
   "metadata": {
    "scrolled": true
   },
   "outputs": [],
   "source": [
    "data.columns = ['event_name', 'user_id', 'time_stamp', 'group']"
   ]
  },
  {
   "cell_type": "markdown",
   "metadata": {},
   "source": [
    "### Проверим дубликаты, пропуски и типы данных. \n"
   ]
  },
  {
   "cell_type": "code",
   "execution_count": 6,
   "metadata": {
    "scrolled": false
   },
   "outputs": [
    {
     "name": "stdout",
     "output_type": "stream",
     "text": [
      "413\n"
     ]
    }
   ],
   "source": [
    "print(data.duplicated().sum())"
   ]
  },
  {
   "cell_type": "code",
   "execution_count": 7,
   "metadata": {},
   "outputs": [],
   "source": [
    "data = data.drop_duplicates()"
   ]
  },
  {
   "cell_type": "code",
   "execution_count": 8,
   "metadata": {
    "scrolled": true
   },
   "outputs": [
    {
     "name": "stdout",
     "output_type": "stream",
     "text": [
      "event_name    0\n",
      "user_id       0\n",
      "time_stamp    0\n",
      "group         0\n",
      "dtype: int64\n"
     ]
    }
   ],
   "source": [
    "print(data.isna().sum())"
   ]
  },
  {
   "cell_type": "code",
   "execution_count": 9,
   "metadata": {},
   "outputs": [
    {
     "name": "stdout",
     "output_type": "stream",
     "text": [
      "<class 'pandas.core.frame.DataFrame'>\n",
      "Int64Index: 243713 entries, 0 to 244125\n",
      "Data columns (total 4 columns):\n",
      " #   Column      Non-Null Count   Dtype \n",
      "---  ------      --------------   ----- \n",
      " 0   event_name  243713 non-null  object\n",
      " 1   user_id     243713 non-null  int64 \n",
      " 2   time_stamp  243713 non-null  object\n",
      " 3   group       243713 non-null  int64 \n",
      "dtypes: int64(2), object(2)\n",
      "memory usage: 9.3+ MB\n"
     ]
    }
   ],
   "source": [
    "data.info()"
   ]
  },
  {
   "cell_type": "markdown",
   "metadata": {},
   "source": [
    "### Добавим столбец даты и времени, а также отдельный столбец дат"
   ]
  },
  {
   "cell_type": "code",
   "execution_count": 10,
   "metadata": {},
   "outputs": [],
   "source": [
    "data['event_time'] = pd.to_datetime(data['time_stamp'], unit='s', errors='coerce')"
   ]
  },
  {
   "cell_type": "code",
   "execution_count": 11,
   "metadata": {
    "scrolled": true
   },
   "outputs": [
    {
     "name": "stdout",
     "output_type": "stream",
     "text": [
      "Empty DataFrame\n",
      "Columns: [event_name, user_id, time_stamp, group, event_time]\n",
      "Index: []\n"
     ]
    }
   ],
   "source": [
    "print(data[data['time_stamp'].isna()])"
   ]
  },
  {
   "cell_type": "code",
   "execution_count": 12,
   "metadata": {
    "scrolled": false
   },
   "outputs": [],
   "source": [
    "data['event_date'] = data['event_time'].dt.date"
   ]
  },
  {
   "cell_type": "code",
   "execution_count": 13,
   "metadata": {
    "scrolled": false
   },
   "outputs": [
    {
     "name": "stdout",
     "output_type": "stream",
     "text": [
      "<class 'pandas.core.frame.DataFrame'>\n",
      "Int64Index: 243713 entries, 0 to 244125\n",
      "Data columns (total 6 columns):\n",
      " #   Column      Non-Null Count   Dtype         \n",
      "---  ------      --------------   -----         \n",
      " 0   event_name  243713 non-null  object        \n",
      " 1   user_id     243713 non-null  int64         \n",
      " 2   time_stamp  243713 non-null  object        \n",
      " 3   group       243713 non-null  int64         \n",
      " 4   event_time  243713 non-null  datetime64[ns]\n",
      " 5   event_date  243713 non-null  object        \n",
      "dtypes: datetime64[ns](1), int64(2), object(3)\n",
      "memory usage: 13.0+ MB\n"
     ]
    }
   ],
   "source": [
    "data.info()"
   ]
  },
  {
   "cell_type": "markdown",
   "metadata": {},
   "source": [
    "### Вывод\n",
    "В процессе обработки данных были заменены названия столбцов, были обнаружены 413 дубликатов, которые были удалены, пропусков не было обнаружено. Также, на основе данных по времени события, были добавлены столбцы с датой и временем каждого события."
   ]
  },
  {
   "cell_type": "markdown",
   "metadata": {},
   "source": [
    "## Шаг 3. Изучим и проверим данные\n",
    "Перейдем непосредственно к изучению самих данных. Посмотрим на количество всех событий и пользователей, а также на среднее количество событий на каждого пользователя. Также оценим качество данных и срок, за который у нас эти данные есть."
   ]
  },
  {
   "cell_type": "markdown",
   "metadata": {},
   "source": [
    "### Посмотрим на данные поближе\n",
    "Для начала посмотрим, сколько всего событий в логе, сколько всего пользователей и колько в среднем событий приходится на пользователя"
   ]
  },
  {
   "cell_type": "code",
   "execution_count": 14,
   "metadata": {},
   "outputs": [
    {
     "name": "stdout",
     "output_type": "stream",
     "text": [
      "Всего в логе 243713 событий\n",
      "Всего в логе 7551 пользователей\n",
      "Событий на каждого пользователя в среднем 32.27559263673685 \n",
      "20.0\n",
      "1\n",
      "2307\n"
     ]
    }
   ],
   "source": [
    "print(f\"Всего в логе {data['event_name'].count()} событий\")\n",
    "print(f\"Всего в логе {data['user_id'].nunique()} пользователей\")\n",
    "print(f\"Событий на каждого пользователя в среднем {data.groupby('user_id')['event_name'].count().mean()} \")\n",
    "print(data.groupby('user_id')['event_name'].count().median())\n",
    "print(data.groupby('user_id')['event_name'].count().min())\n",
    "print(data.groupby('user_id')['event_name'].count().max())\n"
   ]
  },
  {
   "cell_type": "code",
   "execution_count": 15,
   "metadata": {},
   "outputs": [
    {
     "data": {
      "image/png": "[encoded data removed]",
      "text/plain": [
       "<Figure size 1440x360 with 1 Axes>"
      ]
     },
     "metadata": {
      "needs_background": "light"
     },
     "output_type": "display_data"
    }
   ],
   "source": [
    "plt.figure(figsize=(20, 5))\n",
    "data.groupby('user_id')['event_name'].count().hist(bins=100)\n",
    "plt.xlabel('События') \n",
    "plt.ylabel('Пользователи')\n",
    "plt.title('Количество событий на пользователя');"
   ]
  },
  {
   "cell_type": "markdown",
   "metadata": {},
   "source": [
    "### Теперь посмотрим, за какой период у нас есть данные. Найдем максимальную и минимальную дату. "
   ]
  },
  {
   "cell_type": "code",
   "execution_count": 16,
   "metadata": {
    "scrolled": false
   },
   "outputs": [
    {
     "name": "stdout",
     "output_type": "stream",
     "text": [
      "2019-07-25\n",
      "2019-08-07\n"
     ]
    }
   ],
   "source": [
    "print(data['event_date'].min())\n",
    "print(data['event_date'].max())"
   ]
  },
  {
   "cell_type": "markdown",
   "metadata": {},
   "source": [
    "У нас всего есть данные за период с 23/07/2019 по 07/08/2019"
   ]
  },
  {
   "cell_type": "markdown",
   "metadata": {},
   "source": [
    "### Посмотрим, насколько полные данные за весь период"
   ]
  },
  {
   "cell_type": "code",
   "execution_count": 17,
   "metadata": {
    "scrolled": false
   },
   "outputs": [
    {
     "data": {
      "image/png": "[encoded data removed]",
      "text/plain": [
       "<Figure size 1440x360 with 1 Axes>"
      ]
     },
     "metadata": {
      "needs_background": "light"
     },
     "output_type": "display_data"
    }
   ],
   "source": [
    "plt.figure(figsize=(20, 5))\n",
    "data['event_time'].hist(bins=13)\n",
    "plt.ylabel('Количество событий в день')\n",
    "plt.xlabel('Дата')\n",
    "plt.title('Количество событий')\n",
    "plt.xticks(rotation='45');"
   ]
  },
  {
   "cell_type": "markdown",
   "metadata": {},
   "source": [
    "Данных до 31.07.2019 очень мало, и они могут засорять общую картину, поэтому их лучше отбросить. Но для начала посмотрим, какой процент от общего объема они составляют."
   ]
  },
  {
   "cell_type": "code",
   "execution_count": 18,
   "metadata": {},
   "outputs": [
    {
     "name": "stdout",
     "output_type": "stream",
     "text": [
      "0.00326613680845913\n"
     ]
    }
   ],
   "source": [
    "print((data.query('event_time <= datetime(2019, 7, 31)')['event_name'].count())/data['event_name'].count())"
   ]
  },
  {
   "cell_type": "markdown",
   "metadata": {},
   "source": [
    "Данных до 31.07.2019 меньше одного процента, поэтому можем их отбросить"
   ]
  },
  {
   "cell_type": "code",
   "execution_count": 19,
   "metadata": {},
   "outputs": [],
   "source": [
    "data_filt = data.query('event_time >= datetime(2019, 7, 30)')"
   ]
  },
  {
   "cell_type": "code",
   "execution_count": 20,
   "metadata": {},
   "outputs": [
    {
     "data": {
      "text/html": [
       "<div>\n",
       "<style scoped>\n",
       "    .dataframe tbody tr th:only-of-type {\n",
       "        vertical-align: middle;\n",
       "    }\n",
       "\n",
       "    .dataframe tbody tr th {\n",
       "        vertical-align: top;\n",
       "    }\n",
       "\n",
       "    .dataframe thead th {\n",
       "        text-align: right;\n",
       "    }\n",
       "</style>\n",
       "<table border=\"1\" class=\"dataframe\">\n",
       "  <thead>\n",
       "    <tr style=\"text-align: right;\">\n",
       "      <th></th>\n",
       "      <th>group</th>\n",
       "      <th>total</th>\n",
       "    </tr>\n",
       "  </thead>\n",
       "  <tbody>\n",
       "    <tr>\n",
       "      <th>0</th>\n",
       "      <td>246</td>\n",
       "      <td>2487</td>\n",
       "    </tr>\n",
       "    <tr>\n",
       "      <th>1</th>\n",
       "      <td>247</td>\n",
       "      <td>2520</td>\n",
       "    </tr>\n",
       "    <tr>\n",
       "      <th>2</th>\n",
       "      <td>248</td>\n",
       "      <td>2540</td>\n",
       "    </tr>\n",
       "  </tbody>\n",
       "</table>\n",
       "</div>"
      ],
      "text/plain": [
       "   group  total\n",
       "0    246   2487\n",
       "1    247   2520\n",
       "2    248   2540"
      ]
     },
     "metadata": {},
     "output_type": "display_data"
    }
   ],
   "source": [
    "total = pd.pivot_table(\n",
    "    data_filt,\n",
    "    values='user_id',\n",
    "    index='group',\n",
    "    aggfunc='nunique'\n",
    ").reset_index()\n",
    "total.columns = (['group', 'total'])\n",
    "display(total)"
   ]
  },
  {
   "cell_type": "markdown",
   "metadata": {},
   "source": [
    "### Проверим, есть ли пользователи, которые попали в две или три группы сразу"
   ]
  },
  {
   "cell_type": "code",
   "execution_count": 21,
   "metadata": {},
   "outputs": [
    {
     "name": "stdout",
     "output_type": "stream",
     "text": [
      "group    0\n",
      "dtype: int64\n"
     ]
    }
   ],
   "source": [
    "print(data_filt.groupby('user_id').agg({'group' : 'nunique'}).query('group>1').count())\n",
    "double_users = data_filt.groupby('user_id').agg({'group' : 'nunique'}).reset_index().query('group>1')['user_id'].unique()\n"
   ]
  },
  {
   "cell_type": "code",
   "execution_count": 22,
   "metadata": {
    "scrolled": true
   },
   "outputs": [
    {
     "name": "stdout",
     "output_type": "stream",
     "text": [
      "0\n"
     ]
    }
   ],
   "source": [
    "print(len(double_users))"
   ]
  },
  {
   "cell_type": "markdown",
   "metadata": {},
   "source": [
    "### Вывод\n",
    "У нас всего есть данные за период с 23/07/2019 по 07/08/2019. Данных до 31.07.2019 очень мало, и они могут засорять общую картину и их меньше одного процента, поэтому мы их отбросили"
   ]
  },
  {
   "cell_type": "markdown",
   "metadata": {},
   "source": [
    "## Шаг 4. Изучим воронку событий\n",
    "Посмотрим, какие события есть в логах и как часто они встречаются. Посчитаем, сколько пользователей совершали каждое из этих событий. Посчитаем долю пользователей, которые хоть раз совершали событие.\n",
    "Проверим, в каком порядке происходят события. Посмотрим на воронку событий и посчитаем, какая доля пользователей проходит на следующий шаг воронки (от числа пользователей на предыдущем). Узнаем, на каком шаге теряем больше всего пользователей и \n",
    "какая доля пользователей доходит от первого события до оплаты."
   ]
  },
  {
   "cell_type": "markdown",
   "metadata": {},
   "source": [
    "### Посмотрим, какие события есть в логах, как часто они встречаются. Отсортируем события по частоте."
   ]
  },
  {
   "cell_type": "code",
   "execution_count": 82,
   "metadata": {
    "scrolled": true
   },
   "outputs": [
    {
     "data": {
      "text/html": [
       "<div>\n",
       "<style scoped>\n",
       "    .dataframe tbody tr th:only-of-type {\n",
       "        vertical-align: middle;\n",
       "    }\n",
       "\n",
       "    .dataframe tbody tr th {\n",
       "        vertical-align: top;\n",
       "    }\n",
       "\n",
       "    .dataframe thead th {\n",
       "        text-align: right;\n",
       "    }\n",
       "</style>\n",
       "<table border=\"1\" class=\"dataframe\">\n",
       "  <thead>\n",
       "    <tr style=\"text-align: right;\">\n",
       "      <th></th>\n",
       "      <th>user_id</th>\n",
       "    </tr>\n",
       "    <tr>\n",
       "      <th>event_name</th>\n",
       "      <th></th>\n",
       "    </tr>\n",
       "  </thead>\n",
       "  <tbody>\n",
       "    <tr>\n",
       "      <th>MainScreenAppear</th>\n",
       "      <td>118857</td>\n",
       "    </tr>\n",
       "    <tr>\n",
       "      <th>OffersScreenAppear</th>\n",
       "      <td>46758</td>\n",
       "    </tr>\n",
       "    <tr>\n",
       "      <th>CartScreenAppear</th>\n",
       "      <td>42609</td>\n",
       "    </tr>\n",
       "    <tr>\n",
       "      <th>PaymentScreenSuccessful</th>\n",
       "      <td>34091</td>\n",
       "    </tr>\n",
       "    <tr>\n",
       "      <th>Tutorial</th>\n",
       "      <td>1014</td>\n",
       "    </tr>\n",
       "  </tbody>\n",
       "</table>\n",
       "</div>"
      ],
      "text/plain": [
       "                         user_id\n",
       "event_name                      \n",
       "MainScreenAppear          118857\n",
       "OffersScreenAppear         46758\n",
       "CartScreenAppear           42609\n",
       "PaymentScreenSuccessful    34091\n",
       "Tutorial                    1014"
      ]
     },
     "metadata": {},
     "output_type": "display_data"
    }
   ],
   "source": [
    "events = data_filt.groupby('event_name').agg({'user_id':'count'})\n",
    "display(events.sort_values('user_id', ascending=False))"
   ]
  },
  {
   "cell_type": "markdown",
   "metadata": {},
   "source": [
    "Самое частое событие - MainScreenAppear, оно было совершено 118857 раз"
   ]
  },
  {
   "cell_type": "markdown",
   "metadata": {},
   "source": [
    "### Посчитаем, сколько пользователей совершали каждое из этих событий. Также отсортируем события по числу пользователей. Посчитаем долю пользователей, которые хоть раз совершали событие."
   ]
  },
  {
   "cell_type": "code",
   "execution_count": 83,
   "metadata": {
    "scrolled": false
   },
   "outputs": [
    {
     "data": {
      "text/html": [
       "<div>\n",
       "<style scoped>\n",
       "    .dataframe tbody tr th:only-of-type {\n",
       "        vertical-align: middle;\n",
       "    }\n",
       "\n",
       "    .dataframe tbody tr th {\n",
       "        vertical-align: top;\n",
       "    }\n",
       "\n",
       "    .dataframe thead th {\n",
       "        text-align: right;\n",
       "    }\n",
       "</style>\n",
       "<table border=\"1\" class=\"dataframe\">\n",
       "  <thead>\n",
       "    <tr style=\"text-align: right;\">\n",
       "      <th></th>\n",
       "      <th>event_name</th>\n",
       "      <th>user_id</th>\n",
       "      <th>share</th>\n",
       "    </tr>\n",
       "  </thead>\n",
       "  <tbody>\n",
       "    <tr>\n",
       "      <th>1</th>\n",
       "      <td>MainScreenAppear</td>\n",
       "      <td>7435</td>\n",
       "      <td>98.52</td>\n",
       "    </tr>\n",
       "    <tr>\n",
       "      <th>2</th>\n",
       "      <td>OffersScreenAppear</td>\n",
       "      <td>4612</td>\n",
       "      <td>61.11</td>\n",
       "    </tr>\n",
       "    <tr>\n",
       "      <th>0</th>\n",
       "      <td>CartScreenAppear</td>\n",
       "      <td>3747</td>\n",
       "      <td>49.65</td>\n",
       "    </tr>\n",
       "    <tr>\n",
       "      <th>3</th>\n",
       "      <td>PaymentScreenSuccessful</td>\n",
       "      <td>3546</td>\n",
       "      <td>46.99</td>\n",
       "    </tr>\n",
       "    <tr>\n",
       "      <th>4</th>\n",
       "      <td>Tutorial</td>\n",
       "      <td>845</td>\n",
       "      <td>11.20</td>\n",
       "    </tr>\n",
       "  </tbody>\n",
       "</table>\n",
       "</div>"
      ],
      "text/plain": [
       "                event_name  user_id  share\n",
       "1         MainScreenAppear     7435  98.52\n",
       "2       OffersScreenAppear     4612  61.11\n",
       "0         CartScreenAppear     3747  49.65\n",
       "3  PaymentScreenSuccessful     3546  46.99\n",
       "4                 Tutorial      845  11.20"
      ]
     },
     "metadata": {},
     "output_type": "display_data"
    }
   ],
   "source": [
    "events_g = data_filt.groupby('event_name').agg({'user_id':'nunique'}).reset_index().reindex(columns=['event_name', 'user_id']).sort_values('user_id', ascending=False)\n",
    "\n",
    "events_g['share'] = round((events_g['user_id']/data_filt['user_id'].nunique()*100),2)\n",
    "\n",
    "display(events_g)"
   ]
  },
  {
   "cell_type": "markdown",
   "metadata": {},
   "source": [
    "### Вывод\n",
    "Всего 7435 пользователей совершили как минимум одно событие, это 98,52% от общего количества пользователей. \n",
    "Логично предположить, что события происходят в следующем порядке: MainScreenAppear -> OffersScreenAppear -> CartScreenAppear -> PaymentScreenSuccessful, в то время, как Tutorial опциональное действие и не все польователи его проходят. Для наших целей учитывать его не имеет смысла, поэтому далее не будем его учитывать.\n",
    "\n",
    "У первого события `MainScreenAppear` доля пользователей, его совершивших, составляет 98.5%, скорее всего это связано с тем, что некоторые пользователи, зарегистрированные ранее, не совершали никаких действий в выбранный период"
   ]
  },
  {
   "cell_type": "markdown",
   "metadata": {},
   "source": [
    "Видим, что 46,99% пользователей доходят от первого действия до покупки. Больше всего пользователей мы теряем при переходе с MainScreenAppear на OffersScreenAppear, это примерно 37% от общего количества пользователей."
   ]
  },
  {
   "cell_type": "markdown",
   "metadata": {},
   "source": [
    "## Шаг 5. Изучим результаты эксперимента"
   ]
  },
  {
   "cell_type": "markdown",
   "metadata": {},
   "source": [
    "Теперь перейдем непосредтвенно к нашему эксперименту и рассмотрим поведение пользователей в разрезе групп. Для этого рассмотрим, сколько пользователей в каждой группе и какие события они совершают. \n",
    "Также, поскольку мы проводили А/А/В тест для определения поведения пользователей в разных группах, проведем статистический анализ А/А и А/В групп, а затем объеденим А/А группы в одну и сравним ее с В группой с измененным шрифтом.\n"
   ]
  },
  {
   "cell_type": "markdown",
   "metadata": {},
   "source": [
    "### Посмотрим на общее количество пользователей в каждой группе"
   ]
  },
  {
   "cell_type": "code",
   "execution_count": 84,
   "metadata": {},
   "outputs": [
    {
     "data": {
      "text/html": [
       "<div>\n",
       "<style scoped>\n",
       "    .dataframe tbody tr th:only-of-type {\n",
       "        vertical-align: middle;\n",
       "    }\n",
       "\n",
       "    .dataframe tbody tr th {\n",
       "        vertical-align: top;\n",
       "    }\n",
       "\n",
       "    .dataframe thead th {\n",
       "        text-align: right;\n",
       "    }\n",
       "</style>\n",
       "<table border=\"1\" class=\"dataframe\">\n",
       "  <thead>\n",
       "    <tr style=\"text-align: right;\">\n",
       "      <th></th>\n",
       "      <th>group</th>\n",
       "      <th>total</th>\n",
       "    </tr>\n",
       "  </thead>\n",
       "  <tbody>\n",
       "    <tr>\n",
       "      <th>0</th>\n",
       "      <td>246</td>\n",
       "      <td>2487</td>\n",
       "    </tr>\n",
       "    <tr>\n",
       "      <th>1</th>\n",
       "      <td>247</td>\n",
       "      <td>2520</td>\n",
       "    </tr>\n",
       "    <tr>\n",
       "      <th>2</th>\n",
       "      <td>248</td>\n",
       "      <td>2540</td>\n",
       "    </tr>\n",
       "  </tbody>\n",
       "</table>\n",
       "</div>"
      ],
      "text/plain": [
       "   group  total\n",
       "0    246   2487\n",
       "1    247   2520\n",
       "2    248   2540"
      ]
     },
     "metadata": {},
     "output_type": "display_data"
    }
   ],
   "source": [
    "total = pd.pivot_table(\n",
    "    data_filt,\n",
    "    values='user_id',\n",
    "    index='group',\n",
    "    aggfunc='nunique'\n",
    ").reset_index()\n",
    "total.columns = (['group', 'total'])\n",
    "display(total)"
   ]
  },
  {
   "cell_type": "markdown",
   "metadata": {},
   "source": [
    "Проверим, находят ли статистические критерии разницу между контрольными группами 246 и 247, чтобы проверить корректность всех механизмов и расчётов. "
   ]
  },
  {
   "cell_type": "markdown",
   "metadata": {},
   "source": [
    "###  Посчитаем число пользователей, совершивших каждое событие в каждой из контрольных групп. "
   ]
  },
  {
   "cell_type": "code",
   "execution_count": 85,
   "metadata": {
    "scrolled": true
   },
   "outputs": [
    {
     "data": {
      "text/html": [
       "<div>\n",
       "<style scoped>\n",
       "    .dataframe tbody tr th:only-of-type {\n",
       "        vertical-align: middle;\n",
       "    }\n",
       "\n",
       "    .dataframe tbody tr th {\n",
       "        vertical-align: top;\n",
       "    }\n",
       "\n",
       "    .dataframe thead th {\n",
       "        text-align: right;\n",
       "    }\n",
       "</style>\n",
       "<table border=\"1\" class=\"dataframe\">\n",
       "  <thead>\n",
       "    <tr style=\"text-align: right;\">\n",
       "      <th>event_name</th>\n",
       "      <th>group</th>\n",
       "      <th>MainScreenAppear</th>\n",
       "      <th>OffersScreenAppear</th>\n",
       "      <th>CartScreenAppear</th>\n",
       "      <th>PaymentScreenSuccessful</th>\n",
       "    </tr>\n",
       "  </thead>\n",
       "  <tbody>\n",
       "    <tr>\n",
       "      <th>0</th>\n",
       "      <td>246</td>\n",
       "      <td>2454</td>\n",
       "      <td>1545</td>\n",
       "      <td>1269</td>\n",
       "      <td>1202</td>\n",
       "    </tr>\n",
       "    <tr>\n",
       "      <th>1</th>\n",
       "      <td>247</td>\n",
       "      <td>2482</td>\n",
       "      <td>1529</td>\n",
       "      <td>1240</td>\n",
       "      <td>1160</td>\n",
       "    </tr>\n",
       "    <tr>\n",
       "      <th>2</th>\n",
       "      <td>248</td>\n",
       "      <td>2499</td>\n",
       "      <td>1538</td>\n",
       "      <td>1238</td>\n",
       "      <td>1184</td>\n",
       "    </tr>\n",
       "  </tbody>\n",
       "</table>\n",
       "</div>"
      ],
      "text/plain": [
       "event_name  group  MainScreenAppear  OffersScreenAppear  CartScreenAppear  \\\n",
       "0             246              2454                1545              1269   \n",
       "1             247              2482                1529              1240   \n",
       "2             248              2499                1538              1238   \n",
       "\n",
       "event_name  PaymentScreenSuccessful  \n",
       "0                              1202  \n",
       "1                              1160  \n",
       "2                              1184  "
      ]
     },
     "execution_count": 85,
     "metadata": {},
     "output_type": "execute_result"
    }
   ],
   "source": [
    "aab_table = pd.pivot_table(\n",
    "    data_filt, values='user_id', index='group', columns='event_name', aggfunc='nunique'\n",
    ").reset_index()\n",
    "aab_table = aab_table[['group', 'MainScreenAppear', 'OffersScreenAppear', 'CartScreenAppear', 'PaymentScreenSuccessful']]\n",
    "aab_table"
   ]
  },
  {
   "cell_type": "markdown",
   "metadata": {},
   "source": [
    "### Посчитаем долю пользователей, совершивших эти события. Для этого нам надо добавить общее количество пользователец в каждой группе"
   ]
  },
  {
   "cell_type": "code",
   "execution_count": 86,
   "metadata": {},
   "outputs": [
    {
     "data": {
      "text/html": [
       "<div>\n",
       "<style scoped>\n",
       "    .dataframe tbody tr th:only-of-type {\n",
       "        vertical-align: middle;\n",
       "    }\n",
       "\n",
       "    .dataframe tbody tr th {\n",
       "        vertical-align: top;\n",
       "    }\n",
       "\n",
       "    .dataframe thead th {\n",
       "        text-align: right;\n",
       "    }\n",
       "</style>\n",
       "<table border=\"1\" class=\"dataframe\">\n",
       "  <thead>\n",
       "    <tr style=\"text-align: right;\">\n",
       "      <th></th>\n",
       "      <th>group</th>\n",
       "      <th>MainScreenAppear</th>\n",
       "      <th>OffersScreenAppear</th>\n",
       "      <th>CartScreenAppear</th>\n",
       "      <th>PaymentScreenSuccessful</th>\n",
       "      <th>total</th>\n",
       "    </tr>\n",
       "  </thead>\n",
       "  <tbody>\n",
       "    <tr>\n",
       "      <th>0</th>\n",
       "      <td>246</td>\n",
       "      <td>2454</td>\n",
       "      <td>1545</td>\n",
       "      <td>1269</td>\n",
       "      <td>1202</td>\n",
       "      <td>2487</td>\n",
       "    </tr>\n",
       "    <tr>\n",
       "      <th>1</th>\n",
       "      <td>247</td>\n",
       "      <td>2482</td>\n",
       "      <td>1529</td>\n",
       "      <td>1240</td>\n",
       "      <td>1160</td>\n",
       "      <td>2520</td>\n",
       "    </tr>\n",
       "    <tr>\n",
       "      <th>2</th>\n",
       "      <td>248</td>\n",
       "      <td>2499</td>\n",
       "      <td>1538</td>\n",
       "      <td>1238</td>\n",
       "      <td>1184</td>\n",
       "      <td>2540</td>\n",
       "    </tr>\n",
       "  </tbody>\n",
       "</table>\n",
       "</div>"
      ],
      "text/plain": [
       "   group  MainScreenAppear  OffersScreenAppear  CartScreenAppear  \\\n",
       "0    246              2454                1545              1269   \n",
       "1    247              2482                1529              1240   \n",
       "2    248              2499                1538              1238   \n",
       "\n",
       "   PaymentScreenSuccessful  total  \n",
       "0                     1202   2487  \n",
       "1                     1160   2520  \n",
       "2                     1184   2540  "
      ]
     },
     "metadata": {},
     "output_type": "display_data"
    }
   ],
   "source": [
    "aab_table = aab_table.merge(total, left_on='group', right_on='group')\n",
    "display(aab_table)"
   ]
  },
  {
   "cell_type": "code",
   "execution_count": 87,
   "metadata": {},
   "outputs": [
    {
     "data": {
      "text/html": [
       "<div>\n",
       "<style scoped>\n",
       "    .dataframe tbody tr th:only-of-type {\n",
       "        vertical-align: middle;\n",
       "    }\n",
       "\n",
       "    .dataframe tbody tr th {\n",
       "        vertical-align: top;\n",
       "    }\n",
       "\n",
       "    .dataframe thead th {\n",
       "        text-align: right;\n",
       "    }\n",
       "</style>\n",
       "<table border=\"1\" class=\"dataframe\">\n",
       "  <thead>\n",
       "    <tr style=\"text-align: right;\">\n",
       "      <th></th>\n",
       "      <th>group</th>\n",
       "      <th>MainScreenAppear, share</th>\n",
       "      <th>OffersScreenAppear, share</th>\n",
       "      <th>CartScreenAppear, share</th>\n",
       "      <th>PaymentScreenSuccessful, share</th>\n",
       "    </tr>\n",
       "  </thead>\n",
       "  <tbody>\n",
       "    <tr>\n",
       "      <th>0</th>\n",
       "      <td>246</td>\n",
       "      <td>0.986731</td>\n",
       "      <td>0.621230</td>\n",
       "      <td>0.510253</td>\n",
       "      <td>0.483313</td>\n",
       "    </tr>\n",
       "    <tr>\n",
       "      <th>1</th>\n",
       "      <td>247</td>\n",
       "      <td>0.984921</td>\n",
       "      <td>0.606746</td>\n",
       "      <td>0.492063</td>\n",
       "      <td>0.460317</td>\n",
       "    </tr>\n",
       "    <tr>\n",
       "      <th>2</th>\n",
       "      <td>248</td>\n",
       "      <td>0.983858</td>\n",
       "      <td>0.605512</td>\n",
       "      <td>0.487402</td>\n",
       "      <td>0.466142</td>\n",
       "    </tr>\n",
       "  </tbody>\n",
       "</table>\n",
       "</div>"
      ],
      "text/plain": [
       "   group  MainScreenAppear, share  OffersScreenAppear, share  \\\n",
       "0    246                 0.986731                   0.621230   \n",
       "1    247                 0.984921                   0.606746   \n",
       "2    248                 0.983858                   0.605512   \n",
       "\n",
       "   CartScreenAppear, share  PaymentScreenSuccessful, share  \n",
       "0                 0.510253                        0.483313  \n",
       "1                 0.492063                        0.460317  \n",
       "2                 0.487402                        0.466142  "
      ]
     },
     "execution_count": 87,
     "metadata": {},
     "output_type": "execute_result"
    }
   ],
   "source": [
    "col = ['MainScreenAppear', 'OffersScreenAppear', 'CartScreenAppear', 'PaymentScreenSuccessful']\n",
    "\n",
    "aab_share = pd.DataFrame({'group':[246, 247, 248]})\n",
    "for i in col:\n",
    "    aab_share[i+', share'] = aab_table[i]/aab_table['total']\n",
    "aab_share"
   ]
  },
  {
   "cell_type": "markdown",
   "metadata": {},
   "source": [
    "### Сравним две контрольные группы\n",
    "Проверим, будет ли отличие между группами статистически достоверным для всех событий (для этого обернем проверку в отдельную функцию). Можно ли сказать, что разбиение на группы работает корректно?"
   ]
  },
  {
   "cell_type": "code",
   "execution_count": 88,
   "metadata": {},
   "outputs": [],
   "source": [
    "def z_calc(p1, p2, total_a, total_b, alpha=0.05):\n",
    "    \n",
    "    p_combined = (p1*total_a+p2*total_b)/(total_a+total_b)\n",
    "       \n",
    "    z_value = (p1-p2)/mth.sqrt(p_combined*(1-p_combined)*(1/total_a+1/total_b))\n",
    "    print(f'z-value - {round(z_value,4)}')\n",
    "    \n",
    "    distr = st.norm(0, 1)\n",
    "    \n",
    "    p_value = (1-distr.cdf(abs(z_value))) * 2\n",
    "    print(f'p-значение: {round(p_value,4)}')\n",
    "    \n",
    "    if p_value < alpha: \n",
    "        print('Отвергаем нулевую гипотезу: меджу долями есть значимая разница')\n",
    "    else: \n",
    "        print('Не получилось отвергнуть нулевую гипотезу, нет оснований полагать, что доли разные')\n",
    "\n",
    "        \n",
    "        "
   ]
  },
  {
   "cell_type": "code",
   "execution_count": 89,
   "metadata": {},
   "outputs": [],
   "source": [
    "total_246 = total.iloc[0,1]\n",
    "total_247 = total.iloc[1,1]\n",
    "total_248 = total.iloc[2,1]"
   ]
  },
  {
   "cell_type": "markdown",
   "metadata": {},
   "source": [
    "Применим z-тест  проверим гипотезу о равенстве долей:\n",
    "\n",
    "Н0 - В группах доли пользователей на каждом шаге равны\n",
    "\n",
    "Н1 - Доли на данном шаге различны\n",
    "\n",
    "alpha = 0,05"
   ]
  },
  {
   "cell_type": "code",
   "execution_count": 90,
   "metadata": {
    "scrolled": false
   },
   "outputs": [
    {
     "name": "stdout",
     "output_type": "stream",
     "text": [
      "Событие:\n",
      "MainScreenAppear, share\n",
      "\n",
      "z-value - 0.5417\n",
      "p-значение: 0.588\n",
      "Не получилось отвергнуть нулевую гипотезу, нет оснований полагать, что доли разные\n",
      "\n",
      "-------------\n",
      "\n",
      "Событие:\n",
      "OffersScreenAppear, share\n",
      "\n",
      "z-value - 1.0526\n",
      "p-значение: 0.2925\n",
      "Не получилось отвергнуть нулевую гипотезу, нет оснований полагать, что доли разные\n",
      "\n",
      "-------------\n",
      "\n",
      "Событие:\n",
      "CartScreenAppear, share\n",
      "\n",
      "z-value - 1.2871\n",
      "p-значение: 0.1981\n",
      "Не получилось отвергнуть нулевую гипотезу, нет оснований полагать, что доли разные\n",
      "\n",
      "-------------\n",
      "\n",
      "Событие:\n",
      "PaymentScreenSuccessful, share\n",
      "\n",
      "z-value - 1.6298\n",
      "p-значение: 0.1032\n",
      "Не получилось отвергнуть нулевую гипотезу, нет оснований полагать, что доли разные\n",
      "\n",
      "-------------\n",
      "\n"
     ]
    }
   ],
   "source": [
    "for i in range(1,5):\n",
    "    print('Событие:')\n",
    "    print(aab_share.columns[i])\n",
    "    print()\n",
    "    z_calc(aab_share.iloc[0,i], aab_share.iloc[1,i], total_246, total_247)\n",
    "    print('\\n-------------\\n')"
   ]
  },
  {
   "cell_type": "markdown",
   "metadata": {},
   "source": [
    "Таким образом, мы доказали, что доли групп 246 и 247 (А/А тест) равны, а значит, пользователей корректно разделили на группы и теперь можем перейти к сравнению долей групп 247 и 248 (А/В тест)\n",
    "\n",
    "    "
   ]
  },
  {
   "cell_type": "markdown",
   "metadata": {},
   "source": [
    "### Сравним первую контрольную группу с тестовой"
   ]
  },
  {
   "cell_type": "code",
   "execution_count": 91,
   "metadata": {
    "scrolled": false
   },
   "outputs": [
    {
     "name": "stdout",
     "output_type": "stream",
     "text": [
      "Событие:\n",
      "MainScreenAppear, share\n",
      "\n",
      "z-value - 0.3048\n",
      "p-значение: 0.7605\n",
      "Не получилось отвергнуть нулевую гипотезу, нет оснований полагать, что доли разные\n",
      "-------------\n",
      "\n",
      "Событие:\n",
      "OffersScreenAppear, share\n",
      "\n",
      "z-value - 0.0898\n",
      "p-значение: 0.9284\n",
      "Не получилось отвергнуть нулевую гипотезу, нет оснований полагать, что доли разные\n",
      "-------------\n",
      "\n",
      "Событие:\n",
      "CartScreenAppear, share\n",
      "\n",
      "z-value - 0.3317\n",
      "p-значение: 0.7401\n",
      "Не получилось отвергнуть нулевую гипотезу, нет оснований полагать, что доли разные\n",
      "-------------\n",
      "\n",
      "Событие:\n",
      "PaymentScreenSuccessful, share\n",
      "\n",
      "z-value - -0.4154\n",
      "p-значение: 0.6778\n",
      "Не получилось отвергнуть нулевую гипотезу, нет оснований полагать, что доли разные\n",
      "-------------\n",
      "\n"
     ]
    }
   ],
   "source": [
    "for i in range(1,5):\n",
    "    print('Событие:')\n",
    "    print(aab_share.columns[i])\n",
    "    print()\n",
    "    z_calc(aab_share.iloc[1,i], aab_share.iloc[2,i], total_247, total_248)\n",
    "    print('-------------')\n",
    "    print()"
   ]
  },
  {
   "cell_type": "markdown",
   "metadata": {},
   "source": [
    "### Сравним вторую контрольную группу с тестовой\n",
    "А/В тест также не обнаруджил статистических различий между группами 247 и 248, перейдем к группам 246 и 248"
   ]
  },
  {
   "cell_type": "code",
   "execution_count": 92,
   "metadata": {
    "scrolled": false
   },
   "outputs": [
    {
     "name": "stdout",
     "output_type": "stream",
     "text": [
      "Событие:\n",
      "MainScreenAppear, share\n",
      "\n",
      "z-value - 0.8456\n",
      "p-значение: 0.3978\n",
      "Не получилось отвергнуть нулевую гипотезу, нет оснований полагать, что доли разные\n",
      "-------------\n",
      "\n",
      "Событие:\n",
      "OffersScreenAppear, share\n",
      "\n",
      "z-value - 1.1442\n",
      "p-значение: 0.2526\n",
      "Не получилось отвергнуть нулевую гипотезу, нет оснований полагать, что доли разные\n",
      "-------------\n",
      "\n",
      "Событие:\n",
      "CartScreenAppear, share\n",
      "\n",
      "z-value - 1.6201\n",
      "p-значение: 0.1052\n",
      "Не получилось отвергнуть нулевую гипотезу, нет оснований полагать, что доли разные\n",
      "-------------\n",
      "\n",
      "Событие:\n",
      "PaymentScreenSuccessful, share\n",
      "\n",
      "z-value - 1.219\n",
      "p-значение: 0.2229\n",
      "Не получилось отвергнуть нулевую гипотезу, нет оснований полагать, что доли разные\n",
      "-------------\n",
      "\n"
     ]
    }
   ],
   "source": [
    "for i in range(1,5):\n",
    "    print('Событие:')\n",
    "    print(aab_share.columns[i])\n",
    "    print()\n",
    "    z_calc(aab_share.iloc[0,i], aab_share.iloc[2,i], total_246, total_248)\n",
    "    print('-------------')\n",
    "    print()"
   ]
  },
  {
   "cell_type": "markdown",
   "metadata": {},
   "source": [
    "### Сравним объединеную контрольную группу с тестовой\n",
    "Видим, что различия тоже не обнаружены. Сравним результаты с объединённой контрольной группой, объединим 246 и 247 группы и сравним с 248. Объединеную группу назовем 493."
   ]
  },
  {
   "cell_type": "code",
   "execution_count": 93,
   "metadata": {},
   "outputs": [],
   "source": [
    "aab_table.loc[1,'group'] = 246\n",
    "ab_table = aab_table.groupby('group', as_index=False).sum()\n",
    "ab_table.loc[0,'group'] = 493"
   ]
  },
  {
   "cell_type": "code",
   "execution_count": 94,
   "metadata": {},
   "outputs": [
    {
     "data": {
      "text/html": [
       "<div>\n",
       "<style scoped>\n",
       "    .dataframe tbody tr th:only-of-type {\n",
       "        vertical-align: middle;\n",
       "    }\n",
       "\n",
       "    .dataframe tbody tr th {\n",
       "        vertical-align: top;\n",
       "    }\n",
       "\n",
       "    .dataframe thead th {\n",
       "        text-align: right;\n",
       "    }\n",
       "</style>\n",
       "<table border=\"1\" class=\"dataframe\">\n",
       "  <thead>\n",
       "    <tr style=\"text-align: right;\">\n",
       "      <th></th>\n",
       "      <th>group</th>\n",
       "      <th>MainScreenAppear</th>\n",
       "      <th>OffersScreenAppear</th>\n",
       "      <th>CartScreenAppear</th>\n",
       "      <th>PaymentScreenSuccessful</th>\n",
       "      <th>total</th>\n",
       "    </tr>\n",
       "  </thead>\n",
       "  <tbody>\n",
       "    <tr>\n",
       "      <th>0</th>\n",
       "      <td>493</td>\n",
       "      <td>4936</td>\n",
       "      <td>3074</td>\n",
       "      <td>2509</td>\n",
       "      <td>2362</td>\n",
       "      <td>5007</td>\n",
       "    </tr>\n",
       "    <tr>\n",
       "      <th>1</th>\n",
       "      <td>248</td>\n",
       "      <td>2499</td>\n",
       "      <td>1538</td>\n",
       "      <td>1238</td>\n",
       "      <td>1184</td>\n",
       "      <td>2540</td>\n",
       "    </tr>\n",
       "  </tbody>\n",
       "</table>\n",
       "</div>"
      ],
      "text/plain": [
       "   group  MainScreenAppear  OffersScreenAppear  CartScreenAppear  \\\n",
       "0    493              4936                3074              2509   \n",
       "1    248              2499                1538              1238   \n",
       "\n",
       "   PaymentScreenSuccessful  total  \n",
       "0                     2362   5007  \n",
       "1                     1184   2540  "
      ]
     },
     "execution_count": 94,
     "metadata": {},
     "output_type": "execute_result"
    }
   ],
   "source": [
    "ab_table"
   ]
  },
  {
   "cell_type": "code",
   "execution_count": 95,
   "metadata": {},
   "outputs": [],
   "source": [
    "col = ['MainScreenAppear', 'OffersScreenAppear', 'CartScreenAppear', 'PaymentScreenSuccessful']\n",
    "\n",
    "ab_share = pd.DataFrame({'group':[493, 248]})\n",
    "for i in col:\n",
    "    ab_share[i+', share'] = ab_table[i]/ab_table['total']\n"
   ]
  },
  {
   "cell_type": "code",
   "execution_count": 96,
   "metadata": {},
   "outputs": [],
   "source": [
    "total_493 = total_246+total_247"
   ]
  },
  {
   "cell_type": "code",
   "execution_count": 97,
   "metadata": {
    "scrolled": false
   },
   "outputs": [
    {
     "name": "stdout",
     "output_type": "stream",
     "text": [
      "Событие:\n",
      "MainScreenAppear, share\n",
      "\n",
      "z-value - 0.666\n",
      "p-значение: 0.5054\n",
      "Не получилось отвергнуть нулевую гипотезу, нет оснований полагать, что доли разные\n",
      "-------------\n",
      "\n",
      "Событие:\n",
      "OffersScreenAppear, share\n",
      "\n",
      "z-value - 0.7097\n",
      "p-значение: 0.4779\n",
      "Не получилось отвергнуть нулевую гипотезу, нет оснований полагать, что доли разные\n",
      "-------------\n",
      "\n",
      "Событие:\n",
      "CartScreenAppear, share\n",
      "\n",
      "z-value - 1.1246\n",
      "p-значение: 0.2608\n",
      "Не получилось отвергнуть нулевую гипотезу, нет оснований полагать, что доли разные\n",
      "-------------\n",
      "\n",
      "Событие:\n",
      "PaymentScreenSuccessful, share\n",
      "\n",
      "z-value - 0.4604\n",
      "p-значение: 0.6452\n",
      "Не получилось отвергнуть нулевую гипотезу, нет оснований полагать, что доли разные\n",
      "-------------\n",
      "\n"
     ]
    }
   ],
   "source": [
    "for i in range(1,5):\n",
    "    print('Событие:')\n",
    "    print(ab_share.columns[i])\n",
    "    print()\n",
    "    z_calc(ab_share.iloc[0,i], ab_share.iloc[1,i], total_493, total_248)\n",
    "    print('-------------')\n",
    "    print()"
   ]
  },
  {
   "cell_type": "markdown",
   "metadata": {},
   "source": [
    "Из результатов тестов выше мы не можем отвергнуть нулевую гипотезу и счесть, что есть разница между ними. Мы проводили 16 тестов по каждой группе и каждому действию, что могло привести к ложноположительному реультату. Мы взяли за уровень значиости показатель alpha = 0.05. Проверим, насколько он оптимален и проверим вероятность получить ошибку первого рода."
   ]
  },
  {
   "cell_type": "code",
   "execution_count": 98,
   "metadata": {},
   "outputs": [
    {
     "data": {
      "text/plain": [
       "0.5598733313482347"
      ]
     },
     "execution_count": 98,
     "metadata": {},
     "output_type": "execute_result"
    }
   ],
   "source": [
    "alpha = 0.05\n",
    "er_a = 1-(1-alpha)**16\n",
    "er_a"
   ]
  },
  {
   "cell_type": "markdown",
   "metadata": {},
   "source": [
    "Получается, вероятность получить ложноположительный результат - 56%, это очень высокая вероятность, для корректировки alpha используем поправку Бонферрони и снова проверим вероятность получить ошибку первого рода с новым значением."
   ]
  },
  {
   "cell_type": "code",
   "execution_count": 99,
   "metadata": {},
   "outputs": [
    {
     "data": {
      "text/plain": [
       "0.003125"
      ]
     },
     "execution_count": 99,
     "metadata": {},
     "output_type": "execute_result"
    }
   ],
   "source": [
    "new_alpha = alpha/16\n",
    "new_alpha"
   ]
  },
  {
   "cell_type": "code",
   "execution_count": 100,
   "metadata": {},
   "outputs": [
    {
     "data": {
      "text/plain": [
       "0.048845042569365726"
      ]
     },
     "execution_count": 100,
     "metadata": {},
     "output_type": "execute_result"
    }
   ],
   "source": [
    "er_b = 1-(1-new_alpha)**16\n",
    "er_b"
   ]
  },
  {
   "cell_type": "markdown",
   "metadata": {},
   "source": [
    "Теперь вероятность для alpha=0.003125 меньше 5%, что уже приемлемо. В наших тестах наименьший показатель p-value - 0.1032, а следовательно, ложноположительных результатов у нас нет."
   ]
  },
  {
   "cell_type": "markdown",
   "metadata": {},
   "source": [
    "### Вывод\n",
    "По результатам А/А/В теста мы не можем отвергнуть нулевую гипотезу и счесть, что есть разница между ними, а,следовательно, что изменение шрифта влечет за собой изменения. \n",
    "Мы проводили 16 тестов по каждой группе и каждому действию, что могло привести к ложноположительному реультату. Изначально мы взяли за уровень значиости показатель alpha = 0.05, что позже скорректировали с помощью поправки Бонферрони и при новом значении alpha=0,003125, у нас также нет подтверждения, что изменение шрифта имеет влияние на поведение пользователей."
   ]
  },
  {
   "cell_type": "markdown",
   "metadata": {},
   "source": [
    "## Итог\n",
    "\n",
    "В процессе обработки данных были заменены названия столбцов, были обнаружены 413 дубликатов, которые были удалены, пропусков не было обнаружено. Также, на основе данных по времени события, были добавлены столбцы с датой и временем каждого события.\n",
    "\n",
    "У нас всего есть данные за период с 23/07/2019 по 07/08/2019. Данных до 31.07.2019 очень мало, и они могут засорять общую картину и их меньше одного процента, поэтому мы их отбросили.\n",
    "\n",
    "Всего 7435 пользователей совершили как минимум одно событие, это 98,52% от общего количества пользователей. Логично предположить, что события происходят в следующем порядке: MainScreenAppear -> OffersScreenAppear -> CartScreenAppear -> PaymentScreenSuccessful, в то время, как Tutorial опциональное действие и не все польователи его проходят. Для наших целей учитывать его не имеет смысла, поэтому далее не будем его учитывать.\n",
    "\n",
    "Видим, что 46,99% пользователей доходят от первого действия до покупки. Больше всего пользователей мы теряем при переходе с MainScreenAppear на OffersScreenAppear, это примерно 37% от общего количества пользователей.\n",
    "\n",
    "По результатам А/А/В теста мы не можем отвергнуть нулевую гипотезу и счесть, что есть разница между ними, а,следовательно, что изменение шрифта влечет за собой изменения. Мы проводили 16 тестов по каждой группе и каждому действию, что могло привести к ложноположительному реультату. Изначально мы взяли за уровень значиости показатель alpha = 0.05, что позже скорректировали с помощью поправки Бонферрони и при новом значении alpha=0,003125, у нас также нет подтверждения, что изменение шрифта имеет влияние на поведение пользователей.\n",
    "\n",
    "Таким образом, мы доказали, что изменение шрифта не приведет к повышению продаж и не является целесообразным. Считаю, что лучше обратить внимание на момент упущения клиентов на первом шаге с MainScreenAppear на OffersScreenAppear и выяснить причину, почему 37% пользователей уходит в этот момент."
   ]
  }
 ],
 "metadata": {
  "ExecuteTimeLog": [
   {
    "duration": 60,
    "start_time": "2023-02-23T21:24:53.384Z"
   },
   {
    "duration": 451,
    "start_time": "2023-02-23T21:24:55.572Z"
   },
   {
    "duration": 41,
    "start_time": "2023-02-23T21:24:56.645Z"
   },
   {
    "duration": 7,
    "start_time": "2023-02-23T21:24:57.721Z"
   },
   {
    "duration": 840,
    "start_time": "2023-02-23T21:25:05.517Z"
   },
   {
    "duration": 14,
    "start_time": "2023-02-23T21:25:07.576Z"
   },
   {
    "duration": 117,
    "start_time": "2023-02-23T21:25:27.388Z"
   },
   {
    "duration": 8,
    "start_time": "2023-02-23T21:25:29.010Z"
   },
   {
    "duration": 220,
    "start_time": "2023-02-23T21:26:37.172Z"
   },
   {
    "duration": 7,
    "start_time": "2023-02-23T21:26:41.935Z"
   },
   {
    "duration": 31,
    "start_time": "2023-02-23T21:27:08.437Z"
   },
   {
    "duration": 19,
    "start_time": "2023-02-23T21:27:49.185Z"
   },
   {
    "duration": 18,
    "start_time": "2023-02-23T21:27:56.113Z"
   },
   {
    "duration": 73,
    "start_time": "2023-02-23T21:28:25.592Z"
   },
   {
    "duration": 85,
    "start_time": "2023-02-23T21:39:59.197Z"
   },
   {
    "duration": 985,
    "start_time": "2023-02-23T21:40:17.297Z"
   },
   {
    "duration": 186,
    "start_time": "2023-02-23T21:40:18.284Z"
   },
   {
    "duration": 10,
    "start_time": "2023-02-23T21:40:18.472Z"
   },
   {
    "duration": 42,
    "start_time": "2023-02-23T21:40:18.484Z"
   },
   {
    "duration": 85,
    "start_time": "2023-02-23T21:40:18.528Z"
   },
   {
    "duration": 14,
    "start_time": "2023-02-23T21:40:18.615Z"
   },
   {
    "duration": 73,
    "start_time": "2023-02-23T21:42:10.615Z"
   },
   {
    "duration": 19,
    "start_time": "2023-02-23T21:42:23.920Z"
   },
   {
    "duration": 1352,
    "start_time": "2023-03-02T11:51:17.963Z"
   },
   {
    "duration": 610,
    "start_time": "2023-03-02T11:51:19.318Z"
   },
   {
    "duration": 12,
    "start_time": "2023-03-02T11:51:19.930Z"
   },
   {
    "duration": 21,
    "start_time": "2023-03-02T11:51:19.944Z"
   },
   {
    "duration": 3,
    "start_time": "2023-03-02T11:51:19.968Z"
   },
   {
    "duration": 83,
    "start_time": "2023-03-02T11:51:19.973Z"
   },
   {
    "duration": 99,
    "start_time": "2023-03-02T11:51:20.058Z"
   },
   {
    "duration": 15,
    "start_time": "2023-03-02T11:51:20.160Z"
   },
   {
    "duration": 332,
    "start_time": "2023-03-02T11:51:20.177Z"
   },
   {
    "duration": 11,
    "start_time": "2023-03-02T11:51:20.511Z"
   },
   {
    "duration": 71,
    "start_time": "2023-03-02T11:51:20.524Z"
   },
   {
    "duration": 38,
    "start_time": "2023-03-02T11:51:20.598Z"
   },
   {
    "duration": 16,
    "start_time": "2023-03-02T11:51:20.638Z"
   },
   {
    "duration": 11,
    "start_time": "2023-03-02T11:51:20.658Z"
   },
   {
    "duration": 16,
    "start_time": "2023-03-02T11:51:20.671Z"
   },
   {
    "duration": 14,
    "start_time": "2023-03-02T11:51:20.689Z"
   },
   {
    "duration": 50,
    "start_time": "2023-03-02T11:51:20.704Z"
   },
   {
    "duration": 308,
    "start_time": "2023-03-02T11:51:20.756Z"
   },
   {
    "duration": 45,
    "start_time": "2023-03-02T11:51:21.066Z"
   },
   {
    "duration": 36,
    "start_time": "2023-03-02T11:51:21.113Z"
   },
   {
    "duration": 25,
    "start_time": "2023-03-02T11:51:21.152Z"
   },
   {
    "duration": 96,
    "start_time": "2023-03-02T11:51:21.179Z"
   },
   {
    "duration": 3,
    "start_time": "2023-03-02T11:51:21.276Z"
   },
   {
    "duration": 24,
    "start_time": "2023-03-02T11:51:21.281Z"
   },
   {
    "duration": 8,
    "start_time": "2023-03-02T11:51:21.307Z"
   },
   {
    "duration": 73,
    "start_time": "2023-03-02T11:51:21.317Z"
   },
   {
    "duration": 7,
    "start_time": "2023-03-02T11:51:21.391Z"
   },
   {
    "duration": 6,
    "start_time": "2023-03-02T11:51:21.399Z"
   },
   {
    "duration": 31,
    "start_time": "2023-03-02T11:51:21.407Z"
   },
   {
    "duration": 41,
    "start_time": "2023-03-02T11:53:30.208Z"
   },
   {
    "duration": 8,
    "start_time": "2023-03-02T12:13:21.317Z"
   },
   {
    "duration": 7,
    "start_time": "2023-03-02T12:13:32.202Z"
   },
   {
    "duration": 8,
    "start_time": "2023-03-02T12:39:16.149Z"
   },
   {
    "duration": 9,
    "start_time": "2023-03-02T12:39:18.940Z"
   },
   {
    "duration": 1020,
    "start_time": "2023-03-02T12:40:58.483Z"
   },
   {
    "duration": 211,
    "start_time": "2023-03-02T12:40:59.506Z"
   },
   {
    "duration": 18,
    "start_time": "2023-03-02T12:40:59.719Z"
   },
   {
    "duration": 29,
    "start_time": "2023-03-02T12:40:59.739Z"
   },
   {
    "duration": 11,
    "start_time": "2023-03-02T12:40:59.771Z"
   },
   {
    "duration": 74,
    "start_time": "2023-03-02T12:40:59.783Z"
   },
   {
    "duration": 77,
    "start_time": "2023-03-02T12:40:59.859Z"
   },
   {
    "duration": 13,
    "start_time": "2023-03-02T12:40:59.939Z"
   },
   {
    "duration": 314,
    "start_time": "2023-03-02T12:40:59.954Z"
   },
   {
    "duration": 23,
    "start_time": "2023-03-02T12:41:00.270Z"
   },
   {
    "duration": 84,
    "start_time": "2023-03-02T12:41:00.295Z"
   },
   {
    "duration": 28,
    "start_time": "2023-03-02T12:41:00.381Z"
   },
   {
    "duration": 24,
    "start_time": "2023-03-02T12:41:00.412Z"
   },
   {
    "duration": 41,
    "start_time": "2023-03-02T12:41:00.440Z"
   },
   {
    "duration": 41,
    "start_time": "2023-03-02T12:41:00.483Z"
   },
   {
    "duration": 48,
    "start_time": "2023-03-02T12:41:00.526Z"
   },
   {
    "duration": 49,
    "start_time": "2023-03-02T12:41:00.576Z"
   },
   {
    "duration": 320,
    "start_time": "2023-03-02T12:41:00.628Z"
   },
   {
    "duration": 44,
    "start_time": "2023-03-02T12:41:00.951Z"
   },
   {
    "duration": 14,
    "start_time": "2023-03-02T12:41:00.997Z"
   },
   {
    "duration": 61,
    "start_time": "2023-03-02T12:41:01.013Z"
   },
   {
    "duration": 83,
    "start_time": "2023-03-02T12:41:01.076Z"
   },
   {
    "duration": 4,
    "start_time": "2023-03-02T12:41:01.161Z"
   },
   {
    "duration": 58,
    "start_time": "2023-03-02T12:41:01.167Z"
   },
   {
    "duration": 41,
    "start_time": "2023-03-02T12:41:01.227Z"
   },
   {
    "duration": 109,
    "start_time": "2023-03-02T12:41:01.269Z"
   },
   {
    "duration": 40,
    "start_time": "2023-03-02T12:41:01.380Z"
   },
   {
    "duration": 33,
    "start_time": "2023-03-02T12:41:01.422Z"
   },
   {
    "duration": 46,
    "start_time": "2023-03-02T12:41:01.456Z"
   },
   {
    "duration": 64,
    "start_time": "2023-03-02T12:41:01.504Z"
   },
   {
    "duration": 7,
    "start_time": "2023-03-02T12:42:33.728Z"
   },
   {
    "duration": 9,
    "start_time": "2023-03-02T12:42:34.262Z"
   },
   {
    "duration": 7,
    "start_time": "2023-03-02T12:42:43.762Z"
   },
   {
    "duration": 9,
    "start_time": "2023-03-02T12:42:45.107Z"
   },
   {
    "duration": 101,
    "start_time": "2023-03-02T12:50:34.918Z"
   },
   {
    "duration": 1191,
    "start_time": "2023-03-02T12:51:06.929Z"
   },
   {
    "duration": 1339,
    "start_time": "2023-03-02T12:51:19.685Z"
   },
   {
    "duration": 89,
    "start_time": "2023-03-02T12:53:35.365Z"
   },
   {
    "duration": 16,
    "start_time": "2023-03-02T13:40:52.325Z"
   },
   {
    "duration": 23,
    "start_time": "2023-03-02T13:41:31.386Z"
   },
   {
    "duration": 25,
    "start_time": "2023-03-02T13:41:47.737Z"
   },
   {
    "duration": 12,
    "start_time": "2023-03-02T13:41:55.258Z"
   },
   {
    "duration": 12,
    "start_time": "2023-03-02T13:42:02.676Z"
   },
   {
    "duration": 14,
    "start_time": "2023-03-02T13:46:16.794Z"
   },
   {
    "duration": 85,
    "start_time": "2023-04-09T22:18:01.338Z"
   },
   {
    "duration": 41,
    "start_time": "2023-04-09T22:18:22.681Z"
   },
   {
    "duration": 1266,
    "start_time": "2023-04-09T22:18:34.490Z"
   },
   {
    "duration": 539,
    "start_time": "2023-04-09T22:18:35.758Z"
   },
   {
    "duration": 11,
    "start_time": "2023-04-09T22:18:36.298Z"
   },
   {
    "duration": 21,
    "start_time": "2023-04-09T22:18:36.310Z"
   },
   {
    "duration": 3,
    "start_time": "2023-04-09T22:18:36.333Z"
   },
   {
    "duration": 57,
    "start_time": "2023-04-09T22:18:36.338Z"
   },
   {
    "duration": 70,
    "start_time": "2023-04-09T22:18:36.397Z"
   },
   {
    "duration": 17,
    "start_time": "2023-04-09T22:18:36.469Z"
   },
   {
    "duration": 286,
    "start_time": "2023-04-09T22:18:36.496Z"
   },
   {
    "duration": 6,
    "start_time": "2023-04-09T22:18:36.784Z"
   },
   {
    "duration": 80,
    "start_time": "2023-04-09T22:18:36.791Z"
   },
   {
    "duration": 26,
    "start_time": "2023-04-09T22:18:36.872Z"
   },
   {
    "duration": 7,
    "start_time": "2023-04-09T22:18:36.900Z"
   },
   {
    "duration": 29,
    "start_time": "2023-04-09T22:18:36.910Z"
   },
   {
    "duration": 10,
    "start_time": "2023-04-09T22:18:36.941Z"
   },
   {
    "duration": 16,
    "start_time": "2023-04-09T22:18:36.953Z"
   },
   {
    "duration": 27,
    "start_time": "2023-04-09T22:18:36.970Z"
   },
   {
    "duration": 297,
    "start_time": "2023-04-09T22:18:36.998Z"
   },
   {
    "duration": 50,
    "start_time": "2023-04-09T22:18:37.296Z"
   },
   {
    "duration": 13,
    "start_time": "2023-04-09T22:18:37.348Z"
   },
   {
    "duration": 26,
    "start_time": "2023-04-09T22:18:37.362Z"
   },
   {
    "duration": 90,
    "start_time": "2023-04-09T22:18:37.390Z"
   },
   {
    "duration": 3,
    "start_time": "2023-04-09T22:18:37.482Z"
   },
   {
    "duration": 25,
    "start_time": "2023-04-09T22:18:37.486Z"
   },
   {
    "duration": 6,
    "start_time": "2023-04-09T22:18:37.513Z"
   },
   {
    "duration": 62,
    "start_time": "2023-04-09T22:18:37.520Z"
   },
   {
    "duration": 72,
    "start_time": "2023-04-09T22:18:37.584Z"
   },
   {
    "duration": 0,
    "start_time": "2023-04-09T22:18:37.658Z"
   },
   {
    "duration": 0,
    "start_time": "2023-04-09T22:18:37.659Z"
   },
   {
    "duration": 0,
    "start_time": "2023-04-09T22:18:37.660Z"
   },
   {
    "duration": 0,
    "start_time": "2023-04-09T22:18:37.662Z"
   },
   {
    "duration": 0,
    "start_time": "2023-04-09T22:18:37.663Z"
   },
   {
    "duration": 14,
    "start_time": "2023-04-09T22:22:49.271Z"
   },
   {
    "duration": 11,
    "start_time": "2023-04-09T22:23:24.404Z"
   },
   {
    "duration": 59,
    "start_time": "2023-04-09T22:24:49.016Z"
   },
   {
    "duration": 74,
    "start_time": "2023-04-09T22:25:56.475Z"
   },
   {
    "duration": 1179,
    "start_time": "2023-04-09T22:26:36.497Z"
   },
   {
    "duration": 61,
    "start_time": "2023-04-09T22:32:15.458Z"
   },
   {
    "duration": 74,
    "start_time": "2023-04-09T22:32:26.893Z"
   },
   {
    "duration": 71,
    "start_time": "2023-04-10T02:10:11.767Z"
   },
   {
    "duration": 120,
    "start_time": "2023-04-10T02:11:17.527Z"
   },
   {
    "duration": 132,
    "start_time": "2023-04-10T02:11:23.871Z"
   },
   {
    "duration": 134,
    "start_time": "2023-04-10T02:12:52.975Z"
   },
   {
    "duration": 140,
    "start_time": "2023-04-10T02:13:02.439Z"
   },
   {
    "duration": 1058,
    "start_time": "2023-04-10T02:27:25.883Z"
   },
   {
    "duration": 206,
    "start_time": "2023-04-10T02:27:26.943Z"
   },
   {
    "duration": 11,
    "start_time": "2023-04-10T02:27:27.150Z"
   },
   {
    "duration": 21,
    "start_time": "2023-04-10T02:27:27.162Z"
   },
   {
    "duration": 3,
    "start_time": "2023-04-10T02:27:27.185Z"
   },
   {
    "duration": 96,
    "start_time": "2023-04-10T02:27:27.190Z"
   },
   {
    "duration": 93,
    "start_time": "2023-04-10T02:27:27.288Z"
   },
   {
    "duration": 17,
    "start_time": "2023-04-10T02:27:27.386Z"
   },
   {
    "duration": 328,
    "start_time": "2023-04-10T02:27:27.406Z"
   },
   {
    "duration": 5,
    "start_time": "2023-04-10T02:27:27.736Z"
   },
   {
    "duration": 71,
    "start_time": "2023-04-10T02:27:27.743Z"
   },
   {
    "duration": 41,
    "start_time": "2023-04-10T02:27:27.817Z"
   },
   {
    "duration": 9,
    "start_time": "2023-04-10T02:27:27.860Z"
   },
   {
    "duration": 14,
    "start_time": "2023-04-10T02:27:27.872Z"
   },
   {
    "duration": 14,
    "start_time": "2023-04-10T02:27:27.887Z"
   },
   {
    "duration": 32,
    "start_time": "2023-04-10T02:27:27.902Z"
   },
   {
    "duration": 28,
    "start_time": "2023-04-10T02:27:27.936Z"
   },
   {
    "duration": 309,
    "start_time": "2023-04-10T02:27:27.965Z"
   },
   {
    "duration": 59,
    "start_time": "2023-04-10T02:27:28.276Z"
   },
   {
    "duration": 15,
    "start_time": "2023-04-10T02:27:28.337Z"
   },
   {
    "duration": 58,
    "start_time": "2023-04-10T02:27:28.353Z"
   },
   {
    "duration": 76,
    "start_time": "2023-04-10T02:27:28.413Z"
   },
   {
    "duration": 3,
    "start_time": "2023-04-10T02:27:28.490Z"
   },
   {
    "duration": 39,
    "start_time": "2023-04-10T02:27:28.495Z"
   },
   {
    "duration": 7,
    "start_time": "2023-04-10T02:27:28.536Z"
   },
   {
    "duration": 69,
    "start_time": "2023-04-10T02:27:28.545Z"
   },
   {
    "duration": 138,
    "start_time": "2023-04-10T02:27:28.615Z"
   },
   {
    "duration": 27,
    "start_time": "2023-04-10T02:28:13.371Z"
   },
   {
    "duration": 44,
    "start_time": "2023-04-10T02:29:05.179Z"
   },
   {
    "duration": 42,
    "start_time": "2023-04-10T02:29:20.804Z"
   },
   {
    "duration": 1309,
    "start_time": "2023-04-24T04:11:35.601Z"
   },
   {
    "duration": 702,
    "start_time": "2023-04-24T04:11:36.912Z"
   },
   {
    "duration": 12,
    "start_time": "2023-04-24T04:11:37.615Z"
   },
   {
    "duration": 21,
    "start_time": "2023-04-24T04:11:37.629Z"
   },
   {
    "duration": 3,
    "start_time": "2023-04-24T04:11:37.652Z"
   },
   {
    "duration": 80,
    "start_time": "2023-04-24T04:11:37.657Z"
   },
   {
    "duration": 96,
    "start_time": "2023-04-24T04:11:37.739Z"
   },
   {
    "duration": 17,
    "start_time": "2023-04-24T04:11:37.837Z"
   },
   {
    "duration": 351,
    "start_time": "2023-04-24T04:11:37.856Z"
   },
   {
    "duration": 11,
    "start_time": "2023-04-24T04:11:38.211Z"
   },
   {
    "duration": 90,
    "start_time": "2023-04-24T04:11:38.224Z"
   },
   {
    "duration": 33,
    "start_time": "2023-04-24T04:11:38.316Z"
   },
   {
    "duration": 9,
    "start_time": "2023-04-24T04:11:38.351Z"
   },
   {
    "duration": 30,
    "start_time": "2023-04-24T04:11:38.362Z"
   },
   {
    "duration": 28,
    "start_time": "2023-04-24T04:11:38.394Z"
   },
   {
    "duration": 18,
    "start_time": "2023-04-24T04:11:38.425Z"
   },
   {
    "duration": 42,
    "start_time": "2023-04-24T04:11:38.445Z"
   },
   {
    "duration": 320,
    "start_time": "2023-04-24T04:11:38.489Z"
   },
   {
    "duration": 48,
    "start_time": "2023-04-24T04:11:38.811Z"
   },
   {
    "duration": 35,
    "start_time": "2023-04-24T04:11:38.861Z"
   },
   {
    "duration": 33,
    "start_time": "2023-04-24T04:11:38.898Z"
   },
   {
    "duration": 102,
    "start_time": "2023-04-24T04:11:38.934Z"
   },
   {
    "duration": 4,
    "start_time": "2023-04-24T04:11:39.038Z"
   },
   {
    "duration": 43,
    "start_time": "2023-04-24T04:11:39.044Z"
   },
   {
    "duration": 7,
    "start_time": "2023-04-24T04:11:39.089Z"
   },
   {
    "duration": 76,
    "start_time": "2023-04-24T04:11:39.098Z"
   },
   {
    "duration": 136,
    "start_time": "2023-04-24T04:11:39.175Z"
   },
   {
    "duration": 0,
    "start_time": "2023-04-24T04:11:39.314Z"
   },
   {
    "duration": 0,
    "start_time": "2023-04-24T04:11:39.315Z"
   },
   {
    "duration": 0,
    "start_time": "2023-04-24T04:11:39.316Z"
   },
   {
    "duration": 0,
    "start_time": "2023-04-24T04:11:39.317Z"
   },
   {
    "duration": 0,
    "start_time": "2023-04-24T04:11:39.318Z"
   },
   {
    "duration": 0,
    "start_time": "2023-04-24T04:11:39.319Z"
   },
   {
    "duration": 0,
    "start_time": "2023-04-24T04:11:39.320Z"
   },
   {
    "duration": 47,
    "start_time": "2023-04-24T04:19:09.606Z"
   },
   {
    "duration": 46,
    "start_time": "2023-04-24T04:19:21.215Z"
   },
   {
    "duration": 49,
    "start_time": "2023-04-24T04:19:29.104Z"
   },
   {
    "duration": 63,
    "start_time": "2023-04-24T04:19:45.678Z"
   },
   {
    "duration": 133,
    "start_time": "2023-04-24T04:19:53.578Z"
   },
   {
    "duration": 42,
    "start_time": "2023-04-26T21:33:44.777Z"
   },
   {
    "duration": 1095,
    "start_time": "2023-04-26T21:33:51.108Z"
   },
   {
    "duration": 901,
    "start_time": "2023-04-26T21:33:52.205Z"
   },
   {
    "duration": 11,
    "start_time": "2023-04-26T21:33:53.107Z"
   },
   {
    "duration": 30,
    "start_time": "2023-04-26T21:33:53.119Z"
   },
   {
    "duration": 3,
    "start_time": "2023-04-26T21:33:53.152Z"
   },
   {
    "duration": 95,
    "start_time": "2023-04-26T21:33:53.156Z"
   },
   {
    "duration": 77,
    "start_time": "2023-04-26T21:33:53.253Z"
   },
   {
    "duration": 24,
    "start_time": "2023-04-26T21:33:53.332Z"
   },
   {
    "duration": 311,
    "start_time": "2023-04-26T21:33:53.358Z"
   },
   {
    "duration": 5,
    "start_time": "2023-04-26T21:33:53.670Z"
   },
   {
    "duration": 68,
    "start_time": "2023-04-26T21:33:53.677Z"
   },
   {
    "duration": 25,
    "start_time": "2023-04-26T21:33:53.755Z"
   },
   {
    "duration": 8,
    "start_time": "2023-04-26T21:33:53.782Z"
   },
   {
    "duration": 10,
    "start_time": "2023-04-26T21:33:53.792Z"
   },
   {
    "duration": 10,
    "start_time": "2023-04-26T21:33:53.804Z"
   },
   {
    "duration": 41,
    "start_time": "2023-04-26T21:33:53.816Z"
   },
   {
    "duration": 26,
    "start_time": "2023-04-26T21:33:53.858Z"
   },
   {
    "duration": 328,
    "start_time": "2023-04-26T21:33:53.885Z"
   },
   {
    "duration": 44,
    "start_time": "2023-04-26T21:33:54.214Z"
   },
   {
    "duration": 15,
    "start_time": "2023-04-26T21:33:54.259Z"
   },
   {
    "duration": 26,
    "start_time": "2023-04-26T21:33:54.275Z"
   },
   {
    "duration": 93,
    "start_time": "2023-04-26T21:33:54.302Z"
   },
   {
    "duration": 3,
    "start_time": "2023-04-26T21:33:54.396Z"
   },
   {
    "duration": 23,
    "start_time": "2023-04-26T21:33:54.401Z"
   },
   {
    "duration": 6,
    "start_time": "2023-04-26T21:33:54.425Z"
   },
   {
    "duration": 73,
    "start_time": "2023-04-26T21:33:54.433Z"
   },
   {
    "duration": 131,
    "start_time": "2023-04-26T21:33:54.508Z"
   },
   {
    "duration": 802,
    "start_time": "2023-04-26T21:33:54.641Z"
   },
   {
    "duration": 0,
    "start_time": "2023-04-26T21:33:55.445Z"
   },
   {
    "duration": 0,
    "start_time": "2023-04-26T21:33:55.446Z"
   },
   {
    "duration": 0,
    "start_time": "2023-04-26T21:33:55.447Z"
   },
   {
    "duration": 0,
    "start_time": "2023-04-26T21:33:55.447Z"
   },
   {
    "duration": 0,
    "start_time": "2023-04-26T21:33:55.448Z"
   },
   {
    "duration": 0,
    "start_time": "2023-04-26T21:33:55.450Z"
   },
   {
    "duration": 9,
    "start_time": "2023-04-26T21:34:29.432Z"
   },
   {
    "duration": 15,
    "start_time": "2023-04-26T23:49:16.411Z"
   },
   {
    "duration": 20,
    "start_time": "2023-04-26T23:49:42.848Z"
   },
   {
    "duration": 48,
    "start_time": "2023-04-26T23:50:20.633Z"
   },
   {
    "duration": 46,
    "start_time": "2023-04-26T23:50:41.921Z"
   },
   {
    "duration": 2,
    "start_time": "2023-04-26T23:52:13.085Z"
   },
   {
    "duration": 45,
    "start_time": "2023-04-26T23:52:18.049Z"
   },
   {
    "duration": 17,
    "start_time": "2023-04-26T23:53:31.553Z"
   },
   {
    "duration": 19,
    "start_time": "2023-04-26T23:54:15.538Z"
   },
   {
    "duration": 71,
    "start_time": "2023-04-26T23:54:31.928Z"
   },
   {
    "duration": 68,
    "start_time": "2023-04-26T23:54:48.630Z"
   },
   {
    "duration": 41,
    "start_time": "2023-04-26T23:58:41.732Z"
   },
   {
    "duration": 4,
    "start_time": "2023-04-27T00:12:09.721Z"
   },
   {
    "duration": 3,
    "start_time": "2023-04-27T00:12:21.677Z"
   },
   {
    "duration": 6,
    "start_time": "2023-04-27T00:12:52.732Z"
   },
   {
    "duration": 14,
    "start_time": "2023-04-27T00:13:02.335Z"
   },
   {
    "duration": 1255,
    "start_time": "2023-05-01T13:28:59.634Z"
   },
   {
    "duration": 715,
    "start_time": "2023-05-01T13:29:00.892Z"
   },
   {
    "duration": 12,
    "start_time": "2023-05-01T13:29:01.609Z"
   },
   {
    "duration": 35,
    "start_time": "2023-05-01T13:29:01.624Z"
   },
   {
    "duration": 27,
    "start_time": "2023-05-01T13:29:01.661Z"
   },
   {
    "duration": 105,
    "start_time": "2023-05-01T13:29:01.690Z"
   },
   {
    "duration": 83,
    "start_time": "2023-05-01T13:29:01.797Z"
   },
   {
    "duration": 16,
    "start_time": "2023-05-01T13:29:01.882Z"
   },
   {
    "duration": 359,
    "start_time": "2023-05-01T13:29:01.901Z"
   },
   {
    "duration": 18,
    "start_time": "2023-05-01T13:29:02.262Z"
   },
   {
    "duration": 76,
    "start_time": "2023-05-01T13:29:02.282Z"
   },
   {
    "duration": 32,
    "start_time": "2023-05-01T13:29:02.360Z"
   },
   {
    "duration": 24,
    "start_time": "2023-05-01T13:29:02.395Z"
   },
   {
    "duration": 39,
    "start_time": "2023-05-01T13:29:02.421Z"
   },
   {
    "duration": 18,
    "start_time": "2023-05-01T13:29:02.462Z"
   },
   {
    "duration": 25,
    "start_time": "2023-05-01T13:29:02.482Z"
   },
   {
    "duration": 46,
    "start_time": "2023-05-01T13:29:02.509Z"
   },
   {
    "duration": 329,
    "start_time": "2023-05-01T13:29:02.557Z"
   },
   {
    "duration": 52,
    "start_time": "2023-05-01T13:29:02.888Z"
   },
   {
    "duration": 14,
    "start_time": "2023-05-01T13:29:02.941Z"
   },
   {
    "duration": 39,
    "start_time": "2023-05-01T13:29:02.957Z"
   },
   {
    "duration": 86,
    "start_time": "2023-05-01T13:29:02.999Z"
   },
   {
    "duration": 2,
    "start_time": "2023-05-01T13:29:03.088Z"
   },
   {
    "duration": 40,
    "start_time": "2023-05-01T13:29:03.092Z"
   },
   {
    "duration": 31,
    "start_time": "2023-05-01T13:29:03.134Z"
   },
   {
    "duration": 82,
    "start_time": "2023-05-01T13:29:03.167Z"
   },
   {
    "duration": 2,
    "start_time": "2023-05-01T13:29:03.251Z"
   },
   {
    "duration": 48,
    "start_time": "2023-05-01T13:29:03.256Z"
   },
   {
    "duration": 82,
    "start_time": "2023-05-01T13:29:03.305Z"
   },
   {
    "duration": 57,
    "start_time": "2023-05-01T13:29:03.388Z"
   },
   {
    "duration": 13,
    "start_time": "2023-05-01T13:29:03.446Z"
   },
   {
    "duration": 76,
    "start_time": "2023-05-01T13:29:03.461Z"
   },
   {
    "duration": 1066,
    "start_time": "2023-05-01T20:43:22.604Z"
   },
   {
    "duration": 225,
    "start_time": "2023-05-01T20:43:23.672Z"
   },
   {
    "duration": 18,
    "start_time": "2023-05-01T20:43:23.899Z"
   },
   {
    "duration": 22,
    "start_time": "2023-05-01T20:43:23.920Z"
   },
   {
    "duration": 3,
    "start_time": "2023-05-01T20:43:23.944Z"
   },
   {
    "duration": 87,
    "start_time": "2023-05-01T20:43:23.948Z"
   },
   {
    "duration": 86,
    "start_time": "2023-05-01T20:43:24.037Z"
   },
   {
    "duration": 14,
    "start_time": "2023-05-01T20:43:24.125Z"
   },
   {
    "duration": 319,
    "start_time": "2023-05-01T20:43:24.141Z"
   },
   {
    "duration": 6,
    "start_time": "2023-05-01T20:43:24.463Z"
   },
   {
    "duration": 88,
    "start_time": "2023-05-01T20:43:24.471Z"
   },
   {
    "duration": 38,
    "start_time": "2023-05-01T20:43:24.560Z"
   },
   {
    "duration": 25,
    "start_time": "2023-05-01T20:43:24.600Z"
   },
   {
    "duration": 29,
    "start_time": "2023-05-01T20:43:24.627Z"
   },
   {
    "duration": 19,
    "start_time": "2023-05-01T20:43:24.658Z"
   },
   {
    "duration": 19,
    "start_time": "2023-05-01T20:43:24.679Z"
   },
   {
    "duration": 37,
    "start_time": "2023-05-01T20:43:24.700Z"
   },
   {
    "duration": 317,
    "start_time": "2023-05-01T20:43:24.739Z"
   },
   {
    "duration": 75,
    "start_time": "2023-05-01T20:43:25.058Z"
   },
   {
    "duration": 13,
    "start_time": "2023-05-01T20:43:25.135Z"
   },
   {
    "duration": 32,
    "start_time": "2023-05-01T20:43:25.150Z"
   },
   {
    "duration": 105,
    "start_time": "2023-05-01T20:43:25.184Z"
   },
   {
    "duration": 3,
    "start_time": "2023-05-01T20:43:25.291Z"
   },
   {
    "duration": 38,
    "start_time": "2023-05-01T20:43:25.296Z"
   },
   {
    "duration": 7,
    "start_time": "2023-05-01T20:43:25.336Z"
   },
   {
    "duration": 75,
    "start_time": "2023-05-01T20:43:25.344Z"
   },
   {
    "duration": 3,
    "start_time": "2023-05-01T20:43:25.421Z"
   },
   {
    "duration": 51,
    "start_time": "2023-05-01T20:43:25.428Z"
   },
   {
    "duration": 98,
    "start_time": "2023-05-01T20:43:25.480Z"
   },
   {
    "duration": 67,
    "start_time": "2023-05-01T20:43:25.580Z"
   },
   {
    "duration": 14,
    "start_time": "2023-05-01T20:43:25.649Z"
   },
   {
    "duration": 57,
    "start_time": "2023-05-01T20:43:25.664Z"
   },
   {
    "duration": 7,
    "start_time": "2023-05-01T20:43:25.723Z"
   },
   {
    "duration": 5,
    "start_time": "2023-05-01T21:07:00.690Z"
   },
   {
    "duration": 110,
    "start_time": "2023-05-01T21:10:43.290Z"
   },
   {
    "duration": 3,
    "start_time": "2023-05-01T21:12:11.300Z"
   },
   {
    "duration": 15,
    "start_time": "2023-05-01T21:12:14.938Z"
   },
   {
    "duration": 4,
    "start_time": "2023-05-01T21:13:01.788Z"
   },
   {
    "duration": 14,
    "start_time": "2023-05-01T21:13:15.404Z"
   },
   {
    "duration": 3,
    "start_time": "2023-05-01T21:14:01.955Z"
   },
   {
    "duration": 4,
    "start_time": "2023-05-01T21:14:13.316Z"
   },
   {
    "duration": 14,
    "start_time": "2023-05-01T21:14:14.394Z"
   },
   {
    "duration": 5,
    "start_time": "2023-05-01T21:14:35.686Z"
   },
   {
    "duration": 14,
    "start_time": "2023-05-01T21:14:36.364Z"
   },
   {
    "duration": 3,
    "start_time": "2023-05-01T21:16:23.789Z"
   },
   {
    "duration": 8,
    "start_time": "2023-05-01T21:16:26.699Z"
   },
   {
    "duration": 5,
    "start_time": "2023-05-01T21:17:08.967Z"
   },
   {
    "duration": 10,
    "start_time": "2023-05-01T21:17:10.437Z"
   },
   {
    "duration": 14,
    "start_time": "2023-05-01T21:17:11.045Z"
   },
   {
    "duration": 5,
    "start_time": "2023-05-01T21:18:06.086Z"
   },
   {
    "duration": 9,
    "start_time": "2023-05-01T21:18:06.651Z"
   },
   {
    "duration": 14,
    "start_time": "2023-05-01T21:18:07.075Z"
   },
   {
    "duration": 5,
    "start_time": "2023-05-01T21:18:26.283Z"
   },
   {
    "duration": 8,
    "start_time": "2023-05-01T21:18:28.123Z"
   },
   {
    "duration": 14,
    "start_time": "2023-05-01T21:18:28.548Z"
   },
   {
    "duration": 5,
    "start_time": "2023-05-01T21:18:41.212Z"
   },
   {
    "duration": 3,
    "start_time": "2023-05-01T21:19:15.224Z"
   },
   {
    "duration": 5,
    "start_time": "2023-05-01T21:19:20.821Z"
   },
   {
    "duration": 9,
    "start_time": "2023-05-01T21:19:21.689Z"
   },
   {
    "duration": 152,
    "start_time": "2023-05-01T21:19:21.991Z"
   },
   {
    "duration": 4,
    "start_time": "2023-05-01T21:19:36.951Z"
   },
   {
    "duration": 12,
    "start_time": "2023-05-01T21:19:38.674Z"
   },
   {
    "duration": 11,
    "start_time": "2023-05-01T21:21:57.474Z"
   },
   {
    "duration": 12,
    "start_time": "2023-05-01T21:22:09.631Z"
   },
   {
    "duration": 14,
    "start_time": "2023-05-01T21:22:59.324Z"
   },
   {
    "duration": 1003,
    "start_time": "2023-05-02T01:15:48.559Z"
   },
   {
    "duration": 302,
    "start_time": "2023-05-02T01:15:49.564Z"
   },
   {
    "duration": 12,
    "start_time": "2023-05-02T01:15:49.868Z"
   },
   {
    "duration": 56,
    "start_time": "2023-05-02T01:15:49.882Z"
   },
   {
    "duration": 5,
    "start_time": "2023-05-02T01:15:49.940Z"
   },
   {
    "duration": 104,
    "start_time": "2023-05-02T01:15:49.946Z"
   },
   {
    "duration": 109,
    "start_time": "2023-05-02T01:15:50.051Z"
   },
   {
    "duration": 22,
    "start_time": "2023-05-02T01:15:50.162Z"
   },
   {
    "duration": 218,
    "start_time": "2023-05-02T01:15:50.186Z"
   },
   {
    "duration": 12,
    "start_time": "2023-05-02T01:15:50.406Z"
   },
   {
    "duration": 75,
    "start_time": "2023-05-02T01:15:50.419Z"
   },
   {
    "duration": 34,
    "start_time": "2023-05-02T01:15:50.495Z"
   },
   {
    "duration": 8,
    "start_time": "2023-05-02T01:15:50.531Z"
   },
   {
    "duration": 17,
    "start_time": "2023-05-02T01:15:50.541Z"
   },
   {
    "duration": 13,
    "start_time": "2023-05-02T01:15:50.560Z"
   },
   {
    "duration": 43,
    "start_time": "2023-05-02T01:15:50.575Z"
   },
   {
    "duration": 31,
    "start_time": "2023-05-02T01:15:50.620Z"
   },
   {
    "duration": 325,
    "start_time": "2023-05-02T01:15:50.653Z"
   },
   {
    "duration": 65,
    "start_time": "2023-05-02T01:15:50.980Z"
   },
   {
    "duration": 14,
    "start_time": "2023-05-02T01:15:51.047Z"
   },
   {
    "duration": 31,
    "start_time": "2023-05-02T01:15:51.063Z"
   },
   {
    "duration": 80,
    "start_time": "2023-05-02T01:15:51.096Z"
   },
   {
    "duration": 3,
    "start_time": "2023-05-02T01:15:51.178Z"
   },
   {
    "duration": 38,
    "start_time": "2023-05-02T01:15:51.182Z"
   },
   {
    "duration": 7,
    "start_time": "2023-05-02T01:15:51.222Z"
   },
   {
    "duration": 71,
    "start_time": "2023-05-02T01:15:51.230Z"
   },
   {
    "duration": 44,
    "start_time": "2023-05-02T01:15:51.303Z"
   },
   {
    "duration": 0,
    "start_time": "2023-05-02T01:15:51.349Z"
   },
   {
    "duration": 0,
    "start_time": "2023-05-02T01:15:51.350Z"
   },
   {
    "duration": 0,
    "start_time": "2023-05-02T01:15:51.351Z"
   },
   {
    "duration": 0,
    "start_time": "2023-05-02T01:15:51.352Z"
   },
   {
    "duration": 0,
    "start_time": "2023-05-02T01:15:51.353Z"
   },
   {
    "duration": 0,
    "start_time": "2023-05-02T01:15:51.354Z"
   },
   {
    "duration": 0,
    "start_time": "2023-05-02T01:15:51.355Z"
   },
   {
    "duration": 0,
    "start_time": "2023-05-02T01:15:51.356Z"
   },
   {
    "duration": 0,
    "start_time": "2023-05-02T01:15:51.357Z"
   },
   {
    "duration": 0,
    "start_time": "2023-05-02T01:15:51.358Z"
   },
   {
    "duration": 55,
    "start_time": "2023-05-02T01:16:10.098Z"
   },
   {
    "duration": 99,
    "start_time": "2023-05-02T01:16:10.155Z"
   },
   {
    "duration": 0,
    "start_time": "2023-05-02T01:16:10.257Z"
   },
   {
    "duration": 0,
    "start_time": "2023-05-02T01:16:10.258Z"
   },
   {
    "duration": 0,
    "start_time": "2023-05-02T01:16:10.259Z"
   },
   {
    "duration": 0,
    "start_time": "2023-05-02T01:16:10.260Z"
   },
   {
    "duration": 0,
    "start_time": "2023-05-02T01:16:10.261Z"
   },
   {
    "duration": 0,
    "start_time": "2023-05-02T01:16:10.262Z"
   },
   {
    "duration": 0,
    "start_time": "2023-05-02T01:16:10.263Z"
   },
   {
    "duration": 0,
    "start_time": "2023-05-02T01:16:10.264Z"
   },
   {
    "duration": 0,
    "start_time": "2023-05-02T01:16:10.265Z"
   },
   {
    "duration": 3,
    "start_time": "2023-05-02T01:16:23.356Z"
   },
   {
    "duration": 48,
    "start_time": "2023-05-02T01:16:24.466Z"
   },
   {
    "duration": 53,
    "start_time": "2023-05-02T01:16:31.699Z"
   },
   {
    "duration": 100,
    "start_time": "2023-05-02T01:16:31.754Z"
   },
   {
    "duration": 64,
    "start_time": "2023-05-02T01:16:31.856Z"
   },
   {
    "duration": 4,
    "start_time": "2023-05-02T01:16:31.922Z"
   },
   {
    "duration": 41,
    "start_time": "2023-05-02T01:16:31.928Z"
   },
   {
    "duration": 20,
    "start_time": "2023-05-02T01:16:31.970Z"
   },
   {
    "duration": 26,
    "start_time": "2023-05-02T01:16:31.992Z"
   },
   {
    "duration": 0,
    "start_time": "2023-05-02T01:16:32.019Z"
   },
   {
    "duration": 0,
    "start_time": "2023-05-02T01:16:32.021Z"
   },
   {
    "duration": 0,
    "start_time": "2023-05-02T01:16:32.022Z"
   },
   {
    "duration": 4,
    "start_time": "2023-05-02T01:16:50.283Z"
   },
   {
    "duration": 14,
    "start_time": "2023-05-02T01:16:50.576Z"
   },
   {
    "duration": 11,
    "start_time": "2023-05-02T01:16:55.695Z"
   },
   {
    "duration": 16,
    "start_time": "2023-05-02T01:16:55.709Z"
   },
   {
    "duration": 14,
    "start_time": "2023-05-02T01:16:55.727Z"
   },
   {
    "duration": 43,
    "start_time": "2023-05-02T01:16:55.744Z"
   },
   {
    "duration": 29,
    "start_time": "2023-05-02T01:19:31.382Z"
   },
   {
    "duration": 3,
    "start_time": "2023-05-02T01:20:46.389Z"
   },
   {
    "duration": 242,
    "start_time": "2023-05-02T01:20:46.398Z"
   },
   {
    "duration": 7,
    "start_time": "2023-05-02T01:20:46.642Z"
   },
   {
    "duration": 34,
    "start_time": "2023-05-02T01:20:46.651Z"
   },
   {
    "duration": 4,
    "start_time": "2023-05-02T01:20:46.687Z"
   },
   {
    "duration": 102,
    "start_time": "2023-05-02T01:20:46.692Z"
   },
   {
    "duration": 99,
    "start_time": "2023-05-02T01:20:46.796Z"
   },
   {
    "duration": 31,
    "start_time": "2023-05-02T01:20:46.896Z"
   },
   {
    "duration": 30,
    "start_time": "2023-05-02T01:20:49.001Z"
   },
   {
    "duration": 4,
    "start_time": "2023-05-02T01:21:24.529Z"
   },
   {
    "duration": 198,
    "start_time": "2023-05-02T01:21:47.256Z"
   },
   {
    "duration": 14,
    "start_time": "2023-05-02T01:21:47.996Z"
   },
   {
    "duration": 17,
    "start_time": "2023-05-02T01:21:48.477Z"
   },
   {
    "duration": 72,
    "start_time": "2023-05-02T01:22:07.056Z"
   },
   {
    "duration": 36,
    "start_time": "2023-05-02T01:22:09.629Z"
   },
   {
    "duration": 10,
    "start_time": "2023-05-02T01:23:45.596Z"
   },
   {
    "duration": 68,
    "start_time": "2023-05-02T01:32:18.427Z"
   },
   {
    "duration": 71,
    "start_time": "2023-05-02T01:32:36.325Z"
   },
   {
    "duration": 13,
    "start_time": "2023-05-02T01:32:42.107Z"
   },
   {
    "duration": 9,
    "start_time": "2023-05-02T01:33:15.810Z"
   },
   {
    "duration": 19,
    "start_time": "2023-05-02T01:33:52.989Z"
   },
   {
    "duration": 17,
    "start_time": "2023-05-02T01:34:15.100Z"
   },
   {
    "duration": 18,
    "start_time": "2023-05-02T01:34:37.016Z"
   },
   {
    "duration": 1142,
    "start_time": "2023-05-10T18:40:10.950Z"
   },
   {
    "duration": 817,
    "start_time": "2023-05-10T18:40:12.094Z"
   },
   {
    "duration": 11,
    "start_time": "2023-05-10T18:40:12.913Z"
   },
   {
    "duration": 32,
    "start_time": "2023-05-10T18:40:12.926Z"
   },
   {
    "duration": 3,
    "start_time": "2023-05-10T18:40:12.960Z"
   },
   {
    "duration": 91,
    "start_time": "2023-05-10T18:40:12.964Z"
   },
   {
    "duration": 96,
    "start_time": "2023-05-10T18:40:13.056Z"
   },
   {
    "duration": 19,
    "start_time": "2023-05-10T18:40:13.154Z"
   },
   {
    "duration": 28,
    "start_time": "2023-05-10T18:40:13.175Z"
   },
   {
    "duration": 226,
    "start_time": "2023-05-10T18:40:13.205Z"
   },
   {
    "duration": 12,
    "start_time": "2023-05-10T18:40:13.437Z"
   },
   {
    "duration": 63,
    "start_time": "2023-05-10T18:40:13.451Z"
   },
   {
    "duration": 40,
    "start_time": "2023-05-10T18:40:13.516Z"
   },
   {
    "duration": 13,
    "start_time": "2023-05-10T18:40:13.559Z"
   },
   {
    "duration": 18,
    "start_time": "2023-05-10T18:40:13.574Z"
   },
   {
    "duration": 12,
    "start_time": "2023-05-10T18:40:13.593Z"
   },
   {
    "duration": 17,
    "start_time": "2023-05-10T18:40:13.606Z"
   },
   {
    "duration": 35,
    "start_time": "2023-05-10T18:40:13.624Z"
   },
   {
    "duration": 276,
    "start_time": "2023-05-10T18:40:13.661Z"
   },
   {
    "duration": 49,
    "start_time": "2023-05-10T18:40:13.939Z"
   },
   {
    "duration": 20,
    "start_time": "2023-05-10T18:40:13.989Z"
   },
   {
    "duration": 48,
    "start_time": "2023-05-10T18:40:14.011Z"
   },
   {
    "duration": 75,
    "start_time": "2023-05-10T18:40:14.061Z"
   },
   {
    "duration": 4,
    "start_time": "2023-05-10T18:40:14.138Z"
   },
   {
    "duration": 30,
    "start_time": "2023-05-10T18:40:14.143Z"
   },
   {
    "duration": 7,
    "start_time": "2023-05-10T18:40:14.176Z"
   },
   {
    "duration": 102,
    "start_time": "2023-05-10T18:40:14.184Z"
   },
   {
    "duration": 4,
    "start_time": "2023-05-10T18:40:14.288Z"
   },
   {
    "duration": 43,
    "start_time": "2023-05-10T18:40:14.295Z"
   },
   {
    "duration": 72,
    "start_time": "2023-05-10T18:40:14.340Z"
   },
   {
    "duration": 54,
    "start_time": "2023-05-10T18:40:14.414Z"
   },
   {
    "duration": 3,
    "start_time": "2023-05-10T18:40:14.469Z"
   },
   {
    "duration": 14,
    "start_time": "2023-05-10T18:40:14.473Z"
   },
   {
    "duration": 16,
    "start_time": "2023-05-10T18:40:14.489Z"
   },
   {
    "duration": 20,
    "start_time": "2023-05-10T18:40:14.506Z"
   },
   {
    "duration": 18,
    "start_time": "2023-05-10T18:40:14.528Z"
   },
   {
    "duration": 18,
    "start_time": "2023-05-10T18:40:14.548Z"
   },
   {
    "duration": 43,
    "start_time": "2023-05-10T18:40:14.568Z"
   },
   {
    "duration": 49,
    "start_time": "2023-05-10T18:57:15.658Z"
   },
   {
    "duration": 14,
    "start_time": "2023-05-10T18:57:29.002Z"
   },
   {
    "duration": 99,
    "start_time": "2023-05-10T18:57:35.315Z"
   },
   {
    "duration": 12,
    "start_time": "2023-05-10T18:58:56.076Z"
   },
   {
    "duration": 48,
    "start_time": "2023-05-12T03:51:19.673Z"
   },
   {
    "duration": 1121,
    "start_time": "2023-05-12T03:51:24.769Z"
   },
   {
    "duration": 613,
    "start_time": "2023-05-12T03:51:25.892Z"
   },
   {
    "duration": 11,
    "start_time": "2023-05-12T03:51:26.507Z"
   },
   {
    "duration": 30,
    "start_time": "2023-05-12T03:51:26.520Z"
   },
   {
    "duration": 3,
    "start_time": "2023-05-12T03:51:26.551Z"
   },
   {
    "duration": 102,
    "start_time": "2023-05-12T03:51:26.556Z"
   },
   {
    "duration": 99,
    "start_time": "2023-05-12T03:51:26.660Z"
   },
   {
    "duration": 21,
    "start_time": "2023-05-12T03:51:26.760Z"
   },
   {
    "duration": 28,
    "start_time": "2023-05-12T03:51:26.783Z"
   },
   {
    "duration": 180,
    "start_time": "2023-05-12T03:51:26.824Z"
   },
   {
    "duration": 22,
    "start_time": "2023-05-12T03:51:27.006Z"
   },
   {
    "duration": 67,
    "start_time": "2023-05-12T03:51:27.029Z"
   },
   {
    "duration": 43,
    "start_time": "2023-05-12T03:51:27.098Z"
   },
   {
    "duration": 9,
    "start_time": "2023-05-12T03:51:27.142Z"
   },
   {
    "duration": 14,
    "start_time": "2023-05-12T03:51:27.152Z"
   },
   {
    "duration": 19,
    "start_time": "2023-05-12T03:51:27.167Z"
   },
   {
    "duration": 15,
    "start_time": "2023-05-12T03:51:27.187Z"
   },
   {
    "duration": 20,
    "start_time": "2023-05-12T03:51:33.196Z"
   },
   {
    "duration": 15,
    "start_time": "2023-05-12T03:51:47.462Z"
   },
   {
    "duration": 1610,
    "start_time": "2023-05-17T04:25:36.815Z"
   },
   {
    "duration": 1018,
    "start_time": "2023-05-17T04:25:38.427Z"
   },
   {
    "duration": 18,
    "start_time": "2023-05-17T04:25:39.447Z"
   },
   {
    "duration": 94,
    "start_time": "2023-05-17T04:25:39.468Z"
   },
   {
    "duration": 16,
    "start_time": "2023-05-17T04:25:39.566Z"
   },
   {
    "duration": 148,
    "start_time": "2023-05-17T04:25:39.585Z"
   },
   {
    "duration": 141,
    "start_time": "2023-05-17T04:25:39.736Z"
   },
   {
    "duration": 41,
    "start_time": "2023-05-17T04:25:39.879Z"
   },
   {
    "duration": 61,
    "start_time": "2023-05-17T04:25:39.922Z"
   },
   {
    "duration": 293,
    "start_time": "2023-05-17T04:25:39.986Z"
   },
   {
    "duration": 18,
    "start_time": "2023-05-17T04:25:40.281Z"
   },
   {
    "duration": 139,
    "start_time": "2023-05-17T04:25:40.301Z"
   },
   {
    "duration": 74,
    "start_time": "2023-05-17T04:25:40.443Z"
   },
   {
    "duration": 43,
    "start_time": "2023-05-17T04:25:40.522Z"
   },
   {
    "duration": 36,
    "start_time": "2023-05-17T04:25:40.574Z"
   },
   {
    "duration": 24,
    "start_time": "2023-05-17T04:25:40.612Z"
   },
   {
    "duration": 34,
    "start_time": "2023-05-17T04:25:40.638Z"
   },
   {
    "duration": 50,
    "start_time": "2023-05-17T04:25:40.676Z"
   },
   {
    "duration": 52,
    "start_time": "2023-05-17T04:25:40.728Z"
   },
   {
    "duration": 406,
    "start_time": "2023-05-17T04:25:40.782Z"
   },
   {
    "duration": 81,
    "start_time": "2023-05-17T04:25:41.190Z"
   },
   {
    "duration": 18,
    "start_time": "2023-05-17T04:25:41.273Z"
   },
   {
    "duration": 61,
    "start_time": "2023-05-17T04:25:41.293Z"
   },
   {
    "duration": 122,
    "start_time": "2023-05-17T04:25:41.355Z"
   },
   {
    "duration": 4,
    "start_time": "2023-05-17T04:25:41.479Z"
   },
   {
    "duration": 40,
    "start_time": "2023-05-17T04:25:41.485Z"
   },
   {
    "duration": 33,
    "start_time": "2023-05-17T04:25:41.527Z"
   },
   {
    "duration": 94,
    "start_time": "2023-05-17T04:25:41.562Z"
   },
   {
    "duration": 66,
    "start_time": "2023-05-17T04:25:41.657Z"
   },
   {
    "duration": 115,
    "start_time": "2023-05-17T04:25:41.726Z"
   },
   {
    "duration": 64,
    "start_time": "2023-05-17T04:25:41.843Z"
   },
   {
    "duration": 4,
    "start_time": "2023-05-17T04:25:41.909Z"
   },
   {
    "duration": 56,
    "start_time": "2023-05-17T04:25:41.915Z"
   },
   {
    "duration": 18,
    "start_time": "2023-05-17T04:25:41.973Z"
   },
   {
    "duration": 24,
    "start_time": "2023-05-17T04:25:41.994Z"
   },
   {
    "duration": 24,
    "start_time": "2023-05-17T04:25:42.020Z"
   },
   {
    "duration": 34,
    "start_time": "2023-05-17T04:25:42.048Z"
   },
   {
    "duration": 43,
    "start_time": "2023-05-17T04:34:29.968Z"
   },
   {
    "duration": 30,
    "start_time": "2023-05-17T04:34:46.882Z"
   },
   {
    "duration": 81,
    "start_time": "2023-05-17T04:38:41.528Z"
   },
   {
    "duration": 4,
    "start_time": "2023-05-17T04:39:04.881Z"
   },
   {
    "duration": 313,
    "start_time": "2023-05-17T04:39:04.887Z"
   },
   {
    "duration": 9,
    "start_time": "2023-05-17T04:39:05.202Z"
   },
   {
    "duration": 63,
    "start_time": "2023-05-17T04:39:05.213Z"
   },
   {
    "duration": 24,
    "start_time": "2023-05-17T04:39:05.287Z"
   },
   {
    "duration": 127,
    "start_time": "2023-05-17T04:39:05.313Z"
   },
   {
    "duration": 114,
    "start_time": "2023-05-17T04:39:05.447Z"
   },
   {
    "duration": 41,
    "start_time": "2023-05-17T04:39:05.568Z"
   },
   {
    "duration": 49,
    "start_time": "2023-05-17T04:39:05.611Z"
   },
   {
    "duration": 264,
    "start_time": "2023-05-17T04:39:05.663Z"
   },
   {
    "duration": 75,
    "start_time": "2023-05-17T04:39:05.929Z"
   },
   {
    "duration": 101,
    "start_time": "2023-05-17T04:39:06.006Z"
   },
   {
    "duration": 67,
    "start_time": "2023-05-17T04:39:06.109Z"
   },
   {
    "duration": 63,
    "start_time": "2023-05-17T04:39:06.178Z"
   },
   {
    "duration": 121,
    "start_time": "2023-05-17T04:39:06.243Z"
   },
   {
    "duration": 60,
    "start_time": "2023-05-17T04:39:06.366Z"
   },
   {
    "duration": 63,
    "start_time": "2023-05-17T04:39:06.429Z"
   },
   {
    "duration": 46,
    "start_time": "2023-05-17T04:39:06.495Z"
   },
   {
    "duration": 70,
    "start_time": "2023-05-17T04:39:06.543Z"
   },
   {
    "duration": 279,
    "start_time": "2023-05-17T04:39:06.614Z"
   },
   {
    "duration": 89,
    "start_time": "2023-05-17T04:39:06.895Z"
   },
   {
    "duration": 24,
    "start_time": "2023-05-17T04:39:06.986Z"
   },
   {
    "duration": 62,
    "start_time": "2023-05-17T04:39:07.012Z"
   },
   {
    "duration": 97,
    "start_time": "2023-05-17T04:39:07.079Z"
   },
   {
    "duration": 4,
    "start_time": "2023-05-17T04:39:07.178Z"
   },
   {
    "duration": 56,
    "start_time": "2023-05-17T04:39:07.188Z"
   },
   {
    "duration": 125,
    "start_time": "2023-05-17T04:39:07.255Z"
   },
   {
    "duration": 47,
    "start_time": "2023-05-17T04:39:07.386Z"
   },
   {
    "duration": 115,
    "start_time": "2023-05-17T04:39:07.435Z"
   },
   {
    "duration": 64,
    "start_time": "2023-05-17T04:39:07.556Z"
   },
   {
    "duration": 4,
    "start_time": "2023-05-17T04:39:07.622Z"
   },
   {
    "duration": 51,
    "start_time": "2023-05-17T04:39:07.628Z"
   },
   {
    "duration": 97,
    "start_time": "2023-05-17T04:39:07.682Z"
   },
   {
    "duration": 9,
    "start_time": "2023-05-17T04:39:07.783Z"
   },
   {
    "duration": 47,
    "start_time": "2023-05-17T04:39:07.794Z"
   },
   {
    "duration": 76,
    "start_time": "2023-05-17T04:39:07.843Z"
   },
   {
    "duration": 34,
    "start_time": "2023-05-17T04:39:07.921Z"
   },
   {
    "duration": 212,
    "start_time": "2023-05-17T04:39:43.742Z"
   },
   {
    "duration": 80,
    "start_time": "2023-05-17T04:40:04.345Z"
   },
   {
    "duration": 89,
    "start_time": "2023-05-17T04:40:28.428Z"
   },
   {
    "duration": 66,
    "start_time": "2023-05-17T04:40:56.465Z"
   },
   {
    "duration": 67,
    "start_time": "2023-05-17T04:42:55.624Z"
   },
   {
    "duration": 68,
    "start_time": "2023-05-17T04:45:11.286Z"
   },
   {
    "duration": 178,
    "start_time": "2023-05-17T04:45:32.040Z"
   },
   {
    "duration": 97,
    "start_time": "2023-05-17T04:45:37.617Z"
   },
   {
    "duration": 110,
    "start_time": "2023-05-17T04:45:44.172Z"
   },
   {
    "duration": 89,
    "start_time": "2023-05-17T04:45:53.320Z"
   },
   {
    "duration": 81,
    "start_time": "2023-05-17T04:46:08.476Z"
   },
   {
    "duration": 80,
    "start_time": "2023-05-17T04:49:59.175Z"
   },
   {
    "duration": 73,
    "start_time": "2023-05-17T04:50:13.913Z"
   },
   {
    "duration": 41,
    "start_time": "2023-05-17T04:50:42.728Z"
   },
   {
    "duration": 152,
    "start_time": "2023-05-17T04:50:57.438Z"
   },
   {
    "duration": 43,
    "start_time": "2023-05-19T22:54:33.321Z"
   },
   {
    "duration": 1090,
    "start_time": "2023-05-20T01:53:25.653Z"
   },
   {
    "duration": 686,
    "start_time": "2023-05-20T01:53:26.745Z"
   },
   {
    "duration": 9,
    "start_time": "2023-05-20T01:53:27.433Z"
   },
   {
    "duration": 26,
    "start_time": "2023-05-20T01:53:27.443Z"
   },
   {
    "duration": 2,
    "start_time": "2023-05-20T01:53:27.471Z"
   },
   {
    "duration": 80,
    "start_time": "2023-05-20T01:53:27.475Z"
   },
   {
    "duration": 81,
    "start_time": "2023-05-20T01:53:27.556Z"
   },
   {
    "duration": 17,
    "start_time": "2023-05-20T01:53:27.639Z"
   },
   {
    "duration": 27,
    "start_time": "2023-05-20T01:53:27.657Z"
   },
   {
    "duration": 199,
    "start_time": "2023-05-20T01:53:27.686Z"
   },
   {
    "duration": 18,
    "start_time": "2023-05-20T01:53:27.887Z"
   },
   {
    "duration": 56,
    "start_time": "2023-05-20T01:53:27.906Z"
   },
   {
    "duration": 35,
    "start_time": "2023-05-20T01:53:27.963Z"
   },
   {
    "duration": 9,
    "start_time": "2023-05-20T01:53:28.001Z"
   },
   {
    "duration": 8,
    "start_time": "2023-05-20T01:53:28.011Z"
   },
   {
    "duration": 14,
    "start_time": "2023-05-20T01:53:28.020Z"
   },
   {
    "duration": 22,
    "start_time": "2023-05-20T01:53:28.035Z"
   },
   {
    "duration": 267,
    "start_time": "2023-05-20T01:53:28.059Z"
   },
   {
    "duration": 31,
    "start_time": "2023-05-20T01:53:28.327Z"
   },
   {
    "duration": 29,
    "start_time": "2023-05-20T01:53:28.359Z"
   },
   {
    "duration": 29,
    "start_time": "2023-05-20T01:53:28.389Z"
   },
   {
    "duration": 76,
    "start_time": "2023-05-20T01:53:28.420Z"
   },
   {
    "duration": 3,
    "start_time": "2023-05-20T01:53:28.497Z"
   },
   {
    "duration": 30,
    "start_time": "2023-05-20T01:53:28.501Z"
   },
   {
    "duration": 89,
    "start_time": "2023-05-20T01:53:28.532Z"
   },
   {
    "duration": 0,
    "start_time": "2023-05-20T01:53:28.622Z"
   },
   {
    "duration": 0,
    "start_time": "2023-05-20T01:53:28.623Z"
   },
   {
    "duration": 0,
    "start_time": "2023-05-20T01:53:28.624Z"
   },
   {
    "duration": 0,
    "start_time": "2023-05-20T01:53:28.625Z"
   },
   {
    "duration": 0,
    "start_time": "2023-05-20T01:53:28.626Z"
   },
   {
    "duration": 0,
    "start_time": "2023-05-20T01:53:28.627Z"
   },
   {
    "duration": 1,
    "start_time": "2023-05-20T01:53:28.627Z"
   },
   {
    "duration": 0,
    "start_time": "2023-05-20T01:53:28.628Z"
   },
   {
    "duration": 0,
    "start_time": "2023-05-20T01:53:28.629Z"
   },
   {
    "duration": 1,
    "start_time": "2023-05-20T01:53:28.630Z"
   },
   {
    "duration": 49,
    "start_time": "2023-05-20T01:55:22.333Z"
   },
   {
    "duration": 54,
    "start_time": "2023-05-20T01:55:27.846Z"
   },
   {
    "duration": 41,
    "start_time": "2023-05-20T01:55:27.902Z"
   },
   {
    "duration": 95,
    "start_time": "2023-05-20T01:55:27.944Z"
   },
   {
    "duration": 51,
    "start_time": "2023-05-20T01:55:28.040Z"
   },
   {
    "duration": 3,
    "start_time": "2023-05-20T01:55:28.093Z"
   },
   {
    "duration": 13,
    "start_time": "2023-05-20T01:55:28.097Z"
   },
   {
    "duration": 51,
    "start_time": "2023-05-20T01:55:28.111Z"
   },
   {
    "duration": 4,
    "start_time": "2023-05-20T01:55:28.164Z"
   },
   {
    "duration": 21,
    "start_time": "2023-05-20T01:55:28.169Z"
   },
   {
    "duration": 10,
    "start_time": "2023-05-20T01:55:28.191Z"
   },
   {
    "duration": 9,
    "start_time": "2023-05-20T01:55:28.203Z"
   },
   {
    "duration": 17,
    "start_time": "2023-05-20T04:33:10.579Z"
   },
   {
    "duration": 1164,
    "start_time": "2023-05-20T20:23:42.104Z"
   },
   {
    "duration": 1159,
    "start_time": "2023-05-20T20:23:43.270Z"
   },
   {
    "duration": 11,
    "start_time": "2023-05-20T20:23:44.431Z"
   },
   {
    "duration": 28,
    "start_time": "2023-05-20T20:23:44.443Z"
   },
   {
    "duration": 2,
    "start_time": "2023-05-20T20:23:44.475Z"
   },
   {
    "duration": 104,
    "start_time": "2023-05-20T20:23:44.479Z"
   },
   {
    "duration": 97,
    "start_time": "2023-05-20T20:23:44.585Z"
   },
   {
    "duration": 24,
    "start_time": "2023-05-20T20:23:44.683Z"
   },
   {
    "duration": 32,
    "start_time": "2023-05-20T20:23:44.708Z"
   },
   {
    "duration": 262,
    "start_time": "2023-05-20T20:23:44.742Z"
   },
   {
    "duration": 36,
    "start_time": "2023-05-20T20:23:45.006Z"
   },
   {
    "duration": 80,
    "start_time": "2023-05-20T20:23:45.044Z"
   },
   {
    "duration": 50,
    "start_time": "2023-05-20T20:23:45.126Z"
   },
   {
    "duration": 37,
    "start_time": "2023-05-20T20:23:45.181Z"
   },
   {
    "duration": 57,
    "start_time": "2023-05-20T20:23:45.221Z"
   },
   {
    "duration": 334,
    "start_time": "2023-05-20T20:23:45.281Z"
   },
   {
    "duration": 58,
    "start_time": "2023-05-20T20:23:45.617Z"
   },
   {
    "duration": 25,
    "start_time": "2023-05-20T20:23:45.677Z"
   },
   {
    "duration": 95,
    "start_time": "2023-05-20T20:23:45.704Z"
   },
   {
    "duration": 3,
    "start_time": "2023-05-20T20:23:45.801Z"
   },
   {
    "duration": 27,
    "start_time": "2023-05-20T20:23:45.806Z"
   },
   {
    "duration": 95,
    "start_time": "2023-05-20T20:23:45.835Z"
   },
   {
    "duration": 71,
    "start_time": "2023-05-20T20:23:45.932Z"
   },
   {
    "duration": 104,
    "start_time": "2023-05-20T20:23:46.006Z"
   },
   {
    "duration": 46,
    "start_time": "2023-05-20T20:23:46.112Z"
   },
   {
    "duration": 17,
    "start_time": "2023-05-20T20:23:46.160Z"
   },
   {
    "duration": 21,
    "start_time": "2023-05-20T20:23:46.179Z"
   },
   {
    "duration": 59,
    "start_time": "2023-05-20T20:23:46.202Z"
   },
   {
    "duration": 12,
    "start_time": "2023-05-20T20:23:46.263Z"
   },
   {
    "duration": 21,
    "start_time": "2023-05-20T20:23:46.279Z"
   },
   {
    "duration": 14,
    "start_time": "2023-05-20T20:23:46.302Z"
   },
   {
    "duration": 15,
    "start_time": "2023-05-20T20:23:46.317Z"
   },
   {
    "duration": 83,
    "start_time": "2023-05-20T20:54:08.795Z"
   },
   {
    "duration": 74,
    "start_time": "2023-05-20T20:54:30.082Z"
   },
   {
    "duration": 58,
    "start_time": "2023-05-20T20:54:47.069Z"
   },
   {
    "duration": 103,
    "start_time": "2023-05-20T20:54:58.270Z"
   },
   {
    "duration": 1153,
    "start_time": "2023-05-22T14:20:06.443Z"
   },
   {
    "duration": 616,
    "start_time": "2023-05-22T14:20:07.599Z"
   },
   {
    "duration": 11,
    "start_time": "2023-05-22T14:20:08.217Z"
   },
   {
    "duration": 29,
    "start_time": "2023-05-22T14:20:08.230Z"
   },
   {
    "duration": 6,
    "start_time": "2023-05-22T14:20:08.260Z"
   },
   {
    "duration": 106,
    "start_time": "2023-05-22T14:20:08.267Z"
   },
   {
    "duration": 94,
    "start_time": "2023-05-22T14:20:08.375Z"
   },
   {
    "duration": 27,
    "start_time": "2023-05-22T14:20:08.471Z"
   },
   {
    "duration": 27,
    "start_time": "2023-05-22T14:20:08.500Z"
   },
   {
    "duration": 206,
    "start_time": "2023-05-22T14:20:08.529Z"
   },
   {
    "duration": 14,
    "start_time": "2023-05-22T14:20:08.737Z"
   },
   {
    "duration": 77,
    "start_time": "2023-05-22T14:20:08.752Z"
   },
   {
    "duration": 34,
    "start_time": "2023-05-22T14:20:08.830Z"
   },
   {
    "duration": 41,
    "start_time": "2023-05-22T14:20:08.866Z"
   },
   {
    "duration": 28,
    "start_time": "2023-05-22T14:20:08.909Z"
   },
   {
    "duration": 280,
    "start_time": "2023-05-22T14:20:08.939Z"
   },
   {
    "duration": 37,
    "start_time": "2023-05-22T14:20:09.221Z"
   },
   {
    "duration": 44,
    "start_time": "2023-05-22T14:20:09.260Z"
   },
   {
    "duration": 79,
    "start_time": "2023-05-22T14:20:09.305Z"
   },
   {
    "duration": 4,
    "start_time": "2023-05-22T14:20:09.394Z"
   },
   {
    "duration": 34,
    "start_time": "2023-05-22T14:20:09.399Z"
   },
   {
    "duration": 94,
    "start_time": "2023-05-22T14:20:09.435Z"
   },
   {
    "duration": 48,
    "start_time": "2023-05-22T14:20:09.531Z"
   },
   {
    "duration": 14,
    "start_time": "2023-05-22T14:20:09.581Z"
   },
   {
    "duration": 103,
    "start_time": "2023-05-22T14:20:09.597Z"
   },
   {
    "duration": 0,
    "start_time": "2023-05-22T14:20:09.702Z"
   },
   {
    "duration": 0,
    "start_time": "2023-05-22T14:20:09.703Z"
   },
   {
    "duration": 0,
    "start_time": "2023-05-22T14:20:09.704Z"
   },
   {
    "duration": 0,
    "start_time": "2023-05-22T14:20:09.705Z"
   },
   {
    "duration": 0,
    "start_time": "2023-05-22T14:20:09.706Z"
   },
   {
    "duration": 0,
    "start_time": "2023-05-22T14:20:09.706Z"
   },
   {
    "duration": 5,
    "start_time": "2023-05-22T14:20:37.121Z"
   },
   {
    "duration": 65,
    "start_time": "2023-05-22T14:20:37.128Z"
   },
   {
    "duration": 0,
    "start_time": "2023-05-22T14:20:37.195Z"
   },
   {
    "duration": 0,
    "start_time": "2023-05-22T14:20:37.198Z"
   },
   {
    "duration": 0,
    "start_time": "2023-05-22T14:20:37.199Z"
   },
   {
    "duration": 0,
    "start_time": "2023-05-22T14:20:37.200Z"
   },
   {
    "duration": 0,
    "start_time": "2023-05-22T14:20:37.202Z"
   },
   {
    "duration": 0,
    "start_time": "2023-05-22T14:20:37.203Z"
   },
   {
    "duration": 4,
    "start_time": "2023-05-22T14:21:00.656Z"
   },
   {
    "duration": 28,
    "start_time": "2023-05-22T14:21:00.662Z"
   },
   {
    "duration": 0,
    "start_time": "2023-05-22T14:21:00.692Z"
   },
   {
    "duration": 0,
    "start_time": "2023-05-22T14:21:00.693Z"
   },
   {
    "duration": 0,
    "start_time": "2023-05-22T14:21:00.694Z"
   },
   {
    "duration": 0,
    "start_time": "2023-05-22T14:21:00.695Z"
   },
   {
    "duration": 0,
    "start_time": "2023-05-22T14:21:00.696Z"
   },
   {
    "duration": 0,
    "start_time": "2023-05-22T14:21:00.697Z"
   },
   {
    "duration": 4,
    "start_time": "2023-05-22T14:21:24.272Z"
   },
   {
    "duration": 98,
    "start_time": "2023-05-22T14:21:24.278Z"
   },
   {
    "duration": 1543,
    "start_time": "2023-05-22T14:21:24.378Z"
   },
   {
    "duration": 0,
    "start_time": "2023-05-22T14:21:25.923Z"
   },
   {
    "duration": 0,
    "start_time": "2023-05-22T14:21:25.924Z"
   },
   {
    "duration": 0,
    "start_time": "2023-05-22T14:21:25.925Z"
   },
   {
    "duration": 0,
    "start_time": "2023-05-22T14:21:25.926Z"
   },
   {
    "duration": 0,
    "start_time": "2023-05-22T14:21:25.927Z"
   },
   {
    "duration": 76,
    "start_time": "2023-05-22T14:21:40.574Z"
   },
   {
    "duration": 49,
    "start_time": "2023-05-22T14:21:40.652Z"
   },
   {
    "duration": 11,
    "start_time": "2023-05-22T14:21:40.703Z"
   },
   {
    "duration": 7,
    "start_time": "2023-05-22T14:21:40.716Z"
   },
   {
    "duration": 35,
    "start_time": "2023-05-22T14:21:40.725Z"
   },
   {
    "duration": 16,
    "start_time": "2023-05-22T14:21:40.761Z"
   },
   {
    "duration": 13,
    "start_time": "2023-05-22T14:21:40.779Z"
   },
   {
    "duration": 1249,
    "start_time": "2023-05-25T22:12:11.967Z"
   },
   {
    "duration": 761,
    "start_time": "2023-05-25T22:12:13.218Z"
   },
   {
    "duration": 12,
    "start_time": "2023-05-25T22:12:13.980Z"
   },
   {
    "duration": 31,
    "start_time": "2023-05-25T22:12:13.993Z"
   },
   {
    "duration": 3,
    "start_time": "2023-05-25T22:12:14.027Z"
   },
   {
    "duration": 100,
    "start_time": "2023-05-25T22:12:14.031Z"
   },
   {
    "duration": 118,
    "start_time": "2023-05-25T22:12:14.134Z"
   },
   {
    "duration": 29,
    "start_time": "2023-05-25T22:12:14.254Z"
   },
   {
    "duration": 26,
    "start_time": "2023-05-25T22:12:14.284Z"
   },
   {
    "duration": 248,
    "start_time": "2023-05-25T22:12:14.313Z"
   },
   {
    "duration": 13,
    "start_time": "2023-05-25T22:12:14.563Z"
   },
   {
    "duration": 99,
    "start_time": "2023-05-25T22:12:14.578Z"
   },
   {
    "duration": 31,
    "start_time": "2023-05-25T22:12:14.679Z"
   },
   {
    "duration": 52,
    "start_time": "2023-05-25T22:12:14.713Z"
   },
   {
    "duration": 27,
    "start_time": "2023-05-25T22:12:14.766Z"
   },
   {
    "duration": 321,
    "start_time": "2023-05-25T22:12:14.795Z"
   },
   {
    "duration": 46,
    "start_time": "2023-05-25T22:12:15.118Z"
   },
   {
    "duration": 22,
    "start_time": "2023-05-25T22:12:15.165Z"
   },
   {
    "duration": 92,
    "start_time": "2023-05-25T22:12:15.188Z"
   },
   {
    "duration": 3,
    "start_time": "2023-05-25T22:12:15.282Z"
   },
   {
    "duration": 29,
    "start_time": "2023-05-25T22:12:15.286Z"
   },
   {
    "duration": 75,
    "start_time": "2023-05-25T22:12:15.316Z"
   },
   {
    "duration": 60,
    "start_time": "2023-05-25T22:12:15.392Z"
   },
   {
    "duration": 44,
    "start_time": "2023-05-25T22:12:15.454Z"
   },
   {
    "duration": 52,
    "start_time": "2023-05-25T22:12:21.302Z"
   },
   {
    "duration": 116,
    "start_time": "2023-05-25T22:12:34.041Z"
   },
   {
    "duration": 51,
    "start_time": "2023-05-25T22:12:36.936Z"
   },
   {
    "duration": 66,
    "start_time": "2023-05-25T22:13:14.591Z"
   },
   {
    "duration": 107,
    "start_time": "2023-05-25T22:13:29.898Z"
   },
   {
    "duration": 3,
    "start_time": "2023-05-25T22:13:33.516Z"
   },
   {
    "duration": 239,
    "start_time": "2023-05-25T22:13:33.521Z"
   },
   {
    "duration": 8,
    "start_time": "2023-05-25T22:13:33.761Z"
   },
   {
    "duration": 29,
    "start_time": "2023-05-25T22:13:33.772Z"
   },
   {
    "duration": 3,
    "start_time": "2023-05-25T22:13:33.803Z"
   },
   {
    "duration": 95,
    "start_time": "2023-05-25T22:13:33.808Z"
   },
   {
    "duration": 85,
    "start_time": "2023-05-25T22:13:33.905Z"
   },
   {
    "duration": 18,
    "start_time": "2023-05-25T22:13:33.992Z"
   },
   {
    "duration": 41,
    "start_time": "2023-05-25T22:13:34.012Z"
   },
   {
    "duration": 218,
    "start_time": "2023-05-25T22:13:34.056Z"
   },
   {
    "duration": 15,
    "start_time": "2023-05-25T22:13:34.276Z"
   },
   {
    "duration": 77,
    "start_time": "2023-05-25T22:13:34.293Z"
   },
   {
    "duration": 30,
    "start_time": "2023-05-25T22:13:34.372Z"
   },
   {
    "duration": 44,
    "start_time": "2023-05-25T22:13:34.404Z"
   },
   {
    "duration": 24,
    "start_time": "2023-05-25T22:13:34.452Z"
   },
   {
    "duration": 215,
    "start_time": "2023-05-25T22:13:34.478Z"
   },
   {
    "duration": 34,
    "start_time": "2023-05-25T22:13:34.695Z"
   },
   {
    "duration": 23,
    "start_time": "2023-05-25T22:13:34.741Z"
   },
   {
    "duration": 88,
    "start_time": "2023-05-25T22:13:34.766Z"
   },
   {
    "duration": 3,
    "start_time": "2023-05-25T22:13:34.857Z"
   },
   {
    "duration": 32,
    "start_time": "2023-05-25T22:13:34.862Z"
   },
   {
    "duration": 61,
    "start_time": "2023-05-25T22:13:34.895Z"
   },
   {
    "duration": 39,
    "start_time": "2023-05-25T22:13:34.958Z"
   },
   {
    "duration": 4,
    "start_time": "2023-05-25T22:13:35.000Z"
   },
   {
    "duration": 97,
    "start_time": "2023-05-25T22:13:35.006Z"
   },
   {
    "duration": 9,
    "start_time": "2023-05-25T22:13:35.104Z"
   },
   {
    "duration": 1555,
    "start_time": "2023-05-29T20:05:52.868Z"
   },
   {
    "duration": 983,
    "start_time": "2023-05-29T20:05:54.426Z"
   },
   {
    "duration": 12,
    "start_time": "2023-05-29T20:05:55.411Z"
   },
   {
    "duration": 66,
    "start_time": "2023-05-29T20:05:55.425Z"
   },
   {
    "duration": 31,
    "start_time": "2023-05-29T20:05:55.494Z"
   },
   {
    "duration": 136,
    "start_time": "2023-05-29T20:05:55.527Z"
   },
   {
    "duration": 139,
    "start_time": "2023-05-29T20:05:55.664Z"
   },
   {
    "duration": 24,
    "start_time": "2023-05-29T20:05:55.805Z"
   },
   {
    "duration": 44,
    "start_time": "2023-05-29T20:05:55.831Z"
   },
   {
    "duration": 303,
    "start_time": "2023-05-29T20:05:55.878Z"
   },
   {
    "duration": 40,
    "start_time": "2023-05-29T20:05:56.183Z"
   },
   {
    "duration": 114,
    "start_time": "2023-05-29T20:05:56.225Z"
   },
   {
    "duration": 65,
    "start_time": "2023-05-29T20:05:56.341Z"
   },
   {
    "duration": 53,
    "start_time": "2023-05-29T20:05:56.410Z"
   },
   {
    "duration": 52,
    "start_time": "2023-05-29T20:05:56.465Z"
   },
   {
    "duration": 464,
    "start_time": "2023-05-29T20:05:56.519Z"
   },
   {
    "duration": 42,
    "start_time": "2023-05-29T20:05:56.988Z"
   },
   {
    "duration": 34,
    "start_time": "2023-05-29T20:05:57.032Z"
   },
   {
    "duration": 118,
    "start_time": "2023-05-29T20:05:57.068Z"
   },
   {
    "duration": 8,
    "start_time": "2023-05-29T20:05:57.188Z"
   },
   {
    "duration": 33,
    "start_time": "2023-05-29T20:05:57.197Z"
   },
   {
    "duration": 97,
    "start_time": "2023-05-29T20:05:57.231Z"
   },
   {
    "duration": 53,
    "start_time": "2023-05-29T20:05:57.330Z"
   },
   {
    "duration": 114,
    "start_time": "2023-05-29T20:05:57.385Z"
   },
   {
    "duration": 12,
    "start_time": "2023-05-29T20:05:57.501Z"
   },
   {
    "duration": 24,
    "start_time": "2023-05-29T20:05:57.515Z"
   },
   {
    "duration": 43,
    "start_time": "2023-05-29T20:05:57.548Z"
   },
   {
    "duration": 12,
    "start_time": "2023-05-29T20:05:57.592Z"
   },
   {
    "duration": 20,
    "start_time": "2023-05-29T20:05:57.606Z"
   },
   {
    "duration": 30,
    "start_time": "2023-05-29T20:05:57.628Z"
   },
   {
    "duration": 37,
    "start_time": "2023-05-29T20:05:57.660Z"
   },
   {
    "duration": 1711,
    "start_time": "2023-05-30T22:15:29.243Z"
   },
   {
    "duration": 1452,
    "start_time": "2023-05-30T22:15:30.964Z"
   },
   {
    "duration": 48,
    "start_time": "2023-05-30T22:15:32.418Z"
   },
   {
    "duration": 438,
    "start_time": "2023-05-30T22:15:32.471Z"
   },
   {
    "duration": 6,
    "start_time": "2023-05-30T22:15:32.948Z"
   },
   {
    "duration": 557,
    "start_time": "2023-05-30T22:15:32.956Z"
   },
   {
    "duration": 233,
    "start_time": "2023-05-30T22:15:33.515Z"
   },
   {
    "duration": 75,
    "start_time": "2023-05-30T22:15:33.750Z"
   },
   {
    "duration": 206,
    "start_time": "2023-05-30T22:15:33.846Z"
   },
   {
    "duration": 485,
    "start_time": "2023-05-30T22:15:34.056Z"
   },
   {
    "duration": 131,
    "start_time": "2023-05-30T22:15:34.543Z"
   },
   {
    "duration": 330,
    "start_time": "2023-05-30T22:15:34.687Z"
   },
   {
    "duration": 60,
    "start_time": "2023-05-30T22:15:35.019Z"
   },
   {
    "duration": 54,
    "start_time": "2023-05-30T22:15:35.083Z"
   },
   {
    "duration": 67,
    "start_time": "2023-05-30T22:15:35.139Z"
   },
   {
    "duration": 381,
    "start_time": "2023-05-30T22:15:35.211Z"
   },
   {
    "duration": 70,
    "start_time": "2023-05-30T22:15:35.596Z"
   },
   {
    "duration": 30,
    "start_time": "2023-05-30T22:15:35.671Z"
   },
   {
    "duration": 129,
    "start_time": "2023-05-30T22:15:35.703Z"
   },
   {
    "duration": 3,
    "start_time": "2023-05-30T22:15:35.835Z"
   },
   {
    "duration": 80,
    "start_time": "2023-05-30T22:15:35.846Z"
   },
   {
    "duration": 92,
    "start_time": "2023-05-30T22:15:35.927Z"
   },
   {
    "duration": 54,
    "start_time": "2023-05-30T22:15:36.021Z"
   },
   {
    "duration": 133,
    "start_time": "2023-05-30T22:15:36.077Z"
   },
   {
    "duration": 11,
    "start_time": "2023-05-30T22:15:36.212Z"
   },
   {
    "duration": 43,
    "start_time": "2023-05-30T22:15:36.225Z"
   },
   {
    "duration": 31,
    "start_time": "2023-05-30T22:15:36.270Z"
   },
   {
    "duration": 9,
    "start_time": "2023-05-30T22:15:36.305Z"
   },
   {
    "duration": 22,
    "start_time": "2023-05-30T22:15:36.316Z"
   },
   {
    "duration": 21,
    "start_time": "2023-05-30T22:15:36.339Z"
   },
   {
    "duration": 57,
    "start_time": "2023-05-30T22:15:36.364Z"
   },
   {
    "duration": 691,
    "start_time": "2023-05-30T22:36:18.104Z"
   },
   {
    "duration": 8,
    "start_time": "2023-05-31T04:46:37.493Z"
   },
   {
    "duration": 54,
    "start_time": "2023-06-01T03:45:59.184Z"
   },
   {
    "duration": 1363,
    "start_time": "2023-06-01T03:46:07.218Z"
   },
   {
    "duration": 626,
    "start_time": "2023-06-01T03:46:08.583Z"
   },
   {
    "duration": 18,
    "start_time": "2023-06-01T03:46:09.212Z"
   },
   {
    "duration": 45,
    "start_time": "2023-06-01T03:46:09.232Z"
   },
   {
    "duration": 3,
    "start_time": "2023-06-01T03:46:09.281Z"
   },
   {
    "duration": 136,
    "start_time": "2023-06-01T03:46:09.286Z"
   },
   {
    "duration": 106,
    "start_time": "2023-06-01T03:46:09.424Z"
   },
   {
    "duration": 27,
    "start_time": "2023-06-01T03:46:09.532Z"
   },
   {
    "duration": 43,
    "start_time": "2023-06-01T03:46:09.560Z"
   },
   {
    "duration": 258,
    "start_time": "2023-06-01T03:46:09.606Z"
   },
   {
    "duration": 18,
    "start_time": "2023-06-01T03:46:09.866Z"
   },
   {
    "duration": 90,
    "start_time": "2023-06-01T03:46:09.886Z"
   },
   {
    "duration": 49,
    "start_time": "2023-06-01T03:46:09.978Z"
   },
   {
    "duration": 38,
    "start_time": "2023-06-01T03:46:10.030Z"
   },
   {
    "duration": 27,
    "start_time": "2023-06-01T03:46:10.070Z"
   },
   {
    "duration": 337,
    "start_time": "2023-06-01T03:46:10.100Z"
   },
   {
    "duration": 38,
    "start_time": "2023-06-01T03:46:10.441Z"
   },
   {
    "duration": 31,
    "start_time": "2023-06-01T03:46:10.481Z"
   },
   {
    "duration": 115,
    "start_time": "2023-06-01T03:46:10.515Z"
   },
   {
    "duration": 4,
    "start_time": "2023-06-01T03:46:10.642Z"
   },
   {
    "duration": 42,
    "start_time": "2023-06-01T03:46:10.648Z"
   },
   {
    "duration": 83,
    "start_time": "2023-06-01T03:46:10.693Z"
   },
   {
    "duration": 45,
    "start_time": "2023-06-01T03:46:10.778Z"
   },
   {
    "duration": 100,
    "start_time": "2023-06-01T03:46:10.825Z"
   },
   {
    "duration": 23,
    "start_time": "2023-06-01T03:46:10.927Z"
   },
   {
    "duration": 20,
    "start_time": "2023-06-01T03:46:10.952Z"
   },
   {
    "duration": 9,
    "start_time": "2023-06-01T03:46:10.974Z"
   },
   {
    "duration": 9,
    "start_time": "2023-06-01T03:46:10.985Z"
   },
   {
    "duration": 16,
    "start_time": "2023-06-01T03:46:10.996Z"
   },
   {
    "duration": 41,
    "start_time": "2023-06-01T03:46:11.014Z"
   },
   {
    "duration": 12,
    "start_time": "2023-06-01T03:46:11.058Z"
   },
   {
    "duration": 11,
    "start_time": "2023-06-01T03:46:11.073Z"
   },
   {
    "duration": 18,
    "start_time": "2023-06-01T03:46:11.086Z"
   },
   {
    "duration": 7,
    "start_time": "2023-06-01T03:47:46.820Z"
   },
   {
    "duration": 12,
    "start_time": "2023-06-01T03:47:54.956Z"
   },
   {
    "duration": 1412,
    "start_time": "2023-06-01T03:51:42.215Z"
   },
   {
    "duration": 4,
    "start_time": "2023-06-01T03:52:47.656Z"
   },
   {
    "duration": 267,
    "start_time": "2023-06-01T03:52:47.662Z"
   },
   {
    "duration": 10,
    "start_time": "2023-06-01T03:52:47.932Z"
   },
   {
    "duration": 29,
    "start_time": "2023-06-01T03:52:47.944Z"
   },
   {
    "duration": 3,
    "start_time": "2023-06-01T03:52:47.976Z"
   },
   {
    "duration": 99,
    "start_time": "2023-06-01T03:52:47.980Z"
   },
   {
    "duration": 98,
    "start_time": "2023-06-01T03:52:48.081Z"
   },
   {
    "duration": 22,
    "start_time": "2023-06-01T03:52:48.181Z"
   },
   {
    "duration": 47,
    "start_time": "2023-06-01T03:52:48.206Z"
   },
   {
    "duration": 260,
    "start_time": "2023-06-01T03:52:48.256Z"
   },
   {
    "duration": 14,
    "start_time": "2023-06-01T03:52:48.518Z"
   },
   {
    "duration": 74,
    "start_time": "2023-06-01T03:52:48.542Z"
   },
   {
    "duration": 54,
    "start_time": "2023-06-01T03:52:48.618Z"
   },
   {
    "duration": 26,
    "start_time": "2023-06-01T03:52:48.675Z"
   },
   {
    "duration": 24,
    "start_time": "2023-06-01T03:52:48.702Z"
   },
   {
    "duration": 216,
    "start_time": "2023-06-01T03:52:48.742Z"
   },
   {
    "duration": 37,
    "start_time": "2023-06-01T03:52:48.959Z"
   },
   {
    "duration": 45,
    "start_time": "2023-06-01T03:52:48.998Z"
   },
   {
    "duration": 76,
    "start_time": "2023-06-01T03:52:49.045Z"
   },
   {
    "duration": 3,
    "start_time": "2023-06-01T03:52:49.123Z"
   },
   {
    "duration": 26,
    "start_time": "2023-06-01T03:52:49.142Z"
   },
   {
    "duration": 81,
    "start_time": "2023-06-01T03:52:49.170Z"
   },
   {
    "duration": 56,
    "start_time": "2023-06-01T03:52:49.253Z"
   },
   {
    "duration": 108,
    "start_time": "2023-06-01T03:52:49.311Z"
   },
   {
    "duration": 21,
    "start_time": "2023-06-01T03:52:49.421Z"
   },
   {
    "duration": 17,
    "start_time": "2023-06-01T03:52:49.444Z"
   },
   {
    "duration": 17,
    "start_time": "2023-06-01T03:52:49.463Z"
   },
   {
    "duration": 8,
    "start_time": "2023-06-01T03:52:49.481Z"
   },
   {
    "duration": 15,
    "start_time": "2023-06-01T03:52:49.491Z"
   },
   {
    "duration": 17,
    "start_time": "2023-06-01T03:52:49.507Z"
   },
   {
    "duration": 25,
    "start_time": "2023-06-01T03:52:49.526Z"
   },
   {
    "duration": 7,
    "start_time": "2023-06-01T03:52:49.553Z"
   },
   {
    "duration": 1464,
    "start_time": "2023-06-01T03:52:49.561Z"
   },
   {
    "duration": 6,
    "start_time": "2023-06-01T03:53:01.605Z"
   },
   {
    "duration": 10,
    "start_time": "2023-06-01T03:53:18.392Z"
   },
   {
    "duration": 1185,
    "start_time": "2023-06-01T03:53:27.046Z"
   },
   {
    "duration": 12,
    "start_time": "2023-06-01T03:53:51.040Z"
   },
   {
    "duration": 7,
    "start_time": "2023-06-01T03:54:05.109Z"
   },
   {
    "duration": 7,
    "start_time": "2023-06-01T03:54:09.761Z"
   },
   {
    "duration": 8,
    "start_time": "2023-06-01T03:54:10.149Z"
   },
   {
    "duration": 8,
    "start_time": "2023-06-01T03:54:10.480Z"
   },
   {
    "duration": 7,
    "start_time": "2023-06-01T03:54:47.588Z"
   },
   {
    "duration": 9,
    "start_time": "2023-06-01T03:54:49.493Z"
   },
   {
    "duration": 17,
    "start_time": "2023-06-01T03:57:49.398Z"
   },
   {
    "duration": 18,
    "start_time": "2023-06-01T03:58:08.400Z"
   },
   {
    "duration": 16,
    "start_time": "2023-06-01T03:58:45.934Z"
   },
   {
    "duration": 14,
    "start_time": "2023-06-01T03:59:09.132Z"
   },
   {
    "duration": 17,
    "start_time": "2023-06-01T03:59:21.288Z"
   },
   {
    "duration": 12,
    "start_time": "2023-06-01T04:00:25.526Z"
   },
   {
    "duration": 48,
    "start_time": "2023-06-05T06:56:08.322Z"
   },
   {
    "duration": 1319,
    "start_time": "2023-06-05T06:56:13.034Z"
   },
   {
    "duration": 883,
    "start_time": "2023-06-05T06:56:14.358Z"
   },
   {
    "duration": 14,
    "start_time": "2023-06-05T06:56:15.243Z"
   },
   {
    "duration": 36,
    "start_time": "2023-06-05T06:56:15.259Z"
   },
   {
    "duration": 20,
    "start_time": "2023-06-05T06:56:15.298Z"
   },
   {
    "duration": 94,
    "start_time": "2023-06-05T06:56:15.321Z"
   },
   {
    "duration": 113,
    "start_time": "2023-06-05T06:56:15.418Z"
   },
   {
    "duration": 26,
    "start_time": "2023-06-05T06:56:15.534Z"
   },
   {
    "duration": 48,
    "start_time": "2023-06-05T06:56:15.562Z"
   },
   {
    "duration": 196,
    "start_time": "2023-06-05T06:56:15.613Z"
   },
   {
    "duration": 18,
    "start_time": "2023-06-05T06:56:15.811Z"
   },
   {
    "duration": 84,
    "start_time": "2023-06-05T06:56:15.830Z"
   },
   {
    "duration": 40,
    "start_time": "2023-06-05T06:56:15.916Z"
   },
   {
    "duration": 30,
    "start_time": "2023-06-05T06:56:15.959Z"
   },
   {
    "duration": 26,
    "start_time": "2023-06-05T06:56:15.990Z"
   },
   {
    "duration": 322,
    "start_time": "2023-06-05T06:56:16.017Z"
   },
   {
    "duration": 49,
    "start_time": "2023-06-05T06:56:16.341Z"
   },
   {
    "duration": 21,
    "start_time": "2023-06-05T06:56:16.392Z"
   },
   {
    "duration": 89,
    "start_time": "2023-06-05T06:56:16.415Z"
   },
   {
    "duration": 3,
    "start_time": "2023-06-05T06:56:16.506Z"
   },
   {
    "duration": 45,
    "start_time": "2023-06-05T06:56:16.510Z"
   },
   {
    "duration": 61,
    "start_time": "2023-06-05T06:56:16.557Z"
   },
   {
    "duration": 50,
    "start_time": "2023-06-05T06:56:16.620Z"
   },
   {
    "duration": 92,
    "start_time": "2023-06-05T06:56:16.671Z"
   },
   {
    "duration": 10,
    "start_time": "2023-06-05T06:56:16.764Z"
   },
   {
    "duration": 26,
    "start_time": "2023-06-05T06:56:16.776Z"
   },
   {
    "duration": 7,
    "start_time": "2023-06-05T06:56:16.804Z"
   },
   {
    "duration": 6,
    "start_time": "2023-06-05T06:56:16.813Z"
   },
   {
    "duration": 13,
    "start_time": "2023-06-05T06:56:16.820Z"
   },
   {
    "duration": 29,
    "start_time": "2023-06-05T06:56:16.834Z"
   },
   {
    "duration": 11,
    "start_time": "2023-06-05T06:56:16.865Z"
   },
   {
    "duration": 17,
    "start_time": "2023-06-05T06:56:16.878Z"
   },
   {
    "duration": 13,
    "start_time": "2023-06-05T06:56:16.897Z"
   },
   {
    "duration": 8,
    "start_time": "2023-06-05T06:56:16.911Z"
   },
   {
    "duration": 8,
    "start_time": "2023-06-05T06:56:16.921Z"
   },
   {
    "duration": 25,
    "start_time": "2023-06-05T06:56:16.931Z"
   },
   {
    "duration": 12,
    "start_time": "2023-06-05T06:56:40.580Z"
   },
   {
    "duration": 14,
    "start_time": "2023-06-05T06:56:51.932Z"
   },
   {
    "duration": 12,
    "start_time": "2023-06-05T06:58:17.671Z"
   },
   {
    "duration": 1149,
    "start_time": "2023-06-06T08:20:36.378Z"
   },
   {
    "duration": 1027,
    "start_time": "2023-06-06T08:20:37.535Z"
   },
   {
    "duration": 12,
    "start_time": "2023-06-06T08:20:38.563Z"
   },
   {
    "duration": 33,
    "start_time": "2023-06-06T08:20:38.578Z"
   },
   {
    "duration": 8,
    "start_time": "2023-06-06T08:20:38.613Z"
   },
   {
    "duration": 99,
    "start_time": "2023-06-06T08:20:38.623Z"
   },
   {
    "duration": 117,
    "start_time": "2023-06-06T08:20:38.726Z"
   },
   {
    "duration": 23,
    "start_time": "2023-06-06T08:20:38.846Z"
   },
   {
    "duration": 49,
    "start_time": "2023-06-06T08:20:38.871Z"
   },
   {
    "duration": 362,
    "start_time": "2023-06-06T08:20:38.926Z"
   },
   {
    "duration": 17,
    "start_time": "2023-06-06T08:20:39.290Z"
   },
   {
    "duration": 87,
    "start_time": "2023-06-06T08:20:39.309Z"
   },
   {
    "duration": 49,
    "start_time": "2023-06-06T08:20:39.398Z"
   },
   {
    "duration": 32,
    "start_time": "2023-06-06T08:20:39.449Z"
   },
   {
    "duration": 56,
    "start_time": "2023-06-06T08:20:39.483Z"
   },
   {
    "duration": 384,
    "start_time": "2023-06-06T08:20:39.542Z"
   },
   {
    "duration": 40,
    "start_time": "2023-06-06T08:20:39.940Z"
   },
   {
    "duration": 22,
    "start_time": "2023-06-06T08:20:39.981Z"
   },
   {
    "duration": 89,
    "start_time": "2023-06-06T08:20:40.005Z"
   },
   {
    "duration": 3,
    "start_time": "2023-06-06T08:20:40.096Z"
   },
   {
    "duration": 55,
    "start_time": "2023-06-06T08:20:40.100Z"
   },
   {
    "duration": 61,
    "start_time": "2023-06-06T08:20:40.157Z"
   },
   {
    "duration": 53,
    "start_time": "2023-06-06T08:20:40.230Z"
   },
   {
    "duration": 99,
    "start_time": "2023-06-06T08:20:40.284Z"
   },
   {
    "duration": 11,
    "start_time": "2023-06-06T08:20:40.384Z"
   },
   {
    "duration": 49,
    "start_time": "2023-06-06T08:20:40.396Z"
   },
   {
    "duration": 17,
    "start_time": "2023-06-06T08:20:40.447Z"
   },
   {
    "duration": 20,
    "start_time": "2023-06-06T08:20:40.468Z"
   },
   {
    "duration": 18,
    "start_time": "2023-06-06T08:20:40.489Z"
   },
   {
    "duration": 20,
    "start_time": "2023-06-06T08:20:40.508Z"
   },
   {
    "duration": 27,
    "start_time": "2023-06-06T08:20:40.533Z"
   },
   {
    "duration": 14,
    "start_time": "2023-06-06T08:20:40.562Z"
   },
   {
    "duration": 10,
    "start_time": "2023-06-06T08:20:40.578Z"
   },
   {
    "duration": 7,
    "start_time": "2023-06-06T08:20:40.590Z"
   },
   {
    "duration": 6,
    "start_time": "2023-06-06T08:20:40.599Z"
   },
   {
    "duration": 33,
    "start_time": "2023-06-06T08:20:40.606Z"
   },
   {
    "duration": 1110,
    "start_time": "2023-06-06T08:23:40.209Z"
   },
   {
    "duration": 328,
    "start_time": "2023-06-06T08:23:41.321Z"
   },
   {
    "duration": 12,
    "start_time": "2023-06-06T08:23:41.651Z"
   },
   {
    "duration": 28,
    "start_time": "2023-06-06T08:23:41.666Z"
   },
   {
    "duration": 2,
    "start_time": "2023-06-06T08:23:41.696Z"
   },
   {
    "duration": 121,
    "start_time": "2023-06-06T08:23:41.700Z"
   },
   {
    "duration": 108,
    "start_time": "2023-06-06T08:23:41.831Z"
   },
   {
    "duration": 21,
    "start_time": "2023-06-06T08:23:41.942Z"
   },
   {
    "duration": 38,
    "start_time": "2023-06-06T08:23:41.964Z"
   },
   {
    "duration": 202,
    "start_time": "2023-06-06T08:23:42.005Z"
   },
   {
    "duration": 31,
    "start_time": "2023-06-06T08:23:42.209Z"
   },
   {
    "duration": 74,
    "start_time": "2023-06-06T08:23:42.242Z"
   },
   {
    "duration": 47,
    "start_time": "2023-06-06T08:23:42.318Z"
   },
   {
    "duration": 32,
    "start_time": "2023-06-06T08:23:42.367Z"
   },
   {
    "duration": 58,
    "start_time": "2023-06-06T08:23:42.401Z"
   },
   {
    "duration": 317,
    "start_time": "2023-06-06T08:23:42.461Z"
   },
   {
    "duration": 48,
    "start_time": "2023-06-06T08:23:42.780Z"
   },
   {
    "duration": 28,
    "start_time": "2023-06-06T08:23:42.833Z"
   },
   {
    "duration": 85,
    "start_time": "2023-06-06T08:23:42.863Z"
   },
   {
    "duration": 4,
    "start_time": "2023-06-06T08:23:42.950Z"
   },
   {
    "duration": 28,
    "start_time": "2023-06-06T08:23:42.955Z"
   },
   {
    "duration": 86,
    "start_time": "2023-06-06T08:23:42.984Z"
   },
   {
    "duration": 62,
    "start_time": "2023-06-06T08:23:43.072Z"
   },
   {
    "duration": 101,
    "start_time": "2023-06-06T08:23:43.136Z"
   },
   {
    "duration": 10,
    "start_time": "2023-06-06T08:23:43.239Z"
   },
   {
    "duration": 36,
    "start_time": "2023-06-06T08:23:43.251Z"
   },
   {
    "duration": 8,
    "start_time": "2023-06-06T08:23:43.288Z"
   },
   {
    "duration": 5,
    "start_time": "2023-06-06T08:23:43.299Z"
   },
   {
    "duration": 16,
    "start_time": "2023-06-06T08:23:43.305Z"
   },
   {
    "duration": 20,
    "start_time": "2023-06-06T08:23:43.322Z"
   },
   {
    "duration": 22,
    "start_time": "2023-06-06T08:23:43.344Z"
   },
   {
    "duration": 10,
    "start_time": "2023-06-06T08:23:43.368Z"
   },
   {
    "duration": 10,
    "start_time": "2023-06-06T08:23:43.380Z"
   },
   {
    "duration": 9,
    "start_time": "2023-06-06T08:23:43.392Z"
   },
   {
    "duration": 4,
    "start_time": "2023-06-06T08:23:43.403Z"
   },
   {
    "duration": 30,
    "start_time": "2023-06-06T08:23:43.408Z"
   },
   {
    "duration": 1690,
    "start_time": "2023-06-06T19:32:35.903Z"
   },
   {
    "duration": 902,
    "start_time": "2023-06-06T19:32:37.595Z"
   },
   {
    "duration": 14,
    "start_time": "2023-06-06T19:32:38.498Z"
   },
   {
    "duration": 30,
    "start_time": "2023-06-06T19:32:38.514Z"
   },
   {
    "duration": 2,
    "start_time": "2023-06-06T19:32:38.546Z"
   },
   {
    "duration": 98,
    "start_time": "2023-06-06T19:32:38.550Z"
   },
   {
    "duration": 111,
    "start_time": "2023-06-06T19:32:38.650Z"
   },
   {
    "duration": 28,
    "start_time": "2023-06-06T19:32:38.763Z"
   },
   {
    "duration": 30,
    "start_time": "2023-06-06T19:32:38.792Z"
   },
   {
    "duration": 208,
    "start_time": "2023-06-06T19:32:38.825Z"
   },
   {
    "duration": 13,
    "start_time": "2023-06-06T19:32:39.034Z"
   },
   {
    "duration": 88,
    "start_time": "2023-06-06T19:32:39.049Z"
   },
   {
    "duration": 49,
    "start_time": "2023-06-06T19:32:39.138Z"
   },
   {
    "duration": 45,
    "start_time": "2023-06-06T19:32:39.189Z"
   },
   {
    "duration": 49,
    "start_time": "2023-06-06T19:32:39.236Z"
   },
   {
    "duration": 343,
    "start_time": "2023-06-06T19:32:39.290Z"
   },
   {
    "duration": 39,
    "start_time": "2023-06-06T19:32:39.635Z"
   },
   {
    "duration": 26,
    "start_time": "2023-06-06T19:32:39.683Z"
   },
   {
    "duration": 100,
    "start_time": "2023-06-06T19:32:39.710Z"
   },
   {
    "duration": 4,
    "start_time": "2023-06-06T19:32:39.811Z"
   },
   {
    "duration": 26,
    "start_time": "2023-06-06T19:32:39.817Z"
   },
   {
    "duration": 83,
    "start_time": "2023-06-06T19:32:39.844Z"
   },
   {
    "duration": 48,
    "start_time": "2023-06-06T19:32:39.928Z"
   },
   {
    "duration": 114,
    "start_time": "2023-06-06T19:32:39.979Z"
   },
   {
    "duration": 18,
    "start_time": "2023-06-06T19:32:40.104Z"
   },
   {
    "duration": 22,
    "start_time": "2023-06-06T19:32:40.124Z"
   },
   {
    "duration": 79,
    "start_time": "2023-06-06T19:32:40.148Z"
   },
   {
    "duration": 39,
    "start_time": "2023-06-06T19:32:40.230Z"
   },
   {
    "duration": 44,
    "start_time": "2023-06-06T19:32:40.271Z"
   },
   {
    "duration": 34,
    "start_time": "2023-06-06T19:32:40.317Z"
   },
   {
    "duration": 12,
    "start_time": "2023-06-06T19:32:40.353Z"
   },
   {
    "duration": 8,
    "start_time": "2023-06-06T19:32:40.367Z"
   },
   {
    "duration": 17,
    "start_time": "2023-06-06T19:32:40.377Z"
   },
   {
    "duration": 9,
    "start_time": "2023-06-06T19:32:40.397Z"
   },
   {
    "duration": 4,
    "start_time": "2023-06-06T19:32:40.408Z"
   },
   {
    "duration": 12,
    "start_time": "2023-06-06T19:32:40.414Z"
   },
   {
    "duration": 68,
    "start_time": "2023-06-06T19:33:20.488Z"
   },
   {
    "duration": 45,
    "start_time": "2023-06-06T20:16:57.424Z"
   },
   {
    "duration": 53,
    "start_time": "2023-06-06T20:17:12.944Z"
   },
   {
    "duration": 45,
    "start_time": "2023-06-10T15:36:35.343Z"
   },
   {
    "duration": 1169,
    "start_time": "2023-06-10T15:36:41.419Z"
   },
   {
    "duration": 608,
    "start_time": "2023-06-10T15:36:42.590Z"
   },
   {
    "duration": 74,
    "start_time": "2023-06-10T15:36:43.199Z"
   },
   {
    "duration": 0,
    "start_time": "2023-06-10T15:36:43.275Z"
   },
   {
    "duration": 0,
    "start_time": "2023-06-10T15:36:43.276Z"
   },
   {
    "duration": 0,
    "start_time": "2023-06-10T15:36:43.276Z"
   },
   {
    "duration": 0,
    "start_time": "2023-06-10T15:36:43.277Z"
   },
   {
    "duration": 0,
    "start_time": "2023-06-10T15:36:43.278Z"
   },
   {
    "duration": 0,
    "start_time": "2023-06-10T15:36:43.279Z"
   },
   {
    "duration": 0,
    "start_time": "2023-06-10T15:36:43.280Z"
   },
   {
    "duration": 0,
    "start_time": "2023-06-10T15:36:43.281Z"
   },
   {
    "duration": 0,
    "start_time": "2023-06-10T15:36:43.282Z"
   },
   {
    "duration": 0,
    "start_time": "2023-06-10T15:36:43.283Z"
   },
   {
    "duration": 0,
    "start_time": "2023-06-10T15:36:43.284Z"
   },
   {
    "duration": 0,
    "start_time": "2023-06-10T15:36:43.285Z"
   },
   {
    "duration": 0,
    "start_time": "2023-06-10T15:36:43.286Z"
   },
   {
    "duration": 58,
    "start_time": "2023-06-10T15:36:46.695Z"
   },
   {
    "duration": 3,
    "start_time": "2023-06-10T15:37:33.317Z"
   },
   {
    "duration": 193,
    "start_time": "2023-06-10T15:37:33.322Z"
   },
   {
    "duration": 72,
    "start_time": "2023-06-10T15:37:33.516Z"
   },
   {
    "duration": 0,
    "start_time": "2023-06-10T15:37:33.590Z"
   },
   {
    "duration": 0,
    "start_time": "2023-06-10T15:37:33.591Z"
   },
   {
    "duration": 0,
    "start_time": "2023-06-10T15:37:33.592Z"
   },
   {
    "duration": 0,
    "start_time": "2023-06-10T15:37:33.593Z"
   },
   {
    "duration": 0,
    "start_time": "2023-06-10T15:37:33.595Z"
   },
   {
    "duration": 0,
    "start_time": "2023-06-10T15:37:33.596Z"
   },
   {
    "duration": 0,
    "start_time": "2023-06-10T15:37:33.597Z"
   },
   {
    "duration": 0,
    "start_time": "2023-06-10T15:37:33.598Z"
   },
   {
    "duration": 0,
    "start_time": "2023-06-10T15:37:33.599Z"
   },
   {
    "duration": 0,
    "start_time": "2023-06-10T15:37:33.600Z"
   },
   {
    "duration": 0,
    "start_time": "2023-06-10T15:37:33.601Z"
   },
   {
    "duration": 0,
    "start_time": "2023-06-10T15:37:33.601Z"
   },
   {
    "duration": 0,
    "start_time": "2023-06-10T15:37:33.602Z"
   },
   {
    "duration": 3,
    "start_time": "2023-06-10T15:38:10.834Z"
   },
   {
    "duration": 211,
    "start_time": "2023-06-10T15:38:10.839Z"
   },
   {
    "duration": 9,
    "start_time": "2023-06-10T15:38:11.052Z"
   },
   {
    "duration": 29,
    "start_time": "2023-06-10T15:38:11.062Z"
   },
   {
    "duration": 2,
    "start_time": "2023-06-10T15:38:11.093Z"
   },
   {
    "duration": 72,
    "start_time": "2023-06-10T15:38:11.097Z"
   },
   {
    "duration": 91,
    "start_time": "2023-06-10T15:38:11.170Z"
   },
   {
    "duration": 23,
    "start_time": "2023-06-10T15:38:11.262Z"
   },
   {
    "duration": 21,
    "start_time": "2023-06-10T15:38:11.287Z"
   },
   {
    "duration": 192,
    "start_time": "2023-06-10T15:38:11.309Z"
   },
   {
    "duration": 19,
    "start_time": "2023-06-10T15:38:11.503Z"
   },
   {
    "duration": 79,
    "start_time": "2023-06-10T15:38:11.523Z"
   },
   {
    "duration": 28,
    "start_time": "2023-06-10T15:38:11.603Z"
   },
   {
    "duration": 69,
    "start_time": "2023-06-10T15:38:11.632Z"
   },
   {
    "duration": 132,
    "start_time": "2023-06-10T15:38:11.703Z"
   },
   {
    "duration": 133,
    "start_time": "2023-06-10T15:38:49.138Z"
   },
   {
    "duration": 206,
    "start_time": "2023-06-10T15:39:06.765Z"
   },
   {
    "duration": 4,
    "start_time": "2023-06-11T03:37:57.821Z"
   },
   {
    "duration": 321,
    "start_time": "2023-06-11T03:37:57.833Z"
   },
   {
    "duration": 9,
    "start_time": "2023-06-11T03:37:58.156Z"
   },
   {
    "duration": 72,
    "start_time": "2023-06-11T03:37:58.167Z"
   },
   {
    "duration": 20,
    "start_time": "2023-06-11T03:37:58.240Z"
   },
   {
    "duration": 103,
    "start_time": "2023-06-11T03:37:58.263Z"
   },
   {
    "duration": 106,
    "start_time": "2023-06-11T03:37:58.369Z"
   },
   {
    "duration": 38,
    "start_time": "2023-06-11T03:37:58.477Z"
   },
   {
    "duration": 52,
    "start_time": "2023-06-11T03:37:58.516Z"
   },
   {
    "duration": 285,
    "start_time": "2023-06-11T03:37:58.569Z"
   },
   {
    "duration": 15,
    "start_time": "2023-06-11T03:37:58.855Z"
   },
   {
    "duration": 107,
    "start_time": "2023-06-11T03:37:58.872Z"
   },
   {
    "duration": 81,
    "start_time": "2023-06-11T03:37:58.981Z"
   },
   {
    "duration": 104,
    "start_time": "2023-06-11T03:37:59.065Z"
   },
   {
    "duration": 374,
    "start_time": "2023-06-11T03:37:59.172Z"
   },
   {
    "duration": 43,
    "start_time": "2023-06-11T03:37:59.548Z"
   },
   {
    "duration": 352,
    "start_time": "2023-06-11T03:37:59.592Z"
   },
   {
    "duration": 35,
    "start_time": "2023-06-11T03:37:59.946Z"
   },
   {
    "duration": 21,
    "start_time": "2023-06-11T03:37:59.984Z"
   },
   {
    "duration": 144,
    "start_time": "2023-06-11T03:38:00.007Z"
   },
   {
    "duration": 106,
    "start_time": "2023-06-11T03:38:00.153Z"
   },
   {
    "duration": 48,
    "start_time": "2023-06-11T03:38:00.261Z"
   },
   {
    "duration": 113,
    "start_time": "2023-06-11T03:38:00.313Z"
   },
   {
    "duration": 128,
    "start_time": "2023-06-11T03:38:00.428Z"
   },
   {
    "duration": 71,
    "start_time": "2023-06-11T03:38:00.558Z"
   },
   {
    "duration": 153,
    "start_time": "2023-06-11T03:38:00.630Z"
   },
   {
    "duration": 33,
    "start_time": "2023-06-11T03:38:00.795Z"
   },
   {
    "duration": 152,
    "start_time": "2023-06-11T03:38:00.829Z"
   },
   {
    "duration": 77,
    "start_time": "2023-06-11T03:38:00.983Z"
   },
   {
    "duration": 121,
    "start_time": "2023-06-11T03:38:01.062Z"
   },
   {
    "duration": 79,
    "start_time": "2023-06-11T03:38:01.186Z"
   },
   {
    "duration": 123,
    "start_time": "2023-06-11T03:38:01.267Z"
   },
   {
    "duration": 69,
    "start_time": "2023-06-11T03:38:01.392Z"
   },
   {
    "duration": 75,
    "start_time": "2023-06-11T03:38:01.463Z"
   },
   {
    "duration": 75,
    "start_time": "2023-06-11T03:38:01.540Z"
   },
   {
    "duration": 121,
    "start_time": "2023-06-11T03:38:01.617Z"
   },
   {
    "duration": 116,
    "start_time": "2023-06-11T03:38:01.740Z"
   },
   {
    "duration": 84,
    "start_time": "2023-06-11T03:38:01.858Z"
   },
   {
    "duration": 50,
    "start_time": "2023-06-11T21:59:12.808Z"
   },
   {
    "duration": 4,
    "start_time": "2023-06-11T21:59:41.987Z"
   },
   {
    "duration": 8,
    "start_time": "2023-06-11T21:59:50.266Z"
   },
   {
    "duration": 1167,
    "start_time": "2023-06-11T21:59:56.246Z"
   },
   {
    "duration": 844,
    "start_time": "2023-06-11T21:59:57.415Z"
   },
   {
    "duration": 12,
    "start_time": "2023-06-11T21:59:58.260Z"
   },
   {
    "duration": 26,
    "start_time": "2023-06-11T21:59:58.273Z"
   },
   {
    "duration": 3,
    "start_time": "2023-06-11T21:59:58.300Z"
   },
   {
    "duration": 104,
    "start_time": "2023-06-11T21:59:58.305Z"
   },
   {
    "duration": 101,
    "start_time": "2023-06-11T21:59:58.410Z"
   },
   {
    "duration": 18,
    "start_time": "2023-06-11T21:59:58.513Z"
   },
   {
    "duration": 34,
    "start_time": "2023-06-11T21:59:58.532Z"
   },
   {
    "duration": 175,
    "start_time": "2023-06-11T21:59:58.568Z"
   },
   {
    "duration": 18,
    "start_time": "2023-06-11T21:59:58.745Z"
   },
   {
    "duration": 76,
    "start_time": "2023-06-11T21:59:58.764Z"
   },
   {
    "duration": 30,
    "start_time": "2023-06-11T21:59:58.842Z"
   },
   {
    "duration": 63,
    "start_time": "2023-06-11T21:59:58.873Z"
   },
   {
    "duration": 281,
    "start_time": "2023-06-11T21:59:58.938Z"
   },
   {
    "duration": 23,
    "start_time": "2023-06-11T21:59:59.220Z"
   },
   {
    "duration": 279,
    "start_time": "2023-06-11T21:59:59.245Z"
   },
   {
    "duration": 48,
    "start_time": "2023-06-11T21:59:59.526Z"
   },
   {
    "duration": 17,
    "start_time": "2023-06-11T21:59:59.575Z"
   },
   {
    "duration": 46,
    "start_time": "2023-06-11T21:59:59.594Z"
   },
   {
    "duration": 88,
    "start_time": "2023-06-11T21:59:59.641Z"
   },
   {
    "duration": 3,
    "start_time": "2023-06-11T21:59:59.731Z"
   },
   {
    "duration": 39,
    "start_time": "2023-06-11T21:59:59.735Z"
   },
   {
    "duration": 55,
    "start_time": "2023-06-11T21:59:59.776Z"
   },
   {
    "duration": 52,
    "start_time": "2023-06-11T21:59:59.833Z"
   },
   {
    "duration": 93,
    "start_time": "2023-06-11T21:59:59.887Z"
   },
   {
    "duration": 9,
    "start_time": "2023-06-11T21:59:59.982Z"
   },
   {
    "duration": 13,
    "start_time": "2023-06-11T21:59:59.994Z"
   },
   {
    "duration": 24,
    "start_time": "2023-06-11T22:00:00.008Z"
   },
   {
    "duration": 14,
    "start_time": "2023-06-11T22:00:00.034Z"
   },
   {
    "duration": 18,
    "start_time": "2023-06-11T22:00:00.049Z"
   },
   {
    "duration": 54,
    "start_time": "2023-06-11T22:00:00.069Z"
   },
   {
    "duration": 25,
    "start_time": "2023-06-11T22:00:00.125Z"
   },
   {
    "duration": 36,
    "start_time": "2023-06-11T22:00:00.151Z"
   },
   {
    "duration": 15,
    "start_time": "2023-06-11T22:00:00.189Z"
   },
   {
    "duration": 17,
    "start_time": "2023-06-11T22:00:00.206Z"
   },
   {
    "duration": 28,
    "start_time": "2023-06-11T22:00:00.225Z"
   },
   {
    "duration": 20,
    "start_time": "2023-06-11T22:00:00.255Z"
   },
   {
    "duration": 73,
    "start_time": "2023-06-11T22:00:00.277Z"
   },
   {
    "duration": 8,
    "start_time": "2023-06-11T22:04:08.626Z"
   },
   {
    "duration": 3,
    "start_time": "2023-06-11T22:04:18.130Z"
   },
   {
    "duration": 4,
    "start_time": "2023-06-11T22:04:24.594Z"
   },
   {
    "duration": 4,
    "start_time": "2023-06-11T22:04:53.762Z"
   },
   {
    "duration": 3,
    "start_time": "2023-06-11T22:05:06.780Z"
   },
   {
    "duration": 3,
    "start_time": "2023-06-11T22:05:39.993Z"
   },
   {
    "duration": 4,
    "start_time": "2023-06-11T22:05:46.658Z"
   },
   {
    "duration": 4,
    "start_time": "2023-06-11T22:06:05.978Z"
   },
   {
    "duration": 4,
    "start_time": "2023-06-11T22:07:18.523Z"
   },
   {
    "duration": 4,
    "start_time": "2023-06-11T22:07:26.218Z"
   },
   {
    "duration": 4,
    "start_time": "2023-06-11T22:07:33.275Z"
   },
   {
    "duration": 3,
    "start_time": "2023-06-11T22:07:39.875Z"
   },
   {
    "duration": 4,
    "start_time": "2023-06-11T22:07:49.570Z"
   },
   {
    "duration": 4,
    "start_time": "2023-06-11T22:09:50.211Z"
   },
   {
    "duration": 4,
    "start_time": "2023-06-11T22:12:06.508Z"
   },
   {
    "duration": 3,
    "start_time": "2023-06-11T22:12:07.339Z"
   },
   {
    "duration": 4,
    "start_time": "2023-06-11T22:12:07.940Z"
   },
   {
    "duration": 3,
    "start_time": "2023-06-12T03:26:29.847Z"
   },
   {
    "duration": 231,
    "start_time": "2023-06-12T03:26:29.852Z"
   },
   {
    "duration": 8,
    "start_time": "2023-06-12T03:26:30.086Z"
   },
   {
    "duration": 52,
    "start_time": "2023-06-12T03:26:30.096Z"
   },
   {
    "duration": 27,
    "start_time": "2023-06-12T03:26:30.150Z"
   },
   {
    "duration": 104,
    "start_time": "2023-06-12T03:26:30.179Z"
   },
   {
    "duration": 91,
    "start_time": "2023-06-12T03:26:30.285Z"
   },
   {
    "duration": 21,
    "start_time": "2023-06-12T03:26:30.378Z"
   },
   {
    "duration": 60,
    "start_time": "2023-06-12T03:26:30.402Z"
   },
   {
    "duration": 211,
    "start_time": "2023-06-12T03:26:30.464Z"
   },
   {
    "duration": 38,
    "start_time": "2023-06-12T03:26:30.678Z"
   },
   {
    "duration": 90,
    "start_time": "2023-06-12T03:26:30.718Z"
   },
   {
    "duration": 36,
    "start_time": "2023-06-12T03:26:30.810Z"
   },
   {
    "duration": 99,
    "start_time": "2023-06-12T03:26:30.848Z"
   },
   {
    "duration": 297,
    "start_time": "2023-06-12T03:26:30.949Z"
   },
   {
    "duration": 33,
    "start_time": "2023-06-12T03:26:31.248Z"
   },
   {
    "duration": 253,
    "start_time": "2023-06-12T03:26:31.284Z"
   },
   {
    "duration": 36,
    "start_time": "2023-06-12T03:26:31.538Z"
   },
   {
    "duration": 23,
    "start_time": "2023-06-12T03:26:31.576Z"
   },
   {
    "duration": 63,
    "start_time": "2023-06-12T03:26:31.601Z"
   },
   {
    "duration": 78,
    "start_time": "2023-06-12T03:26:31.666Z"
   },
   {
    "duration": 3,
    "start_time": "2023-06-12T03:26:31.757Z"
   },
   {
    "duration": 58,
    "start_time": "2023-06-12T03:26:31.761Z"
   },
   {
    "duration": 77,
    "start_time": "2023-06-12T03:26:31.820Z"
   },
   {
    "duration": 40,
    "start_time": "2023-06-12T03:26:31.899Z"
   },
   {
    "duration": 87,
    "start_time": "2023-06-12T03:26:31.941Z"
   },
   {
    "duration": 10,
    "start_time": "2023-06-12T03:26:32.030Z"
   },
   {
    "duration": 13,
    "start_time": "2023-06-12T03:26:32.058Z"
   },
   {
    "duration": 14,
    "start_time": "2023-06-12T03:26:32.074Z"
   },
   {
    "duration": 17,
    "start_time": "2023-06-12T03:26:32.090Z"
   },
   {
    "duration": 38,
    "start_time": "2023-06-12T03:26:32.109Z"
   },
   {
    "duration": 24,
    "start_time": "2023-06-12T03:26:32.149Z"
   },
   {
    "duration": 27,
    "start_time": "2023-06-12T03:26:32.175Z"
   },
   {
    "duration": 27,
    "start_time": "2023-06-12T03:26:32.204Z"
   },
   {
    "duration": 23,
    "start_time": "2023-06-12T03:26:32.233Z"
   },
   {
    "duration": 26,
    "start_time": "2023-06-12T03:26:32.258Z"
   },
   {
    "duration": 12,
    "start_time": "2023-06-12T03:26:32.285Z"
   },
   {
    "duration": 23,
    "start_time": "2023-06-12T03:26:32.298Z"
   },
   {
    "duration": 13,
    "start_time": "2023-06-12T03:26:32.323Z"
   },
   {
    "duration": 16,
    "start_time": "2023-06-12T03:26:32.338Z"
   },
   {
    "duration": 16,
    "start_time": "2023-06-12T03:26:32.356Z"
   },
   {
    "duration": 263,
    "start_time": "2023-06-12T03:30:11.515Z"
   },
   {
    "duration": 335,
    "start_time": "2023-06-12T03:30:45.516Z"
   },
   {
    "duration": 253,
    "start_time": "2023-06-12T03:31:23.589Z"
   },
   {
    "duration": 272,
    "start_time": "2023-06-12T03:31:39.429Z"
   },
   {
    "duration": 1004,
    "start_time": "2023-06-13T03:34:06.091Z"
   },
   {
    "duration": 291,
    "start_time": "2023-06-13T03:34:07.097Z"
   },
   {
    "duration": 10,
    "start_time": "2023-06-13T03:34:07.390Z"
   },
   {
    "duration": 28,
    "start_time": "2023-06-13T03:34:07.402Z"
   },
   {
    "duration": 3,
    "start_time": "2023-06-13T03:34:07.431Z"
   },
   {
    "duration": 107,
    "start_time": "2023-06-13T03:34:07.435Z"
   },
   {
    "duration": 100,
    "start_time": "2023-06-13T03:34:07.543Z"
   },
   {
    "duration": 24,
    "start_time": "2023-06-13T03:34:07.653Z"
   },
   {
    "duration": 26,
    "start_time": "2023-06-13T03:34:07.679Z"
   },
   {
    "duration": 197,
    "start_time": "2023-06-13T03:34:07.708Z"
   },
   {
    "duration": 15,
    "start_time": "2023-06-13T03:34:07.907Z"
   },
   {
    "duration": 75,
    "start_time": "2023-06-13T03:34:07.923Z"
   },
   {
    "duration": 35,
    "start_time": "2023-06-13T03:34:08.000Z"
   },
   {
    "duration": 85,
    "start_time": "2023-06-13T03:34:08.037Z"
   },
   {
    "duration": 269,
    "start_time": "2023-06-13T03:34:08.124Z"
   },
   {
    "duration": 29,
    "start_time": "2023-06-13T03:34:08.395Z"
   },
   {
    "duration": 300,
    "start_time": "2023-06-13T03:34:08.425Z"
   },
   {
    "duration": 51,
    "start_time": "2023-06-13T03:34:08.727Z"
   },
   {
    "duration": 18,
    "start_time": "2023-06-13T03:34:08.779Z"
   },
   {
    "duration": 63,
    "start_time": "2023-06-13T03:34:08.798Z"
   },
   {
    "duration": 74,
    "start_time": "2023-06-13T03:34:08.863Z"
   },
   {
    "duration": 3,
    "start_time": "2023-06-13T03:34:08.938Z"
   },
   {
    "duration": 1251,
    "start_time": "2023-07-21T11:57:01.512Z"
   },
   {
    "duration": 713,
    "start_time": "2023-07-21T11:57:03.245Z"
   },
   {
    "duration": 3,
    "start_time": "2023-07-21T11:57:17.585Z"
   },
   {
    "duration": 156,
    "start_time": "2023-07-21T11:57:25.761Z"
   },
   {
    "duration": 3,
    "start_time": "2023-07-21T11:58:01.766Z"
   },
   {
    "duration": 141,
    "start_time": "2023-07-21T11:58:04.051Z"
   },
   {
    "duration": 4,
    "start_time": "2023-07-21T12:00:22.242Z"
   },
   {
    "duration": 166,
    "start_time": "2023-07-21T12:00:25.990Z"
   },
   {
    "duration": 5,
    "start_time": "2023-07-21T12:01:50.048Z"
   },
   {
    "duration": 2796,
    "start_time": "2023-07-21T12:01:58.751Z"
   },
   {
    "duration": 197,
    "start_time": "2023-07-21T12:02:23.515Z"
   },
   {
    "duration": 3337,
    "start_time": "2023-07-21T12:02:26.373Z"
   },
   {
    "duration": 4,
    "start_time": "2023-07-21T12:04:03.844Z"
   },
   {
    "duration": 230,
    "start_time": "2023-07-21T12:04:06.258Z"
   },
   {
    "duration": 4,
    "start_time": "2023-07-21T12:04:45.314Z"
   },
   {
    "duration": 239,
    "start_time": "2023-07-21T12:04:46.781Z"
   }
  ],
  "kernelspec": {
   "display_name": "Python 3 (ipykernel)",
   "language": "python",
   "name": "python3"
  },
  "language_info": {
   "codemirror_mode": {
    "name": "ipython",
    "version": 3
   },
   "file_extension": ".py",
   "mimetype": "text/x-python",
   "name": "python",
   "nbconvert_exporter": "python",
   "pygments_lexer": "ipython3",
   "version": "3.9.12"
  },
  "toc": {
   "base_numbering": 1,
   "nav_menu": {},
   "number_sections": true,
   "sideBar": true,
   "skip_h1_title": true,
   "title_cell": "Table of Contents",
   "title_sidebar": "Contents",
   "toc_cell": false,
   "toc_position": {
    "height": "1026.25px",
    "left": "277px",
    "top": "111.86px",
    "width": "188.688px"
   },
   "toc_section_display": true,
   "toc_window_display": true
  }
 },
 "nbformat": 4,
 "nbformat_minor": 2
}

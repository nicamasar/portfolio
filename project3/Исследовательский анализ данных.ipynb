{
 "cells": [
  {
   "cell_type": "markdown",
   "metadata": {},
   "source": [
    "# Исследование объявлений о продаже квартир\n",
    "**Цель проекта:**\n",
    "\n",
    "Определить рыночную стоимость объектов недвижимости. Построить автоматизированную систему для отслеживания аномалий и мошеннической деятельности. \n",
    "\n",
    "**Исходные данные:**\n",
    "\n",
    "Данные сервиса Яндекс Недвижимость — архив объявлений за несколько лет о продаже квартир в Санкт-Петербурге и соседних населённых пунктах (файл - real_estate_data.csv).\n",
    "\n",
    "О каждой квартире в базе содержится два типа данных: добавленные пользователем и картографические. К первому типу относятся площадь квартиры, её этаж и количество балконов, ко второму — расстояния до центра города, аэропорта и ближайшего парка."
   ]
  },
  {
   "cell_type": "markdown",
   "metadata": {},
   "source": [
    "## Шаг 1. Знакомство с данными и предобработка"
   ]
  },
  {
   "cell_type": "code",
   "execution_count": 1,
   "metadata": {
    "scrolled": false
   },
   "outputs": [
    {
     "name": "stdout",
     "output_type": "stream",
     "text": [
      "   total_images  last_price  total_area first_day_exposition  rooms  \\\n",
      "0            20  13000000.0       108.0  2019-03-07T00:00:00      3   \n",
      "1             7   3350000.0        40.4  2018-12-04T00:00:00      1   \n",
      "2            10   5196000.0        56.0  2015-08-20T00:00:00      2   \n",
      "3             0  64900000.0       159.0  2015-07-24T00:00:00      3   \n",
      "4             2  10000000.0       100.0  2018-06-19T00:00:00      2   \n",
      "\n",
      "   ceiling_height  floors_total  living_area  floor is_apartment  ...  \\\n",
      "0            2.70          16.0         51.0      8          NaN  ...   \n",
      "1             NaN          11.0         18.6      1          NaN  ...   \n",
      "2             NaN           5.0         34.3      4          NaN  ...   \n",
      "3             NaN          14.0          NaN      9          NaN  ...   \n",
      "4            3.03          14.0         32.0     13          NaN  ...   \n",
      "\n",
      "   kitchen_area  balcony    locality_name  airports_nearest  \\\n",
      "0          25.0      NaN  Санкт-Петербург           18863.0   \n",
      "1          11.0      2.0   посёлок Шушары           12817.0   \n",
      "2           8.3      0.0  Санкт-Петербург           21741.0   \n",
      "3           NaN      0.0  Санкт-Петербург           28098.0   \n",
      "4          41.0      NaN  Санкт-Петербург           31856.0   \n",
      "\n",
      "  cityCenters_nearest  parks_around3000  parks_nearest  ponds_around3000  \\\n",
      "0             16028.0               1.0          482.0               2.0   \n",
      "1             18603.0               0.0            NaN               0.0   \n",
      "2             13933.0               1.0           90.0               2.0   \n",
      "3              6800.0               2.0           84.0               3.0   \n",
      "4              8098.0               2.0          112.0               1.0   \n",
      "\n",
      "   ponds_nearest  days_exposition  \n",
      "0          755.0              NaN  \n",
      "1            NaN             81.0  \n",
      "2          574.0            558.0  \n",
      "3          234.0            424.0  \n",
      "4           48.0            121.0  \n",
      "\n",
      "[5 rows x 22 columns]\n"
     ]
    }
   ],
   "source": [
    "import pandas as pd\n",
    "data = pd.read_csv('real_estate_data.csv', sep='\\t')\n",
    "print(data.head())\n"
   ]
  },
  {
   "cell_type": "markdown",
   "metadata": {},
   "source": [
    "В таблице 22 столбца с различными характеристиками квартир, посмотрим, какие данные в них содержатся."
   ]
  },
  {
   "cell_type": "code",
   "execution_count": 2,
   "metadata": {
    "scrolled": false
   },
   "outputs": [
    {
     "name": "stdout",
     "output_type": "stream",
     "text": [
      "<class 'pandas.core.frame.DataFrame'>\n",
      "RangeIndex: 23699 entries, 0 to 23698\n",
      "Data columns (total 22 columns):\n",
      " #   Column                Non-Null Count  Dtype  \n",
      "---  ------                --------------  -----  \n",
      " 0   total_images          23699 non-null  int64  \n",
      " 1   last_price            23699 non-null  float64\n",
      " 2   total_area            23699 non-null  float64\n",
      " 3   first_day_exposition  23699 non-null  object \n",
      " 4   rooms                 23699 non-null  int64  \n",
      " 5   ceiling_height        14504 non-null  float64\n",
      " 6   floors_total          23613 non-null  float64\n",
      " 7   living_area           21796 non-null  float64\n",
      " 8   floor                 23699 non-null  int64  \n",
      " 9   is_apartment          2775 non-null   object \n",
      " 10  studio                23699 non-null  bool   \n",
      " 11  open_plan             23699 non-null  bool   \n",
      " 12  kitchen_area          21421 non-null  float64\n",
      " 13  balcony               12180 non-null  float64\n",
      " 14  locality_name         23650 non-null  object \n",
      " 15  airports_nearest      18157 non-null  float64\n",
      " 16  cityCenters_nearest   18180 non-null  float64\n",
      " 17  parks_around3000      18181 non-null  float64\n",
      " 18  parks_nearest         8079 non-null   float64\n",
      " 19  ponds_around3000      18181 non-null  float64\n",
      " 20  ponds_nearest         9110 non-null   float64\n",
      " 21  days_exposition       20518 non-null  float64\n",
      "dtypes: bool(2), float64(14), int64(3), object(3)\n",
      "memory usage: 3.7+ MB\n"
     ]
    }
   ],
   "source": [
    "data.info()"
   ]
  },
  {
   "cell_type": "markdown",
   "metadata": {},
   "source": [
    "Тип большинства столбцов - float, что логично, учитывая, что в них содержатся числа и не обязательно целые. Взглянем на распределение данных по столбцам с помощью гистограм"
   ]
  },
  {
   "cell_type": "code",
   "execution_count": 3,
   "metadata": {},
   "outputs": [
    {
     "data": {
      "image/png": "[encoded data removed]",
      "text/plain": [
       "<Figure size 1080x1440 with 20 Axes>"
      ]
     },
     "metadata": {
      "needs_background": "light"
     },
     "output_type": "display_data"
    }
   ],
   "source": [
    "data.hist(figsize=(15, 20));"
   ]
  },
  {
   "cell_type": "markdown",
   "metadata": {},
   "source": [
    "В некоторых столбцах видны резко выбивающиеся данные. Ярче всего это видно в стоблбцах с площадью, ценой и высотой потолка. Вернемся к этим данным позже и разберемся в природе аномалий."
   ]
  },
  {
   "cell_type": "markdown",
   "metadata": {},
   "source": [
    "### Предобработка данных"
   ]
  },
  {
   "cell_type": "markdown",
   "metadata": {},
   "source": [
    "Посмотрим на количество пропущеной информации в таблице"
   ]
  },
  {
   "cell_type": "code",
   "execution_count": 4,
   "metadata": {
    "scrolled": true
   },
   "outputs": [
    {
     "data": {
      "text/html": [
       "<style type=\"text/css\">\n",
       "#T_2c472_row0_col0, #T_2c472_row1_col0, #T_2c472_row2_col0, #T_2c472_row3_col0, #T_2c472_row4_col0, #T_2c472_row6_col0, #T_2c472_row8_col0, #T_2c472_row10_col0, #T_2c472_row11_col0, #T_2c472_row14_col0 {\n",
       "  background-color: #3b4cc0;\n",
       "  color: #f1f1f1;\n",
       "}\n",
       "#T_2c472_row5_col0 {\n",
       "  background-color: #cdd9ec;\n",
       "  color: #000000;\n",
       "}\n",
       "#T_2c472_row7_col0 {\n",
       "  background-color: #5673e0;\n",
       "  color: #f1f1f1;\n",
       "}\n",
       "#T_2c472_row9_col0 {\n",
       "  background-color: #b40426;\n",
       "  color: #f1f1f1;\n",
       "}\n",
       "#T_2c472_row12_col0 {\n",
       "  background-color: #5e7de7;\n",
       "  color: #f1f1f1;\n",
       "}\n",
       "#T_2c472_row13_col0 {\n",
       "  background-color: #ead4c8;\n",
       "  color: #000000;\n",
       "}\n",
       "#T_2c472_row15_col0, #T_2c472_row16_col0, #T_2c472_row17_col0, #T_2c472_row19_col0 {\n",
       "  background-color: #90b2fe;\n",
       "  color: #000000;\n",
       "}\n",
       "#T_2c472_row18_col0 {\n",
       "  background-color: #f4987a;\n",
       "  color: #000000;\n",
       "}\n",
       "#T_2c472_row20_col0 {\n",
       "  background-color: #f7aa8c;\n",
       "  color: #000000;\n",
       "}\n",
       "#T_2c472_row21_col0 {\n",
       "  background-color: #688aef;\n",
       "  color: #f1f1f1;\n",
       "}\n",
       "</style>\n",
       "<table id=\"T_2c472\">\n",
       "  <thead>\n",
       "    <tr>\n",
       "      <th class=\"blank level0\" >&nbsp;</th>\n",
       "      <th id=\"T_2c472_level0_col0\" class=\"col_heading level0 col0\" >0</th>\n",
       "    </tr>\n",
       "  </thead>\n",
       "  <tbody>\n",
       "    <tr>\n",
       "      <th id=\"T_2c472_level0_row0\" class=\"row_heading level0 row0\" >total_images</th>\n",
       "      <td id=\"T_2c472_row0_col0\" class=\"data row0 col0\" >0.000000</td>\n",
       "    </tr>\n",
       "    <tr>\n",
       "      <th id=\"T_2c472_level0_row1\" class=\"row_heading level0 row1\" >last_price</th>\n",
       "      <td id=\"T_2c472_row1_col0\" class=\"data row1 col0\" >0.000000</td>\n",
       "    </tr>\n",
       "    <tr>\n",
       "      <th id=\"T_2c472_level0_row2\" class=\"row_heading level0 row2\" >total_area</th>\n",
       "      <td id=\"T_2c472_row2_col0\" class=\"data row2 col0\" >0.000000</td>\n",
       "    </tr>\n",
       "    <tr>\n",
       "      <th id=\"T_2c472_level0_row3\" class=\"row_heading level0 row3\" >first_day_exposition</th>\n",
       "      <td id=\"T_2c472_row3_col0\" class=\"data row3 col0\" >0.000000</td>\n",
       "    </tr>\n",
       "    <tr>\n",
       "      <th id=\"T_2c472_level0_row4\" class=\"row_heading level0 row4\" >rooms</th>\n",
       "      <td id=\"T_2c472_row4_col0\" class=\"data row4 col0\" >0.000000</td>\n",
       "    </tr>\n",
       "    <tr>\n",
       "      <th id=\"T_2c472_level0_row5\" class=\"row_heading level0 row5\" >ceiling_height</th>\n",
       "      <td id=\"T_2c472_row5_col0\" class=\"data row5 col0\" >39.000000</td>\n",
       "    </tr>\n",
       "    <tr>\n",
       "      <th id=\"T_2c472_level0_row6\" class=\"row_heading level0 row6\" >floors_total</th>\n",
       "      <td id=\"T_2c472_row6_col0\" class=\"data row6 col0\" >0.000000</td>\n",
       "    </tr>\n",
       "    <tr>\n",
       "      <th id=\"T_2c472_level0_row7\" class=\"row_heading level0 row7\" >living_area</th>\n",
       "      <td id=\"T_2c472_row7_col0\" class=\"data row7 col0\" >8.000000</td>\n",
       "    </tr>\n",
       "    <tr>\n",
       "      <th id=\"T_2c472_level0_row8\" class=\"row_heading level0 row8\" >floor</th>\n",
       "      <td id=\"T_2c472_row8_col0\" class=\"data row8 col0\" >0.000000</td>\n",
       "    </tr>\n",
       "    <tr>\n",
       "      <th id=\"T_2c472_level0_row9\" class=\"row_heading level0 row9\" >is_apartment</th>\n",
       "      <td id=\"T_2c472_row9_col0\" class=\"data row9 col0\" >88.000000</td>\n",
       "    </tr>\n",
       "    <tr>\n",
       "      <th id=\"T_2c472_level0_row10\" class=\"row_heading level0 row10\" >studio</th>\n",
       "      <td id=\"T_2c472_row10_col0\" class=\"data row10 col0\" >0.000000</td>\n",
       "    </tr>\n",
       "    <tr>\n",
       "      <th id=\"T_2c472_level0_row11\" class=\"row_heading level0 row11\" >open_plan</th>\n",
       "      <td id=\"T_2c472_row11_col0\" class=\"data row11 col0\" >0.000000</td>\n",
       "    </tr>\n",
       "    <tr>\n",
       "      <th id=\"T_2c472_level0_row12\" class=\"row_heading level0 row12\" >kitchen_area</th>\n",
       "      <td id=\"T_2c472_row12_col0\" class=\"data row12 col0\" >10.000000</td>\n",
       "    </tr>\n",
       "    <tr>\n",
       "      <th id=\"T_2c472_level0_row13\" class=\"row_heading level0 row13\" >balcony</th>\n",
       "      <td id=\"T_2c472_row13_col0\" class=\"data row13 col0\" >49.000000</td>\n",
       "    </tr>\n",
       "    <tr>\n",
       "      <th id=\"T_2c472_level0_row14\" class=\"row_heading level0 row14\" >locality_name</th>\n",
       "      <td id=\"T_2c472_row14_col0\" class=\"data row14 col0\" >0.000000</td>\n",
       "    </tr>\n",
       "    <tr>\n",
       "      <th id=\"T_2c472_level0_row15\" class=\"row_heading level0 row15\" >airports_nearest</th>\n",
       "      <td id=\"T_2c472_row15_col0\" class=\"data row15 col0\" >23.000000</td>\n",
       "    </tr>\n",
       "    <tr>\n",
       "      <th id=\"T_2c472_level0_row16\" class=\"row_heading level0 row16\" >cityCenters_nearest</th>\n",
       "      <td id=\"T_2c472_row16_col0\" class=\"data row16 col0\" >23.000000</td>\n",
       "    </tr>\n",
       "    <tr>\n",
       "      <th id=\"T_2c472_level0_row17\" class=\"row_heading level0 row17\" >parks_around3000</th>\n",
       "      <td id=\"T_2c472_row17_col0\" class=\"data row17 col0\" >23.000000</td>\n",
       "    </tr>\n",
       "    <tr>\n",
       "      <th id=\"T_2c472_level0_row18\" class=\"row_heading level0 row18\" >parks_nearest</th>\n",
       "      <td id=\"T_2c472_row18_col0\" class=\"data row18 col0\" >66.000000</td>\n",
       "    </tr>\n",
       "    <tr>\n",
       "      <th id=\"T_2c472_level0_row19\" class=\"row_heading level0 row19\" >ponds_around3000</th>\n",
       "      <td id=\"T_2c472_row19_col0\" class=\"data row19 col0\" >23.000000</td>\n",
       "    </tr>\n",
       "    <tr>\n",
       "      <th id=\"T_2c472_level0_row20\" class=\"row_heading level0 row20\" >ponds_nearest</th>\n",
       "      <td id=\"T_2c472_row20_col0\" class=\"data row20 col0\" >62.000000</td>\n",
       "    </tr>\n",
       "    <tr>\n",
       "      <th id=\"T_2c472_level0_row21\" class=\"row_heading level0 row21\" >days_exposition</th>\n",
       "      <td id=\"T_2c472_row21_col0\" class=\"data row21 col0\" >13.000000</td>\n",
       "    </tr>\n",
       "  </tbody>\n",
       "</table>\n"
      ],
      "text/plain": [
       "<pandas.io.formats.style.Styler at 0x7faa0a2e5dc0>"
      ]
     },
     "execution_count": 4,
     "metadata": {},
     "output_type": "execute_result"
    }
   ],
   "source": [
    "data.isna().sum()\n",
    "pd.DataFrame(round(data.isna().mean()*100,)).style.background_gradient('coolwarm')"
   ]
  },
  {
   "cell_type": "markdown",
   "metadata": {},
   "source": [
    "Пропуски в столбцах - число балконов,  число парков и водоемов в радиусе 3 км скорее всего означает, что таковых нет, заменим пропуски на нулевые значения. \n",
    "    \n",
    "В столбце апартаменты (булев тип) пропусков больше всего, скорее всего потому что в этом случае квартира апартаментами не является, заменим пропущеные значения на False.\n",
    "    \n",
    "В остальных столбцах скорее всего данные просто не были указаны при выставлениии объявления. Оставим их без изменений. Но заметим, что две трети не указали расстояние до ближайшего парка и пруда."
   ]
  },
  {
   "cell_type": "code",
   "execution_count": 5,
   "metadata": {},
   "outputs": [
    {
     "data": {
      "text/plain": [
       "total_images                0\n",
       "last_price                  0\n",
       "total_area                  0\n",
       "first_day_exposition        0\n",
       "rooms                       0\n",
       "ceiling_height           9195\n",
       "floors_total               86\n",
       "living_area              1903\n",
       "floor                       0\n",
       "is_apartment                0\n",
       "studio                      0\n",
       "open_plan                   0\n",
       "kitchen_area             2278\n",
       "balcony                     0\n",
       "locality_name              49\n",
       "airports_nearest         5542\n",
       "cityCenters_nearest      5519\n",
       "parks_around3000            0\n",
       "parks_nearest           15620\n",
       "ponds_around3000            0\n",
       "ponds_nearest           14589\n",
       "days_exposition          3181\n",
       "dtype: int64"
      ]
     },
     "execution_count": 5,
     "metadata": {},
     "output_type": "execute_result"
    }
   ],
   "source": [
    "data['balcony']=data['balcony'].fillna(0)\n",
    "data['parks_around3000']=data['parks_around3000'].fillna(0)\n",
    "data['ponds_around3000']=data['ponds_around3000'].fillna(0)\n",
    "data['is_apartment']=data['is_apartment'].fillna(False)\n",
    "\n",
    "data.isna().sum()"
   ]
  },
  {
   "cell_type": "code",
   "execution_count": 6,
   "metadata": {},
   "outputs": [],
   "source": [
    "import warnings\n",
    "warnings.filterwarnings('ignore')\n",
    "\n",
    "for locality_name in data['locality_name'].unique():\n",
    "    median = data.loc[data['locality_name'] == locality_name, 'ceiling_height'].median()\n",
    "    data.loc[(data['ceiling_height'].isna())&(data['locality_name'] == locality_name), 'ceiling_height'] = median\n",
    "    \n",
    "data.loc[data['ceiling_height'].isna(), 'ceiling_height'] = data['ceiling_height'].median()    "
   ]
  },
  {
   "cell_type": "code",
   "execution_count": 7,
   "metadata": {},
   "outputs": [],
   "source": [
    "for locality_name in data['locality_name'].unique():\n",
    "    median = data.loc[data['locality_name'] == locality_name, 'cityCenters_nearest'].median()\n",
    "    data.loc[(data['cityCenters_nearest'].isna())&(data['locality_name'] == locality_name), 'cityCenters_nearest'] = median\n",
    "    "
   ]
  },
  {
   "cell_type": "markdown",
   "metadata": {},
   "source": [
    "Тип данных в столбце с датой публикации изменим на datetime, чтобы в дальнейшем можно было вести расчеты по ним."
   ]
  },
  {
   "cell_type": "code",
   "execution_count": 8,
   "metadata": {},
   "outputs": [],
   "source": [
    "#data['first_day_exposition'] = pd.to_datetime(data['first_day_exposition'], format='%Y-%m-%dT%H:%M:%S')\n",
    "\n",
    "data['first_day_exposition'] = data['first_day_exposition'].astype('datetime64[M]')\n",
    "data['floor'] = data['floor'].astype('float')\n"
   ]
  },
  {
   "cell_type": "markdown",
   "metadata": {},
   "source": [
    "Проверим наличие дупликатов в таблице в целом и в столбце с наименованиями населенных пунктов"
   ]
  },
  {
   "cell_type": "code",
   "execution_count": 9,
   "metadata": {},
   "outputs": [
    {
     "name": "stdout",
     "output_type": "stream",
     "text": [
      "0\n"
     ]
    }
   ],
   "source": [
    "print(data.duplicated().sum())"
   ]
  },
  {
   "cell_type": "code",
   "execution_count": 10,
   "metadata": {
    "scrolled": true
   },
   "outputs": [
    {
     "name": "stdout",
     "output_type": "stream",
     "text": [
      "['Санкт-Петербург' 'посёлок Шушары' 'городской посёлок Янино-1'\n",
      " 'посёлок Парголово' 'посёлок Мурино' 'Ломоносов' 'Сертолово' 'Петергоф'\n",
      " 'Пушкин' 'деревня Кудрово' 'Коммунар' 'Колпино'\n",
      " 'поселок городского типа Красный Бор' 'Гатчина' 'поселок Мурино'\n",
      " 'деревня Фёдоровское' 'Выборг' 'Кронштадт' 'Кировск'\n",
      " 'деревня Новое Девяткино' 'посёлок Металлострой'\n",
      " 'посёлок городского типа Лебяжье' 'посёлок городского типа Сиверский'\n",
      " 'поселок Молодцово' 'поселок городского типа Кузьмоловский'\n",
      " 'садовое товарищество Новая Ропша' 'Павловск' 'деревня Пикколово'\n",
      " 'Всеволожск' 'Волхов' 'Кингисепп' 'Приозерск' 'Сестрорецк'\n",
      " 'деревня Куттузи' 'посёлок Аннино' 'поселок городского типа Ефимовский'\n",
      " 'посёлок Плодовое' 'деревня Заклинье' 'поселок Торковичи'\n",
      " 'поселок Первомайское' 'Красное Село' 'посёлок Понтонный' 'Сясьстрой'\n",
      " 'деревня Старая' 'деревня Лесколово' 'посёлок Новый Свет' 'Сланцы'\n",
      " 'село Путилово' 'Ивангород' 'Мурино' 'Шлиссельбург' 'Никольское'\n",
      " 'Зеленогорск' 'Сосновый Бор' 'поселок Новый Свет' 'деревня Оржицы'\n",
      " 'деревня Кальтино' 'Кудрово' 'поселок Романовка' 'посёлок Бугры'\n",
      " 'поселок Бугры' 'поселок городского типа Рощино' 'Кириши' 'Луга'\n",
      " 'Волосово' 'Отрадное' 'село Павлово' 'поселок Оредеж' 'село Копорье'\n",
      " 'посёлок городского типа Красный Бор' 'посёлок Молодёжное' 'Тихвин'\n",
      " 'посёлок Победа' 'деревня Нурма' 'поселок городского типа Синявино'\n",
      " 'Тосно' 'посёлок городского типа Кузьмоловский' 'посёлок Стрельна'\n",
      " 'Бокситогорск' 'посёлок Александровская' 'деревня Лопухинка' 'Пикалёво'\n",
      " 'поселок Терволово' 'поселок городского типа Советский' 'Подпорожье'\n",
      " 'посёлок Петровское' 'посёлок городского типа Токсово' 'поселок Сельцо'\n",
      " 'посёлок городского типа Вырица' 'деревня Кипень' 'деревня Келози'\n",
      " 'деревня Вартемяги' 'посёлок Тельмана' 'поселок Севастьяново'\n",
      " 'городской поселок Большая Ижора' nan 'городской посёлок Павлово'\n",
      " 'деревня Агалатово' 'посёлок Новогорелово'\n",
      " 'городской посёлок Лесогорский' 'деревня Лаголово' 'поселок Цвелодубово'\n",
      " 'поселок городского типа Рахья' 'поселок городского типа Вырица'\n",
      " 'деревня Белогорка' 'поселок Заводской' 'городской посёлок Новоселье'\n",
      " 'деревня Большие Колпаны' 'деревня Горбунки' 'деревня Батово'\n",
      " 'деревня Заневка' 'деревня Иссад' 'Приморск'\n",
      " 'городской посёлок Фёдоровское' 'деревня Мистолово' 'Новая Ладога'\n",
      " 'поселок Зимитицы' 'поселок Барышево' 'деревня Разметелево'\n",
      " 'поселок городского типа имени Свердлова' 'деревня Пеники'\n",
      " 'поселок Рябово' 'деревня Пудомяги' 'поселок станции Корнево'\n",
      " 'деревня Низино' 'деревня Бегуницы' 'посёлок Поляны'\n",
      " 'городской посёлок Мга' 'поселок Елизаветино'\n",
      " 'посёлок городского типа Кузнечное' 'деревня Колтуши'\n",
      " 'поселок Запорожское' 'посёлок городского типа Рощино'\n",
      " 'деревня Гостилицы' 'деревня Малое Карлино' 'посёлок Мичуринское'\n",
      " 'посёлок городского типа имени Морозова' 'посёлок Песочный'\n",
      " 'посёлок Сосново' 'деревня Аро' 'поселок Ильичёво'\n",
      " 'посёлок городского типа Тайцы' 'деревня Малое Верево' 'деревня Извара'\n",
      " 'поселок станции Вещево' 'село Паша' 'деревня Калитино'\n",
      " 'посёлок городского типа Ульяновка' 'деревня Чудской Бор'\n",
      " 'поселок городского типа Дубровка' 'деревня Мины' 'поселок Войсковицы'\n",
      " 'посёлок городского типа имени Свердлова' 'деревня Коркино'\n",
      " 'посёлок Ропша' 'поселок городского типа Приладожский' 'посёлок Щеглово'\n",
      " 'посёлок Гаврилово' 'Лодейное Поле' 'деревня Рабитицы'\n",
      " 'поселок городского типа Никольский' 'деревня Кузьмолово'\n",
      " 'деревня Малые Колпаны' 'поселок Тельмана' 'посёлок Петро-Славянка'\n",
      " 'городской посёлок Назия' 'посёлок Репино' 'посёлок Ильичёво'\n",
      " 'поселок Углово' 'поселок Старая Малукса' 'садовое товарищество Рахья'\n",
      " 'поселок Аннино' 'поселок Победа' 'деревня Меньково'\n",
      " 'деревня Старые Бегуницы' 'посёлок Сапёрный' 'поселок Семрино'\n",
      " 'поселок Гаврилово' 'поселок Глажево' 'поселок Кобринское'\n",
      " 'деревня Гарболово' 'деревня Юкки' 'поселок станции Приветнинское'\n",
      " 'деревня Мануйлово' 'деревня Пчева' 'поселок Поляны' 'поселок Цвылёво'\n",
      " 'поселок Мельниково' 'посёлок Пудость' 'посёлок Усть-Луга' 'Светогорск'\n",
      " 'Любань' 'поселок Селезнёво' 'поселок городского типа Рябово'\n",
      " 'Каменногорск' 'деревня Кривко' 'поселок Глебычево' 'деревня Парицы'\n",
      " 'поселок Жилпосёлок' 'посёлок городского типа Мга'\n",
      " 'городской поселок Янино-1' 'посёлок Войскорово' 'село Никольское'\n",
      " 'посёлок Терволово' 'поселок Стеклянный' 'посёлок городского типа Важины'\n",
      " 'посёлок Мыза-Ивановка' 'село Русско-Высоцкое'\n",
      " 'поселок городского типа Лебяжье' 'поселок городского типа Форносово'\n",
      " 'село Старая Ладога' 'поселок Житково' 'городской посёлок Виллози'\n",
      " 'деревня Лампово' 'деревня Шпаньково' 'деревня Лаврики' 'посёлок Сумино'\n",
      " 'посёлок Возрождение' 'деревня Старосиверская' 'посёлок Кикерино'\n",
      " 'поселок Возрождение' 'деревня Старое Хинколово' 'посёлок Пригородный'\n",
      " 'посёлок Торфяное' 'городской посёлок Будогощь' 'поселок Суходолье'\n",
      " 'поселок Красная Долина' 'деревня Хапо-Ое'\n",
      " 'поселок городского типа Дружная Горка' 'поселок Лисий Нос'\n",
      " 'деревня Яльгелево' 'посёлок Стеклянный' 'село Рождествено'\n",
      " 'деревня Старополье' 'посёлок Левашово' 'деревня Сяськелево'\n",
      " 'деревня Камышовка'\n",
      " 'садоводческое некоммерческое товарищество Лесная Поляна'\n",
      " 'деревня Хязельки' 'поселок Жилгородок' 'посёлок городского типа Павлово'\n",
      " 'деревня Ялгино' 'поселок Новый Учхоз' 'городской посёлок Рощино'\n",
      " 'поселок Гончарово' 'поселок Почап' 'посёлок Сапёрное'\n",
      " 'посёлок Платформа 69-й километр' 'поселок Каложицы' 'деревня Фалилеево'\n",
      " 'деревня Пельгора' 'поселок городского типа Лесогорский'\n",
      " 'деревня Торошковичи' 'посёлок Белоостров' 'посёлок Алексеевка'\n",
      " 'поселок Серебрянский' 'поселок Лукаши' 'поселок Петровское'\n",
      " 'деревня Щеглово' 'поселок Мичуринское' 'деревня Тарасово'\n",
      " 'поселок Кингисеппский' 'посёлок при железнодорожной станции Вещево'\n",
      " 'поселок Ушаки' 'деревня Котлы' 'деревня Сижно' 'деревня Торосово'\n",
      " 'посёлок Форт Красная Горка' 'поселок городского типа Токсово'\n",
      " 'деревня Новолисино' 'посёлок станции Громово' 'деревня Глинка'\n",
      " 'посёлок Мельниково' 'поселок городского типа Назия'\n",
      " 'деревня Старая Пустошь' 'поселок Коммунары' 'поселок Починок'\n",
      " 'посёлок городского типа Вознесенье' 'деревня Разбегаево'\n",
      " 'посёлок городского типа Рябово' 'поселок Гладкое'\n",
      " 'посёлок при железнодорожной станции Приветнинское' 'поселок Тёсово-4'\n",
      " 'посёлок Жилгородок' 'деревня Бор' 'посёлок Коробицыно'\n",
      " 'деревня Большая Вруда' 'деревня Курковицы' 'посёлок Лисий Нос'\n",
      " 'городской посёлок Советский' 'посёлок Кобралово' 'деревня Суоранда'\n",
      " 'поселок Кобралово' 'поселок городского типа Кондратьево'\n",
      " 'коттеджный поселок Счастье' 'поселок Любань' 'деревня Реброво'\n",
      " 'деревня Зимитицы' 'деревня Тойворово' 'поселок Семиозерье'\n",
      " 'поселок Лесное' 'поселок Совхозный' 'поселок Усть-Луга'\n",
      " 'посёлок Ленинское' 'посёлок Суйда' 'посёлок городского типа Форносово'\n",
      " 'деревня Нижние Осельки' 'посёлок станции Свирь' 'поселок Перово'\n",
      " 'Высоцк' 'поселок Гарболово' 'село Шум' 'поселок Котельский'\n",
      " 'поселок станции Лужайка' 'деревня Большая Пустомержа'\n",
      " 'поселок Красносельское' 'деревня Вахнова Кара' 'деревня Пижма'\n",
      " 'коттеджный поселок Кивеннапа Север' 'поселок Коробицыно'\n",
      " 'поселок Ромашки' 'посёлок Перово' 'деревня Каськово' 'деревня Куровицы'\n",
      " 'посёлок Плоское' 'поселок Сумино'\n",
      " 'поселок городского типа Большая Ижора' 'поселок Кирпичное'\n",
      " 'деревня Ям-Тесово' 'деревня Раздолье' 'деревня Терпилицы'\n",
      " 'посёлок Шугозеро' 'деревня Ваганово' 'поселок Пушное'\n",
      " 'садовое товарищество Садко' 'посёлок Усть-Ижора' 'деревня Выскатка'\n",
      " 'городской посёлок Свирьстрой' 'поселок Громово' 'деревня Кисельня'\n",
      " 'посёлок Старая Малукса' 'деревня Трубников Бор' 'поселок Калитино'\n",
      " 'посёлок Высокоключевой' 'садовое товарищество Приладожский'\n",
      " 'посёлок Пансионат Зелёный Бор' 'деревня Ненимяки'\n",
      " 'поселок Пансионат Зелёный Бор' 'деревня Снегирёвка' 'деревня Рапполово'\n",
      " 'деревня Пустынка' 'поселок Рабитицы' 'деревня Большой Сабск'\n",
      " 'деревня Русско' 'деревня Лупполово' 'деревня Большое Рейзино'\n",
      " 'деревня Малая Романовка' 'поселок Дружноселье' 'поселок Пчевжа'\n",
      " 'поселок Володарское' 'деревня Нижняя' 'коттеджный посёлок Лесное'\n",
      " 'деревня Тихковицы' 'деревня Борисова Грива' 'посёлок Дзержинского']\n"
     ]
    }
   ],
   "source": [
    "print(data['locality_name'].unique())"
   ]
  },
  {
   "cell_type": "markdown",
   "metadata": {},
   "source": [
    "Некоторые названия поселков повротяются с разными описаниями, приведем их к одному виду - поселок."
   ]
  },
  {
   "cell_type": "code",
   "execution_count": 11,
   "metadata": {},
   "outputs": [],
   "source": [
    "locality_type = ['городского типа', 'городской посёлок', 'поселок', 'посёлок', 'коттеджный ']\n",
    "\n",
    "data['locality_name'] = data['locality_name'].replace(locality_type, 'поселок', regex=True)\n"
   ]
  },
  {
   "cell_type": "markdown",
   "metadata": {},
   "source": [
    "Теперь при группировке данных не будет задвоения "
   ]
  },
  {
   "cell_type": "markdown",
   "metadata": {},
   "source": [
    "Обратимся к аномальным значениям в стоблбцах с площадью, ценой и высотой потолка. Удалим единственную строку с высотой 100 метров, а те, которые выше 24 разделим на 10, т.к. наверняка произошла ошибка при вводе данных."
   ]
  },
  {
   "cell_type": "code",
   "execution_count": 12,
   "metadata": {
    "scrolled": true
   },
   "outputs": [
    {
     "name": "stdout",
     "output_type": "stream",
     "text": [
      "1.9578885185028903\n"
     ]
    },
    {
     "data": {
      "image/png": "[encoded data removed]",
      "text/plain": [
       "<Figure size 432x288 with 1 Axes>"
      ]
     },
     "metadata": {
      "needs_background": "light"
     },
     "output_type": "display_data"
    }
   ],
   "source": [
    "import matplotlib.pyplot as plt\n",
    "data['last_price'].plot(kind='box')\n",
    "plt.ylim(0, 13000000)\n",
    "print((data.query('last_price>25000000')['last_price'].count()/data['last_price'].count())*100)"
   ]
  },
  {
   "cell_type": "code",
   "execution_count": 13,
   "metadata": {},
   "outputs": [
    {
     "name": "stdout",
     "output_type": "stream",
     "text": [
      "0.03267821296858223\n"
     ]
    },
    {
     "data": {
      "image/png": "[encoded data removed]",
      "text/plain": [
       "<Figure size 432x288 with 1 Axes>"
      ]
     },
     "metadata": {
      "needs_background": "light"
     },
     "output_type": "display_data"
    }
   ],
   "source": [
    "data['kitchen_area'].plot(kind='box')\n",
    "plt.ylim(0, 25)\n",
    "print((data.query('kitchen_area>80')['kitchen_area'].count())/(data['kitchen_area'].count())*100)"
   ]
  },
  {
   "cell_type": "code",
   "execution_count": 14,
   "metadata": {},
   "outputs": [
    {
     "name": "stdout",
     "output_type": "stream",
     "text": [
      "0.009175995595522114\n"
     ]
    },
    {
     "data": {
      "image/png": "[encoded data removed]",
      "text/plain": [
       "<Figure size 432x288 with 1 Axes>"
      ]
     },
     "metadata": {
      "needs_background": "light"
     },
     "output_type": "display_data"
    }
   ],
   "source": [
    "data['living_area'].plot(kind='box')\n",
    "plt.ylim(0, 100)\n",
    "print((data.query('living_area>350')['living_area'].count())/(data['living_area'].count())*100)"
   ]
  },
  {
   "cell_type": "code",
   "execution_count": 15,
   "metadata": {
    "scrolled": false
   },
   "outputs": [
    {
     "name": "stdout",
     "output_type": "stream",
     "text": [
      "0.25739482678594033\n"
     ]
    },
    {
     "data": {
      "image/png": "[encoded data removed]",
      "text/plain": [
       "<Figure size 432x288 with 1 Axes>"
      ]
     },
     "metadata": {
      "needs_background": "light"
     },
     "output_type": "display_data"
    }
   ],
   "source": [
    "data['total_area'].plot(kind='box')\n",
    "plt.ylim(0, 120)\n",
    "print((data.query('total_area>300')['total_area'].count()/data['total_area'].count())*100)"
   ]
  },
  {
   "cell_type": "code",
   "execution_count": 16,
   "metadata": {
    "scrolled": true
   },
   "outputs": [
    {
     "name": "stdout",
     "output_type": "stream",
     "text": [
      "0.1687834929743871\n"
     ]
    },
    {
     "data": {
      "image/png": "[encoded data removed]",
      "text/plain": [
       "<Figure size 432x288 with 1 Axes>"
      ]
     },
     "metadata": {
      "needs_background": "light"
     },
     "output_type": "display_data"
    }
   ],
   "source": [
    "data['ceiling_height'].plot(kind='box')\n",
    "plt.ylim(2, 3.5)\n",
    "print((data.query('ceiling_height>5')['ceiling_height'].count()/data['ceiling_height'].count())*100)"
   ]
  },
  {
   "cell_type": "markdown",
   "metadata": {},
   "source": [
    "Строки с ценой выше 25 миллионов составляют чуть больше 2%, с общей площадью выше 300м и высотой потолков выше 5м - меньше процента, отбросим их, чтобы они не искажали дальнейшие расчеты."
   ]
  },
  {
   "cell_type": "code",
   "execution_count": 17,
   "metadata": {},
   "outputs": [
    {
     "name": "stdout",
     "output_type": "stream",
     "text": [
      "<class 'pandas.core.frame.DataFrame'>\n",
      "RangeIndex: 23699 entries, 0 to 23698\n",
      "Data columns (total 22 columns):\n",
      " #   Column                Non-Null Count  Dtype         \n",
      "---  ------                --------------  -----         \n",
      " 0   total_images          23699 non-null  int64         \n",
      " 1   last_price            23699 non-null  float64       \n",
      " 2   total_area            23699 non-null  float64       \n",
      " 3   first_day_exposition  23699 non-null  datetime64[ns]\n",
      " 4   rooms                 23699 non-null  int64         \n",
      " 5   ceiling_height        23699 non-null  float64       \n",
      " 6   floors_total          23613 non-null  float64       \n",
      " 7   living_area           21796 non-null  float64       \n",
      " 8   floor                 23699 non-null  float64       \n",
      " 9   is_apartment          23699 non-null  bool          \n",
      " 10  studio                23699 non-null  bool          \n",
      " 11  open_plan             23699 non-null  bool          \n",
      " 12  kitchen_area          21421 non-null  float64       \n",
      " 13  balcony               23699 non-null  float64       \n",
      " 14  locality_name         23650 non-null  object        \n",
      " 15  airports_nearest      18157 non-null  float64       \n",
      " 16  cityCenters_nearest   18305 non-null  float64       \n",
      " 17  parks_around3000      23699 non-null  float64       \n",
      " 18  parks_nearest         8079 non-null   float64       \n",
      " 19  ponds_around3000      23699 non-null  float64       \n",
      " 20  ponds_nearest         9110 non-null   float64       \n",
      " 21  days_exposition       20518 non-null  float64       \n",
      "dtypes: bool(3), datetime64[ns](1), float64(15), int64(2), object(1)\n",
      "memory usage: 3.5+ MB\n"
     ]
    }
   ],
   "source": [
    "data.info()"
   ]
  },
  {
   "cell_type": "code",
   "execution_count": 18,
   "metadata": {
    "scrolled": true
   },
   "outputs": [],
   "source": [
    "data = data.query('last_price<30000000')\n",
    "data = data.query('total_area<300')\n",
    "data = data.query('kitchen_area<80')"
   ]
  },
  {
   "cell_type": "code",
   "execution_count": 19,
   "metadata": {},
   "outputs": [],
   "source": [
    "def ceiling_check(row):\n",
    "\n",
    "            if row['ceiling_height'] >= 20.0:\n",
    "                return row['ceiling_height']/10\n",
    "            else:\n",
    "                return row['ceiling_height']\n",
    "    \n",
    "data['ceiling_height'] = data.apply(ceiling_check, axis=1)\n"
   ]
  },
  {
   "cell_type": "code",
   "execution_count": 20,
   "metadata": {
    "scrolled": false
   },
   "outputs": [
    {
     "name": "stdout",
     "output_type": "stream",
     "text": [
      "<class 'pandas.core.frame.DataFrame'>\n",
      "Int64Index: 21119 entries, 0 to 23698\n",
      "Data columns (total 22 columns):\n",
      " #   Column                Non-Null Count  Dtype         \n",
      "---  ------                --------------  -----         \n",
      " 0   total_images          21119 non-null  int64         \n",
      " 1   last_price            21119 non-null  float64       \n",
      " 2   total_area            21119 non-null  float64       \n",
      " 3   first_day_exposition  21119 non-null  datetime64[ns]\n",
      " 4   rooms                 21119 non-null  int64         \n",
      " 5   ceiling_height        21119 non-null  float64       \n",
      " 6   floors_total          21081 non-null  float64       \n",
      " 7   living_area           20691 non-null  float64       \n",
      " 8   floor                 21119 non-null  float64       \n",
      " 9   is_apartment          21119 non-null  bool          \n",
      " 10  studio                21119 non-null  bool          \n",
      " 11  open_plan             21119 non-null  bool          \n",
      " 12  kitchen_area          21119 non-null  float64       \n",
      " 13  balcony               21119 non-null  float64       \n",
      " 14  locality_name         21079 non-null  object        \n",
      " 15  airports_nearest      16303 non-null  float64       \n",
      " 16  cityCenters_nearest   16414 non-null  float64       \n",
      " 17  parks_around3000      21119 non-null  float64       \n",
      " 18  parks_nearest         7169 non-null   float64       \n",
      " 19  ponds_around3000      21119 non-null  float64       \n",
      " 20  ponds_nearest         8030 non-null   float64       \n",
      " 21  days_exposition       18217 non-null  float64       \n",
      "dtypes: bool(3), datetime64[ns](1), float64(15), int64(2), object(1)\n",
      "memory usage: 3.3+ MB\n"
     ]
    }
   ],
   "source": [
    "data.info()"
   ]
  },
  {
   "cell_type": "markdown",
   "metadata": {},
   "source": [
    "В процессе предобработки данных были найдены и заполнены пропущеные значения высоты потолков и расстояния до центра города медианными значениями, названия поселков приведены к общему виду."
   ]
  },
  {
   "cell_type": "markdown",
   "metadata": {},
   "source": [
    "### Посчитайте и добавьте в таблицу новые столбцы"
   ]
  },
  {
   "cell_type": "markdown",
   "metadata": {},
   "source": []
  },
  {
   "cell_type": "markdown",
   "metadata": {},
   "source": [
    "Добавим дополнительные показатели в таблицу для дальнейшего исследования влияния различных факторов нв цену квартиры."
   ]
  },
  {
   "cell_type": "code",
   "execution_count": 21,
   "metadata": {},
   "outputs": [],
   "source": [
    "data['one_sq_meter_price'] = (data['last_price']/data['total_area']).round(2)"
   ]
  },
  {
   "cell_type": "code",
   "execution_count": 22,
   "metadata": {},
   "outputs": [],
   "source": [
    "import numpy as np\n",
    "data['exposition_weekday'] = data['first_day_exposition'].dt.weekday\n",
    "data['exposition_month'] = data['first_day_exposition'].dt.month\n",
    "data['exposition_year'] = data['first_day_exposition'].dt.year"
   ]
  },
  {
   "cell_type": "code",
   "execution_count": 23,
   "metadata": {},
   "outputs": [],
   "source": [
    "def floor_typing(row):\n",
    "\n",
    "        if row['floor'] == 1:\n",
    "            return 'первый'\n",
    "        elif row['floor'] == row['floors_total']:\n",
    "            return 'последний'\n",
    "        else:\n",
    "            return 'другой'\n",
    "\n",
    "data['floor_type'] = data.apply(floor_typing, axis=1)\n"
   ]
  },
  {
   "cell_type": "code",
   "execution_count": 24,
   "metadata": {},
   "outputs": [],
   "source": [
    "data['km_to_centre'] = (data['cityCenters_nearest']/1000).round(0)"
   ]
  },
  {
   "cell_type": "markdown",
   "metadata": {},
   "source": [
    "### Проведите исследовательский анализ данных"
   ]
  },
  {
   "cell_type": "code",
   "execution_count": 25,
   "metadata": {
    "scrolled": false
   },
   "outputs": [
    {
     "data": {
      "image/png": "[encoded data removed]",
      "text/plain": [
       "<Figure size 648x648 with 1 Axes>"
      ]
     },
     "metadata": {
      "needs_background": "light"
     },
     "output_type": "display_data"
    }
   ],
   "source": [
    "data['total_area'].hist(figsize=(9, 9), bins=55, range=(25,80));"
   ]
  },
  {
   "cell_type": "code",
   "execution_count": 26,
   "metadata": {},
   "outputs": [
    {
     "data": {
      "image/png": "[encoded data removed]",
      "text/plain": [
       "<Figure size 648x648 with 1 Axes>"
      ]
     },
     "metadata": {
      "needs_background": "light"
     },
     "output_type": "display_data"
    }
   ],
   "source": [
    "data['living_area'].hist(figsize=(9, 9), bins=60, range=(0,60));"
   ]
  },
  {
   "cell_type": "code",
   "execution_count": 27,
   "metadata": {},
   "outputs": [
    {
     "data": {
      "image/png": "[encoded data removed]",
      "text/plain": [
       "<Figure size 648x648 with 1 Axes>"
      ]
     },
     "metadata": {
      "needs_background": "light"
     },
     "output_type": "display_data"
    }
   ],
   "source": [
    "data['kitchen_area'].hist(figsize=(9, 9), bins=40, range=(0,20));"
   ]
  },
  {
   "cell_type": "markdown",
   "metadata": {},
   "source": [
    "Графики площадей квартир похожи на распределение Пуассона с пиками около 33м2, 45 м2 и 60м2 по общей площади (что соответствует самым частым 1-, 2- и 3-х комнатным квартирам), 6-10 м2 по площади кухни - это хороший знак, т.к. похоже на правду. Интересен провал в жилой площади около 24м2, а два пика около 17м2 и 30м2 объяснимы пиками в графике с общей площадью. "
   ]
  },
  {
   "cell_type": "code",
   "execution_count": 28,
   "metadata": {
    "scrolled": false
   },
   "outputs": [
    {
     "data": {
      "image/png": "[encoded data removed]",
      "text/plain": [
       "<Figure size 648x648 with 1 Axes>"
      ]
     },
     "metadata": {
      "needs_background": "light"
     },
     "output_type": "display_data"
    }
   ],
   "source": [
    "data['last_price'].hist(figsize=(9, 9), bins=100);\n"
   ]
  },
  {
   "cell_type": "markdown",
   "metadata": {},
   "source": [
    "Цены квартир очень правильно и красиво распределены по графику без дополнительных пиков и провалов."
   ]
  },
  {
   "cell_type": "code",
   "execution_count": 29,
   "metadata": {},
   "outputs": [
    {
     "data": {
      "text/plain": [
       "<AxesSubplot:>"
      ]
     },
     "execution_count": 29,
     "metadata": {},
     "output_type": "execute_result"
    },
    {
     "data": {
      "image/png": "[encoded data removed]",
      "text/plain": [
       "<Figure size 648x648 with 1 Axes>"
      ]
     },
     "metadata": {
      "needs_background": "light"
     },
     "output_type": "display_data"
    }
   ],
   "source": [
    "data['rooms'].hist(figsize=(9, 9), bins=10)\n"
   ]
  },
  {
   "cell_type": "markdown",
   "metadata": {},
   "source": [
    "Большинство квартир с 1, 2 и 3 комнатами и чем больше комнат, тем реже объявления с ними."
   ]
  },
  {
   "cell_type": "code",
   "execution_count": 30,
   "metadata": {},
   "outputs": [
    {
     "data": {
      "image/png": "[encoded data removed]",
      "text/plain": [
       "<Figure size 648x648 with 1 Axes>"
      ]
     },
     "metadata": {
      "needs_background": "light"
     },
     "output_type": "display_data"
    }
   ],
   "source": [
    "data['ceiling_height'].hist(figsize=(9, 9), bins=30);\n"
   ]
  },
  {
   "cell_type": "code",
   "execution_count": 31,
   "metadata": {
    "scrolled": true
   },
   "outputs": [
    {
     "data": {
      "image/png": "[encoded data removed]",
      "text/plain": [
       "<Figure size 648x648 with 1 Axes>"
      ]
     },
     "metadata": {
      "needs_background": "light"
     },
     "output_type": "display_data"
    }
   ],
   "source": [
    "data['floor'].hist(figsize=(9, 9), bins=30);"
   ]
  },
  {
   "cell_type": "code",
   "execution_count": 32,
   "metadata": {
    "scrolled": false
   },
   "outputs": [
    {
     "data": {
      "image/png": "[encoded data removed]",
      "text/plain": [
       "<Figure size 648x648 with 1 Axes>"
      ]
     },
     "metadata": {
      "needs_background": "light"
     },
     "output_type": "display_data"
    }
   ],
   "source": [
    "data['floor_type'].hist(figsize=(9, 9), bins=3);"
   ]
  },
  {
   "cell_type": "code",
   "execution_count": 33,
   "metadata": {},
   "outputs": [
    {
     "data": {
      "image/png": "[encoded data removed]",
      "text/plain": [
       "<Figure size 648x648 with 1 Axes>"
      ]
     },
     "metadata": {
      "needs_background": "light"
     },
     "output_type": "display_data"
    }
   ],
   "source": [
    "data['floors_total'].hist(figsize=(9, 9), bins=30);"
   ]
  },
  {
   "cell_type": "markdown",
   "metadata": {},
   "source": [
    "Из трех графиков выше видно, что больше квартир продаются в 5ти- и 10тиэтажках и чаще всего они находятся не на первом и не на последних этажах, что было ожидаемо. Так же как и то, что квартир на первом и последнем этажах примерно одинаковое количество."
   ]
  },
  {
   "cell_type": "code",
   "execution_count": 34,
   "metadata": {},
   "outputs": [
    {
     "data": {
      "image/png": "[encoded data removed]",
      "text/plain": [
       "<Figure size 648x648 with 1 Axes>"
      ]
     },
     "metadata": {
      "needs_background": "light"
     },
     "output_type": "display_data"
    }
   ],
   "source": [
    "data['cityCenters_nearest'].hist(figsize=(9, 9), bins=100);\n"
   ]
  },
  {
   "cell_type": "code",
   "execution_count": 35,
   "metadata": {},
   "outputs": [
    {
     "data": {
      "image/png": "[encoded data removed]",
      "text/plain": [
       "<Figure size 720x720 with 1 Axes>"
      ]
     },
     "metadata": {
      "needs_background": "light"
     },
     "output_type": "display_data"
    }
   ],
   "source": [
    "data['airports_nearest'].hist(figsize=(10, 10), bins=100);\n"
   ]
  },
  {
   "cell_type": "code",
   "execution_count": 36,
   "metadata": {
    "scrolled": false
   },
   "outputs": [
    {
     "data": {
      "image/png": "[encoded data removed]",
      "text/plain": [
       "<Figure size 720x720 with 1 Axes>"
      ]
     },
     "metadata": {
      "needs_background": "light"
     },
     "output_type": "display_data"
    }
   ],
   "source": [
    "data['parks_nearest'].hist(figsize=(10, 10), bins=100);\n"
   ]
  },
  {
   "cell_type": "markdown",
   "metadata": {},
   "source": [
    "Из графиков по расстояниям видно, что большинсство квартир находятся вблизи парка - в радиусе до километра, однако, мы помним, что в 2/3 объявлений расстояние до парка не указано. \n",
    "\n",
    "Графики по расстояниям до аэропорта и центра города неровные и имеют несколько пиков, что можно объяснить неравномерной застройком местности, ведь данные объявления не только из Санкт-Петербурга, но и из ближайших поселений."
   ]
  },
  {
   "cell_type": "code",
   "execution_count": 37,
   "metadata": {},
   "outputs": [
    {
     "data": {
      "image/png": "[encoded data removed]",
      "text/plain": [
       "<Figure size 720x720 with 1 Axes>"
      ]
     },
     "metadata": {
      "needs_background": "light"
     },
     "output_type": "display_data"
    }
   ],
   "source": [
    "data['exposition_weekday'].hist(figsize=(10, 10), bins=7);\n"
   ]
  },
  {
   "cell_type": "markdown",
   "metadata": {},
   "source": [
    "Выше видим, что объявления чаще выкладывают в будние дни, предполагаю, что это связано с тем, что их выкладывают агенты в рабочее время, а не собственники квартир.\n"
   ]
  },
  {
   "cell_type": "code",
   "execution_count": 38,
   "metadata": {},
   "outputs": [
    {
     "data": {
      "image/png": "[encoded data removed]",
      "text/plain": [
       "<Figure size 720x720 with 1 Axes>"
      ]
     },
     "metadata": {
      "needs_background": "light"
     },
     "output_type": "display_data"
    }
   ],
   "source": [
    "data['exposition_month'].hist(figsize=(10, 10), bins=12);\n"
   ]
  },
  {
   "cell_type": "markdown",
   "metadata": {},
   "source": [
    "Провалы в январе и мае могу объяснить малым количеством рабочих дней, а в декабре могу предположить, что люди не начинают продажу квартиры в конце года.\n"
   ]
  },
  {
   "cell_type": "markdown",
   "metadata": {},
   "source": [
    "#### Посмотрим на скорость продажи квартир"
   ]
  },
  {
   "cell_type": "code",
   "execution_count": 39,
   "metadata": {},
   "outputs": [
    {
     "data": {
      "image/png": "[encoded data removed]",
      "text/plain": [
       "<Figure size 648x648 with 1 Axes>"
      ]
     },
     "metadata": {
      "needs_background": "light"
     },
     "output_type": "display_data"
    }
   ],
   "source": [
    "data['days_exposition'].hist(figsize=(9,9), bins=100,  range=[0,100]);"
   ]
  },
  {
   "cell_type": "code",
   "execution_count": 40,
   "metadata": {
    "scrolled": false
   },
   "outputs": [
    {
     "data": {
      "text/plain": [
       "<AxesSubplot:>"
      ]
     },
     "execution_count": 40,
     "metadata": {},
     "output_type": "execute_result"
    },
    {
     "data": {
      "image/png": "[encoded data removed]",
      "text/plain": [
       "<Figure size 648x648 with 1 Axes>"
      ]
     },
     "metadata": {
      "needs_background": "light"
     },
     "output_type": "display_data"
    }
   ],
   "source": [
    "data['days_exposition'].plot(figsize=(9,9), kind='box')"
   ]
  },
  {
   "cell_type": "code",
   "execution_count": 41,
   "metadata": {},
   "outputs": [
    {
     "data": {
      "text/plain": [
       "count    18217.000000\n",
       "mean       184.246638\n",
       "std        221.075758\n",
       "min          1.000000\n",
       "25%         45.000000\n",
       "50%        101.000000\n",
       "75%        237.000000\n",
       "max       1580.000000\n",
       "Name: days_exposition, dtype: float64"
      ]
     },
     "execution_count": 41,
     "metadata": {},
     "output_type": "execute_result"
    }
   ],
   "source": [
    "data['days_exposition'].describe()"
   ]
  },
  {
   "cell_type": "markdown",
   "metadata": {},
   "source": [
    "По обоим графикам видно, что скорость продажи более 600 дней можно считать долгой, также мы знаем, что 75% квартир продаются в течение первых 247 дней. \n",
    "\n",
    "Самое быстрое снятие с объявления - 1 день, маловероятно, что квартира продалась за один день, но и исключать такую возможность нельзя. Самое долгое объявление - 1580 дней, это больше, чем 4 года. Либо продавец запросил слишком высокую цену (а может и само объявление было неудачным) и не мог так долго продать квартиру, либо забыл снять объявление после продажи. \n",
    "\n",
    "А чаще всего квартиры продаются в срок 45 или 60 дней, а, точнее объявление остается активным в течение этого времени. Возможно, на сайте объявления удаляются автоматически, если не продлить их срок."
   ]
  },
  {
   "cell_type": "markdown",
   "metadata": {},
   "source": [
    "### Изучим влияние различных факторов на общую стоимость квартиры"
   ]
  },
  {
   "cell_type": "code",
   "execution_count": 42,
   "metadata": {},
   "outputs": [
    {
     "name": "stdout",
     "output_type": "stream",
     "text": [
      "0.7934726809762024\n"
     ]
    },
    {
     "data": {
      "text/plain": [
       "<AxesSubplot:xlabel='last_price', ylabel='total_area'>"
      ]
     },
     "execution_count": 42,
     "metadata": {},
     "output_type": "execute_result"
    },
    {
     "data": {
      "image/png": "[encoded data removed]",
      "text/plain": [
       "<Figure size 432x288 with 1 Axes>"
      ]
     },
     "metadata": {
      "needs_background": "light"
     },
     "output_type": "display_data"
    }
   ],
   "source": [
    "print(data['last_price'].corr(data['total_area']))\n",
    "data.plot(kind='scatter', x='last_price', y='total_area', alpha=0.3)"
   ]
  },
  {
   "cell_type": "code",
   "execution_count": 43,
   "metadata": {
    "scrolled": true
   },
   "outputs": [
    {
     "name": "stdout",
     "output_type": "stream",
     "text": [
      "0.6859967639016282\n"
     ]
    },
    {
     "data": {
      "text/plain": [
       "<AxesSubplot:xlabel='last_price', ylabel='living_area'>"
      ]
     },
     "execution_count": 43,
     "metadata": {},
     "output_type": "execute_result"
    },
    {
     "data": {
      "image/png": "[encoded data removed]",
      "text/plain": [
       "<Figure size 432x288 with 1 Axes>"
      ]
     },
     "metadata": {
      "needs_background": "light"
     },
     "output_type": "display_data"
    }
   ],
   "source": [
    "print(data['last_price'].corr(data['living_area']))\n",
    "data.plot(kind='scatter', x='last_price', y='living_area', alpha=0.3)"
   ]
  },
  {
   "cell_type": "code",
   "execution_count": 44,
   "metadata": {
    "scrolled": true
   },
   "outputs": [
    {
     "name": "stdout",
     "output_type": "stream",
     "text": [
      "0.6066295998069386\n"
     ]
    },
    {
     "data": {
      "text/plain": [
       "<AxesSubplot:xlabel='last_price', ylabel='kitchen_area'>"
      ]
     },
     "execution_count": 44,
     "metadata": {},
     "output_type": "execute_result"
    },
    {
     "data": {
      "image/png": "[encoded data removed]",
      "text/plain": [
       "<Figure size 432x288 with 1 Axes>"
      ]
     },
     "metadata": {
      "needs_background": "light"
     },
     "output_type": "display_data"
    }
   ],
   "source": [
    "print(data['last_price'].corr(data['kitchen_area']))\n",
    "data.plot(kind='scatter', x='last_price', y='kitchen_area', alpha=0.3)"
   ]
  },
  {
   "cell_type": "markdown",
   "metadata": {},
   "source": [
    "Корреляция площади и цены очень высокая - 0.79, но и корреляция между ценой и жилой площадью и размером кухни тоже достаточно высокая - 0.68 и 0.59 соответственно. \n"
   ]
  },
  {
   "cell_type": "code",
   "execution_count": 45,
   "metadata": {
    "scrolled": false
   },
   "outputs": [
    {
     "data": {
      "text/plain": [
       "<AxesSubplot:title={'center':'зависимость цены от типа этажа'}, xlabel='floor_type'>"
      ]
     },
     "execution_count": 45,
     "metadata": {},
     "output_type": "execute_result"
    },
    {
     "data": {
      "image/png": "[encoded data removed]",
      "text/plain": [
       "<Figure size 432x288 with 1 Axes>"
      ]
     },
     "metadata": {
      "needs_background": "light"
     },
     "output_type": "display_data"
    }
   ],
   "source": [
    "floor_pivot = data.pivot_table(\n",
    "    index='floor_type', values='last_price', aggfunc=['median']\n",
    ")\n",
    "floor_pivot.plot(kind='bar', title='зависимость цены от типа этажа')\n"
   ]
  },
  {
   "cell_type": "code",
   "execution_count": 46,
   "metadata": {},
   "outputs": [
    {
     "name": "stdout",
     "output_type": "stream",
     "text": [
      "               median\n",
      "           last_price\n",
      "floor_type           \n",
      "другой      4850000.0\n",
      "первый      3950000.0\n",
      "последний   4300000.0\n"
     ]
    }
   ],
   "source": [
    "print(floor_pivot)"
   ]
  },
  {
   "cell_type": "markdown",
   "metadata": {},
   "source": [
    "Квартиры на первом этаже стоят в среднем на 20% дешевле тех, что не на крайних этажах, а те, что на последнем на 10%."
   ]
  },
  {
   "cell_type": "code",
   "execution_count": 47,
   "metadata": {
    "scrolled": true
   },
   "outputs": [
    {
     "data": {
      "text/plain": [
       "<AxesSubplot:title={'center':'зависимость цены от количества комнат'}, xlabel='rooms'>"
      ]
     },
     "execution_count": 47,
     "metadata": {},
     "output_type": "execute_result"
    },
    {
     "data": {
      "image/png": "[encoded data removed]",
      "text/plain": [
       "<Figure size 432x288 with 1 Axes>"
      ]
     },
     "metadata": {
      "needs_background": "light"
     },
     "output_type": "display_data"
    }
   ],
   "source": [
    "room_pivot = data.pivot_table(\n",
    "    index='rooms', \n",
    "    values='last_price', \n",
    "    aggfunc=['median']\n",
    ")\n",
    "room_pivot.plot(kind='bar', title='зависимость цены от количества комнат')\n"
   ]
  },
  {
   "cell_type": "markdown",
   "metadata": {},
   "source": [
    "Предсказуемо видим, что с есть прямая зависимость цены от количества комнат."
   ]
  },
  {
   "cell_type": "code",
   "execution_count": 48,
   "metadata": {},
   "outputs": [
    {
     "data": {
      "image/png": "[encoded data removed]",
      "text/plain": [
       "<Figure size 432x288 with 1 Axes>"
      ]
     },
     "metadata": {
      "needs_background": "light"
     },
     "output_type": "display_data"
    }
   ],
   "source": [
    "weekday_pivot = data.pivot_table(\n",
    "    index='exposition_weekday', values='one_sq_meter_price', aggfunc=['median']\n",
    ")\n",
    "weekday_pivot.plot(kind='bar', title='зависимость цены от дня недели');\n"
   ]
  },
  {
   "cell_type": "code",
   "execution_count": 49,
   "metadata": {},
   "outputs": [
    {
     "data": {
      "image/png": "[encoded data removed]",
      "text/plain": [
       "<Figure size 432x288 with 1 Axes>"
      ]
     },
     "metadata": {
      "needs_background": "light"
     },
     "output_type": "display_data"
    }
   ],
   "source": [
    "month_pivot = data.pivot_table(\n",
    "    index='exposition_month', values='one_sq_meter_price', aggfunc=['median']\n",
    ")\n",
    "month_pivot.plot(kind='bar', title='зависимость цены от месяца');"
   ]
  },
  {
   "cell_type": "code",
   "execution_count": 50,
   "metadata": {
    "scrolled": true
   },
   "outputs": [
    {
     "data": {
      "image/png": "[encoded data removed]",
      "text/plain": [
       "<Figure size 648x648 with 1 Axes>"
      ]
     },
     "metadata": {
      "needs_background": "light"
     },
     "output_type": "display_data"
    }
   ],
   "source": [
    "year_pivot = data.pivot_table(\n",
    "    index='exposition_year', \n",
    "    values=['one_sq_meter_price'], aggfunc=['median', 'count']\n",
    ")\n",
    "year_pivot['median'].plot(kind='bar', figsize=(9,9), title='Зависимость цены от года');"
   ]
  },
  {
   "cell_type": "code",
   "execution_count": 51,
   "metadata": {},
   "outputs": [
    {
     "name": "stdout",
     "output_type": "stream",
     "text": [
      "                 one_sq_meter_price\n",
      "exposition_year                    \n",
      "2014                            122\n",
      "2015                           1055\n",
      "2016                           2523\n",
      "2017                           7374\n",
      "2018                           7410\n",
      "2019                           2635\n",
      "                            median              count\n",
      "                one_sq_meter_price one_sq_meter_price\n",
      "exposition_year                                      \n",
      "2014                    106265.855                122\n",
      "2015                     91842.110               1055\n",
      "2016                     90681.820               2523\n",
      "2017                     92109.180               7374\n",
      "2018                     95752.065               7410\n",
      "2019                    102605.860               2635\n"
     ]
    }
   ],
   "source": [
    "print(year_pivot['count'])\n",
    "print(year_pivot)"
   ]
  },
  {
   "cell_type": "markdown",
   "metadata": {},
   "source": [
    "Цена не сильно зависит от дня или месяца, в котором было выложено объявление. Цена за кв. метр с каждым годом стабильно растет. В 2104 году цена значительно выше, однако мы видим, что объявлений за 2014 у нас значительно меньше, а значит, мы можем сделать вывод, что с каждым годом цена за кв. метр растет."
   ]
  },
  {
   "cell_type": "code",
   "execution_count": 52,
   "metadata": {},
   "outputs": [
    {
     "name": "stdout",
     "output_type": "stream",
     "text": [
      "total_images           0.153854\n",
      "last_price             1.000000\n",
      "total_area             0.793473\n",
      "rooms                  0.519763\n",
      "ceiling_height         0.345905\n",
      "floors_total           0.085305\n",
      "living_area            0.685997\n",
      "floor                  0.087311\n",
      "is_apartment           0.007623\n",
      "studio                      NaN\n",
      "open_plan                   NaN\n",
      "kitchen_area           0.606630\n",
      "balcony                0.035711\n",
      "airports_nearest      -0.035904\n",
      "cityCenters_nearest   -0.349777\n",
      "parks_around3000       0.281342\n",
      "parks_nearest          0.033656\n",
      "ponds_around3000       0.295410\n",
      "ponds_nearest         -0.108695\n",
      "days_exposition        0.126875\n",
      "one_sq_meter_price     0.663199\n",
      "exposition_weekday    -0.000578\n",
      "exposition_month       0.001862\n",
      "exposition_year       -0.039451\n",
      "km_to_centre          -0.350692\n",
      "Name: last_price, dtype: float64\n"
     ]
    }
   ],
   "source": [
    "print(data.corr()['last_price'])"
   ]
  },
  {
   "cell_type": "code",
   "execution_count": 53,
   "metadata": {
    "scrolled": true
   },
   "outputs": [
    {
     "name": "stdout",
     "output_type": "stream",
     "text": [
      "                   количество объявлений  медианная цена за метр\n",
      "locality_name                                                   \n",
      "Санкт-Петербург                    14044               103891.25\n",
      "поселок Мурино                       450                84262.42\n",
      "поселок Шушары                       398                77223.32\n",
      "Всеволожск                           357                65789.47\n",
      "Пушкин                               336               100000.00\n",
      "Колпино                              321                74722.22\n",
      "Гатчина                              294                67860.57\n",
      "поселок Парголово                    289                92261.90\n",
      "деревня Кудрово                      231                91428.57\n",
      "Выборг                               201                58407.08\n"
     ]
    }
   ],
   "source": [
    "pivot_corr = data.pivot_table(index='locality_name',\n",
    "    values=['one_sq_meter_price'],\n",
    "    aggfunc=['count', 'median']\n",
    "            )\n",
    "pivot_corr.columns=['количество объявлений', 'медианная цена за метр']\n",
    "pivot_corr = pivot_corr.sort_values('количество объявлений', ascending=False).head(10)\n",
    "\n",
    "print(pivot_corr)"
   ]
  },
  {
   "cell_type": "markdown",
   "metadata": {},
   "source": [
    "Среди населенных пунктов с наибольшим количеством объявлений самая высокая цена, ожидаемо, в Санкт-Петербурге - 103 тысячи за кв. метр, а самая низкая в Выборге - 58,4 тысяч рублей, это на 44% меньше"
   ]
  },
  {
   "cell_type": "code",
   "execution_count": 54,
   "metadata": {
    "scrolled": false
   },
   "outputs": [
    {
     "data": {
      "image/png": "[encoded data removed]",
      "text/plain": [
       "<Figure size 648x648 with 1 Axes>"
      ]
     },
     "metadata": {
      "needs_background": "light"
     },
     "output_type": "display_data"
    }
   ],
   "source": [
    "st_peters_data = data.query('locality_name==\"Санкт-Петербург\"')\n",
    "st_peters_pivot = st_peters_data.pivot_table(\n",
    "    index='km_to_centre', \n",
    "    values=['one_sq_meter_price'],\n",
    "    aggfunc=['mean', 'count']\n",
    ")\n",
    "st_peters_pivot.columns=['средняя цена', \"количество объявлений\"]\n",
    "st_peters_pivot['средняя цена'].plot(kind='bar', figsize=(9,9), title = 'Зависимость цены от удаленности от центра')\n",
    "plt.show()"
   ]
  },
  {
   "cell_type": "markdown",
   "metadata": {},
   "source": [
    "Мы можем наблюдать, что с удалением от центра Санкт-Петербурга цена квартиры падает, а после 26 км есть всплеск цены, взглянем на объем данных по этой отметке."
   ]
  },
  {
   "cell_type": "code",
   "execution_count": 55,
   "metadata": {
    "scrolled": false
   },
   "outputs": [
    {
     "name": "stdout",
     "output_type": "stream",
     "text": [
      "               средняя цена  количество объявлений\n",
      "km_to_centre                                      \n",
      "0.0           123871.662857                     14\n",
      "1.0           134767.155197                    152\n",
      "2.0           127242.266892                    251\n",
      "3.0           115545.853642                    313\n",
      "4.0           123836.702843                    598\n",
      "5.0           130344.250265                    791\n",
      "6.0           128966.574990                    479\n",
      "7.0           131279.961386                    332\n",
      "8.0           124658.305903                    537\n",
      "9.0           111660.270019                    536\n",
      "10.0          111873.133399                    662\n",
      "11.0          107623.523010                   1093\n",
      "12.0          107804.183298                   1513\n",
      "13.0          107658.817846                   1337\n",
      "14.0          103736.031648                   1183\n",
      "15.0          104162.497442                   1431\n",
      "16.0          100258.796149                   1153\n",
      "17.0           96327.713489                    791\n",
      "18.0           96808.962469                    239\n",
      "19.0           98452.862095                    148\n",
      "20.0          100863.376087                     46\n",
      "21.0           94018.526471                    102\n",
      "22.0           90719.592151                    186\n",
      "23.0           92304.938933                     75\n",
      "24.0           85404.373750                     24\n",
      "25.0           88071.429444                     18\n",
      "26.0           84614.334615                     26\n",
      "27.0          132115.710000                      2\n",
      "28.0           81161.914286                      7\n",
      "29.0           76148.690000                      5\n"
     ]
    }
   ],
   "source": [
    "print(st_peters_pivot)"
   ]
  },
  {
   "cell_type": "markdown",
   "metadata": {},
   "source": [
    "После 24 км объявлений крайне мало, а следовательно, я не буду делать выводы основываясь на них."
   ]
  },
  {
   "cell_type": "markdown",
   "metadata": {},
   "source": [
    "### Общий вывод"
   ]
  },
  {
   "cell_type": "markdown",
   "metadata": {},
   "source": [
    "Передо мной стояла задача определить факторы, наиболее сильно влияющие на цену квартир в Санкт-Петербурге. \n",
    "\n",
    "Для этого у меня былы данные о 23699 объявлений с 2014 по 2019 гг В Санкт-Петербурге и Ленинградской области. \n",
    "\n",
    "В ходе предобработки данных были обнаружены пропущенные данные в столбцах с количеством балконов и количеством парков и прудов в радиусе 3 км, предполагая отсутсвие таковых, пустые значения я заменила нулями. Для некоторых населенных пунктов в объявлениях были указаны разные написания и были приведены к общему виду, что позже позволило мне группировать данных по населенным пунктам. Также я избавилась от некоторых объявлений (в сумме не больше 2%), т.к. их показатели резко выбивались из общего массива данных.\n",
    "\n",
    "Я добавила некоторые показатели в таблицу - цена одного квадратного метра, день недели, месяц и год публикации объявления месяц публикации объявления,мтип этажа квартиры (значения — «первый», «последний», «другой») и расстояние в км до центра города.\n",
    "\n",
    "Изучая непосредственно влияние различных факторов на цену квартиры, я выяснила, что больше всего на цену влияет площадь квартиры и количество комнат, а также удаленность от центра Санкт-Петербурга. Так, медианная цена в Выборге составляет только 57% от медианной цены в Санкт-Петербурге.\n",
    "\n",
    "Чуть менее заметно, но очень стабильно на цену влияет этаж квартиры. Квартиры на первом этаже стоят в среднем на 20% дешевле тех, что не на крайних этажах, а те, что на последнем на 10%.\n",
    "\n",
    "Вдобавок я выяснила, что с каждым годом цена на недвижимость стабильно растет."
   ]
  }
 ],
 "metadata": {
  "ExecuteTimeLog": [
   {
    "duration": 1081,
    "start_time": "2022-09-16T04:31:53.480Z"
   },
   {
    "duration": 105,
    "start_time": "2022-09-16T04:32:16.294Z"
   },
   {
    "duration": 92,
    "start_time": "2022-09-16T04:32:22.241Z"
   },
   {
    "duration": 58,
    "start_time": "2022-09-16T04:32:36.310Z"
   },
   {
    "duration": 100,
    "start_time": "2022-09-16T04:34:26.273Z"
   },
   {
    "duration": 54,
    "start_time": "2022-09-16T04:34:57.429Z"
   },
   {
    "duration": 85,
    "start_time": "2022-09-16T04:37:44.476Z"
   },
   {
    "duration": 399,
    "start_time": "2022-09-16T04:37:52.298Z"
   },
   {
    "duration": 340,
    "start_time": "2022-09-16T04:38:28.010Z"
   },
   {
    "duration": 2378,
    "start_time": "2022-09-16T04:40:24.045Z"
   },
   {
    "duration": 424,
    "start_time": "2022-09-16T04:41:19.769Z"
   },
   {
    "duration": 15,
    "start_time": "2022-09-16T04:41:20.195Z"
   },
   {
    "duration": 1870,
    "start_time": "2022-09-16T04:41:20.212Z"
   },
   {
    "duration": 11,
    "start_time": "2022-09-16T04:43:04.893Z"
   },
   {
    "duration": 11,
    "start_time": "2022-09-16T04:43:11.869Z"
   },
   {
    "duration": 3,
    "start_time": "2022-09-16T04:43:52.411Z"
   },
   {
    "duration": 10,
    "start_time": "2022-09-16T04:44:01.508Z"
   },
   {
    "duration": 5,
    "start_time": "2022-09-16T04:53:37.341Z"
   },
   {
    "duration": 5,
    "start_time": "2022-09-16T04:53:43.511Z"
   },
   {
    "duration": 71,
    "start_time": "2022-09-16T04:54:14.171Z"
   },
   {
    "duration": 10,
    "start_time": "2022-09-16T04:56:26.554Z"
   },
   {
    "duration": 12,
    "start_time": "2022-09-16T04:56:50.852Z"
   },
   {
    "duration": 7,
    "start_time": "2022-09-16T04:56:58.398Z"
   },
   {
    "duration": 417,
    "start_time": "2022-09-16T04:57:37.810Z"
   },
   {
    "duration": 20,
    "start_time": "2022-09-16T04:57:38.229Z"
   },
   {
    "duration": 1893,
    "start_time": "2022-09-16T04:57:38.251Z"
   },
   {
    "duration": 10,
    "start_time": "2022-09-16T04:57:40.146Z"
   },
   {
    "duration": 13,
    "start_time": "2022-09-16T04:57:40.159Z"
   },
   {
    "duration": 8,
    "start_time": "2022-09-16T04:57:40.173Z"
   },
   {
    "duration": 16,
    "start_time": "2022-09-16T05:00:08.905Z"
   },
   {
    "duration": 15,
    "start_time": "2022-09-16T05:01:00.972Z"
   },
   {
    "duration": 18,
    "start_time": "2022-09-16T05:01:20.995Z"
   },
   {
    "duration": 22,
    "start_time": "2022-09-16T05:04:25.895Z"
   },
   {
    "duration": 11,
    "start_time": "2022-09-16T05:07:52.908Z"
   },
   {
    "duration": 11,
    "start_time": "2022-09-16T05:08:34.250Z"
   },
   {
    "duration": 23,
    "start_time": "2022-09-16T05:08:41.852Z"
   },
   {
    "duration": 6,
    "start_time": "2022-09-16T05:09:18.103Z"
   },
   {
    "duration": 5,
    "start_time": "2022-09-16T05:09:55.298Z"
   },
   {
    "duration": 9,
    "start_time": "2022-09-16T05:10:51.147Z"
   },
   {
    "duration": 5,
    "start_time": "2022-09-16T05:11:17.097Z"
   },
   {
    "duration": 19,
    "start_time": "2022-09-16T05:15:32.687Z"
   },
   {
    "duration": 21,
    "start_time": "2022-09-16T05:15:47.874Z"
   },
   {
    "duration": 323,
    "start_time": "2022-09-16T05:33:15.663Z"
   },
   {
    "duration": 14,
    "start_time": "2022-09-16T05:33:15.988Z"
   },
   {
    "duration": 2141,
    "start_time": "2022-09-16T05:33:16.004Z"
   },
   {
    "duration": 11,
    "start_time": "2022-09-16T05:33:18.146Z"
   },
   {
    "duration": 18,
    "start_time": "2022-09-16T05:33:18.159Z"
   },
   {
    "duration": 10,
    "start_time": "2022-09-16T05:33:18.178Z"
   },
   {
    "duration": 6,
    "start_time": "2022-09-16T05:33:33.096Z"
   },
   {
    "duration": 9,
    "start_time": "2022-09-16T05:34:33.047Z"
   },
   {
    "duration": 5,
    "start_time": "2022-09-16T05:34:49.970Z"
   },
   {
    "duration": 4,
    "start_time": "2022-09-16T05:35:13.089Z"
   },
   {
    "duration": 4,
    "start_time": "2022-09-16T05:36:17.996Z"
   },
   {
    "duration": 308,
    "start_time": "2022-09-16T05:37:03.745Z"
   },
   {
    "duration": 94,
    "start_time": "2022-09-16T05:37:57.729Z"
   },
   {
    "duration": 97,
    "start_time": "2022-09-16T05:38:07.655Z"
   },
   {
    "duration": 141,
    "start_time": "2022-09-16T05:39:11.444Z"
   },
   {
    "duration": 12,
    "start_time": "2022-09-16T05:40:16.510Z"
   },
   {
    "duration": 228,
    "start_time": "2022-09-16T05:41:41.473Z"
   },
   {
    "duration": 16,
    "start_time": "2022-09-16T05:43:09.485Z"
   },
   {
    "duration": 20,
    "start_time": "2022-09-16T05:43:15.116Z"
   },
   {
    "duration": 77,
    "start_time": "2022-09-16T05:43:39.712Z"
   },
   {
    "duration": 16,
    "start_time": "2022-09-16T05:43:46.450Z"
   },
   {
    "duration": 486,
    "start_time": "2022-09-16T05:43:53.272Z"
   },
   {
    "duration": 13,
    "start_time": "2022-09-16T05:43:53.760Z"
   },
   {
    "duration": 1822,
    "start_time": "2022-09-16T05:43:53.775Z"
   },
   {
    "duration": 11,
    "start_time": "2022-09-16T05:43:55.599Z"
   },
   {
    "duration": 12,
    "start_time": "2022-09-16T05:43:55.612Z"
   },
   {
    "duration": 31,
    "start_time": "2022-09-16T05:43:55.626Z"
   },
   {
    "duration": 561,
    "start_time": "2022-09-16T05:43:55.659Z"
   },
   {
    "duration": 0,
    "start_time": "2022-09-16T05:43:56.222Z"
   },
   {
    "duration": 4,
    "start_time": "2022-09-16T05:44:49.217Z"
   },
   {
    "duration": 3141,
    "start_time": "2022-09-16T05:45:00.295Z"
   },
   {
    "duration": 5,
    "start_time": "2022-09-16T05:45:04.399Z"
   },
   {
    "duration": 527,
    "start_time": "2022-09-16T05:45:14.754Z"
   },
   {
    "duration": 17,
    "start_time": "2022-09-16T05:45:15.283Z"
   },
   {
    "duration": 1990,
    "start_time": "2022-09-16T05:45:15.301Z"
   },
   {
    "duration": 9,
    "start_time": "2022-09-16T05:45:17.293Z"
   },
   {
    "duration": 358,
    "start_time": "2022-09-16T05:45:18.974Z"
   },
   {
    "duration": 26,
    "start_time": "2022-09-16T05:45:19.333Z"
   },
   {
    "duration": 2091,
    "start_time": "2022-09-16T05:45:19.361Z"
   },
   {
    "duration": 13,
    "start_time": "2022-09-16T05:45:21.454Z"
   },
   {
    "duration": 17,
    "start_time": "2022-09-16T05:45:21.470Z"
   },
   {
    "duration": 13,
    "start_time": "2022-09-16T05:45:21.488Z"
   },
   {
    "duration": 15,
    "start_time": "2022-09-16T05:45:21.503Z"
   },
   {
    "duration": 24,
    "start_time": "2022-09-16T05:45:35.996Z"
   },
   {
    "duration": 18,
    "start_time": "2022-09-16T05:46:03.014Z"
   },
   {
    "duration": 52,
    "start_time": "2022-09-16T05:49:08.624Z"
   },
   {
    "duration": 26,
    "start_time": "2022-09-16T05:49:24.487Z"
   },
   {
    "duration": 327,
    "start_time": "2022-09-16T05:49:55.647Z"
   },
   {
    "duration": 13,
    "start_time": "2022-09-16T05:49:55.976Z"
   },
   {
    "duration": 2182,
    "start_time": "2022-09-16T05:49:55.990Z"
   },
   {
    "duration": 12,
    "start_time": "2022-09-16T05:49:59.283Z"
   },
   {
    "duration": 12,
    "start_time": "2022-09-16T05:49:59.298Z"
   },
   {
    "duration": 15,
    "start_time": "2022-09-16T05:49:59.312Z"
   },
   {
    "duration": 16,
    "start_time": "2022-09-16T05:49:59.507Z"
   },
   {
    "duration": 15,
    "start_time": "2022-09-16T05:49:59.525Z"
   },
   {
    "duration": 23,
    "start_time": "2022-09-16T05:52:03.629Z"
   },
   {
    "duration": 27,
    "start_time": "2022-09-16T05:54:08.893Z"
   },
   {
    "duration": 25,
    "start_time": "2022-09-16T05:54:28.893Z"
   },
   {
    "duration": 7,
    "start_time": "2022-09-16T05:55:26.359Z"
   },
   {
    "duration": 4,
    "start_time": "2022-09-16T06:02:39.876Z"
   },
   {
    "duration": 24,
    "start_time": "2022-09-16T06:03:15.173Z"
   },
   {
    "duration": 26,
    "start_time": "2022-09-16T06:06:58.188Z"
   },
   {
    "duration": 11,
    "start_time": "2022-09-16T06:07:57.474Z"
   },
   {
    "duration": 13,
    "start_time": "2022-09-16T06:11:04.055Z"
   },
   {
    "duration": 18,
    "start_time": "2022-09-16T06:11:44.007Z"
   },
   {
    "duration": 15,
    "start_time": "2022-09-16T06:12:46.800Z"
   },
   {
    "duration": 182,
    "start_time": "2022-09-16T06:18:24.859Z"
   },
   {
    "duration": 211,
    "start_time": "2022-09-16T06:18:35.043Z"
   },
   {
    "duration": 161,
    "start_time": "2022-09-16T06:19:09.766Z"
   },
   {
    "duration": 199,
    "start_time": "2022-09-16T06:19:28.524Z"
   },
   {
    "duration": 169,
    "start_time": "2022-09-16T06:20:03.891Z"
   },
   {
    "duration": 163,
    "start_time": "2022-09-16T06:20:16.671Z"
   },
   {
    "duration": 26,
    "start_time": "2022-09-16T06:20:38.609Z"
   },
   {
    "duration": 36,
    "start_time": "2022-09-16T06:21:07.456Z"
   },
   {
    "duration": 151,
    "start_time": "2022-09-16T06:21:40.752Z"
   },
   {
    "duration": 173,
    "start_time": "2022-09-16T06:22:00.444Z"
   },
   {
    "duration": 203,
    "start_time": "2022-09-16T06:22:28.148Z"
   },
   {
    "duration": 179,
    "start_time": "2022-09-16T06:22:41.810Z"
   },
   {
    "duration": 12,
    "start_time": "2022-09-16T06:49:59.818Z"
   },
   {
    "duration": 7,
    "start_time": "2022-09-16T06:51:18.793Z"
   },
   {
    "duration": 938,
    "start_time": "2022-09-17T04:56:47.660Z"
   },
   {
    "duration": 13,
    "start_time": "2022-09-17T04:56:48.600Z"
   },
   {
    "duration": 2121,
    "start_time": "2022-09-17T04:56:48.615Z"
   },
   {
    "duration": 10,
    "start_time": "2022-09-17T04:56:50.738Z"
   },
   {
    "duration": 11,
    "start_time": "2022-09-17T04:56:50.750Z"
   },
   {
    "duration": 21,
    "start_time": "2022-09-17T04:56:50.762Z"
   },
   {
    "duration": 8,
    "start_time": "2022-09-17T04:56:50.785Z"
   },
   {
    "duration": 158,
    "start_time": "2022-09-17T04:56:50.794Z"
   },
   {
    "duration": 4,
    "start_time": "2022-09-17T04:56:50.954Z"
   },
   {
    "duration": 115,
    "start_time": "2022-09-17T05:02:56.624Z"
   },
   {
    "duration": 50,
    "start_time": "2022-09-17T05:03:19.410Z"
   },
   {
    "duration": 50,
    "start_time": "2022-09-17T05:03:24.221Z"
   },
   {
    "duration": 284,
    "start_time": "2022-09-17T05:03:32.723Z"
   },
   {
    "duration": 10,
    "start_time": "2022-09-17T05:04:22.128Z"
   },
   {
    "duration": 136,
    "start_time": "2022-09-17T05:05:26.651Z"
   },
   {
    "duration": 98,
    "start_time": "2022-09-17T05:07:03.835Z"
   },
   {
    "duration": 9,
    "start_time": "2022-09-17T05:08:22.658Z"
   },
   {
    "duration": 8,
    "start_time": "2022-09-17T05:08:30.842Z"
   },
   {
    "duration": 999,
    "start_time": "2022-09-17T05:08:46.024Z"
   },
   {
    "duration": 47,
    "start_time": "2022-09-17T05:09:38.183Z"
   },
   {
    "duration": 8,
    "start_time": "2022-09-17T05:09:43.621Z"
   },
   {
    "duration": 9,
    "start_time": "2022-09-17T05:10:05.223Z"
   },
   {
    "duration": 8,
    "start_time": "2022-09-17T05:10:22.784Z"
   },
   {
    "duration": 39,
    "start_time": "2022-09-17T05:10:28.762Z"
   },
   {
    "duration": 106,
    "start_time": "2022-09-17T05:14:04.046Z"
   },
   {
    "duration": 215,
    "start_time": "2022-09-17T05:14:48.281Z"
   },
   {
    "duration": 65,
    "start_time": "2022-09-17T05:15:10.429Z"
   },
   {
    "duration": 320,
    "start_time": "2022-09-17T05:15:23.304Z"
   },
   {
    "duration": 66,
    "start_time": "2022-09-17T05:16:25.950Z"
   },
   {
    "duration": 12,
    "start_time": "2022-09-17T05:16:34.166Z"
   },
   {
    "duration": 203,
    "start_time": "2022-09-17T05:16:52.843Z"
   },
   {
    "duration": 200,
    "start_time": "2022-09-17T05:17:12.301Z"
   },
   {
    "duration": 203,
    "start_time": "2022-09-17T05:17:27.782Z"
   },
   {
    "duration": 11,
    "start_time": "2022-09-17T05:17:56.021Z"
   },
   {
    "duration": 8,
    "start_time": "2022-09-17T05:18:26.732Z"
   },
   {
    "duration": 9,
    "start_time": "2022-09-17T05:20:46.204Z"
   },
   {
    "duration": 32,
    "start_time": "2022-09-17T05:21:02.959Z"
   },
   {
    "duration": 244,
    "start_time": "2022-09-17T05:21:17.763Z"
   },
   {
    "duration": 245,
    "start_time": "2022-09-17T05:21:39.097Z"
   },
   {
    "duration": 261,
    "start_time": "2022-09-17T05:22:26.744Z"
   },
   {
    "duration": 294,
    "start_time": "2022-09-17T05:23:09.828Z"
   },
   {
    "duration": 290,
    "start_time": "2022-09-17T05:24:23.708Z"
   },
   {
    "duration": 9,
    "start_time": "2022-09-17T05:24:46.261Z"
   },
   {
    "duration": 8,
    "start_time": "2022-09-17T05:25:00.245Z"
   },
   {
    "duration": 8,
    "start_time": "2022-09-17T05:26:00.003Z"
   },
   {
    "duration": 319,
    "start_time": "2022-09-17T05:26:12.246Z"
   },
   {
    "duration": 40,
    "start_time": "2022-09-17T05:26:48.367Z"
   },
   {
    "duration": 1184,
    "start_time": "2022-09-17T05:27:04.327Z"
   },
   {
    "duration": 84,
    "start_time": "2022-09-17T05:27:26.463Z"
   },
   {
    "duration": 33,
    "start_time": "2022-09-17T05:27:32.825Z"
   },
   {
    "duration": 11,
    "start_time": "2022-09-17T05:27:45.255Z"
   },
   {
    "duration": 331,
    "start_time": "2022-09-17T05:29:34.493Z"
   },
   {
    "duration": 193,
    "start_time": "2022-09-17T05:30:01.812Z"
   },
   {
    "duration": 203,
    "start_time": "2022-09-17T05:30:17.242Z"
   },
   {
    "duration": 9,
    "start_time": "2022-09-17T05:37:17.121Z"
   },
   {
    "duration": 212,
    "start_time": "2022-09-17T05:37:23.245Z"
   },
   {
    "duration": 242,
    "start_time": "2022-09-17T05:37:47.029Z"
   },
   {
    "duration": 218,
    "start_time": "2022-09-17T05:38:13.769Z"
   },
   {
    "duration": 8,
    "start_time": "2022-09-17T05:38:55.522Z"
   },
   {
    "duration": 9,
    "start_time": "2022-09-17T05:39:01.045Z"
   },
   {
    "duration": 29,
    "start_time": "2022-09-17T05:41:14.467Z"
   },
   {
    "duration": 17,
    "start_time": "2022-09-17T05:41:25.788Z"
   },
   {
    "duration": 56,
    "start_time": "2022-09-20T13:46:07.117Z"
   },
   {
    "duration": 971,
    "start_time": "2022-09-20T13:46:21.912Z"
   },
   {
    "duration": 14,
    "start_time": "2022-09-20T13:46:22.885Z"
   },
   {
    "duration": 2301,
    "start_time": "2022-09-20T13:46:22.900Z"
   },
   {
    "duration": 10,
    "start_time": "2022-09-20T13:46:25.204Z"
   },
   {
    "duration": 19,
    "start_time": "2022-09-20T13:46:25.217Z"
   },
   {
    "duration": 11,
    "start_time": "2022-09-20T13:46:25.240Z"
   },
   {
    "duration": 21,
    "start_time": "2022-09-20T13:46:25.253Z"
   },
   {
    "duration": 35,
    "start_time": "2022-09-20T13:46:25.276Z"
   },
   {
    "duration": 165,
    "start_time": "2022-09-20T13:46:25.313Z"
   },
   {
    "duration": 264,
    "start_time": "2022-09-20T13:46:25.479Z"
   },
   {
    "duration": 7,
    "start_time": "2022-09-20T13:46:25.745Z"
   },
   {
    "duration": 26,
    "start_time": "2022-09-20T13:46:25.754Z"
   },
   {
    "duration": 8,
    "start_time": "2022-09-20T13:46:26.622Z"
   },
   {
    "duration": 55,
    "start_time": "2022-09-20T13:46:26.632Z"
   },
   {
    "duration": 49,
    "start_time": "2022-09-20T13:46:26.688Z"
   },
   {
    "duration": 10,
    "start_time": "2022-09-20T13:46:26.847Z"
   },
   {
    "duration": 394,
    "start_time": "2022-09-20T13:46:26.858Z"
   },
   {
    "duration": 10,
    "start_time": "2022-09-20T13:46:27.255Z"
   },
   {
    "duration": 250,
    "start_time": "2022-09-20T13:46:27.267Z"
   },
   {
    "duration": 3,
    "start_time": "2022-09-20T13:46:27.519Z"
   },
   {
    "duration": 227,
    "start_time": "2022-09-20T13:48:26.552Z"
   },
   {
    "duration": 103,
    "start_time": "2022-09-20T13:57:06.112Z"
   },
   {
    "duration": 103,
    "start_time": "2022-09-20T13:57:32.757Z"
   },
   {
    "duration": 108,
    "start_time": "2022-09-20T13:57:43.735Z"
   },
   {
    "duration": 122,
    "start_time": "2022-09-20T13:58:01.516Z"
   },
   {
    "duration": 112,
    "start_time": "2022-09-20T13:58:18.038Z"
   },
   {
    "duration": 121,
    "start_time": "2022-09-20T13:58:31.613Z"
   },
   {
    "duration": 106,
    "start_time": "2022-09-20T13:58:40.533Z"
   },
   {
    "duration": 10,
    "start_time": "2022-09-20T14:00:51.149Z"
   },
   {
    "duration": 23,
    "start_time": "2022-09-20T14:01:57.727Z"
   },
   {
    "duration": 249,
    "start_time": "2022-09-20T14:02:37.016Z"
   },
   {
    "duration": 438,
    "start_time": "2022-09-20T14:02:47.318Z"
   },
   {
    "duration": 13,
    "start_time": "2022-09-20T14:02:47.757Z"
   },
   {
    "duration": 1861,
    "start_time": "2022-09-20T14:02:47.772Z"
   },
   {
    "duration": 18,
    "start_time": "2022-09-20T14:02:49.634Z"
   },
   {
    "duration": 13,
    "start_time": "2022-09-20T14:02:49.655Z"
   },
   {
    "duration": 2,
    "start_time": "2022-09-20T14:02:49.669Z"
   },
   {
    "duration": 18,
    "start_time": "2022-09-20T14:02:49.672Z"
   },
   {
    "duration": 6,
    "start_time": "2022-09-20T14:02:49.691Z"
   },
   {
    "duration": 116,
    "start_time": "2022-09-20T14:02:49.698Z"
   },
   {
    "duration": 366,
    "start_time": "2022-09-20T14:02:49.816Z"
   },
   {
    "duration": 16,
    "start_time": "2022-09-20T14:02:50.184Z"
   },
   {
    "duration": 25,
    "start_time": "2022-09-20T14:02:50.202Z"
   },
   {
    "duration": 33,
    "start_time": "2022-09-20T14:02:50.229Z"
   },
   {
    "duration": 4,
    "start_time": "2022-09-20T14:02:50.265Z"
   },
   {
    "duration": 6,
    "start_time": "2022-09-20T14:02:50.271Z"
   },
   {
    "duration": 4,
    "start_time": "2022-09-20T14:02:50.278Z"
   },
   {
    "duration": 10,
    "start_time": "2022-09-20T14:02:50.284Z"
   },
   {
    "duration": 331,
    "start_time": "2022-09-20T14:02:50.296Z"
   },
   {
    "duration": 14,
    "start_time": "2022-09-20T14:02:50.628Z"
   },
   {
    "duration": 205,
    "start_time": "2022-09-20T14:02:50.648Z"
   },
   {
    "duration": 2,
    "start_time": "2022-09-20T14:02:50.855Z"
   },
   {
    "duration": 15,
    "start_time": "2022-09-20T14:03:27.747Z"
   },
   {
    "duration": 15,
    "start_time": "2022-09-20T14:03:53.281Z"
   },
   {
    "duration": 262,
    "start_time": "2022-09-20T14:04:11.397Z"
   },
   {
    "duration": 239,
    "start_time": "2022-09-20T14:04:45.781Z"
   },
   {
    "duration": 40,
    "start_time": "2022-09-20T14:06:42.656Z"
   },
   {
    "duration": 13,
    "start_time": "2022-09-20T14:07:20.853Z"
   },
   {
    "duration": 4,
    "start_time": "2022-09-20T14:08:09.538Z"
   },
   {
    "duration": 13,
    "start_time": "2022-09-20T14:08:20.540Z"
   },
   {
    "duration": 19,
    "start_time": "2022-09-20T14:10:42.117Z"
   },
   {
    "duration": 15,
    "start_time": "2022-09-20T14:12:46.038Z"
   },
   {
    "duration": 12,
    "start_time": "2022-09-20T14:13:28.564Z"
   },
   {
    "duration": 10,
    "start_time": "2022-09-20T14:14:42.539Z"
   },
   {
    "duration": 10,
    "start_time": "2022-09-20T14:16:04.295Z"
   },
   {
    "duration": 331,
    "start_time": "2022-09-20T14:18:16.619Z"
   },
   {
    "duration": 13,
    "start_time": "2022-09-20T14:18:16.952Z"
   },
   {
    "duration": 1902,
    "start_time": "2022-09-20T14:18:16.967Z"
   },
   {
    "duration": 14,
    "start_time": "2022-09-20T14:18:18.871Z"
   },
   {
    "duration": 58,
    "start_time": "2022-09-20T14:18:18.887Z"
   },
   {
    "duration": 31,
    "start_time": "2022-09-20T14:18:18.947Z"
   },
   {
    "duration": 52,
    "start_time": "2022-09-20T14:18:18.981Z"
   },
   {
    "duration": 32,
    "start_time": "2022-09-20T14:18:19.035Z"
   },
   {
    "duration": 189,
    "start_time": "2022-09-20T14:18:19.069Z"
   },
   {
    "duration": 239,
    "start_time": "2022-09-20T14:18:19.260Z"
   },
   {
    "duration": 244,
    "start_time": "2022-09-20T14:18:19.501Z"
   },
   {
    "duration": 5,
    "start_time": "2022-09-20T14:18:19.747Z"
   },
   {
    "duration": 13,
    "start_time": "2022-09-20T14:18:19.753Z"
   },
   {
    "duration": 3,
    "start_time": "2022-09-20T14:18:19.769Z"
   },
   {
    "duration": 11,
    "start_time": "2022-09-20T14:19:47.195Z"
   },
   {
    "duration": 939,
    "start_time": "2022-09-21T04:31:35.961Z"
   },
   {
    "duration": 13,
    "start_time": "2022-09-21T04:31:36.902Z"
   },
   {
    "duration": 2100,
    "start_time": "2022-09-21T04:31:36.917Z"
   },
   {
    "duration": 10,
    "start_time": "2022-09-21T04:31:39.018Z"
   },
   {
    "duration": 15,
    "start_time": "2022-09-21T04:31:39.030Z"
   },
   {
    "duration": 3,
    "start_time": "2022-09-21T04:31:39.046Z"
   },
   {
    "duration": 15,
    "start_time": "2022-09-21T04:31:39.051Z"
   },
   {
    "duration": 6,
    "start_time": "2022-09-21T04:31:39.067Z"
   },
   {
    "duration": 105,
    "start_time": "2022-09-21T04:31:39.075Z"
   },
   {
    "duration": 226,
    "start_time": "2022-09-21T04:31:39.181Z"
   },
   {
    "duration": 232,
    "start_time": "2022-09-21T04:31:39.409Z"
   },
   {
    "duration": 4,
    "start_time": "2022-09-21T04:31:39.643Z"
   },
   {
    "duration": 14,
    "start_time": "2022-09-21T04:31:39.649Z"
   },
   {
    "duration": 4,
    "start_time": "2022-09-21T04:31:39.665Z"
   },
   {
    "duration": 7,
    "start_time": "2022-09-21T04:31:39.671Z"
   },
   {
    "duration": 26,
    "start_time": "2022-09-21T04:31:39.680Z"
   },
   {
    "duration": 93,
    "start_time": "2022-09-21T04:31:39.708Z"
   },
   {
    "duration": 244,
    "start_time": "2022-09-21T04:31:39.803Z"
   },
   {
    "duration": 220,
    "start_time": "2022-09-21T04:31:40.049Z"
   },
   {
    "duration": 6,
    "start_time": "2022-09-21T04:31:40.271Z"
   },
   {
    "duration": 198,
    "start_time": "2022-09-21T04:31:40.278Z"
   },
   {
    "duration": 2,
    "start_time": "2022-09-21T04:31:40.478Z"
   },
   {
    "duration": 156,
    "start_time": "2022-09-21T04:31:40.481Z"
   },
   {
    "duration": 159,
    "start_time": "2022-09-21T04:31:40.639Z"
   },
   {
    "duration": 227,
    "start_time": "2022-09-21T04:31:40.800Z"
   },
   {
    "duration": 234,
    "start_time": "2022-09-21T04:31:41.033Z"
   },
   {
    "duration": 324,
    "start_time": "2022-09-21T04:31:41.268Z"
   },
   {
    "duration": 150,
    "start_time": "2022-09-21T04:31:41.593Z"
   },
   {
    "duration": 3,
    "start_time": "2022-09-21T04:31:41.745Z"
   },
   {
    "duration": 161,
    "start_time": "2022-09-21T04:31:41.750Z"
   },
   {
    "duration": 235,
    "start_time": "2022-09-21T04:31:41.912Z"
   },
   {
    "duration": 248,
    "start_time": "2022-09-21T04:34:08.439Z"
   },
   {
    "duration": 245,
    "start_time": "2022-09-21T04:35:19.683Z"
   },
   {
    "duration": 363,
    "start_time": "2022-09-21T04:35:37.977Z"
   },
   {
    "duration": 69,
    "start_time": "2022-09-21T04:37:25.798Z"
   },
   {
    "duration": 5,
    "start_time": "2022-09-21T04:37:30.861Z"
   },
   {
    "duration": 9,
    "start_time": "2022-09-21T04:38:25.101Z"
   },
   {
    "duration": 10,
    "start_time": "2022-09-21T04:38:51.661Z"
   },
   {
    "duration": 10,
    "start_time": "2022-09-21T04:42:56.677Z"
   },
   {
    "duration": 55,
    "start_time": "2022-09-21T04:46:29.593Z"
   },
   {
    "duration": 10,
    "start_time": "2022-09-21T04:46:34.242Z"
   },
   {
    "duration": 16,
    "start_time": "2022-09-21T04:47:11.862Z"
   },
   {
    "duration": 16,
    "start_time": "2022-09-21T04:48:04.558Z"
   },
   {
    "duration": 31,
    "start_time": "2022-09-21T04:48:27.902Z"
   },
   {
    "duration": 11,
    "start_time": "2022-09-21T04:49:16.043Z"
   },
   {
    "duration": 18,
    "start_time": "2022-09-21T04:49:53.600Z"
   },
   {
    "duration": 29,
    "start_time": "2022-09-21T04:50:36.342Z"
   },
   {
    "duration": 19,
    "start_time": "2022-09-21T04:50:40.905Z"
   },
   {
    "duration": 22,
    "start_time": "2022-09-21T04:50:45.523Z"
   },
   {
    "duration": 21,
    "start_time": "2022-09-21T04:50:45.547Z"
   },
   {
    "duration": 2,
    "start_time": "2022-09-21T04:50:45.740Z"
   },
   {
    "duration": 30,
    "start_time": "2022-09-21T04:50:45.744Z"
   },
   {
    "duration": 27,
    "start_time": "2022-09-21T04:50:45.776Z"
   },
   {
    "duration": 16,
    "start_time": "2022-09-21T04:50:45.950Z"
   },
   {
    "duration": 11,
    "start_time": "2022-09-21T04:51:40.097Z"
   },
   {
    "duration": 182,
    "start_time": "2022-09-21T04:51:58.364Z"
   },
   {
    "duration": 186,
    "start_time": "2022-09-21T04:52:24.357Z"
   },
   {
    "duration": 208,
    "start_time": "2022-09-21T04:52:39.958Z"
   },
   {
    "duration": 350,
    "start_time": "2022-09-21T04:53:06.818Z"
   },
   {
    "duration": 348,
    "start_time": "2022-09-21T04:53:27.040Z"
   },
   {
    "duration": 378,
    "start_time": "2022-09-21T04:53:36.591Z"
   },
   {
    "duration": 200,
    "start_time": "2022-09-21T04:53:50.318Z"
   },
   {
    "duration": 359,
    "start_time": "2022-09-21T04:54:13.337Z"
   },
   {
    "duration": 226,
    "start_time": "2022-09-21T04:55:19.037Z"
   },
   {
    "duration": 176,
    "start_time": "2022-09-21T04:55:31.183Z"
   },
   {
    "duration": 186,
    "start_time": "2022-09-21T04:55:37.413Z"
   },
   {
    "duration": 280,
    "start_time": "2022-09-21T04:55:43.552Z"
   },
   {
    "duration": 7,
    "start_time": "2022-09-21T04:59:42.316Z"
   },
   {
    "duration": 9,
    "start_time": "2022-09-21T05:00:16.138Z"
   },
   {
    "duration": 7,
    "start_time": "2022-09-21T05:00:42.618Z"
   },
   {
    "duration": 271,
    "start_time": "2022-09-21T05:00:46.297Z"
   },
   {
    "duration": 8,
    "start_time": "2022-09-21T05:01:07.954Z"
   },
   {
    "duration": 224,
    "start_time": "2022-09-21T05:01:10.038Z"
   },
   {
    "duration": 8,
    "start_time": "2022-09-21T05:01:23.717Z"
   },
   {
    "duration": 259,
    "start_time": "2022-09-21T05:01:28.122Z"
   },
   {
    "duration": 242,
    "start_time": "2022-09-21T05:01:44.701Z"
   },
   {
    "duration": 257,
    "start_time": "2022-09-21T05:01:44.945Z"
   },
   {
    "duration": 317,
    "start_time": "2022-09-21T05:01:45.204Z"
   },
   {
    "duration": 16,
    "start_time": "2022-09-21T05:01:45.522Z"
   },
   {
    "duration": 9,
    "start_time": "2022-09-21T05:01:45.541Z"
   },
   {
    "duration": 12,
    "start_time": "2022-09-21T05:01:45.551Z"
   },
   {
    "duration": 9,
    "start_time": "2022-09-21T05:01:45.565Z"
   },
   {
    "duration": 10,
    "start_time": "2022-09-21T05:01:45.575Z"
   },
   {
    "duration": 476,
    "start_time": "2022-09-21T05:04:46.778Z"
   },
   {
    "duration": 294,
    "start_time": "2022-09-21T05:04:47.256Z"
   },
   {
    "duration": 2,
    "start_time": "2022-09-21T05:04:47.552Z"
   },
   {
    "duration": 305,
    "start_time": "2022-09-21T05:04:47.555Z"
   },
   {
    "duration": 292,
    "start_time": "2022-09-21T05:04:47.863Z"
   },
   {
    "duration": 295,
    "start_time": "2022-09-21T05:04:48.156Z"
   },
   {
    "duration": 228,
    "start_time": "2022-09-21T05:05:27.041Z"
   },
   {
    "duration": 258,
    "start_time": "2022-09-21T05:05:34.039Z"
   },
   {
    "duration": 198,
    "start_time": "2022-09-21T05:05:38.299Z"
   },
   {
    "duration": 178,
    "start_time": "2022-09-21T05:05:49.406Z"
   },
   {
    "duration": 178,
    "start_time": "2022-09-21T05:06:04.304Z"
   },
   {
    "duration": 170,
    "start_time": "2022-09-21T05:06:21.382Z"
   },
   {
    "duration": 210,
    "start_time": "2022-09-21T05:06:33.939Z"
   },
   {
    "duration": 248,
    "start_time": "2022-09-21T05:06:39.478Z"
   },
   {
    "duration": 188,
    "start_time": "2022-09-21T05:06:46.790Z"
   },
   {
    "duration": 67,
    "start_time": "2022-09-21T05:06:50.880Z"
   },
   {
    "duration": 173,
    "start_time": "2022-09-21T05:06:58.268Z"
   },
   {
    "duration": 401,
    "start_time": "2022-09-21T05:07:01.376Z"
   },
   {
    "duration": 1378,
    "start_time": "2022-09-21T05:08:47.000Z"
   },
   {
    "duration": 21,
    "start_time": "2022-09-21T05:09:00.349Z"
   },
   {
    "duration": 16,
    "start_time": "2022-09-21T05:11:06.519Z"
   },
   {
    "duration": 74,
    "start_time": "2022-09-21T05:12:32.217Z"
   },
   {
    "duration": 990,
    "start_time": "2022-09-21T05:12:38.099Z"
   },
   {
    "duration": 20,
    "start_time": "2022-09-21T05:12:59.184Z"
   },
   {
    "duration": 1026,
    "start_time": "2022-09-21T05:14:15.223Z"
   },
   {
    "duration": 20,
    "start_time": "2022-09-21T05:14:58.747Z"
   },
   {
    "duration": 19,
    "start_time": "2022-09-21T05:16:26.220Z"
   },
   {
    "duration": 205,
    "start_time": "2022-09-21T05:16:42.580Z"
   },
   {
    "duration": 174,
    "start_time": "2022-09-21T05:16:51.417Z"
   },
   {
    "duration": 182,
    "start_time": "2022-09-21T05:17:00.076Z"
   },
   {
    "duration": 249,
    "start_time": "2022-09-21T05:17:19.373Z"
   },
   {
    "duration": 246,
    "start_time": "2022-09-21T05:17:27.724Z"
   },
   {
    "duration": 176,
    "start_time": "2022-09-21T05:17:36.697Z"
   },
   {
    "duration": 172,
    "start_time": "2022-09-21T05:17:45.301Z"
   },
   {
    "duration": 195,
    "start_time": "2022-09-21T05:18:26.100Z"
   },
   {
    "duration": 28525,
    "start_time": "2022-09-21T05:22:54.547Z"
   },
   {
    "duration": 44,
    "start_time": "2022-09-21T05:23:24.022Z"
   },
   {
    "duration": 12,
    "start_time": "2022-09-21T05:28:13.677Z"
   },
   {
    "duration": 73,
    "start_time": "2022-09-21T05:29:07.182Z"
   },
   {
    "duration": 19,
    "start_time": "2022-09-21T05:29:14.121Z"
   },
   {
    "duration": 18,
    "start_time": "2022-09-21T05:32:25.776Z"
   },
   {
    "duration": 49,
    "start_time": "2022-09-21T05:35:35.570Z"
   },
   {
    "duration": 18,
    "start_time": "2022-09-21T05:35:39.577Z"
   },
   {
    "duration": 131,
    "start_time": "2022-09-21T16:58:26.257Z"
   },
   {
    "duration": 132,
    "start_time": "2022-09-21T16:58:37.201Z"
   },
   {
    "duration": 313,
    "start_time": "2022-09-21T16:59:03.916Z"
   },
   {
    "duration": 13,
    "start_time": "2022-09-21T16:59:04.231Z"
   },
   {
    "duration": 1857,
    "start_time": "2022-09-21T16:59:04.246Z"
   },
   {
    "duration": 19,
    "start_time": "2022-09-21T16:59:06.104Z"
   },
   {
    "duration": 12,
    "start_time": "2022-09-21T16:59:06.125Z"
   },
   {
    "duration": 2,
    "start_time": "2022-09-21T16:59:06.139Z"
   },
   {
    "duration": 9,
    "start_time": "2022-09-21T16:59:06.142Z"
   },
   {
    "duration": 11,
    "start_time": "2022-09-21T16:59:06.153Z"
   },
   {
    "duration": 99,
    "start_time": "2022-09-21T16:59:06.166Z"
   },
   {
    "duration": 196,
    "start_time": "2022-09-21T16:59:06.266Z"
   },
   {
    "duration": 163,
    "start_time": "2022-09-21T16:59:06.464Z"
   },
   {
    "duration": 4,
    "start_time": "2022-09-21T16:59:06.628Z"
   },
   {
    "duration": 14,
    "start_time": "2022-09-21T16:59:06.634Z"
   },
   {
    "duration": 20,
    "start_time": "2022-09-21T16:59:06.651Z"
   },
   {
    "duration": 7,
    "start_time": "2022-09-21T16:59:06.672Z"
   },
   {
    "duration": 8,
    "start_time": "2022-09-21T16:59:06.681Z"
   },
   {
    "duration": 8,
    "start_time": "2022-09-21T16:59:06.691Z"
   },
   {
    "duration": 206,
    "start_time": "2022-09-21T16:59:06.701Z"
   },
   {
    "duration": 215,
    "start_time": "2022-09-21T16:59:06.908Z"
   },
   {
    "duration": 5,
    "start_time": "2022-09-21T16:59:07.125Z"
   },
   {
    "duration": 115,
    "start_time": "2022-09-21T16:59:07.132Z"
   },
   {
    "duration": 2,
    "start_time": "2022-09-21T16:59:07.249Z"
   },
   {
    "duration": 161,
    "start_time": "2022-09-21T16:59:07.252Z"
   },
   {
    "duration": 158,
    "start_time": "2022-09-21T16:59:07.415Z"
   },
   {
    "duration": 210,
    "start_time": "2022-09-21T16:59:07.575Z"
   },
   {
    "duration": 232,
    "start_time": "2022-09-21T16:59:07.787Z"
   },
   {
    "duration": 450,
    "start_time": "2022-09-21T16:59:08.021Z"
   },
   {
    "duration": 134,
    "start_time": "2022-09-21T16:59:08.472Z"
   },
   {
    "duration": 3,
    "start_time": "2022-09-21T16:59:08.608Z"
   },
   {
    "duration": 126,
    "start_time": "2022-09-21T16:59:08.621Z"
   },
   {
    "duration": 295,
    "start_time": "2022-09-21T16:59:08.749Z"
   },
   {
    "duration": 7,
    "start_time": "2022-09-21T16:59:09.046Z"
   },
   {
    "duration": 30,
    "start_time": "2022-09-21T16:59:09.055Z"
   },
   {
    "duration": 35,
    "start_time": "2022-09-21T16:59:09.088Z"
   },
   {
    "duration": 128,
    "start_time": "2022-09-21T16:59:09.124Z"
   },
   {
    "duration": 121,
    "start_time": "2022-09-21T16:59:09.253Z"
   },
   {
    "duration": 276,
    "start_time": "2022-09-21T16:59:09.376Z"
   },
   {
    "duration": 184,
    "start_time": "2022-09-21T16:59:09.654Z"
   },
   {
    "duration": 1,
    "start_time": "2022-09-21T16:59:09.840Z"
   },
   {
    "duration": 166,
    "start_time": "2022-09-21T16:59:09.842Z"
   },
   {
    "duration": 178,
    "start_time": "2022-09-21T16:59:10.011Z"
   },
   {
    "duration": 170,
    "start_time": "2022-09-21T16:59:10.190Z"
   },
   {
    "duration": 17,
    "start_time": "2022-09-21T17:05:36.629Z"
   },
   {
    "duration": 18,
    "start_time": "2022-09-21T17:05:53.462Z"
   },
   {
    "duration": 4,
    "start_time": "2022-09-21T17:21:44.438Z"
   },
   {
    "duration": 10,
    "start_time": "2022-09-21T17:22:40.039Z"
   },
   {
    "duration": 85,
    "start_time": "2022-09-21T17:22:56.594Z"
   },
   {
    "duration": 84,
    "start_time": "2022-09-21T17:24:10.198Z"
   },
   {
    "duration": 111,
    "start_time": "2022-09-21T17:24:19.836Z"
   },
   {
    "duration": 90,
    "start_time": "2022-09-21T17:24:39.100Z"
   },
   {
    "duration": 83,
    "start_time": "2022-09-21T17:24:51.358Z"
   },
   {
    "duration": 85,
    "start_time": "2022-09-21T17:25:07.276Z"
   },
   {
    "duration": 83,
    "start_time": "2022-09-21T17:25:14.123Z"
   },
   {
    "duration": 85,
    "start_time": "2022-09-21T17:25:59.941Z"
   },
   {
    "duration": 86,
    "start_time": "2022-09-21T17:26:14.123Z"
   },
   {
    "duration": 98,
    "start_time": "2022-09-21T17:26:56.525Z"
   },
   {
    "duration": 111,
    "start_time": "2022-09-21T17:29:58.899Z"
   },
   {
    "duration": 95,
    "start_time": "2022-09-21T17:30:08.555Z"
   },
   {
    "duration": 313,
    "start_time": "2022-09-21T17:30:24.438Z"
   },
   {
    "duration": 14,
    "start_time": "2022-09-21T17:30:24.754Z"
   },
   {
    "duration": 1983,
    "start_time": "2022-09-21T17:30:24.770Z"
   },
   {
    "duration": 9,
    "start_time": "2022-09-21T17:30:26.756Z"
   },
   {
    "duration": 14,
    "start_time": "2022-09-21T17:30:26.766Z"
   },
   {
    "duration": 8,
    "start_time": "2022-09-21T17:30:26.781Z"
   },
   {
    "duration": 7,
    "start_time": "2022-09-21T17:30:26.790Z"
   },
   {
    "duration": 89,
    "start_time": "2022-09-21T17:30:26.822Z"
   },
   {
    "duration": 114,
    "start_time": "2022-09-21T17:30:26.913Z"
   },
   {
    "duration": 102,
    "start_time": "2022-09-21T17:30:27.028Z"
   },
   {
    "duration": 21,
    "start_time": "2022-09-21T17:30:27.132Z"
   },
   {
    "duration": 0,
    "start_time": "2022-09-21T17:30:27.155Z"
   },
   {
    "duration": 0,
    "start_time": "2022-09-21T17:30:27.158Z"
   },
   {
    "duration": 0,
    "start_time": "2022-09-21T17:30:27.159Z"
   },
   {
    "duration": 0,
    "start_time": "2022-09-21T17:30:27.160Z"
   },
   {
    "duration": 0,
    "start_time": "2022-09-21T17:30:27.161Z"
   },
   {
    "duration": 0,
    "start_time": "2022-09-21T17:30:27.162Z"
   },
   {
    "duration": 0,
    "start_time": "2022-09-21T17:30:27.163Z"
   },
   {
    "duration": 0,
    "start_time": "2022-09-21T17:30:27.164Z"
   },
   {
    "duration": 0,
    "start_time": "2022-09-21T17:30:27.165Z"
   },
   {
    "duration": 0,
    "start_time": "2022-09-21T17:30:27.165Z"
   },
   {
    "duration": 0,
    "start_time": "2022-09-21T17:30:27.167Z"
   },
   {
    "duration": 0,
    "start_time": "2022-09-21T17:30:27.167Z"
   },
   {
    "duration": 0,
    "start_time": "2022-09-21T17:30:27.168Z"
   },
   {
    "duration": 0,
    "start_time": "2022-09-21T17:30:27.169Z"
   },
   {
    "duration": 0,
    "start_time": "2022-09-21T17:30:27.170Z"
   },
   {
    "duration": 0,
    "start_time": "2022-09-21T17:30:27.171Z"
   },
   {
    "duration": 0,
    "start_time": "2022-09-21T17:30:27.172Z"
   },
   {
    "duration": 0,
    "start_time": "2022-09-21T17:30:27.172Z"
   },
   {
    "duration": 0,
    "start_time": "2022-09-21T17:30:27.174Z"
   },
   {
    "duration": 0,
    "start_time": "2022-09-21T17:30:27.174Z"
   },
   {
    "duration": 0,
    "start_time": "2022-09-21T17:30:27.175Z"
   },
   {
    "duration": 0,
    "start_time": "2022-09-21T17:30:27.176Z"
   },
   {
    "duration": 0,
    "start_time": "2022-09-21T17:30:27.177Z"
   },
   {
    "duration": 0,
    "start_time": "2022-09-21T17:30:27.222Z"
   },
   {
    "duration": 0,
    "start_time": "2022-09-21T17:30:27.223Z"
   },
   {
    "duration": 0,
    "start_time": "2022-09-21T17:30:27.224Z"
   },
   {
    "duration": 0,
    "start_time": "2022-09-21T17:30:27.225Z"
   },
   {
    "duration": 0,
    "start_time": "2022-09-21T17:30:27.226Z"
   },
   {
    "duration": 0,
    "start_time": "2022-09-21T17:30:27.227Z"
   },
   {
    "duration": 0,
    "start_time": "2022-09-21T17:30:27.228Z"
   },
   {
    "duration": 0,
    "start_time": "2022-09-21T17:30:27.229Z"
   },
   {
    "duration": 0,
    "start_time": "2022-09-21T17:30:27.230Z"
   },
   {
    "duration": 85,
    "start_time": "2022-09-21T17:31:11.299Z"
   },
   {
    "duration": 299,
    "start_time": "2022-09-21T17:31:28.442Z"
   },
   {
    "duration": 13,
    "start_time": "2022-09-21T17:31:28.744Z"
   },
   {
    "duration": 1722,
    "start_time": "2022-09-21T17:31:28.758Z"
   },
   {
    "duration": 9,
    "start_time": "2022-09-21T17:31:30.482Z"
   },
   {
    "duration": 20,
    "start_time": "2022-09-21T17:31:30.493Z"
   },
   {
    "duration": 14,
    "start_time": "2022-09-21T17:31:30.515Z"
   },
   {
    "duration": 13,
    "start_time": "2022-09-21T17:31:30.530Z"
   },
   {
    "duration": 98,
    "start_time": "2022-09-21T17:31:30.545Z"
   },
   {
    "duration": 107,
    "start_time": "2022-09-21T17:31:30.645Z"
   },
   {
    "duration": 96,
    "start_time": "2022-09-21T17:31:30.754Z"
   },
   {
    "duration": 17,
    "start_time": "2022-09-21T17:31:30.852Z"
   },
   {
    "duration": 0,
    "start_time": "2022-09-21T17:31:30.871Z"
   },
   {
    "duration": 0,
    "start_time": "2022-09-21T17:31:30.873Z"
   },
   {
    "duration": 0,
    "start_time": "2022-09-21T17:31:30.873Z"
   },
   {
    "duration": 0,
    "start_time": "2022-09-21T17:31:30.874Z"
   },
   {
    "duration": 0,
    "start_time": "2022-09-21T17:31:30.875Z"
   },
   {
    "duration": 0,
    "start_time": "2022-09-21T17:31:30.876Z"
   },
   {
    "duration": 0,
    "start_time": "2022-09-21T17:31:30.877Z"
   },
   {
    "duration": 0,
    "start_time": "2022-09-21T17:31:30.878Z"
   },
   {
    "duration": 0,
    "start_time": "2022-09-21T17:31:30.879Z"
   },
   {
    "duration": 0,
    "start_time": "2022-09-21T17:31:30.879Z"
   },
   {
    "duration": 0,
    "start_time": "2022-09-21T17:31:30.880Z"
   },
   {
    "duration": 0,
    "start_time": "2022-09-21T17:31:30.881Z"
   },
   {
    "duration": 0,
    "start_time": "2022-09-21T17:31:30.882Z"
   },
   {
    "duration": 0,
    "start_time": "2022-09-21T17:31:30.883Z"
   },
   {
    "duration": 0,
    "start_time": "2022-09-21T17:31:30.884Z"
   },
   {
    "duration": 0,
    "start_time": "2022-09-21T17:31:30.885Z"
   },
   {
    "duration": 0,
    "start_time": "2022-09-21T17:31:30.922Z"
   },
   {
    "duration": 0,
    "start_time": "2022-09-21T17:31:30.923Z"
   },
   {
    "duration": 0,
    "start_time": "2022-09-21T17:31:30.924Z"
   },
   {
    "duration": 0,
    "start_time": "2022-09-21T17:31:30.925Z"
   },
   {
    "duration": 0,
    "start_time": "2022-09-21T17:31:30.926Z"
   },
   {
    "duration": 0,
    "start_time": "2022-09-21T17:31:30.927Z"
   },
   {
    "duration": 0,
    "start_time": "2022-09-21T17:31:30.928Z"
   },
   {
    "duration": 0,
    "start_time": "2022-09-21T17:31:30.929Z"
   },
   {
    "duration": 0,
    "start_time": "2022-09-21T17:31:30.930Z"
   },
   {
    "duration": 0,
    "start_time": "2022-09-21T17:31:30.931Z"
   },
   {
    "duration": 0,
    "start_time": "2022-09-21T17:31:30.932Z"
   },
   {
    "duration": 0,
    "start_time": "2022-09-21T17:31:30.933Z"
   },
   {
    "duration": 0,
    "start_time": "2022-09-21T17:31:30.935Z"
   },
   {
    "duration": 0,
    "start_time": "2022-09-21T17:31:30.936Z"
   },
   {
    "duration": 0,
    "start_time": "2022-09-21T17:31:30.937Z"
   },
   {
    "duration": 0,
    "start_time": "2022-09-21T17:31:30.938Z"
   },
   {
    "duration": 85,
    "start_time": "2022-09-21T17:32:40.927Z"
   },
   {
    "duration": 575,
    "start_time": "2022-09-21T17:35:47.736Z"
   },
   {
    "duration": 15,
    "start_time": "2022-09-21T17:35:48.313Z"
   },
   {
    "duration": 1728,
    "start_time": "2022-09-21T17:35:48.329Z"
   },
   {
    "duration": 9,
    "start_time": "2022-09-21T17:35:50.058Z"
   },
   {
    "duration": 15,
    "start_time": "2022-09-21T17:35:50.069Z"
   },
   {
    "duration": 8,
    "start_time": "2022-09-21T17:35:50.085Z"
   },
   {
    "duration": 29,
    "start_time": "2022-09-21T17:35:50.094Z"
   },
   {
    "duration": 87,
    "start_time": "2022-09-21T17:35:50.124Z"
   },
   {
    "duration": 114,
    "start_time": "2022-09-21T17:35:50.212Z"
   },
   {
    "duration": 109,
    "start_time": "2022-09-21T17:35:50.328Z"
   },
   {
    "duration": 19,
    "start_time": "2022-09-21T17:35:50.439Z"
   },
   {
    "duration": 0,
    "start_time": "2022-09-21T17:35:50.460Z"
   },
   {
    "duration": 0,
    "start_time": "2022-09-21T17:35:50.461Z"
   },
   {
    "duration": 0,
    "start_time": "2022-09-21T17:35:50.463Z"
   },
   {
    "duration": 0,
    "start_time": "2022-09-21T17:35:50.464Z"
   },
   {
    "duration": 0,
    "start_time": "2022-09-21T17:35:50.464Z"
   },
   {
    "duration": 0,
    "start_time": "2022-09-21T17:35:50.465Z"
   },
   {
    "duration": 0,
    "start_time": "2022-09-21T17:35:50.466Z"
   },
   {
    "duration": 0,
    "start_time": "2022-09-21T17:35:50.467Z"
   },
   {
    "duration": 0,
    "start_time": "2022-09-21T17:35:50.468Z"
   },
   {
    "duration": 0,
    "start_time": "2022-09-21T17:35:50.469Z"
   },
   {
    "duration": 0,
    "start_time": "2022-09-21T17:35:50.469Z"
   },
   {
    "duration": 0,
    "start_time": "2022-09-21T17:35:50.470Z"
   },
   {
    "duration": 0,
    "start_time": "2022-09-21T17:35:50.471Z"
   },
   {
    "duration": 0,
    "start_time": "2022-09-21T17:35:50.472Z"
   },
   {
    "duration": 0,
    "start_time": "2022-09-21T17:35:50.473Z"
   },
   {
    "duration": 0,
    "start_time": "2022-09-21T17:35:50.474Z"
   },
   {
    "duration": 0,
    "start_time": "2022-09-21T17:35:50.475Z"
   },
   {
    "duration": 0,
    "start_time": "2022-09-21T17:35:50.476Z"
   },
   {
    "duration": 0,
    "start_time": "2022-09-21T17:35:50.477Z"
   },
   {
    "duration": 0,
    "start_time": "2022-09-21T17:35:50.478Z"
   },
   {
    "duration": 0,
    "start_time": "2022-09-21T17:35:50.479Z"
   },
   {
    "duration": 0,
    "start_time": "2022-09-21T17:35:50.522Z"
   },
   {
    "duration": 0,
    "start_time": "2022-09-21T17:35:50.524Z"
   },
   {
    "duration": 0,
    "start_time": "2022-09-21T17:35:50.525Z"
   },
   {
    "duration": 0,
    "start_time": "2022-09-21T17:35:50.526Z"
   },
   {
    "duration": 0,
    "start_time": "2022-09-21T17:35:50.527Z"
   },
   {
    "duration": 0,
    "start_time": "2022-09-21T17:35:50.528Z"
   },
   {
    "duration": 0,
    "start_time": "2022-09-21T17:35:50.529Z"
   },
   {
    "duration": 0,
    "start_time": "2022-09-21T17:35:50.530Z"
   },
   {
    "duration": 0,
    "start_time": "2022-09-21T17:35:50.531Z"
   },
   {
    "duration": 0,
    "start_time": "2022-09-21T17:35:50.532Z"
   },
   {
    "duration": 0,
    "start_time": "2022-09-21T17:35:50.533Z"
   },
   {
    "duration": 87,
    "start_time": "2022-09-21T17:38:03.200Z"
   },
   {
    "duration": 86,
    "start_time": "2022-09-21T17:38:19.878Z"
   },
   {
    "duration": 84,
    "start_time": "2022-09-21T17:38:26.299Z"
   },
   {
    "duration": 89,
    "start_time": "2022-09-21T17:39:24.223Z"
   },
   {
    "duration": 90,
    "start_time": "2022-09-21T17:43:25.104Z"
   },
   {
    "duration": 85,
    "start_time": "2022-09-21T17:43:37.972Z"
   },
   {
    "duration": 86,
    "start_time": "2022-09-21T17:44:39.226Z"
   },
   {
    "duration": 88,
    "start_time": "2022-09-21T17:46:22.887Z"
   },
   {
    "duration": 90,
    "start_time": "2022-09-21T17:46:35.117Z"
   },
   {
    "duration": 92,
    "start_time": "2022-09-21T17:46:45.879Z"
   },
   {
    "duration": 8,
    "start_time": "2022-09-21T17:47:04.763Z"
   },
   {
    "duration": 88,
    "start_time": "2022-09-21T17:47:07.338Z"
   },
   {
    "duration": 85,
    "start_time": "2022-09-21T17:48:11.969Z"
   },
   {
    "duration": 85,
    "start_time": "2022-09-21T17:48:55.538Z"
   },
   {
    "duration": 84,
    "start_time": "2022-09-21T17:49:06.696Z"
   },
   {
    "duration": 11,
    "start_time": "2022-09-21T17:49:35.477Z"
   },
   {
    "duration": 94,
    "start_time": "2022-09-21T17:49:38.546Z"
   },
   {
    "duration": 8,
    "start_time": "2022-09-21T17:49:51.047Z"
   },
   {
    "duration": 85,
    "start_time": "2022-09-21T17:49:59.257Z"
   },
   {
    "duration": 127,
    "start_time": "2022-09-21T17:50:58.302Z"
   },
   {
    "duration": 303,
    "start_time": "2022-09-21T17:51:06.919Z"
   },
   {
    "duration": 13,
    "start_time": "2022-09-21T17:51:07.223Z"
   },
   {
    "duration": 2112,
    "start_time": "2022-09-21T17:51:07.237Z"
   },
   {
    "duration": 9,
    "start_time": "2022-09-21T17:51:09.350Z"
   },
   {
    "duration": 17,
    "start_time": "2022-09-21T17:51:09.361Z"
   },
   {
    "duration": 7,
    "start_time": "2022-09-21T17:51:09.380Z"
   },
   {
    "duration": 10,
    "start_time": "2022-09-21T17:51:09.389Z"
   },
   {
    "duration": 104,
    "start_time": "2022-09-21T17:51:09.401Z"
   },
   {
    "duration": 136,
    "start_time": "2022-09-21T17:51:09.507Z"
   },
   {
    "duration": 0,
    "start_time": "2022-09-21T17:51:09.645Z"
   },
   {
    "duration": 0,
    "start_time": "2022-09-21T17:51:09.646Z"
   },
   {
    "duration": 0,
    "start_time": "2022-09-21T17:51:09.648Z"
   },
   {
    "duration": 0,
    "start_time": "2022-09-21T17:51:09.648Z"
   },
   {
    "duration": 0,
    "start_time": "2022-09-21T17:51:09.649Z"
   },
   {
    "duration": 0,
    "start_time": "2022-09-21T17:51:09.650Z"
   },
   {
    "duration": 0,
    "start_time": "2022-09-21T17:51:09.651Z"
   },
   {
    "duration": 0,
    "start_time": "2022-09-21T17:51:09.652Z"
   },
   {
    "duration": 0,
    "start_time": "2022-09-21T17:51:09.653Z"
   },
   {
    "duration": 0,
    "start_time": "2022-09-21T17:51:09.654Z"
   },
   {
    "duration": 0,
    "start_time": "2022-09-21T17:51:09.655Z"
   },
   {
    "duration": 0,
    "start_time": "2022-09-21T17:51:09.656Z"
   },
   {
    "duration": 0,
    "start_time": "2022-09-21T17:51:09.657Z"
   },
   {
    "duration": 0,
    "start_time": "2022-09-21T17:51:09.658Z"
   },
   {
    "duration": 0,
    "start_time": "2022-09-21T17:51:09.659Z"
   },
   {
    "duration": 0,
    "start_time": "2022-09-21T17:51:09.660Z"
   },
   {
    "duration": 0,
    "start_time": "2022-09-21T17:51:09.661Z"
   },
   {
    "duration": 0,
    "start_time": "2022-09-21T17:51:09.662Z"
   },
   {
    "duration": 0,
    "start_time": "2022-09-21T17:51:09.663Z"
   },
   {
    "duration": 0,
    "start_time": "2022-09-21T17:51:09.664Z"
   },
   {
    "duration": 0,
    "start_time": "2022-09-21T17:51:09.665Z"
   },
   {
    "duration": 0,
    "start_time": "2022-09-21T17:51:09.665Z"
   },
   {
    "duration": 0,
    "start_time": "2022-09-21T17:51:09.667Z"
   },
   {
    "duration": 0,
    "start_time": "2022-09-21T17:51:09.667Z"
   },
   {
    "duration": 0,
    "start_time": "2022-09-21T17:51:09.668Z"
   },
   {
    "duration": 0,
    "start_time": "2022-09-21T17:51:09.669Z"
   },
   {
    "duration": 0,
    "start_time": "2022-09-21T17:51:09.670Z"
   },
   {
    "duration": 0,
    "start_time": "2022-09-21T17:51:09.671Z"
   },
   {
    "duration": 0,
    "start_time": "2022-09-21T17:51:09.671Z"
   },
   {
    "duration": 0,
    "start_time": "2022-09-21T17:51:09.672Z"
   },
   {
    "duration": 0,
    "start_time": "2022-09-21T17:51:09.722Z"
   },
   {
    "duration": 0,
    "start_time": "2022-09-21T17:51:09.723Z"
   },
   {
    "duration": 0,
    "start_time": "2022-09-21T17:51:09.724Z"
   },
   {
    "duration": 0,
    "start_time": "2022-09-21T17:51:09.725Z"
   },
   {
    "duration": 0,
    "start_time": "2022-09-21T17:51:09.726Z"
   },
   {
    "duration": 100,
    "start_time": "2022-09-21T17:52:10.645Z"
   },
   {
    "duration": 83,
    "start_time": "2022-09-21T17:52:14.945Z"
   },
   {
    "duration": 87,
    "start_time": "2022-09-21T17:52:46.345Z"
   },
   {
    "duration": 92,
    "start_time": "2022-09-21T17:52:59.485Z"
   },
   {
    "duration": 88,
    "start_time": "2022-09-21T17:54:03.870Z"
   },
   {
    "duration": 143,
    "start_time": "2022-09-21T17:58:09.562Z"
   },
   {
    "duration": 312,
    "start_time": "2022-09-21T17:58:41.905Z"
   },
   {
    "duration": 14,
    "start_time": "2022-09-21T17:58:42.223Z"
   },
   {
    "duration": 1668,
    "start_time": "2022-09-21T17:58:42.239Z"
   },
   {
    "duration": 17,
    "start_time": "2022-09-21T17:58:43.909Z"
   },
   {
    "duration": 14,
    "start_time": "2022-09-21T17:58:43.928Z"
   },
   {
    "duration": 8,
    "start_time": "2022-09-21T17:58:43.943Z"
   },
   {
    "duration": 6,
    "start_time": "2022-09-21T17:58:43.953Z"
   },
   {
    "duration": 116,
    "start_time": "2022-09-21T17:58:43.960Z"
   },
   {
    "duration": 112,
    "start_time": "2022-09-21T17:58:44.078Z"
   },
   {
    "duration": 111,
    "start_time": "2022-09-21T17:58:44.192Z"
   },
   {
    "duration": 90,
    "start_time": "2022-09-21T17:58:44.305Z"
   },
   {
    "duration": 13,
    "start_time": "2022-09-21T17:58:44.396Z"
   },
   {
    "duration": 12,
    "start_time": "2022-09-21T17:58:44.410Z"
   },
   {
    "duration": 7,
    "start_time": "2022-09-21T17:58:44.425Z"
   },
   {
    "duration": 5,
    "start_time": "2022-09-21T17:58:44.433Z"
   },
   {
    "duration": 11,
    "start_time": "2022-09-21T17:58:44.440Z"
   },
   {
    "duration": 6,
    "start_time": "2022-09-21T17:58:44.453Z"
   },
   {
    "duration": 9,
    "start_time": "2022-09-21T17:58:44.461Z"
   },
   {
    "duration": 229,
    "start_time": "2022-09-21T17:58:44.472Z"
   },
   {
    "duration": 213,
    "start_time": "2022-09-21T17:58:44.703Z"
   },
   {
    "duration": 8,
    "start_time": "2022-09-21T17:58:44.917Z"
   },
   {
    "duration": 119,
    "start_time": "2022-09-21T17:58:44.927Z"
   },
   {
    "duration": 2,
    "start_time": "2022-09-21T17:58:45.048Z"
   },
   {
    "duration": 154,
    "start_time": "2022-09-21T17:58:45.052Z"
   },
   {
    "duration": 160,
    "start_time": "2022-09-21T17:58:45.208Z"
   },
   {
    "duration": 211,
    "start_time": "2022-09-21T17:58:45.370Z"
   },
   {
    "duration": 267,
    "start_time": "2022-09-21T17:58:45.582Z"
   },
   {
    "duration": 624,
    "start_time": "2022-09-21T17:58:45.850Z"
   },
   {
    "duration": 130,
    "start_time": "2022-09-21T17:58:46.476Z"
   },
   {
    "duration": 4,
    "start_time": "2022-09-21T17:58:46.607Z"
   },
   {
    "duration": 157,
    "start_time": "2022-09-21T17:58:46.612Z"
   },
   {
    "duration": 241,
    "start_time": "2022-09-21T17:58:46.771Z"
   },
   {
    "duration": 8,
    "start_time": "2022-09-21T17:58:47.014Z"
   },
   {
    "duration": 23,
    "start_time": "2022-09-21T17:58:47.023Z"
   },
   {
    "duration": 17,
    "start_time": "2022-09-21T17:58:47.047Z"
   },
   {
    "duration": 146,
    "start_time": "2022-09-21T17:58:47.065Z"
   },
   {
    "duration": 132,
    "start_time": "2022-09-21T17:58:47.212Z"
   },
   {
    "duration": 309,
    "start_time": "2022-09-21T17:58:47.345Z"
   },
   {
    "duration": 181,
    "start_time": "2022-09-21T17:58:47.655Z"
   },
   {
    "duration": 3,
    "start_time": "2022-09-21T17:58:47.837Z"
   },
   {
    "duration": 172,
    "start_time": "2022-09-21T17:58:47.843Z"
   },
   {
    "duration": 190,
    "start_time": "2022-09-21T17:58:48.017Z"
   },
   {
    "duration": 176,
    "start_time": "2022-09-21T17:58:48.209Z"
   },
   {
    "duration": 111,
    "start_time": "2022-09-21T18:00:39.184Z"
   },
   {
    "duration": 175,
    "start_time": "2022-09-21T18:00:59.024Z"
   },
   {
    "duration": 122,
    "start_time": "2022-09-21T18:01:09.282Z"
   },
   {
    "duration": 117,
    "start_time": "2022-09-21T18:01:48.258Z"
   },
   {
    "duration": 26096,
    "start_time": "2022-09-21T18:04:16.655Z"
   },
   {
    "duration": 15,
    "start_time": "2022-09-21T18:06:54.841Z"
   },
   {
    "duration": 17,
    "start_time": "2022-09-21T18:07:58.246Z"
   },
   {
    "duration": 8,
    "start_time": "2022-09-21T18:08:16.325Z"
   },
   {
    "duration": 1616,
    "start_time": "2022-09-21T18:08:23.879Z"
   },
   {
    "duration": 17,
    "start_time": "2022-09-21T18:10:26.042Z"
   },
   {
    "duration": 8,
    "start_time": "2022-09-21T18:10:31.244Z"
   },
   {
    "duration": 17,
    "start_time": "2022-09-21T18:12:32.544Z"
   },
   {
    "duration": 9,
    "start_time": "2022-09-21T18:12:46.152Z"
   },
   {
    "duration": 5,
    "start_time": "2022-09-21T18:13:38.960Z"
   },
   {
    "duration": 5,
    "start_time": "2022-09-21T18:14:13.477Z"
   },
   {
    "duration": 0,
    "start_time": "2022-09-21T18:15:53.666Z"
   },
   {
    "duration": 10,
    "start_time": "2022-09-21T18:16:14.201Z"
   },
   {
    "duration": 1041,
    "start_time": "2022-09-22T02:55:36.951Z"
   },
   {
    "duration": 14,
    "start_time": "2022-09-22T02:55:37.995Z"
   },
   {
    "duration": 2406,
    "start_time": "2022-09-22T02:55:38.011Z"
   },
   {
    "duration": 12,
    "start_time": "2022-09-22T02:55:40.419Z"
   },
   {
    "duration": 14,
    "start_time": "2022-09-22T02:55:40.434Z"
   },
   {
    "duration": 9,
    "start_time": "2022-09-22T02:55:40.449Z"
   },
   {
    "duration": 9,
    "start_time": "2022-09-22T02:55:40.459Z"
   },
   {
    "duration": 117,
    "start_time": "2022-09-22T02:55:40.469Z"
   },
   {
    "duration": 131,
    "start_time": "2022-09-22T02:55:40.588Z"
   },
   {
    "duration": 109,
    "start_time": "2022-09-22T02:55:40.721Z"
   },
   {
    "duration": 194,
    "start_time": "2022-09-22T02:55:40.831Z"
   },
   {
    "duration": 34,
    "start_time": "2022-09-22T02:55:41.027Z"
   },
   {
    "duration": 4,
    "start_time": "2022-09-22T02:55:41.063Z"
   },
   {
    "duration": 8,
    "start_time": "2022-09-22T02:55:41.070Z"
   },
   {
    "duration": 6,
    "start_time": "2022-09-22T02:55:41.081Z"
   },
   {
    "duration": 11,
    "start_time": "2022-09-22T02:55:41.089Z"
   },
   {
    "duration": 9,
    "start_time": "2022-09-22T02:55:41.102Z"
   },
   {
    "duration": 15,
    "start_time": "2022-09-22T02:55:41.113Z"
   },
   {
    "duration": 276,
    "start_time": "2022-09-22T02:55:41.130Z"
   },
   {
    "duration": 346,
    "start_time": "2022-09-22T02:55:41.408Z"
   },
   {
    "duration": 8,
    "start_time": "2022-09-22T02:55:41.756Z"
   },
   {
    "duration": 162,
    "start_time": "2022-09-22T02:55:41.766Z"
   },
   {
    "duration": 3,
    "start_time": "2022-09-22T02:55:41.929Z"
   },
   {
    "duration": 178,
    "start_time": "2022-09-22T02:55:41.935Z"
   },
   {
    "duration": 194,
    "start_time": "2022-09-22T02:55:42.115Z"
   },
   {
    "duration": 256,
    "start_time": "2022-09-22T02:55:42.310Z"
   },
   {
    "duration": 384,
    "start_time": "2022-09-22T02:55:42.568Z"
   },
   {
    "duration": 289,
    "start_time": "2022-09-22T02:55:42.954Z"
   },
   {
    "duration": 167,
    "start_time": "2022-09-22T02:55:43.246Z"
   },
   {
    "duration": 5,
    "start_time": "2022-09-22T02:55:43.414Z"
   },
   {
    "duration": 182,
    "start_time": "2022-09-22T02:55:43.420Z"
   },
   {
    "duration": 281,
    "start_time": "2022-09-22T02:55:43.604Z"
   },
   {
    "duration": 6,
    "start_time": "2022-09-22T02:55:43.887Z"
   },
   {
    "duration": 35,
    "start_time": "2022-09-22T02:55:43.896Z"
   },
   {
    "duration": 21,
    "start_time": "2022-09-22T02:55:43.934Z"
   },
   {
    "duration": 30173,
    "start_time": "2022-09-22T02:55:43.956Z"
   },
   {
    "duration": 58,
    "start_time": "2022-09-22T03:03:21.086Z"
   },
   {
    "duration": 4,
    "start_time": "2022-09-22T03:04:38.889Z"
   },
   {
    "duration": 4,
    "start_time": "2022-09-22T03:04:46.797Z"
   },
   {
    "duration": 12,
    "start_time": "2022-09-22T03:04:46.803Z"
   },
   {
    "duration": 312,
    "start_time": "2022-09-22T03:04:46.817Z"
   },
   {
    "duration": 846,
    "start_time": "2022-09-22T03:04:47.131Z"
   },
   {
    "duration": 7,
    "start_time": "2022-09-22T03:04:47.980Z"
   },
   {
    "duration": 145,
    "start_time": "2022-09-22T03:04:47.989Z"
   },
   {
    "duration": 3,
    "start_time": "2022-09-22T03:04:48.136Z"
   },
   {
    "duration": 174,
    "start_time": "2022-09-22T03:04:48.141Z"
   },
   {
    "duration": 195,
    "start_time": "2022-09-22T03:04:48.317Z"
   },
   {
    "duration": 280,
    "start_time": "2022-09-22T03:04:48.515Z"
   },
   {
    "duration": 291,
    "start_time": "2022-09-22T03:04:48.799Z"
   },
   {
    "duration": 282,
    "start_time": "2022-09-22T03:04:49.092Z"
   },
   {
    "duration": 149,
    "start_time": "2022-09-22T03:04:49.376Z"
   },
   {
    "duration": 4,
    "start_time": "2022-09-22T03:04:49.527Z"
   },
   {
    "duration": 179,
    "start_time": "2022-09-22T03:04:49.532Z"
   },
   {
    "duration": 277,
    "start_time": "2022-09-22T03:04:49.712Z"
   },
   {
    "duration": 6,
    "start_time": "2022-09-22T03:04:49.990Z"
   },
   {
    "duration": 24,
    "start_time": "2022-09-22T03:04:49.997Z"
   },
   {
    "duration": 13,
    "start_time": "2022-09-22T03:04:50.022Z"
   },
   {
    "duration": 28773,
    "start_time": "2022-09-22T03:04:50.036Z"
   },
   {
    "duration": 218,
    "start_time": "2022-09-22T03:05:32.813Z"
   },
   {
    "duration": 269,
    "start_time": "2022-09-22T03:05:50.553Z"
   },
   {
    "duration": 232,
    "start_time": "2022-09-22T03:06:11.414Z"
   },
   {
    "duration": 147,
    "start_time": "2022-09-22T03:07:39.035Z"
   },
   {
    "duration": 139,
    "start_time": "2022-09-22T03:07:44.593Z"
   },
   {
    "duration": 1287,
    "start_time": "2022-09-22T03:07:54.615Z"
   },
   {
    "duration": 138,
    "start_time": "2022-09-22T03:52:43.251Z"
   },
   {
    "duration": 160,
    "start_time": "2022-09-22T03:52:58.782Z"
   },
   {
    "duration": 152,
    "start_time": "2022-09-22T03:53:07.928Z"
   },
   {
    "duration": 169,
    "start_time": "2022-09-22T03:57:21.269Z"
   },
   {
    "duration": 11,
    "start_time": "2022-09-22T03:57:56.730Z"
   },
   {
    "duration": 14,
    "start_time": "2022-09-22T03:58:03.772Z"
   },
   {
    "duration": 6,
    "start_time": "2022-09-22T03:58:03.789Z"
   },
   {
    "duration": 7,
    "start_time": "2022-09-22T03:58:03.797Z"
   },
   {
    "duration": 5,
    "start_time": "2022-09-22T03:58:03.806Z"
   },
   {
    "duration": 6,
    "start_time": "2022-09-22T03:58:03.813Z"
   },
   {
    "duration": 11,
    "start_time": "2022-09-22T03:58:03.820Z"
   },
   {
    "duration": 158,
    "start_time": "2022-09-22T03:58:03.832Z"
   },
   {
    "duration": 74,
    "start_time": "2022-09-22T03:58:03.992Z"
   },
   {
    "duration": 0,
    "start_time": "2022-09-22T03:58:04.068Z"
   },
   {
    "duration": 0,
    "start_time": "2022-09-22T03:58:04.069Z"
   },
   {
    "duration": 0,
    "start_time": "2022-09-22T03:58:04.070Z"
   },
   {
    "duration": 0,
    "start_time": "2022-09-22T03:58:04.072Z"
   },
   {
    "duration": 0,
    "start_time": "2022-09-22T03:58:04.073Z"
   },
   {
    "duration": 0,
    "start_time": "2022-09-22T03:58:04.074Z"
   },
   {
    "duration": 0,
    "start_time": "2022-09-22T03:58:04.075Z"
   },
   {
    "duration": 0,
    "start_time": "2022-09-22T03:58:04.076Z"
   },
   {
    "duration": 0,
    "start_time": "2022-09-22T03:58:04.077Z"
   },
   {
    "duration": 0,
    "start_time": "2022-09-22T03:58:04.078Z"
   },
   {
    "duration": 0,
    "start_time": "2022-09-22T03:58:04.079Z"
   },
   {
    "duration": 0,
    "start_time": "2022-09-22T03:58:04.080Z"
   },
   {
    "duration": 0,
    "start_time": "2022-09-22T03:58:04.081Z"
   },
   {
    "duration": 0,
    "start_time": "2022-09-22T03:58:04.082Z"
   },
   {
    "duration": 0,
    "start_time": "2022-09-22T03:58:04.083Z"
   },
   {
    "duration": 12,
    "start_time": "2022-09-22T03:58:04.209Z"
   },
   {
    "duration": 8,
    "start_time": "2022-09-22T03:58:04.223Z"
   },
   {
    "duration": 0,
    "start_time": "2022-09-22T03:58:33.820Z"
   },
   {
    "duration": 0,
    "start_time": "2022-09-22T03:58:33.821Z"
   },
   {
    "duration": 0,
    "start_time": "2022-09-22T03:58:33.822Z"
   },
   {
    "duration": 0,
    "start_time": "2022-09-22T03:58:33.823Z"
   },
   {
    "duration": 0,
    "start_time": "2022-09-22T03:58:33.824Z"
   },
   {
    "duration": 0,
    "start_time": "2022-09-22T03:58:33.825Z"
   },
   {
    "duration": 0,
    "start_time": "2022-09-22T03:58:33.826Z"
   },
   {
    "duration": 0,
    "start_time": "2022-09-22T03:58:33.827Z"
   },
   {
    "duration": 0,
    "start_time": "2022-09-22T03:58:33.828Z"
   },
   {
    "duration": 0,
    "start_time": "2022-09-22T03:58:33.829Z"
   },
   {
    "duration": 0,
    "start_time": "2022-09-22T03:58:33.830Z"
   },
   {
    "duration": 0,
    "start_time": "2022-09-22T03:58:33.831Z"
   },
   {
    "duration": 0,
    "start_time": "2022-09-22T03:58:33.854Z"
   },
   {
    "duration": 0,
    "start_time": "2022-09-22T03:58:33.855Z"
   },
   {
    "duration": 0,
    "start_time": "2022-09-22T03:58:33.857Z"
   },
   {
    "duration": 0,
    "start_time": "2022-09-22T03:58:33.858Z"
   },
   {
    "duration": 0,
    "start_time": "2022-09-22T03:58:33.859Z"
   },
   {
    "duration": 0,
    "start_time": "2022-09-22T03:58:33.860Z"
   },
   {
    "duration": 10,
    "start_time": "2022-09-22T03:58:57.831Z"
   },
   {
    "duration": 321,
    "start_time": "2022-09-22T03:59:56.610Z"
   },
   {
    "duration": 22,
    "start_time": "2022-09-22T03:59:56.933Z"
   },
   {
    "duration": 1901,
    "start_time": "2022-09-22T03:59:56.956Z"
   },
   {
    "duration": 9,
    "start_time": "2022-09-22T03:59:58.859Z"
   },
   {
    "duration": 19,
    "start_time": "2022-09-22T03:59:58.869Z"
   },
   {
    "duration": 8,
    "start_time": "2022-09-22T03:59:58.890Z"
   },
   {
    "duration": 8,
    "start_time": "2022-09-22T03:59:58.899Z"
   },
   {
    "duration": 121,
    "start_time": "2022-09-22T03:59:58.908Z"
   },
   {
    "duration": 124,
    "start_time": "2022-09-22T03:59:59.030Z"
   },
   {
    "duration": 122,
    "start_time": "2022-09-22T03:59:59.155Z"
   },
   {
    "duration": 106,
    "start_time": "2022-09-22T03:59:59.278Z"
   },
   {
    "duration": 16,
    "start_time": "2022-09-22T03:59:59.385Z"
   },
   {
    "duration": 6,
    "start_time": "2022-09-22T03:59:59.402Z"
   },
   {
    "duration": 9,
    "start_time": "2022-09-22T03:59:59.412Z"
   },
   {
    "duration": 3,
    "start_time": "2022-09-22T03:59:59.423Z"
   },
   {
    "duration": 202,
    "start_time": "2022-09-22T03:59:59.453Z"
   },
   {
    "duration": 5,
    "start_time": "2022-09-22T03:59:59.657Z"
   },
   {
    "duration": 197,
    "start_time": "2022-09-22T03:59:59.664Z"
   },
   {
    "duration": 16,
    "start_time": "2022-09-22T03:59:59.864Z"
   },
   {
    "duration": 183,
    "start_time": "2022-09-22T03:59:59.882Z"
   },
   {
    "duration": 193,
    "start_time": "2022-09-22T04:00:00.067Z"
   },
   {
    "duration": 9,
    "start_time": "2022-09-22T04:00:00.262Z"
   },
   {
    "duration": 165,
    "start_time": "2022-09-22T04:00:00.273Z"
   },
   {
    "duration": 3,
    "start_time": "2022-09-22T04:00:00.440Z"
   },
   {
    "duration": 207,
    "start_time": "2022-09-22T04:00:00.455Z"
   },
   {
    "duration": 197,
    "start_time": "2022-09-22T04:00:00.664Z"
   },
   {
    "duration": 264,
    "start_time": "2022-09-22T04:00:00.862Z"
   },
   {
    "duration": 281,
    "start_time": "2022-09-22T04:00:01.129Z"
   },
   {
    "duration": 344,
    "start_time": "2022-09-22T04:00:01.412Z"
   },
   {
    "duration": 171,
    "start_time": "2022-09-22T04:00:01.759Z"
   },
   {
    "duration": 4,
    "start_time": "2022-09-22T04:00:01.932Z"
   },
   {
    "duration": 300,
    "start_time": "2022-09-22T04:00:01.938Z"
   },
   {
    "duration": 284,
    "start_time": "2022-09-22T04:00:02.240Z"
   },
   {
    "duration": 8,
    "start_time": "2022-09-22T04:00:02.525Z"
   },
   {
    "duration": 32,
    "start_time": "2022-09-22T04:00:02.535Z"
   },
   {
    "duration": 31,
    "start_time": "2022-09-22T04:00:02.569Z"
   },
   {
    "duration": 30853,
    "start_time": "2022-09-22T04:00:02.602Z"
   },
   {
    "duration": 278,
    "start_time": "2022-09-22T04:01:31.755Z"
   },
   {
    "duration": 284,
    "start_time": "2022-09-22T04:02:06.690Z"
   },
   {
    "duration": 259,
    "start_time": "2022-09-22T04:02:12.408Z"
   },
   {
    "duration": 281,
    "start_time": "2022-09-22T04:03:01.609Z"
   },
   {
    "duration": 148,
    "start_time": "2022-09-22T04:03:09.028Z"
   },
   {
    "duration": 47,
    "start_time": "2022-09-22T04:03:38.129Z"
   },
   {
    "duration": 250,
    "start_time": "2022-09-22T04:26:28.770Z"
   },
   {
    "duration": 289,
    "start_time": "2022-09-22T04:27:00.511Z"
   },
   {
    "duration": 267,
    "start_time": "2022-09-22T04:27:33.489Z"
   },
   {
    "duration": 263,
    "start_time": "2022-09-22T04:27:40.288Z"
   },
   {
    "duration": 174,
    "start_time": "2022-09-22T04:28:46.535Z"
   },
   {
    "duration": 179,
    "start_time": "2022-09-22T04:29:01.833Z"
   },
   {
    "duration": 151,
    "start_time": "2022-09-22T04:31:30.610Z"
   },
   {
    "duration": 116,
    "start_time": "2022-09-22T04:31:48.246Z"
   },
   {
    "duration": 256,
    "start_time": "2022-09-22T07:24:51.932Z"
   },
   {
    "duration": 50,
    "start_time": "2022-09-23T04:51:23.894Z"
   },
   {
    "duration": 987,
    "start_time": "2022-09-23T04:51:32.251Z"
   },
   {
    "duration": 16,
    "start_time": "2022-09-23T04:51:33.240Z"
   },
   {
    "duration": 2343,
    "start_time": "2022-09-23T04:51:33.258Z"
   },
   {
    "duration": 11,
    "start_time": "2022-09-23T04:51:35.604Z"
   },
   {
    "duration": 17,
    "start_time": "2022-09-23T04:51:35.618Z"
   },
   {
    "duration": 10,
    "start_time": "2022-09-23T04:51:35.637Z"
   },
   {
    "duration": 22,
    "start_time": "2022-09-23T04:51:35.648Z"
   },
   {
    "duration": 101,
    "start_time": "2022-09-23T04:51:35.672Z"
   },
   {
    "duration": 125,
    "start_time": "2022-09-23T04:51:35.775Z"
   },
   {
    "duration": 110,
    "start_time": "2022-09-23T04:51:35.902Z"
   },
   {
    "duration": 207,
    "start_time": "2022-09-23T04:51:36.014Z"
   },
   {
    "duration": 32,
    "start_time": "2022-09-23T04:51:36.223Z"
   },
   {
    "duration": 5,
    "start_time": "2022-09-23T04:51:36.257Z"
   },
   {
    "duration": 19,
    "start_time": "2022-09-23T04:51:36.265Z"
   },
   {
    "duration": 4,
    "start_time": "2022-09-23T04:51:36.286Z"
   },
   {
    "duration": 202,
    "start_time": "2022-09-23T04:51:36.292Z"
   },
   {
    "duration": 4,
    "start_time": "2022-09-23T04:51:36.496Z"
   },
   {
    "duration": 254,
    "start_time": "2022-09-23T04:51:36.502Z"
   },
   {
    "duration": 261,
    "start_time": "2022-09-23T04:51:36.757Z"
   },
   {
    "duration": 273,
    "start_time": "2022-09-23T04:51:37.020Z"
   },
   {
    "duration": 274,
    "start_time": "2022-09-23T04:51:37.295Z"
   },
   {
    "duration": 256,
    "start_time": "2022-09-23T04:51:37.571Z"
   },
   {
    "duration": 209,
    "start_time": "2022-09-23T04:51:37.829Z"
   },
   {
    "duration": 194,
    "start_time": "2022-09-23T04:51:38.040Z"
   },
   {
    "duration": 129,
    "start_time": "2022-09-23T04:51:38.236Z"
   },
   {
    "duration": 191,
    "start_time": "2022-09-23T04:51:38.366Z"
   },
   {
    "duration": 275,
    "start_time": "2022-09-23T04:51:38.558Z"
   },
   {
    "duration": 267,
    "start_time": "2022-09-23T04:51:38.835Z"
   },
   {
    "duration": 277,
    "start_time": "2022-09-23T04:51:39.104Z"
   },
   {
    "duration": 267,
    "start_time": "2022-09-23T04:51:39.382Z"
   },
   {
    "duration": 5,
    "start_time": "2022-09-23T04:51:39.650Z"
   },
   {
    "duration": 179,
    "start_time": "2022-09-23T04:51:39.656Z"
   },
   {
    "duration": 278,
    "start_time": "2022-09-23T04:51:39.836Z"
   },
   {
    "duration": 11,
    "start_time": "2022-09-23T04:51:40.116Z"
   },
   {
    "duration": 29,
    "start_time": "2022-09-23T04:51:40.129Z"
   },
   {
    "duration": 29,
    "start_time": "2022-09-23T04:51:40.160Z"
   },
   {
    "duration": 5,
    "start_time": "2022-09-23T05:00:17.997Z"
   },
   {
    "duration": 127,
    "start_time": "2022-09-23T05:00:33.851Z"
   },
   {
    "duration": 116,
    "start_time": "2022-09-23T05:00:59.966Z"
   },
   {
    "duration": 118,
    "start_time": "2022-09-23T05:01:09.766Z"
   },
   {
    "duration": 117,
    "start_time": "2022-09-23T05:01:36.427Z"
   },
   {
    "duration": 118,
    "start_time": "2022-09-23T05:01:42.129Z"
   },
   {
    "duration": 378,
    "start_time": "2022-09-23T05:02:06.750Z"
   },
   {
    "duration": 24,
    "start_time": "2022-09-23T05:02:07.130Z"
   },
   {
    "duration": 2102,
    "start_time": "2022-09-23T05:02:07.156Z"
   },
   {
    "duration": 9,
    "start_time": "2022-09-23T05:02:09.260Z"
   },
   {
    "duration": 24,
    "start_time": "2022-09-23T05:02:09.272Z"
   },
   {
    "duration": 11,
    "start_time": "2022-09-23T05:02:09.297Z"
   },
   {
    "duration": 9,
    "start_time": "2022-09-23T05:02:09.310Z"
   },
   {
    "duration": 113,
    "start_time": "2022-09-23T05:02:09.321Z"
   },
   {
    "duration": 127,
    "start_time": "2022-09-23T05:02:09.436Z"
   },
   {
    "duration": 99,
    "start_time": "2022-09-23T05:02:09.565Z"
   },
   {
    "duration": 124,
    "start_time": "2022-09-23T05:02:09.665Z"
   },
   {
    "duration": 12,
    "start_time": "2022-09-23T05:02:09.790Z"
   },
   {
    "duration": 4,
    "start_time": "2022-09-23T05:02:09.804Z"
   },
   {
    "duration": 17,
    "start_time": "2022-09-23T05:02:09.811Z"
   },
   {
    "duration": 25,
    "start_time": "2022-09-23T05:02:09.829Z"
   },
   {
    "duration": 466,
    "start_time": "2022-09-23T05:02:09.855Z"
   },
   {
    "duration": 5,
    "start_time": "2022-09-23T05:02:10.322Z"
   },
   {
    "duration": 273,
    "start_time": "2022-09-23T05:02:10.328Z"
   },
   {
    "duration": 273,
    "start_time": "2022-09-23T05:02:10.603Z"
   },
   {
    "duration": 251,
    "start_time": "2022-09-23T05:02:10.878Z"
   },
   {
    "duration": 282,
    "start_time": "2022-09-23T05:02:11.130Z"
   },
   {
    "duration": 223,
    "start_time": "2022-09-23T05:02:11.415Z"
   },
   {
    "duration": 216,
    "start_time": "2022-09-23T05:02:11.640Z"
   },
   {
    "duration": 186,
    "start_time": "2022-09-23T05:02:11.858Z"
   },
   {
    "duration": 151,
    "start_time": "2022-09-23T05:02:12.046Z"
   },
   {
    "duration": 183,
    "start_time": "2022-09-23T05:02:12.199Z"
   },
   {
    "duration": 259,
    "start_time": "2022-09-23T05:02:12.384Z"
   },
   {
    "duration": 456,
    "start_time": "2022-09-23T05:02:12.645Z"
   },
   {
    "duration": 262,
    "start_time": "2022-09-23T05:02:13.103Z"
   },
   {
    "duration": 173,
    "start_time": "2022-09-23T05:02:13.367Z"
   },
   {
    "duration": 4,
    "start_time": "2022-09-23T05:02:13.542Z"
   },
   {
    "duration": 163,
    "start_time": "2022-09-23T05:02:13.554Z"
   },
   {
    "duration": 277,
    "start_time": "2022-09-23T05:02:13.718Z"
   },
   {
    "duration": 13,
    "start_time": "2022-09-23T05:02:13.997Z"
   },
   {
    "duration": 24,
    "start_time": "2022-09-23T05:02:14.012Z"
   },
   {
    "duration": 50,
    "start_time": "2022-09-23T05:02:14.054Z"
   },
   {
    "duration": 106,
    "start_time": "2022-09-23T05:02:45.367Z"
   },
   {
    "duration": 105,
    "start_time": "2022-09-23T05:02:59.387Z"
   },
   {
    "duration": 10,
    "start_time": "2022-09-23T05:03:16.146Z"
   },
   {
    "duration": 115,
    "start_time": "2022-09-23T05:03:26.388Z"
   },
   {
    "duration": 10,
    "start_time": "2022-09-23T05:03:32.732Z"
   },
   {
    "duration": 137,
    "start_time": "2022-09-23T05:03:41.508Z"
   },
   {
    "duration": 11,
    "start_time": "2022-09-23T05:03:46.210Z"
   },
   {
    "duration": 170,
    "start_time": "2022-09-23T05:04:06.789Z"
   },
   {
    "duration": 108,
    "start_time": "2022-09-23T05:04:32.548Z"
   },
   {
    "duration": 100,
    "start_time": "2022-09-23T05:04:47.906Z"
   },
   {
    "duration": 10,
    "start_time": "2022-09-23T05:04:56.928Z"
   },
   {
    "duration": 102,
    "start_time": "2022-09-23T05:05:34.631Z"
   },
   {
    "duration": 100,
    "start_time": "2022-09-23T05:05:47.926Z"
   },
   {
    "duration": 101,
    "start_time": "2022-09-23T05:06:56.302Z"
   },
   {
    "duration": 102,
    "start_time": "2022-09-23T05:07:12.906Z"
   },
   {
    "duration": 101,
    "start_time": "2022-09-23T05:07:25.285Z"
   },
   {
    "duration": 310,
    "start_time": "2022-09-23T05:18:16.799Z"
   },
   {
    "duration": 282,
    "start_time": "2022-09-23T05:19:07.915Z"
   },
   {
    "duration": 132,
    "start_time": "2022-09-23T05:20:32.116Z"
   },
   {
    "duration": 128,
    "start_time": "2022-09-23T05:20:47.712Z"
   },
   {
    "duration": 348,
    "start_time": "2022-09-23T05:20:54.068Z"
   },
   {
    "duration": 111,
    "start_time": "2022-09-23T05:20:59.051Z"
   },
   {
    "duration": 105,
    "start_time": "2022-09-23T05:21:59.967Z"
   },
   {
    "duration": 106,
    "start_time": "2022-09-23T05:22:20.090Z"
   },
   {
    "duration": 109,
    "start_time": "2022-09-23T05:22:26.990Z"
   },
   {
    "duration": 108,
    "start_time": "2022-09-23T05:22:43.306Z"
   },
   {
    "duration": 106,
    "start_time": "2022-09-23T05:23:13.950Z"
   },
   {
    "duration": 412,
    "start_time": "2022-09-23T05:23:42.345Z"
   },
   {
    "duration": 17,
    "start_time": "2022-09-23T05:23:42.760Z"
   },
   {
    "duration": 2048,
    "start_time": "2022-09-23T05:23:42.779Z"
   },
   {
    "duration": 11,
    "start_time": "2022-09-23T05:23:44.828Z"
   },
   {
    "duration": 26,
    "start_time": "2022-09-23T05:23:44.841Z"
   },
   {
    "duration": 17,
    "start_time": "2022-09-23T05:23:44.869Z"
   },
   {
    "duration": 9,
    "start_time": "2022-09-23T05:23:44.888Z"
   },
   {
    "duration": 117,
    "start_time": "2022-09-23T05:23:44.899Z"
   },
   {
    "duration": 143,
    "start_time": "2022-09-23T05:23:45.018Z"
   },
   {
    "duration": 141,
    "start_time": "2022-09-23T05:23:45.162Z"
   },
   {
    "duration": 392,
    "start_time": "2022-09-23T05:23:45.305Z"
   },
   {
    "duration": 121,
    "start_time": "2022-09-23T05:23:45.698Z"
   },
   {
    "duration": 120,
    "start_time": "2022-09-23T05:23:45.821Z"
   },
   {
    "duration": 19,
    "start_time": "2022-09-23T05:23:45.953Z"
   },
   {
    "duration": 6,
    "start_time": "2022-09-23T05:23:45.974Z"
   },
   {
    "duration": 17,
    "start_time": "2022-09-23T05:23:45.981Z"
   },
   {
    "duration": 225,
    "start_time": "2022-09-23T05:23:46.000Z"
   },
   {
    "duration": 4,
    "start_time": "2022-09-23T05:23:46.227Z"
   },
   {
    "duration": 283,
    "start_time": "2022-09-23T05:23:46.233Z"
   },
   {
    "duration": 286,
    "start_time": "2022-09-23T05:23:46.518Z"
   },
   {
    "duration": 286,
    "start_time": "2022-09-23T05:23:46.806Z"
   },
   {
    "duration": 295,
    "start_time": "2022-09-23T05:23:47.094Z"
   },
   {
    "duration": 158,
    "start_time": "2022-09-23T05:23:47.391Z"
   },
   {
    "duration": 213,
    "start_time": "2022-09-23T05:23:47.554Z"
   },
   {
    "duration": 221,
    "start_time": "2022-09-23T05:23:47.768Z"
   },
   {
    "duration": 142,
    "start_time": "2022-09-23T05:23:47.992Z"
   },
   {
    "duration": 214,
    "start_time": "2022-09-23T05:23:48.136Z"
   },
   {
    "duration": 312,
    "start_time": "2022-09-23T05:23:48.354Z"
   },
   {
    "duration": 295,
    "start_time": "2022-09-23T05:23:48.669Z"
   },
   {
    "duration": 304,
    "start_time": "2022-09-23T05:23:48.966Z"
   },
   {
    "duration": 455,
    "start_time": "2022-09-23T05:23:49.272Z"
   },
   {
    "duration": 4,
    "start_time": "2022-09-23T05:23:49.729Z"
   },
   {
    "duration": 203,
    "start_time": "2022-09-23T05:23:49.734Z"
   },
   {
    "duration": 301,
    "start_time": "2022-09-23T05:23:49.939Z"
   },
   {
    "duration": 19,
    "start_time": "2022-09-23T05:23:50.241Z"
   },
   {
    "duration": 27,
    "start_time": "2022-09-23T05:23:50.262Z"
   },
   {
    "duration": 30,
    "start_time": "2022-09-23T05:23:50.292Z"
   },
   {
    "duration": 107,
    "start_time": "2022-09-23T05:24:26.266Z"
   },
   {
    "duration": 21,
    "start_time": "2022-09-23T05:26:54.729Z"
   },
   {
    "duration": 921,
    "start_time": "2022-09-23T05:27:11.487Z"
   },
   {
    "duration": 17,
    "start_time": "2022-09-23T05:27:12.410Z"
   },
   {
    "duration": 2308,
    "start_time": "2022-09-23T05:27:12.429Z"
   },
   {
    "duration": 10,
    "start_time": "2022-09-23T05:27:14.739Z"
   },
   {
    "duration": 15,
    "start_time": "2022-09-23T05:27:14.752Z"
   },
   {
    "duration": 10,
    "start_time": "2022-09-23T05:27:14.769Z"
   },
   {
    "duration": 8,
    "start_time": "2022-09-23T05:27:14.781Z"
   },
   {
    "duration": 124,
    "start_time": "2022-09-23T05:27:14.791Z"
   },
   {
    "duration": 5,
    "start_time": "2022-09-23T05:27:14.917Z"
   },
   {
    "duration": 0,
    "start_time": "2022-09-23T05:27:14.924Z"
   },
   {
    "duration": 0,
    "start_time": "2022-09-23T05:27:14.926Z"
   },
   {
    "duration": 0,
    "start_time": "2022-09-23T05:27:14.927Z"
   },
   {
    "duration": 0,
    "start_time": "2022-09-23T05:27:14.928Z"
   },
   {
    "duration": 0,
    "start_time": "2022-09-23T05:27:14.930Z"
   },
   {
    "duration": 1,
    "start_time": "2022-09-23T05:27:14.931Z"
   },
   {
    "duration": 0,
    "start_time": "2022-09-23T05:27:14.955Z"
   },
   {
    "duration": 0,
    "start_time": "2022-09-23T05:27:14.957Z"
   },
   {
    "duration": 0,
    "start_time": "2022-09-23T05:27:14.958Z"
   },
   {
    "duration": 0,
    "start_time": "2022-09-23T05:27:14.960Z"
   },
   {
    "duration": 0,
    "start_time": "2022-09-23T05:27:14.962Z"
   },
   {
    "duration": 0,
    "start_time": "2022-09-23T05:27:14.963Z"
   },
   {
    "duration": 0,
    "start_time": "2022-09-23T05:27:14.964Z"
   },
   {
    "duration": 0,
    "start_time": "2022-09-23T05:27:14.965Z"
   },
   {
    "duration": 0,
    "start_time": "2022-09-23T05:27:14.966Z"
   },
   {
    "duration": 0,
    "start_time": "2022-09-23T05:27:14.967Z"
   },
   {
    "duration": 0,
    "start_time": "2022-09-23T05:27:14.969Z"
   },
   {
    "duration": 0,
    "start_time": "2022-09-23T05:27:14.969Z"
   },
   {
    "duration": 0,
    "start_time": "2022-09-23T05:27:14.970Z"
   },
   {
    "duration": 0,
    "start_time": "2022-09-23T05:27:14.971Z"
   },
   {
    "duration": 0,
    "start_time": "2022-09-23T05:27:14.972Z"
   },
   {
    "duration": 0,
    "start_time": "2022-09-23T05:27:14.974Z"
   },
   {
    "duration": 1,
    "start_time": "2022-09-23T05:27:14.974Z"
   },
   {
    "duration": 0,
    "start_time": "2022-09-23T05:27:14.976Z"
   },
   {
    "duration": 0,
    "start_time": "2022-09-23T05:27:14.976Z"
   },
   {
    "duration": 0,
    "start_time": "2022-09-23T05:27:14.977Z"
   },
   {
    "duration": 0,
    "start_time": "2022-09-23T05:27:14.978Z"
   },
   {
    "duration": 0,
    "start_time": "2022-09-23T05:27:14.980Z"
   },
   {
    "duration": 150,
    "start_time": "2022-09-23T05:27:46.104Z"
   },
   {
    "duration": 124,
    "start_time": "2022-09-23T05:28:03.085Z"
   },
   {
    "duration": 125,
    "start_time": "2022-09-23T05:28:03.211Z"
   },
   {
    "duration": 239,
    "start_time": "2022-09-23T05:28:03.339Z"
   },
   {
    "duration": 5,
    "start_time": "2022-09-23T05:28:03.580Z"
   },
   {
    "duration": 0,
    "start_time": "2022-09-23T05:28:03.588Z"
   },
   {
    "duration": 0,
    "start_time": "2022-09-23T05:28:03.590Z"
   },
   {
    "duration": 0,
    "start_time": "2022-09-23T05:28:03.591Z"
   },
   {
    "duration": 1,
    "start_time": "2022-09-23T05:28:03.593Z"
   },
   {
    "duration": 0,
    "start_time": "2022-09-23T05:28:03.595Z"
   },
   {
    "duration": 0,
    "start_time": "2022-09-23T05:28:03.597Z"
   },
   {
    "duration": 0,
    "start_time": "2022-09-23T05:28:03.599Z"
   },
   {
    "duration": 0,
    "start_time": "2022-09-23T05:28:03.600Z"
   },
   {
    "duration": 0,
    "start_time": "2022-09-23T05:28:03.602Z"
   },
   {
    "duration": 0,
    "start_time": "2022-09-23T05:28:03.604Z"
   },
   {
    "duration": 0,
    "start_time": "2022-09-23T05:28:03.605Z"
   },
   {
    "duration": 0,
    "start_time": "2022-09-23T05:28:03.605Z"
   },
   {
    "duration": 0,
    "start_time": "2022-09-23T05:28:03.606Z"
   },
   {
    "duration": 0,
    "start_time": "2022-09-23T05:28:03.608Z"
   },
   {
    "duration": 0,
    "start_time": "2022-09-23T05:28:03.608Z"
   },
   {
    "duration": 0,
    "start_time": "2022-09-23T05:28:03.657Z"
   },
   {
    "duration": 0,
    "start_time": "2022-09-23T05:28:03.659Z"
   },
   {
    "duration": 0,
    "start_time": "2022-09-23T05:28:03.661Z"
   },
   {
    "duration": 0,
    "start_time": "2022-09-23T05:28:03.663Z"
   },
   {
    "duration": 0,
    "start_time": "2022-09-23T05:28:03.665Z"
   },
   {
    "duration": 0,
    "start_time": "2022-09-23T05:28:03.666Z"
   },
   {
    "duration": 0,
    "start_time": "2022-09-23T05:28:03.667Z"
   },
   {
    "duration": 0,
    "start_time": "2022-09-23T05:28:03.669Z"
   },
   {
    "duration": 0,
    "start_time": "2022-09-23T05:28:03.670Z"
   },
   {
    "duration": 0,
    "start_time": "2022-09-23T05:28:03.672Z"
   },
   {
    "duration": 126,
    "start_time": "2022-09-23T05:30:44.464Z"
   },
   {
    "duration": 113,
    "start_time": "2022-09-23T05:30:44.592Z"
   },
   {
    "duration": 154,
    "start_time": "2022-09-23T05:30:44.708Z"
   },
   {
    "duration": 29,
    "start_time": "2022-09-23T05:30:44.865Z"
   },
   {
    "duration": 5,
    "start_time": "2022-09-23T05:30:44.897Z"
   },
   {
    "duration": 18,
    "start_time": "2022-09-23T05:30:44.904Z"
   },
   {
    "duration": 221,
    "start_time": "2022-09-23T05:30:44.923Z"
   },
   {
    "duration": 9,
    "start_time": "2022-09-23T05:30:45.145Z"
   },
   {
    "duration": 263,
    "start_time": "2022-09-23T05:30:45.155Z"
   },
   {
    "duration": 286,
    "start_time": "2022-09-23T05:30:45.420Z"
   },
   {
    "duration": 377,
    "start_time": "2022-09-23T05:30:45.708Z"
   },
   {
    "duration": 290,
    "start_time": "2022-09-23T05:30:46.087Z"
   },
   {
    "duration": 150,
    "start_time": "2022-09-23T05:30:46.379Z"
   },
   {
    "duration": 209,
    "start_time": "2022-09-23T05:30:46.532Z"
   },
   {
    "duration": 226,
    "start_time": "2022-09-23T05:30:46.743Z"
   },
   {
    "duration": 150,
    "start_time": "2022-09-23T05:30:46.970Z"
   },
   {
    "duration": 200,
    "start_time": "2022-09-23T05:30:47.122Z"
   },
   {
    "duration": 291,
    "start_time": "2022-09-23T05:30:47.324Z"
   },
   {
    "duration": 416,
    "start_time": "2022-09-23T05:30:47.617Z"
   },
   {
    "duration": 312,
    "start_time": "2022-09-23T05:30:48.035Z"
   },
   {
    "duration": 157,
    "start_time": "2022-09-23T05:30:48.349Z"
   },
   {
    "duration": 4,
    "start_time": "2022-09-23T05:30:48.508Z"
   },
   {
    "duration": 197,
    "start_time": "2022-09-23T05:30:48.513Z"
   },
   {
    "duration": 305,
    "start_time": "2022-09-23T05:30:48.712Z"
   },
   {
    "duration": 12,
    "start_time": "2022-09-23T05:30:49.019Z"
   },
   {
    "duration": 32,
    "start_time": "2022-09-23T05:30:49.033Z"
   },
   {
    "duration": 28,
    "start_time": "2022-09-23T05:30:49.067Z"
   },
   {
    "duration": 934,
    "start_time": "2022-09-23T05:44:09.426Z"
   },
   {
    "duration": 200,
    "start_time": "2022-09-23T05:44:27.461Z"
   },
   {
    "duration": 187,
    "start_time": "2022-09-23T05:44:41.726Z"
   },
   {
    "duration": 264,
    "start_time": "2022-09-23T05:44:50.687Z"
   },
   {
    "duration": 1687,
    "start_time": "2022-09-23T05:47:00.165Z"
   },
   {
    "duration": 320,
    "start_time": "2022-09-23T05:47:26.364Z"
   },
   {
    "duration": 3,
    "start_time": "2022-09-23T05:54:18.324Z"
   },
   {
    "duration": 376,
    "start_time": "2022-09-23T05:56:02.280Z"
   },
   {
    "duration": 473,
    "start_time": "2022-09-23T05:56:34.902Z"
   },
   {
    "duration": 132,
    "start_time": "2022-09-23T05:56:47.482Z"
   },
   {
    "duration": 112,
    "start_time": "2022-09-23T05:57:30.066Z"
   },
   {
    "duration": 283,
    "start_time": "2022-09-23T05:57:53.248Z"
   },
   {
    "duration": 296,
    "start_time": "2022-09-23T05:58:07.603Z"
   },
   {
    "duration": 283,
    "start_time": "2022-09-23T05:58:13.883Z"
   },
   {
    "duration": 124,
    "start_time": "2022-09-23T05:58:32.029Z"
   },
   {
    "duration": 277,
    "start_time": "2022-09-23T05:58:46.213Z"
   },
   {
    "duration": 132,
    "start_time": "2022-09-23T06:05:29.266Z"
   },
   {
    "duration": 10,
    "start_time": "2022-09-23T06:06:48.003Z"
   },
   {
    "duration": 8,
    "start_time": "2022-09-23T06:32:00.558Z"
   },
   {
    "duration": 5,
    "start_time": "2022-09-23T06:32:33.582Z"
   },
   {
    "duration": 758,
    "start_time": "2022-09-23T06:33:30.442Z"
   },
   {
    "duration": 53,
    "start_time": "2022-09-23T06:36:09.424Z"
   },
   {
    "duration": 14,
    "start_time": "2022-09-23T06:36:20.023Z"
   },
   {
    "duration": 13,
    "start_time": "2022-09-23T06:36:31.897Z"
   },
   {
    "duration": 6,
    "start_time": "2022-09-23T06:36:58.607Z"
   },
   {
    "duration": 9,
    "start_time": "2022-09-23T06:37:19.185Z"
   },
   {
    "duration": 5,
    "start_time": "2022-09-23T06:37:31.264Z"
   },
   {
    "duration": 5,
    "start_time": "2022-09-23T06:39:43.480Z"
   },
   {
    "duration": 5,
    "start_time": "2022-09-23T06:41:36.124Z"
   },
   {
    "duration": 6,
    "start_time": "2022-09-23T06:41:50.573Z"
   },
   {
    "duration": 6,
    "start_time": "2022-09-23T06:42:00.982Z"
   },
   {
    "duration": 1060,
    "start_time": "2022-09-23T06:46:20.476Z"
   },
   {
    "duration": 153,
    "start_time": "2022-09-23T06:46:59.915Z"
   },
   {
    "duration": 378,
    "start_time": "2022-09-23T06:47:29.080Z"
   },
   {
    "duration": 419,
    "start_time": "2022-09-23T06:47:58.004Z"
   },
   {
    "duration": 148,
    "start_time": "2022-09-23T06:48:09.382Z"
   },
   {
    "duration": 8,
    "start_time": "2022-09-23T06:49:44.531Z"
   },
   {
    "duration": 18,
    "start_time": "2022-09-23T06:49:52.041Z"
   },
   {
    "duration": 135,
    "start_time": "2022-09-23T06:50:39.992Z"
   },
   {
    "duration": 25,
    "start_time": "2022-09-23T06:51:01.421Z"
   },
   {
    "duration": 18,
    "start_time": "2022-09-23T06:51:39.205Z"
   },
   {
    "duration": 257,
    "start_time": "2022-09-23T06:51:57.440Z"
   },
   {
    "duration": 65,
    "start_time": "2022-09-23T06:52:34.824Z"
   },
   {
    "duration": 16,
    "start_time": "2022-09-23T06:52:39.881Z"
   },
   {
    "duration": 16,
    "start_time": "2022-09-23T06:53:44.580Z"
   },
   {
    "duration": 19,
    "start_time": "2022-09-23T06:54:07.357Z"
   },
   {
    "duration": 16,
    "start_time": "2022-09-23T06:54:36.924Z"
   },
   {
    "duration": 46,
    "start_time": "2022-09-23T06:57:42.415Z"
   },
   {
    "duration": 19,
    "start_time": "2022-09-23T06:57:50.267Z"
   },
   {
    "duration": 22,
    "start_time": "2022-09-23T06:58:28.919Z"
   },
   {
    "duration": 340,
    "start_time": "2022-09-23T09:47:46.259Z"
   },
   {
    "duration": 45,
    "start_time": "2022-09-23T09:50:44.401Z"
   },
   {
    "duration": 35,
    "start_time": "2022-09-23T09:51:18.334Z"
   },
   {
    "duration": 6,
    "start_time": "2022-09-23T09:53:10.448Z"
   },
   {
    "duration": 7,
    "start_time": "2022-09-23T09:53:29.312Z"
   },
   {
    "duration": 17,
    "start_time": "2022-09-23T09:54:30.319Z"
   },
   {
    "duration": 19,
    "start_time": "2022-09-23T09:54:44.959Z"
   },
   {
    "duration": 150,
    "start_time": "2022-09-23T09:55:05.394Z"
   },
   {
    "duration": 415,
    "start_time": "2022-09-23T09:56:00.320Z"
   },
   {
    "duration": 62,
    "start_time": "2022-09-23T09:56:32.578Z"
   },
   {
    "duration": 16,
    "start_time": "2022-09-23T09:56:42.461Z"
   },
   {
    "duration": 141,
    "start_time": "2022-09-23T10:04:56.980Z"
   },
   {
    "duration": 155,
    "start_time": "2022-09-23T10:05:25.359Z"
   },
   {
    "duration": 147,
    "start_time": "2022-09-23T10:05:39.717Z"
   },
   {
    "duration": 1279,
    "start_time": "2022-09-23T10:08:54.381Z"
   },
   {
    "duration": 1963,
    "start_time": "2022-09-23T10:09:18.678Z"
   },
   {
    "duration": 1043,
    "start_time": "2022-09-23T10:09:35.777Z"
   },
   {
    "duration": 765,
    "start_time": "2022-09-23T10:09:57.637Z"
   },
   {
    "duration": 1697,
    "start_time": "2022-09-23T10:10:08.319Z"
   },
   {
    "duration": 150,
    "start_time": "2022-09-23T10:11:44.567Z"
   },
   {
    "duration": 208,
    "start_time": "2022-09-23T10:12:41.018Z"
   },
   {
    "duration": 159,
    "start_time": "2022-09-23T10:14:19.640Z"
   },
   {
    "duration": 189,
    "start_time": "2022-09-23T10:14:45.961Z"
   },
   {
    "duration": 164,
    "start_time": "2022-09-23T10:17:43.301Z"
   },
   {
    "duration": 214,
    "start_time": "2022-09-23T10:28:18.023Z"
   },
   {
    "duration": 130,
    "start_time": "2022-09-23T10:35:17.395Z"
   },
   {
    "duration": 153,
    "start_time": "2022-09-23T10:35:56.480Z"
   },
   {
    "duration": 160,
    "start_time": "2022-09-23T10:43:56.058Z"
   },
   {
    "duration": 169,
    "start_time": "2022-09-23T10:44:31.028Z"
   },
   {
    "duration": 172,
    "start_time": "2022-09-23T10:44:33.614Z"
   },
   {
    "duration": 22,
    "start_time": "2022-09-23T10:45:54.152Z"
   },
   {
    "duration": 22,
    "start_time": "2022-09-23T10:47:06.517Z"
   },
   {
    "duration": 19,
    "start_time": "2022-09-23T10:47:22.847Z"
   },
   {
    "duration": 19,
    "start_time": "2022-09-23T10:47:34.852Z"
   },
   {
    "duration": 4,
    "start_time": "2022-09-23T10:48:29.254Z"
   },
   {
    "duration": 14,
    "start_time": "2022-09-23T10:48:40.817Z"
   },
   {
    "duration": 31,
    "start_time": "2022-09-23T10:49:55.979Z"
   },
   {
    "duration": 15,
    "start_time": "2022-09-23T10:51:11.317Z"
   },
   {
    "duration": 5,
    "start_time": "2022-09-23T10:51:40.980Z"
   },
   {
    "duration": 8,
    "start_time": "2022-09-23T10:52:10.339Z"
   },
   {
    "duration": 15,
    "start_time": "2022-09-23T10:52:17.931Z"
   },
   {
    "duration": 13,
    "start_time": "2022-09-23T10:52:34.621Z"
   },
   {
    "duration": 24,
    "start_time": "2022-09-23T10:53:45.822Z"
   },
   {
    "duration": 32,
    "start_time": "2022-09-23T10:53:58.585Z"
   },
   {
    "duration": 20,
    "start_time": "2022-09-23T10:54:33.615Z"
   },
   {
    "duration": 58,
    "start_time": "2022-09-23T10:55:20.061Z"
   },
   {
    "duration": 16,
    "start_time": "2022-09-23T10:55:29.996Z"
   },
   {
    "duration": 16,
    "start_time": "2022-09-23T10:55:42.956Z"
   },
   {
    "duration": 17,
    "start_time": "2022-09-23T11:07:48.359Z"
   },
   {
    "duration": 19,
    "start_time": "2022-09-23T11:07:58.412Z"
   },
   {
    "duration": 35,
    "start_time": "2022-09-23T11:08:11.658Z"
   },
   {
    "duration": 21,
    "start_time": "2022-09-23T11:09:18.523Z"
   },
   {
    "duration": 24,
    "start_time": "2022-09-23T11:09:28.659Z"
   },
   {
    "duration": 52,
    "start_time": "2022-09-23T11:11:57.673Z"
   },
   {
    "duration": 20,
    "start_time": "2022-09-23T11:12:07.534Z"
   },
   {
    "duration": 20,
    "start_time": "2022-09-23T11:12:29.254Z"
   },
   {
    "duration": 17,
    "start_time": "2022-09-23T11:12:39.954Z"
   },
   {
    "duration": 18,
    "start_time": "2022-09-23T11:13:14.594Z"
   },
   {
    "duration": 69,
    "start_time": "2022-09-23T11:16:02.557Z"
   },
   {
    "duration": 24,
    "start_time": "2022-09-23T11:16:14.316Z"
   },
   {
    "duration": 23,
    "start_time": "2022-09-23T11:16:27.636Z"
   },
   {
    "duration": 36,
    "start_time": "2022-09-23T11:16:41.436Z"
   },
   {
    "duration": 16,
    "start_time": "2022-09-23T11:17:04.557Z"
   },
   {
    "duration": 19,
    "start_time": "2022-09-23T11:17:19.978Z"
   },
   {
    "duration": 18,
    "start_time": "2022-09-23T11:17:38.203Z"
   },
   {
    "duration": 18,
    "start_time": "2022-09-23T11:17:49.790Z"
   },
   {
    "duration": 17,
    "start_time": "2022-09-23T11:17:57.429Z"
   },
   {
    "duration": 4,
    "start_time": "2022-09-23T11:19:33.859Z"
   },
   {
    "duration": 16,
    "start_time": "2022-09-23T11:19:38.580Z"
   },
   {
    "duration": 339,
    "start_time": "2022-09-23T11:20:00.613Z"
   },
   {
    "duration": 283,
    "start_time": "2022-09-23T11:20:38.058Z"
   },
   {
    "duration": 15,
    "start_time": "2022-09-23T11:20:57.216Z"
   },
   {
    "duration": 21,
    "start_time": "2022-09-23T11:21:43.592Z"
   },
   {
    "duration": 23,
    "start_time": "2022-09-23T11:22:03.018Z"
   },
   {
    "duration": 235,
    "start_time": "2022-09-23T11:22:41.454Z"
   },
   {
    "duration": 217,
    "start_time": "2022-09-23T11:22:45.892Z"
   },
   {
    "duration": 19,
    "start_time": "2022-09-23T11:22:58.541Z"
   },
   {
    "duration": 23,
    "start_time": "2022-09-23T11:23:34.949Z"
   },
   {
    "duration": 21,
    "start_time": "2022-09-23T11:23:46.768Z"
   },
   {
    "duration": 20,
    "start_time": "2022-09-23T11:25:27.916Z"
   },
   {
    "duration": 4,
    "start_time": "2022-09-23T11:25:57.137Z"
   },
   {
    "duration": 22,
    "start_time": "2022-09-23T11:26:03.721Z"
   },
   {
    "duration": 106,
    "start_time": "2022-09-23T11:45:02.798Z"
   },
   {
    "duration": 37,
    "start_time": "2022-09-23T11:45:11.856Z"
   },
   {
    "duration": 16,
    "start_time": "2022-09-23T11:45:40.364Z"
   },
   {
    "duration": 18,
    "start_time": "2022-09-23T11:46:05.972Z"
   },
   {
    "duration": 290,
    "start_time": "2022-09-23T11:46:34.230Z"
   },
   {
    "duration": 374,
    "start_time": "2022-09-23T11:47:27.474Z"
   },
   {
    "duration": 314,
    "start_time": "2022-09-23T11:47:49.411Z"
   },
   {
    "duration": 305,
    "start_time": "2022-09-23T11:48:17.471Z"
   },
   {
    "duration": 314,
    "start_time": "2022-09-23T11:48:33.557Z"
   },
   {
    "duration": 370,
    "start_time": "2022-09-23T11:50:17.694Z"
   },
   {
    "duration": 328,
    "start_time": "2022-09-23T11:50:37.581Z"
   },
   {
    "duration": 318,
    "start_time": "2022-09-23T11:50:52.264Z"
   },
   {
    "duration": 641,
    "start_time": "2022-09-23T11:57:48.439Z"
   },
   {
    "duration": 355,
    "start_time": "2022-09-23T11:59:42.915Z"
   },
   {
    "duration": 431,
    "start_time": "2022-09-23T12:00:13.616Z"
   },
   {
    "duration": 357,
    "start_time": "2022-09-23T12:00:29.194Z"
   },
   {
    "duration": 321,
    "start_time": "2022-09-23T12:00:53.204Z"
   },
   {
    "duration": 982,
    "start_time": "2022-09-23T12:01:13.652Z"
   },
   {
    "duration": 396,
    "start_time": "2022-09-23T12:01:23.960Z"
   },
   {
    "duration": 313,
    "start_time": "2022-09-23T12:01:44.433Z"
   },
   {
    "duration": 7,
    "start_time": "2022-09-23T12:03:07.066Z"
   },
   {
    "duration": 311,
    "start_time": "2022-09-23T12:32:23.760Z"
   },
   {
    "duration": 6,
    "start_time": "2022-09-23T12:35:06.964Z"
   },
   {
    "duration": 186,
    "start_time": "2022-09-23T12:37:43.822Z"
   },
   {
    "duration": 1094,
    "start_time": "2022-09-23T14:13:12.979Z"
   },
   {
    "duration": 463,
    "start_time": "2022-09-23T14:13:17.629Z"
   },
   {
    "duration": 12,
    "start_time": "2022-09-23T14:13:18.094Z"
   },
   {
    "duration": 2144,
    "start_time": "2022-09-23T14:13:18.107Z"
   },
   {
    "duration": 9,
    "start_time": "2022-09-23T14:13:20.254Z"
   },
   {
    "duration": 13,
    "start_time": "2022-09-23T14:13:20.264Z"
   },
   {
    "duration": 8,
    "start_time": "2022-09-23T14:13:20.279Z"
   },
   {
    "duration": 9,
    "start_time": "2022-09-23T14:13:20.288Z"
   },
   {
    "duration": 96,
    "start_time": "2022-09-23T14:13:20.298Z"
   },
   {
    "duration": 105,
    "start_time": "2022-09-23T14:13:20.395Z"
   },
   {
    "duration": 98,
    "start_time": "2022-09-23T14:13:20.502Z"
   },
   {
    "duration": 109,
    "start_time": "2022-09-23T14:13:20.602Z"
   },
   {
    "duration": 101,
    "start_time": "2022-09-23T14:13:20.713Z"
   },
   {
    "duration": 104,
    "start_time": "2022-09-23T14:13:20.815Z"
   },
   {
    "duration": 20,
    "start_time": "2022-09-23T14:13:20.921Z"
   },
   {
    "duration": 4,
    "start_time": "2022-09-23T14:13:20.943Z"
   },
   {
    "duration": 11,
    "start_time": "2022-09-23T14:13:20.948Z"
   },
   {
    "duration": 278,
    "start_time": "2022-09-23T14:13:20.961Z"
   },
   {
    "duration": 4,
    "start_time": "2022-09-23T14:13:21.240Z"
   },
   {
    "duration": 237,
    "start_time": "2022-09-23T14:13:21.246Z"
   },
   {
    "duration": 251,
    "start_time": "2022-09-23T14:13:21.485Z"
   },
   {
    "duration": 253,
    "start_time": "2022-09-23T14:13:21.738Z"
   },
   {
    "duration": 260,
    "start_time": "2022-09-23T14:13:21.993Z"
   },
   {
    "duration": 129,
    "start_time": "2022-09-23T14:13:22.255Z"
   },
   {
    "duration": 174,
    "start_time": "2022-09-23T14:13:22.385Z"
   },
   {
    "duration": 249,
    "start_time": "2022-09-23T14:13:22.561Z"
   },
   {
    "duration": 106,
    "start_time": "2022-09-23T14:13:22.811Z"
   },
   {
    "duration": 173,
    "start_time": "2022-09-23T14:13:22.919Z"
   },
   {
    "duration": 255,
    "start_time": "2022-09-23T14:13:23.099Z"
   },
   {
    "duration": 258,
    "start_time": "2022-09-23T14:13:23.355Z"
   },
   {
    "duration": 230,
    "start_time": "2022-09-23T14:13:23.614Z"
   },
   {
    "duration": 135,
    "start_time": "2022-09-23T14:13:23.846Z"
   },
   {
    "duration": 3,
    "start_time": "2022-09-23T14:13:23.983Z"
   },
   {
    "duration": 168,
    "start_time": "2022-09-23T14:13:23.987Z"
   },
   {
    "duration": 385,
    "start_time": "2022-09-23T14:13:24.158Z"
   },
   {
    "duration": 127,
    "start_time": "2022-09-23T14:13:24.544Z"
   },
   {
    "duration": 8,
    "start_time": "2022-09-23T14:13:24.672Z"
   },
   {
    "duration": 159,
    "start_time": "2022-09-23T14:13:24.682Z"
   },
   {
    "duration": 152,
    "start_time": "2022-09-23T14:13:24.842Z"
   },
   {
    "duration": 164,
    "start_time": "2022-09-23T14:13:24.995Z"
   },
   {
    "duration": 132,
    "start_time": "2022-09-23T14:13:25.161Z"
   },
   {
    "duration": 5,
    "start_time": "2022-09-23T14:13:25.300Z"
   },
   {
    "duration": 171,
    "start_time": "2022-09-23T14:13:25.307Z"
   },
   {
    "duration": 146,
    "start_time": "2022-09-23T14:13:25.480Z"
   },
   {
    "duration": 174,
    "start_time": "2022-09-23T14:13:25.628Z"
   },
   {
    "duration": 149,
    "start_time": "2022-09-23T14:13:25.803Z"
   },
   {
    "duration": 24,
    "start_time": "2022-09-23T14:13:25.953Z"
   },
   {
    "duration": 27,
    "start_time": "2022-09-23T14:13:25.978Z"
   },
   {
    "duration": 264,
    "start_time": "2022-09-23T14:13:26.007Z"
   },
   {
    "duration": 6,
    "start_time": "2022-09-23T14:13:26.273Z"
   },
   {
    "duration": 144,
    "start_time": "2022-09-23T14:19:06.749Z"
   },
   {
    "duration": 83,
    "start_time": "2022-09-23T14:19:17.668Z"
   },
   {
    "duration": 103,
    "start_time": "2022-09-23T14:19:21.443Z"
   },
   {
    "duration": 90,
    "start_time": "2022-09-23T14:19:27.779Z"
   },
   {
    "duration": 103,
    "start_time": "2022-09-23T14:19:30.497Z"
   },
   {
    "duration": 91,
    "start_time": "2022-09-23T14:19:33.667Z"
   },
   {
    "duration": 208,
    "start_time": "2022-09-23T14:19:38.079Z"
   },
   {
    "duration": 101,
    "start_time": "2022-09-23T14:19:42.078Z"
   },
   {
    "duration": 11,
    "start_time": "2022-09-23T14:19:55.523Z"
   },
   {
    "duration": 454,
    "start_time": "2022-09-23T14:20:09.749Z"
   },
   {
    "duration": 23,
    "start_time": "2022-09-23T14:20:10.206Z"
   },
   {
    "duration": 2129,
    "start_time": "2022-09-23T14:20:10.230Z"
   },
   {
    "duration": 8,
    "start_time": "2022-09-23T14:20:12.361Z"
   },
   {
    "duration": 21,
    "start_time": "2022-09-23T14:20:12.371Z"
   },
   {
    "duration": 28,
    "start_time": "2022-09-23T14:20:12.394Z"
   },
   {
    "duration": 19,
    "start_time": "2022-09-23T14:20:12.424Z"
   },
   {
    "duration": 108,
    "start_time": "2022-09-23T14:20:12.445Z"
   },
   {
    "duration": 118,
    "start_time": "2022-09-23T14:20:12.555Z"
   },
   {
    "duration": 115,
    "start_time": "2022-09-23T14:20:12.675Z"
   },
   {
    "duration": 125,
    "start_time": "2022-09-23T14:20:12.791Z"
   },
   {
    "duration": 103,
    "start_time": "2022-09-23T14:20:12.918Z"
   },
   {
    "duration": 109,
    "start_time": "2022-09-23T14:20:13.023Z"
   },
   {
    "duration": 19,
    "start_time": "2022-09-23T14:20:13.133Z"
   },
   {
    "duration": 12,
    "start_time": "2022-09-23T14:20:13.153Z"
   },
   {
    "duration": 4,
    "start_time": "2022-09-23T14:20:13.166Z"
   },
   {
    "duration": 36,
    "start_time": "2022-09-23T14:20:13.172Z"
   },
   {
    "duration": 271,
    "start_time": "2022-09-23T14:20:13.211Z"
   },
   {
    "duration": 4,
    "start_time": "2022-09-23T14:20:13.483Z"
   },
   {
    "duration": 257,
    "start_time": "2022-09-23T14:20:13.489Z"
   },
   {
    "duration": 252,
    "start_time": "2022-09-23T14:20:13.748Z"
   },
   {
    "duration": 293,
    "start_time": "2022-09-23T14:20:14.002Z"
   },
   {
    "duration": 299,
    "start_time": "2022-09-23T14:20:14.299Z"
   },
   {
    "duration": 167,
    "start_time": "2022-09-23T14:20:14.600Z"
   },
   {
    "duration": 202,
    "start_time": "2022-09-23T14:20:14.769Z"
   },
   {
    "duration": 189,
    "start_time": "2022-09-23T14:20:14.972Z"
   },
   {
    "duration": 218,
    "start_time": "2022-09-23T14:20:15.163Z"
   },
   {
    "duration": 189,
    "start_time": "2022-09-23T14:20:15.384Z"
   },
   {
    "duration": 237,
    "start_time": "2022-09-23T14:20:15.574Z"
   },
   {
    "duration": 276,
    "start_time": "2022-09-23T14:20:15.813Z"
   },
   {
    "duration": 262,
    "start_time": "2022-09-23T14:20:16.091Z"
   },
   {
    "duration": 148,
    "start_time": "2022-09-23T14:20:16.354Z"
   },
   {
    "duration": 4,
    "start_time": "2022-09-23T14:20:16.504Z"
   },
   {
    "duration": 176,
    "start_time": "2022-09-23T14:20:16.510Z"
   },
   {
    "duration": 367,
    "start_time": "2022-09-23T14:20:16.688Z"
   },
   {
    "duration": 131,
    "start_time": "2022-09-23T14:20:17.057Z"
   },
   {
    "duration": 16,
    "start_time": "2022-09-23T14:20:17.190Z"
   },
   {
    "duration": 177,
    "start_time": "2022-09-23T14:20:17.208Z"
   },
   {
    "duration": 167,
    "start_time": "2022-09-23T14:20:17.387Z"
   },
   {
    "duration": 178,
    "start_time": "2022-09-23T14:20:17.556Z"
   },
   {
    "duration": 147,
    "start_time": "2022-09-23T14:20:17.736Z"
   },
   {
    "duration": 4,
    "start_time": "2022-09-23T14:20:17.885Z"
   },
   {
    "duration": 173,
    "start_time": "2022-09-23T14:20:17.900Z"
   },
   {
    "duration": 166,
    "start_time": "2022-09-23T14:20:18.075Z"
   },
   {
    "duration": 177,
    "start_time": "2022-09-23T14:20:18.243Z"
   },
   {
    "duration": 163,
    "start_time": "2022-09-23T14:20:18.422Z"
   },
   {
    "duration": 45,
    "start_time": "2022-09-23T14:20:18.587Z"
   },
   {
    "duration": 20,
    "start_time": "2022-09-23T14:20:18.634Z"
   },
   {
    "duration": 270,
    "start_time": "2022-09-23T14:20:18.655Z"
   },
   {
    "duration": 6,
    "start_time": "2022-09-23T14:20:18.927Z"
   },
   {
    "duration": 461,
    "start_time": "2022-09-23T14:26:35.644Z"
   },
   {
    "duration": 13,
    "start_time": "2022-09-23T14:26:36.107Z"
   },
   {
    "duration": 2049,
    "start_time": "2022-09-23T14:26:36.122Z"
   },
   {
    "duration": 9,
    "start_time": "2022-09-23T14:26:38.173Z"
   },
   {
    "duration": 19,
    "start_time": "2022-09-23T14:26:38.184Z"
   },
   {
    "duration": 8,
    "start_time": "2022-09-23T14:26:38.204Z"
   },
   {
    "duration": 6,
    "start_time": "2022-09-23T14:26:38.213Z"
   },
   {
    "duration": 99,
    "start_time": "2022-09-23T14:26:38.220Z"
   },
   {
    "duration": 105,
    "start_time": "2022-09-23T14:26:38.320Z"
   },
   {
    "duration": 101,
    "start_time": "2022-09-23T14:26:38.427Z"
   },
   {
    "duration": 111,
    "start_time": "2022-09-23T14:26:38.530Z"
   },
   {
    "duration": 91,
    "start_time": "2022-09-23T14:26:38.643Z"
   },
   {
    "duration": 103,
    "start_time": "2022-09-23T14:26:38.735Z"
   },
   {
    "duration": 12,
    "start_time": "2022-09-23T14:26:38.839Z"
   },
   {
    "duration": 19,
    "start_time": "2022-09-23T14:26:38.852Z"
   },
   {
    "duration": 29,
    "start_time": "2022-09-23T14:26:38.873Z"
   },
   {
    "duration": 3,
    "start_time": "2022-09-23T14:26:38.904Z"
   },
   {
    "duration": 12,
    "start_time": "2022-09-23T14:26:38.909Z"
   },
   {
    "duration": 252,
    "start_time": "2022-09-23T14:26:38.922Z"
   },
   {
    "duration": 4,
    "start_time": "2022-09-23T14:26:39.176Z"
   },
   {
    "duration": 215,
    "start_time": "2022-09-23T14:26:39.181Z"
   },
   {
    "duration": 263,
    "start_time": "2022-09-23T14:26:39.400Z"
   },
   {
    "duration": 253,
    "start_time": "2022-09-23T14:26:39.664Z"
   },
   {
    "duration": 239,
    "start_time": "2022-09-23T14:26:39.919Z"
   },
   {
    "duration": 126,
    "start_time": "2022-09-23T14:26:40.159Z"
   },
   {
    "duration": 186,
    "start_time": "2022-09-23T14:26:40.286Z"
   },
   {
    "duration": 192,
    "start_time": "2022-09-23T14:26:40.473Z"
   },
   {
    "duration": 200,
    "start_time": "2022-09-23T14:26:40.668Z"
   },
   {
    "duration": 177,
    "start_time": "2022-09-23T14:26:40.870Z"
   },
   {
    "duration": 364,
    "start_time": "2022-09-23T14:26:41.049Z"
   },
   {
    "duration": 516,
    "start_time": "2022-09-23T14:26:41.415Z"
   },
   {
    "duration": 511,
    "start_time": "2022-09-23T14:26:41.933Z"
   },
   {
    "duration": 298,
    "start_time": "2022-09-23T14:26:42.445Z"
   },
   {
    "duration": 57,
    "start_time": "2022-09-23T14:26:42.744Z"
   },
   {
    "duration": 160,
    "start_time": "2022-09-23T14:26:42.802Z"
   },
   {
    "duration": 344,
    "start_time": "2022-09-23T14:26:42.963Z"
   },
   {
    "duration": 123,
    "start_time": "2022-09-23T14:26:43.309Z"
   },
   {
    "duration": 9,
    "start_time": "2022-09-23T14:26:43.434Z"
   },
   {
    "duration": 162,
    "start_time": "2022-09-23T14:26:43.444Z"
   },
   {
    "duration": 153,
    "start_time": "2022-09-23T14:26:43.607Z"
   },
   {
    "duration": 156,
    "start_time": "2022-09-23T14:26:43.761Z"
   },
   {
    "duration": 131,
    "start_time": "2022-09-23T14:26:43.918Z"
   },
   {
    "duration": 5,
    "start_time": "2022-09-23T14:26:44.050Z"
   },
   {
    "duration": 178,
    "start_time": "2022-09-23T14:26:44.056Z"
   },
   {
    "duration": 138,
    "start_time": "2022-09-23T14:26:44.235Z"
   },
   {
    "duration": 218,
    "start_time": "2022-09-23T14:26:44.375Z"
   },
   {
    "duration": 141,
    "start_time": "2022-09-23T14:26:44.595Z"
   },
   {
    "duration": 24,
    "start_time": "2022-09-23T14:26:44.738Z"
   },
   {
    "duration": 17,
    "start_time": "2022-09-23T14:26:44.763Z"
   },
   {
    "duration": 264,
    "start_time": "2022-09-23T14:26:44.799Z"
   },
   {
    "duration": 6,
    "start_time": "2022-09-23T14:26:45.064Z"
   },
   {
    "duration": 471,
    "start_time": "2022-09-23T14:27:08.899Z"
   },
   {
    "duration": 12,
    "start_time": "2022-09-23T14:27:09.372Z"
   },
   {
    "duration": 1934,
    "start_time": "2022-09-23T14:27:09.385Z"
   },
   {
    "duration": 9,
    "start_time": "2022-09-23T14:27:11.321Z"
   },
   {
    "duration": 14,
    "start_time": "2022-09-23T14:27:11.332Z"
   },
   {
    "duration": 8,
    "start_time": "2022-09-23T14:27:11.347Z"
   },
   {
    "duration": 6,
    "start_time": "2022-09-23T14:27:11.356Z"
   },
   {
    "duration": 101,
    "start_time": "2022-09-23T14:27:11.364Z"
   },
   {
    "duration": 108,
    "start_time": "2022-09-23T14:27:11.467Z"
   },
   {
    "duration": 122,
    "start_time": "2022-09-23T14:27:11.578Z"
   },
   {
    "duration": 112,
    "start_time": "2022-09-23T14:27:11.702Z"
   },
   {
    "duration": 100,
    "start_time": "2022-09-23T14:27:11.816Z"
   },
   {
    "duration": 100,
    "start_time": "2022-09-23T14:27:11.917Z"
   },
   {
    "duration": 11,
    "start_time": "2022-09-23T14:27:12.019Z"
   },
   {
    "duration": 18,
    "start_time": "2022-09-23T14:27:12.032Z"
   },
   {
    "duration": 10,
    "start_time": "2022-09-23T14:27:12.052Z"
   },
   {
    "duration": 3,
    "start_time": "2022-09-23T14:27:12.064Z"
   },
   {
    "duration": 31,
    "start_time": "2022-09-23T14:27:12.069Z"
   },
   {
    "duration": 233,
    "start_time": "2022-09-23T14:27:12.102Z"
   },
   {
    "duration": 4,
    "start_time": "2022-09-23T14:27:12.336Z"
   },
   {
    "duration": 224,
    "start_time": "2022-09-23T14:27:12.341Z"
   },
   {
    "duration": 238,
    "start_time": "2022-09-23T14:27:12.566Z"
   },
   {
    "duration": 247,
    "start_time": "2022-09-23T14:27:12.806Z"
   },
   {
    "duration": 278,
    "start_time": "2022-09-23T14:27:13.055Z"
   },
   {
    "duration": 176,
    "start_time": "2022-09-23T14:27:13.335Z"
   },
   {
    "duration": 329,
    "start_time": "2022-09-23T14:27:13.514Z"
   },
   {
    "duration": 591,
    "start_time": "2022-09-23T14:27:13.845Z"
   },
   {
    "duration": 274,
    "start_time": "2022-09-23T14:27:14.440Z"
   },
   {
    "duration": 319,
    "start_time": "2022-09-23T14:27:14.716Z"
   },
   {
    "duration": 357,
    "start_time": "2022-09-23T14:27:15.037Z"
   },
   {
    "duration": 233,
    "start_time": "2022-09-23T14:27:15.395Z"
   },
   {
    "duration": 237,
    "start_time": "2022-09-23T14:27:15.629Z"
   },
   {
    "duration": 145,
    "start_time": "2022-09-23T14:27:15.868Z"
   },
   {
    "duration": 3,
    "start_time": "2022-09-23T14:27:16.015Z"
   },
   {
    "duration": 172,
    "start_time": "2022-09-23T14:27:16.020Z"
   },
   {
    "duration": 342,
    "start_time": "2022-09-23T14:27:16.194Z"
   },
   {
    "duration": 130,
    "start_time": "2022-09-23T14:27:16.537Z"
   },
   {
    "duration": 9,
    "start_time": "2022-09-23T14:27:16.669Z"
   },
   {
    "duration": 190,
    "start_time": "2022-09-23T14:27:16.680Z"
   },
   {
    "duration": 162,
    "start_time": "2022-09-23T14:27:16.872Z"
   },
   {
    "duration": 170,
    "start_time": "2022-09-23T14:27:17.036Z"
   },
   {
    "duration": 154,
    "start_time": "2022-09-23T14:27:17.208Z"
   },
   {
    "duration": 6,
    "start_time": "2022-09-23T14:27:17.363Z"
   },
   {
    "duration": 205,
    "start_time": "2022-09-23T14:27:17.372Z"
   },
   {
    "duration": 148,
    "start_time": "2022-09-23T14:27:17.579Z"
   },
   {
    "duration": 180,
    "start_time": "2022-09-23T14:27:17.729Z"
   },
   {
    "duration": 161,
    "start_time": "2022-09-23T14:27:17.919Z"
   },
   {
    "duration": 39,
    "start_time": "2022-09-23T14:27:18.082Z"
   },
   {
    "duration": 19,
    "start_time": "2022-09-23T14:27:18.123Z"
   },
   {
    "duration": 275,
    "start_time": "2022-09-23T14:27:18.144Z"
   },
   {
    "duration": 6,
    "start_time": "2022-09-23T14:27:18.420Z"
   },
   {
    "duration": 487,
    "start_time": "2022-09-23T14:27:30.683Z"
   },
   {
    "duration": 12,
    "start_time": "2022-09-23T14:27:31.172Z"
   },
   {
    "duration": 2022,
    "start_time": "2022-09-23T14:27:31.185Z"
   },
   {
    "duration": 11,
    "start_time": "2022-09-23T14:27:33.210Z"
   },
   {
    "duration": 13,
    "start_time": "2022-09-23T14:27:33.222Z"
   },
   {
    "duration": 7,
    "start_time": "2022-09-23T14:27:33.237Z"
   },
   {
    "duration": 10,
    "start_time": "2022-09-23T14:27:33.246Z"
   },
   {
    "duration": 116,
    "start_time": "2022-09-23T14:27:33.258Z"
   },
   {
    "duration": 112,
    "start_time": "2022-09-23T14:27:33.375Z"
   },
   {
    "duration": 95,
    "start_time": "2022-09-23T14:27:33.489Z"
   },
   {
    "duration": 120,
    "start_time": "2022-09-23T14:27:33.585Z"
   },
   {
    "duration": 85,
    "start_time": "2022-09-23T14:27:33.710Z"
   },
   {
    "duration": 88,
    "start_time": "2022-09-23T14:27:33.799Z"
   },
   {
    "duration": 25,
    "start_time": "2022-09-23T14:27:33.889Z"
   },
   {
    "duration": 31,
    "start_time": "2022-09-23T14:27:33.916Z"
   },
   {
    "duration": 11,
    "start_time": "2022-09-23T14:27:33.949Z"
   },
   {
    "duration": 4,
    "start_time": "2022-09-23T14:27:33.961Z"
   },
   {
    "duration": 14,
    "start_time": "2022-09-23T14:27:33.966Z"
   },
   {
    "duration": 407,
    "start_time": "2022-09-23T14:27:33.981Z"
   },
   {
    "duration": 4,
    "start_time": "2022-09-23T14:27:34.390Z"
   },
   {
    "duration": 332,
    "start_time": "2022-09-23T14:27:34.402Z"
   },
   {
    "duration": 227,
    "start_time": "2022-09-23T14:27:34.735Z"
   },
   {
    "duration": 236,
    "start_time": "2022-09-23T14:27:34.964Z"
   },
   {
    "duration": 258,
    "start_time": "2022-09-23T14:27:35.202Z"
   },
   {
    "duration": 157,
    "start_time": "2022-09-23T14:27:35.463Z"
   },
   {
    "duration": 161,
    "start_time": "2022-09-23T14:27:35.622Z"
   },
   {
    "duration": 247,
    "start_time": "2022-09-23T14:27:35.785Z"
   },
   {
    "duration": 134,
    "start_time": "2022-09-23T14:27:36.036Z"
   },
   {
    "duration": 165,
    "start_time": "2022-09-23T14:27:36.172Z"
   },
   {
    "duration": 509,
    "start_time": "2022-09-23T14:27:36.338Z"
   },
   {
    "duration": 555,
    "start_time": "2022-09-23T14:27:36.848Z"
   },
   {
    "duration": 620,
    "start_time": "2022-09-23T14:27:37.404Z"
   },
   {
    "duration": 238,
    "start_time": "2022-09-23T14:27:38.026Z"
   },
   {
    "duration": 3,
    "start_time": "2022-09-23T14:27:38.265Z"
   },
   {
    "duration": 151,
    "start_time": "2022-09-23T14:27:38.270Z"
   },
   {
    "duration": 365,
    "start_time": "2022-09-23T14:27:38.422Z"
   },
   {
    "duration": 134,
    "start_time": "2022-09-23T14:27:38.788Z"
   },
   {
    "duration": 8,
    "start_time": "2022-09-23T14:27:38.924Z"
   },
   {
    "duration": 208,
    "start_time": "2022-09-23T14:27:38.934Z"
   },
   {
    "duration": 184,
    "start_time": "2022-09-23T14:27:39.143Z"
   },
   {
    "duration": 219,
    "start_time": "2022-09-23T14:27:39.328Z"
   },
   {
    "duration": 175,
    "start_time": "2022-09-23T14:27:39.548Z"
   },
   {
    "duration": 6,
    "start_time": "2022-09-23T14:27:39.725Z"
   },
   {
    "duration": 198,
    "start_time": "2022-09-23T14:27:39.732Z"
   },
   {
    "duration": 158,
    "start_time": "2022-09-23T14:27:39.931Z"
   },
   {
    "duration": 188,
    "start_time": "2022-09-23T14:27:40.091Z"
   },
   {
    "duration": 167,
    "start_time": "2022-09-23T14:27:40.281Z"
   },
   {
    "duration": 38,
    "start_time": "2022-09-23T14:27:40.449Z"
   },
   {
    "duration": 32,
    "start_time": "2022-09-23T14:27:40.488Z"
   },
   {
    "duration": 317,
    "start_time": "2022-09-23T14:27:40.522Z"
   },
   {
    "duration": 7,
    "start_time": "2022-09-23T14:27:40.841Z"
   },
   {
    "duration": 488,
    "start_time": "2022-09-23T14:27:43.427Z"
   },
   {
    "duration": 13,
    "start_time": "2022-09-23T14:27:43.917Z"
   },
   {
    "duration": 3220,
    "start_time": "2022-09-23T14:27:43.931Z"
   },
   {
    "duration": 10,
    "start_time": "2022-09-23T14:27:47.153Z"
   },
   {
    "duration": 14,
    "start_time": "2022-09-23T14:27:47.165Z"
   },
   {
    "duration": 9,
    "start_time": "2022-09-23T14:27:47.180Z"
   },
   {
    "duration": 11,
    "start_time": "2022-09-23T14:27:47.200Z"
   },
   {
    "duration": 109,
    "start_time": "2022-09-23T14:27:47.212Z"
   },
   {
    "duration": 127,
    "start_time": "2022-09-23T14:27:47.323Z"
   },
   {
    "duration": 116,
    "start_time": "2022-09-23T14:27:47.454Z"
   },
   {
    "duration": 120,
    "start_time": "2022-09-23T14:27:47.572Z"
   },
   {
    "duration": 108,
    "start_time": "2022-09-23T14:27:47.693Z"
   },
   {
    "duration": 100,
    "start_time": "2022-09-23T14:27:47.805Z"
   },
   {
    "duration": 12,
    "start_time": "2022-09-23T14:27:47.908Z"
   },
   {
    "duration": 20,
    "start_time": "2022-09-23T14:27:47.922Z"
   },
   {
    "duration": 11,
    "start_time": "2022-09-23T14:27:47.944Z"
   },
   {
    "duration": 3,
    "start_time": "2022-09-23T14:27:47.957Z"
   },
   {
    "duration": 9,
    "start_time": "2022-09-23T14:27:47.962Z"
   },
   {
    "duration": 303,
    "start_time": "2022-09-23T14:27:47.972Z"
   },
   {
    "duration": 4,
    "start_time": "2022-09-23T14:27:48.278Z"
   },
   {
    "duration": 295,
    "start_time": "2022-09-23T14:27:48.283Z"
   },
   {
    "duration": 256,
    "start_time": "2022-09-23T14:27:48.580Z"
   },
   {
    "duration": 271,
    "start_time": "2022-09-23T14:27:48.838Z"
   },
   {
    "duration": 256,
    "start_time": "2022-09-23T14:27:49.112Z"
   },
   {
    "duration": 151,
    "start_time": "2022-09-23T14:27:49.370Z"
   },
   {
    "duration": 171,
    "start_time": "2022-09-23T14:27:49.522Z"
   },
   {
    "duration": 255,
    "start_time": "2022-09-23T14:27:49.699Z"
   },
   {
    "duration": 126,
    "start_time": "2022-09-23T14:27:49.957Z"
   },
   {
    "duration": 167,
    "start_time": "2022-09-23T14:27:50.084Z"
   },
   {
    "duration": 250,
    "start_time": "2022-09-23T14:27:50.253Z"
   },
   {
    "duration": 254,
    "start_time": "2022-09-23T14:27:50.506Z"
   },
   {
    "duration": 247,
    "start_time": "2022-09-23T14:27:50.762Z"
   },
   {
    "duration": 142,
    "start_time": "2022-09-23T14:27:51.013Z"
   },
   {
    "duration": 3,
    "start_time": "2022-09-23T14:27:51.157Z"
   },
   {
    "duration": 157,
    "start_time": "2022-09-23T14:27:51.162Z"
   },
   {
    "duration": 353,
    "start_time": "2022-09-23T14:27:51.320Z"
   },
   {
    "duration": 143,
    "start_time": "2022-09-23T14:27:51.674Z"
   },
   {
    "duration": 8,
    "start_time": "2022-09-23T14:27:51.819Z"
   },
   {
    "duration": 167,
    "start_time": "2022-09-23T14:27:51.828Z"
   },
   {
    "duration": 165,
    "start_time": "2022-09-23T14:27:51.997Z"
   },
   {
    "duration": 170,
    "start_time": "2022-09-23T14:27:52.164Z"
   },
   {
    "duration": 148,
    "start_time": "2022-09-23T14:27:52.336Z"
   },
   {
    "duration": 5,
    "start_time": "2022-09-23T14:27:52.486Z"
   },
   {
    "duration": 185,
    "start_time": "2022-09-23T14:27:52.500Z"
   },
   {
    "duration": 158,
    "start_time": "2022-09-23T14:27:52.686Z"
   },
   {
    "duration": 183,
    "start_time": "2022-09-23T14:27:52.846Z"
   },
   {
    "duration": 161,
    "start_time": "2022-09-23T14:27:53.031Z"
   },
   {
    "duration": 36,
    "start_time": "2022-09-23T14:27:53.193Z"
   },
   {
    "duration": 18,
    "start_time": "2022-09-23T14:27:53.230Z"
   },
   {
    "duration": 285,
    "start_time": "2022-09-23T14:27:53.250Z"
   },
   {
    "duration": 6,
    "start_time": "2022-09-23T14:27:53.537Z"
   },
   {
    "duration": 261,
    "start_time": "2022-09-23T14:35:05.072Z"
   },
   {
    "duration": 111,
    "start_time": "2022-09-23T16:10:50.806Z"
   },
   {
    "duration": 15,
    "start_time": "2022-09-23T16:10:50.920Z"
   },
   {
    "duration": 2176,
    "start_time": "2022-09-23T16:10:50.937Z"
   },
   {
    "duration": 24,
    "start_time": "2022-09-23T16:10:53.115Z"
   },
   {
    "duration": 15,
    "start_time": "2022-09-23T16:10:53.141Z"
   },
   {
    "duration": 48,
    "start_time": "2022-09-23T16:10:53.158Z"
   },
   {
    "duration": 0,
    "start_time": "2022-09-23T16:10:53.209Z"
   },
   {
    "duration": 0,
    "start_time": "2022-09-23T16:10:53.211Z"
   },
   {
    "duration": 0,
    "start_time": "2022-09-23T16:10:53.212Z"
   },
   {
    "duration": 0,
    "start_time": "2022-09-23T16:10:53.215Z"
   },
   {
    "duration": 0,
    "start_time": "2022-09-23T16:10:53.216Z"
   },
   {
    "duration": 0,
    "start_time": "2022-09-23T16:10:53.217Z"
   },
   {
    "duration": 0,
    "start_time": "2022-09-23T16:10:53.219Z"
   },
   {
    "duration": 0,
    "start_time": "2022-09-23T16:10:53.221Z"
   },
   {
    "duration": 0,
    "start_time": "2022-09-23T16:10:53.222Z"
   },
   {
    "duration": 0,
    "start_time": "2022-09-23T16:10:53.224Z"
   },
   {
    "duration": 0,
    "start_time": "2022-09-23T16:10:53.225Z"
   },
   {
    "duration": 0,
    "start_time": "2022-09-23T16:10:53.227Z"
   },
   {
    "duration": 0,
    "start_time": "2022-09-23T16:10:53.228Z"
   },
   {
    "duration": 0,
    "start_time": "2022-09-23T16:10:53.230Z"
   },
   {
    "duration": 0,
    "start_time": "2022-09-23T16:10:53.231Z"
   },
   {
    "duration": 0,
    "start_time": "2022-09-23T16:10:53.233Z"
   },
   {
    "duration": 0,
    "start_time": "2022-09-23T16:10:53.234Z"
   },
   {
    "duration": 0,
    "start_time": "2022-09-23T16:10:53.235Z"
   },
   {
    "duration": 0,
    "start_time": "2022-09-23T16:10:53.237Z"
   },
   {
    "duration": 0,
    "start_time": "2022-09-23T16:10:53.238Z"
   },
   {
    "duration": 0,
    "start_time": "2022-09-23T16:10:53.240Z"
   },
   {
    "duration": 0,
    "start_time": "2022-09-23T16:10:53.241Z"
   },
   {
    "duration": 0,
    "start_time": "2022-09-23T16:10:53.242Z"
   },
   {
    "duration": 0,
    "start_time": "2022-09-23T16:10:53.244Z"
   },
   {
    "duration": 0,
    "start_time": "2022-09-23T16:10:53.245Z"
   },
   {
    "duration": 0,
    "start_time": "2022-09-23T16:10:53.247Z"
   },
   {
    "duration": 0,
    "start_time": "2022-09-23T16:10:53.248Z"
   },
   {
    "duration": 0,
    "start_time": "2022-09-23T16:10:53.249Z"
   },
   {
    "duration": 0,
    "start_time": "2022-09-23T16:10:53.251Z"
   },
   {
    "duration": 0,
    "start_time": "2022-09-23T16:10:53.252Z"
   },
   {
    "duration": 0,
    "start_time": "2022-09-23T16:10:53.253Z"
   },
   {
    "duration": 0,
    "start_time": "2022-09-23T16:10:53.254Z"
   },
   {
    "duration": 0,
    "start_time": "2022-09-23T16:10:53.255Z"
   },
   {
    "duration": 0,
    "start_time": "2022-09-23T16:10:53.256Z"
   },
   {
    "duration": 0,
    "start_time": "2022-09-23T16:10:53.257Z"
   },
   {
    "duration": 0,
    "start_time": "2022-09-23T16:10:53.258Z"
   },
   {
    "duration": 0,
    "start_time": "2022-09-23T16:10:53.259Z"
   },
   {
    "duration": 0,
    "start_time": "2022-09-23T16:10:53.320Z"
   },
   {
    "duration": 0,
    "start_time": "2022-09-23T16:10:53.322Z"
   },
   {
    "duration": 0,
    "start_time": "2022-09-23T16:10:53.323Z"
   },
   {
    "duration": 0,
    "start_time": "2022-09-23T16:10:53.324Z"
   },
   {
    "duration": 0,
    "start_time": "2022-09-23T16:10:53.325Z"
   },
   {
    "duration": 0,
    "start_time": "2022-09-23T16:10:53.327Z"
   },
   {
    "duration": 0,
    "start_time": "2022-09-23T16:10:53.328Z"
   },
   {
    "duration": 0,
    "start_time": "2022-09-23T16:10:53.329Z"
   },
   {
    "duration": 0,
    "start_time": "2022-09-23T16:10:53.330Z"
   },
   {
    "duration": 0,
    "start_time": "2022-09-23T16:10:53.331Z"
   },
   {
    "duration": 98,
    "start_time": "2022-09-23T16:11:50.065Z"
   },
   {
    "duration": 16,
    "start_time": "2022-09-23T16:11:50.165Z"
   },
   {
    "duration": 2129,
    "start_time": "2022-09-23T16:11:50.183Z"
   },
   {
    "duration": 27,
    "start_time": "2022-09-23T16:11:52.313Z"
   },
   {
    "duration": 15,
    "start_time": "2022-09-23T16:11:52.343Z"
   },
   {
    "duration": 3,
    "start_time": "2022-09-23T16:11:52.359Z"
   },
   {
    "duration": 19,
    "start_time": "2022-09-23T16:11:52.364Z"
   },
   {
    "duration": 7,
    "start_time": "2022-09-23T16:11:52.385Z"
   },
   {
    "duration": 103,
    "start_time": "2022-09-23T16:11:52.421Z"
   },
   {
    "duration": 133,
    "start_time": "2022-09-23T16:11:52.526Z"
   },
   {
    "duration": 143,
    "start_time": "2022-09-23T16:11:52.661Z"
   },
   {
    "duration": 129,
    "start_time": "2022-09-23T16:11:52.805Z"
   },
   {
    "duration": 110,
    "start_time": "2022-09-23T16:11:52.935Z"
   },
   {
    "duration": 117,
    "start_time": "2022-09-23T16:11:53.048Z"
   },
   {
    "duration": 14,
    "start_time": "2022-09-23T16:11:53.167Z"
   },
   {
    "duration": 16,
    "start_time": "2022-09-23T16:11:53.182Z"
   },
   {
    "duration": 167,
    "start_time": "2022-09-23T16:11:53.200Z"
   },
   {
    "duration": 0,
    "start_time": "2022-09-23T16:11:53.369Z"
   },
   {
    "duration": 0,
    "start_time": "2022-09-23T16:11:53.370Z"
   },
   {
    "duration": 0,
    "start_time": "2022-09-23T16:11:53.371Z"
   },
   {
    "duration": 0,
    "start_time": "2022-09-23T16:11:53.372Z"
   },
   {
    "duration": 0,
    "start_time": "2022-09-23T16:11:53.374Z"
   },
   {
    "duration": 0,
    "start_time": "2022-09-23T16:11:53.375Z"
   },
   {
    "duration": 0,
    "start_time": "2022-09-23T16:11:53.376Z"
   },
   {
    "duration": 0,
    "start_time": "2022-09-23T16:11:53.377Z"
   },
   {
    "duration": 0,
    "start_time": "2022-09-23T16:11:53.378Z"
   },
   {
    "duration": 0,
    "start_time": "2022-09-23T16:11:53.379Z"
   },
   {
    "duration": 0,
    "start_time": "2022-09-23T16:11:53.380Z"
   },
   {
    "duration": 0,
    "start_time": "2022-09-23T16:11:53.381Z"
   },
   {
    "duration": 0,
    "start_time": "2022-09-23T16:11:53.382Z"
   },
   {
    "duration": 0,
    "start_time": "2022-09-23T16:11:53.384Z"
   },
   {
    "duration": 0,
    "start_time": "2022-09-23T16:11:53.384Z"
   },
   {
    "duration": 0,
    "start_time": "2022-09-23T16:11:53.385Z"
   },
   {
    "duration": 0,
    "start_time": "2022-09-23T16:11:53.387Z"
   },
   {
    "duration": 0,
    "start_time": "2022-09-23T16:11:53.388Z"
   },
   {
    "duration": 0,
    "start_time": "2022-09-23T16:11:53.389Z"
   },
   {
    "duration": 0,
    "start_time": "2022-09-23T16:11:53.390Z"
   },
   {
    "duration": 0,
    "start_time": "2022-09-23T16:11:53.391Z"
   },
   {
    "duration": 0,
    "start_time": "2022-09-23T16:11:53.392Z"
   },
   {
    "duration": 0,
    "start_time": "2022-09-23T16:11:53.393Z"
   },
   {
    "duration": 0,
    "start_time": "2022-09-23T16:11:53.395Z"
   },
   {
    "duration": 0,
    "start_time": "2022-09-23T16:11:53.396Z"
   },
   {
    "duration": 0,
    "start_time": "2022-09-23T16:11:53.397Z"
   },
   {
    "duration": 0,
    "start_time": "2022-09-23T16:11:53.398Z"
   },
   {
    "duration": 0,
    "start_time": "2022-09-23T16:11:53.399Z"
   },
   {
    "duration": 0,
    "start_time": "2022-09-23T16:11:53.400Z"
   },
   {
    "duration": 0,
    "start_time": "2022-09-23T16:11:53.401Z"
   },
   {
    "duration": 0,
    "start_time": "2022-09-23T16:11:53.402Z"
   },
   {
    "duration": 0,
    "start_time": "2022-09-23T16:11:53.403Z"
   },
   {
    "duration": 0,
    "start_time": "2022-09-23T16:11:53.404Z"
   },
   {
    "duration": 0,
    "start_time": "2022-09-23T16:11:53.405Z"
   },
   {
    "duration": 0,
    "start_time": "2022-09-23T16:11:53.406Z"
   },
   {
    "duration": 0,
    "start_time": "2022-09-23T16:11:53.421Z"
   },
   {
    "duration": 54,
    "start_time": "2022-09-23T16:12:13.786Z"
   },
   {
    "duration": 17,
    "start_time": "2022-09-23T16:12:17.904Z"
   },
   {
    "duration": 83,
    "start_time": "2022-09-23T16:14:05.518Z"
   },
   {
    "duration": 125,
    "start_time": "2022-09-23T16:14:26.560Z"
   },
   {
    "duration": 80,
    "start_time": "2022-09-23T16:14:56.582Z"
   },
   {
    "duration": 296,
    "start_time": "2022-09-23T16:15:04.300Z"
   },
   {
    "duration": 14,
    "start_time": "2022-09-23T16:15:10.119Z"
   },
   {
    "duration": 184,
    "start_time": "2022-09-23T16:15:36.879Z"
   },
   {
    "duration": 75,
    "start_time": "2022-09-23T16:16:00.271Z"
   },
   {
    "duration": 77,
    "start_time": "2022-09-23T16:16:10.363Z"
   },
   {
    "duration": 78,
    "start_time": "2022-09-23T16:17:18.446Z"
   },
   {
    "duration": 151,
    "start_time": "2022-09-23T16:17:35.520Z"
   },
   {
    "duration": 5,
    "start_time": "2022-09-23T16:17:49.043Z"
   },
   {
    "duration": 103,
    "start_time": "2022-09-23T16:17:58.038Z"
   },
   {
    "duration": 15,
    "start_time": "2022-09-23T16:17:58.143Z"
   },
   {
    "duration": 2147,
    "start_time": "2022-09-23T16:17:58.159Z"
   },
   {
    "duration": 32,
    "start_time": "2022-09-23T16:18:00.308Z"
   },
   {
    "duration": 29,
    "start_time": "2022-09-23T16:18:00.342Z"
   },
   {
    "duration": 33,
    "start_time": "2022-09-23T16:18:00.373Z"
   },
   {
    "duration": 34,
    "start_time": "2022-09-23T16:18:00.407Z"
   },
   {
    "duration": 46,
    "start_time": "2022-09-23T16:18:00.443Z"
   },
   {
    "duration": 113,
    "start_time": "2022-09-23T16:18:00.490Z"
   },
   {
    "duration": 229,
    "start_time": "2022-09-23T16:18:00.605Z"
   },
   {
    "duration": 132,
    "start_time": "2022-09-23T16:18:00.835Z"
   },
   {
    "duration": 133,
    "start_time": "2022-09-23T16:18:00.968Z"
   },
   {
    "duration": 122,
    "start_time": "2022-09-23T16:18:01.103Z"
   },
   {
    "duration": 120,
    "start_time": "2022-09-23T16:18:01.228Z"
   },
   {
    "duration": 13,
    "start_time": "2022-09-23T16:18:01.350Z"
   },
   {
    "duration": 21,
    "start_time": "2022-09-23T16:18:01.365Z"
   },
   {
    "duration": 5,
    "start_time": "2022-09-23T16:18:01.388Z"
   },
   {
    "duration": 320,
    "start_time": "2022-09-23T16:18:08.846Z"
   },
   {
    "duration": 5,
    "start_time": "2022-09-23T16:18:26.065Z"
   },
   {
    "duration": 14,
    "start_time": "2022-09-23T16:18:38.098Z"
   },
   {
    "duration": 114,
    "start_time": "2022-09-23T16:20:17.867Z"
   },
   {
    "duration": 108,
    "start_time": "2022-09-23T16:20:30.912Z"
   },
   {
    "duration": 111,
    "start_time": "2022-09-23T16:20:41.981Z"
   },
   {
    "duration": 105,
    "start_time": "2022-09-23T16:20:51.059Z"
   },
   {
    "duration": 175,
    "start_time": "2022-09-23T16:21:15.362Z"
   },
   {
    "duration": 108,
    "start_time": "2022-09-23T16:21:20.623Z"
   },
   {
    "duration": 117,
    "start_time": "2022-09-23T16:21:37.262Z"
   },
   {
    "duration": 129,
    "start_time": "2022-09-23T16:21:42.609Z"
   },
   {
    "duration": 115,
    "start_time": "2022-09-23T16:22:05.938Z"
   },
   {
    "duration": 120,
    "start_time": "2022-09-23T16:22:19.127Z"
   },
   {
    "duration": 116,
    "start_time": "2022-09-23T16:22:26.366Z"
   },
   {
    "duration": 121,
    "start_time": "2022-09-23T16:22:34.720Z"
   },
   {
    "duration": 257,
    "start_time": "2022-09-23T16:24:43.352Z"
   },
   {
    "duration": 15,
    "start_time": "2022-09-23T16:25:13.839Z"
   },
   {
    "duration": 20,
    "start_time": "2022-09-23T16:30:04.621Z"
   },
   {
    "duration": 17,
    "start_time": "2022-09-23T16:30:15.326Z"
   },
   {
    "duration": 18,
    "start_time": "2022-09-23T16:30:35.141Z"
   },
   {
    "duration": 187,
    "start_time": "2022-09-23T16:42:47.540Z"
   },
   {
    "duration": 102,
    "start_time": "2022-09-23T16:42:59.542Z"
   },
   {
    "duration": 15,
    "start_time": "2022-09-23T16:42:59.646Z"
   },
   {
    "duration": 2138,
    "start_time": "2022-09-23T16:42:59.662Z"
   },
   {
    "duration": 42,
    "start_time": "2022-09-23T16:43:01.802Z"
   },
   {
    "duration": 17,
    "start_time": "2022-09-23T16:43:01.847Z"
   },
   {
    "duration": 2,
    "start_time": "2022-09-23T16:43:01.867Z"
   },
   {
    "duration": 12,
    "start_time": "2022-09-23T16:43:01.871Z"
   },
   {
    "duration": 13,
    "start_time": "2022-09-23T16:43:01.884Z"
   },
   {
    "duration": 132,
    "start_time": "2022-09-23T16:43:01.899Z"
   },
   {
    "duration": 127,
    "start_time": "2022-09-23T16:43:02.033Z"
   },
   {
    "duration": 119,
    "start_time": "2022-09-23T16:43:02.162Z"
   },
   {
    "duration": 216,
    "start_time": "2022-09-23T16:43:02.283Z"
   },
   {
    "duration": 125,
    "start_time": "2022-09-23T16:43:02.502Z"
   },
   {
    "duration": 142,
    "start_time": "2022-09-23T16:43:02.630Z"
   },
   {
    "duration": 13,
    "start_time": "2022-09-23T16:43:02.774Z"
   },
   {
    "duration": 39,
    "start_time": "2022-09-23T16:43:02.789Z"
   },
   {
    "duration": 266,
    "start_time": "2022-09-23T16:43:02.830Z"
   },
   {
    "duration": 22,
    "start_time": "2022-09-23T16:43:03.098Z"
   },
   {
    "duration": 19,
    "start_time": "2022-09-23T16:43:03.123Z"
   },
   {
    "duration": 6,
    "start_time": "2022-09-23T16:43:03.144Z"
   },
   {
    "duration": 13,
    "start_time": "2022-09-23T16:43:03.152Z"
   },
   {
    "duration": 330,
    "start_time": "2022-09-23T16:43:03.168Z"
   },
   {
    "duration": 6,
    "start_time": "2022-09-23T16:43:03.500Z"
   },
   {
    "duration": 309,
    "start_time": "2022-09-23T16:43:03.508Z"
   },
   {
    "duration": 352,
    "start_time": "2022-09-23T16:43:03.820Z"
   },
   {
    "duration": 306,
    "start_time": "2022-09-23T16:43:04.175Z"
   },
   {
    "duration": 299,
    "start_time": "2022-09-23T16:43:04.484Z"
   },
   {
    "duration": 184,
    "start_time": "2022-09-23T16:43:04.785Z"
   },
   {
    "duration": 190,
    "start_time": "2022-09-23T16:43:04.971Z"
   },
   {
    "duration": 191,
    "start_time": "2022-09-23T16:43:05.163Z"
   },
   {
    "duration": 156,
    "start_time": "2022-09-23T16:43:05.355Z"
   },
   {
    "duration": 200,
    "start_time": "2022-09-23T16:43:05.513Z"
   },
   {
    "duration": 373,
    "start_time": "2022-09-23T16:43:05.715Z"
   },
   {
    "duration": 275,
    "start_time": "2022-09-23T16:43:06.090Z"
   },
   {
    "duration": 302,
    "start_time": "2022-09-23T16:43:06.367Z"
   },
   {
    "duration": 195,
    "start_time": "2022-09-23T16:43:06.671Z"
   },
   {
    "duration": 4,
    "start_time": "2022-09-23T16:43:06.868Z"
   },
   {
    "duration": 168,
    "start_time": "2022-09-23T16:43:06.873Z"
   },
   {
    "duration": 181,
    "start_time": "2022-09-23T16:43:07.043Z"
   },
   {
    "duration": 0,
    "start_time": "2022-09-23T16:43:07.227Z"
   },
   {
    "duration": 0,
    "start_time": "2022-09-23T16:43:07.229Z"
   },
   {
    "duration": 0,
    "start_time": "2022-09-23T16:43:07.230Z"
   },
   {
    "duration": 0,
    "start_time": "2022-09-23T16:43:07.230Z"
   },
   {
    "duration": 0,
    "start_time": "2022-09-23T16:43:07.232Z"
   },
   {
    "duration": 0,
    "start_time": "2022-09-23T16:43:07.233Z"
   },
   {
    "duration": 1,
    "start_time": "2022-09-23T16:43:07.234Z"
   },
   {
    "duration": 0,
    "start_time": "2022-09-23T16:43:07.235Z"
   },
   {
    "duration": 0,
    "start_time": "2022-09-23T16:43:07.237Z"
   },
   {
    "duration": 0,
    "start_time": "2022-09-23T16:43:07.238Z"
   },
   {
    "duration": 0,
    "start_time": "2022-09-23T16:43:07.239Z"
   },
   {
    "duration": 0,
    "start_time": "2022-09-23T16:43:07.240Z"
   },
   {
    "duration": 0,
    "start_time": "2022-09-23T16:43:07.241Z"
   },
   {
    "duration": 0,
    "start_time": "2022-09-23T16:43:07.242Z"
   },
   {
    "duration": 0,
    "start_time": "2022-09-23T16:43:07.244Z"
   },
   {
    "duration": 267,
    "start_time": "2022-09-23T16:45:25.455Z"
   },
   {
    "duration": 377,
    "start_time": "2022-09-23T16:45:34.355Z"
   },
   {
    "duration": 392,
    "start_time": "2022-09-23T17:58:23.863Z"
   },
   {
    "duration": 10,
    "start_time": "2022-09-23T17:58:58.180Z"
   },
   {
    "duration": 272,
    "start_time": "2022-09-23T17:59:30.818Z"
   },
   {
    "duration": 66,
    "start_time": "2022-09-23T18:01:49.517Z"
   },
   {
    "duration": 108,
    "start_time": "2022-09-23T18:02:21.665Z"
   },
   {
    "duration": 14,
    "start_time": "2022-09-23T18:02:21.775Z"
   },
   {
    "duration": 2164,
    "start_time": "2022-09-23T18:02:21.791Z"
   },
   {
    "duration": 21,
    "start_time": "2022-09-23T18:02:23.957Z"
   },
   {
    "duration": 24,
    "start_time": "2022-09-23T18:02:23.980Z"
   },
   {
    "duration": 15,
    "start_time": "2022-09-23T18:02:24.006Z"
   },
   {
    "duration": 19,
    "start_time": "2022-09-23T18:02:24.023Z"
   },
   {
    "duration": 30,
    "start_time": "2022-09-23T18:02:24.044Z"
   },
   {
    "duration": 130,
    "start_time": "2022-09-23T18:02:24.075Z"
   },
   {
    "duration": 122,
    "start_time": "2022-09-23T18:02:24.206Z"
   },
   {
    "duration": 112,
    "start_time": "2022-09-23T18:02:24.331Z"
   },
   {
    "duration": 121,
    "start_time": "2022-09-23T18:02:24.445Z"
   },
   {
    "duration": 128,
    "start_time": "2022-09-23T18:02:24.568Z"
   },
   {
    "duration": 135,
    "start_time": "2022-09-23T18:02:24.701Z"
   },
   {
    "duration": 12,
    "start_time": "2022-09-23T18:02:24.838Z"
   },
   {
    "duration": 22,
    "start_time": "2022-09-23T18:02:24.852Z"
   },
   {
    "duration": 267,
    "start_time": "2022-09-23T18:02:24.876Z"
   },
   {
    "duration": 14,
    "start_time": "2022-09-23T18:02:25.145Z"
   },
   {
    "duration": 36,
    "start_time": "2022-09-23T18:02:25.160Z"
   },
   {
    "duration": 10,
    "start_time": "2022-09-23T18:02:25.198Z"
   },
   {
    "duration": 35,
    "start_time": "2022-09-23T18:02:25.209Z"
   },
   {
    "duration": 320,
    "start_time": "2022-09-23T18:02:25.246Z"
   },
   {
    "duration": 4,
    "start_time": "2022-09-23T18:02:25.568Z"
   },
   {
    "duration": 449,
    "start_time": "2022-09-23T18:02:25.574Z"
   },
   {
    "duration": 262,
    "start_time": "2022-09-23T18:02:26.025Z"
   },
   {
    "duration": 269,
    "start_time": "2022-09-23T18:02:26.288Z"
   },
   {
    "duration": 290,
    "start_time": "2022-09-23T18:02:26.559Z"
   },
   {
    "duration": 183,
    "start_time": "2022-09-23T18:02:26.851Z"
   },
   {
    "duration": 186,
    "start_time": "2022-09-23T18:02:27.036Z"
   },
   {
    "duration": 189,
    "start_time": "2022-09-23T18:02:27.224Z"
   },
   {
    "duration": 154,
    "start_time": "2022-09-23T18:02:27.420Z"
   },
   {
    "duration": 360,
    "start_time": "2022-09-23T18:02:27.576Z"
   },
   {
    "duration": 325,
    "start_time": "2022-09-23T18:02:27.938Z"
   },
   {
    "duration": 357,
    "start_time": "2022-09-23T18:02:28.264Z"
   },
   {
    "duration": 315,
    "start_time": "2022-09-23T18:02:28.623Z"
   },
   {
    "duration": 217,
    "start_time": "2022-09-23T18:02:28.941Z"
   },
   {
    "duration": 4,
    "start_time": "2022-09-23T18:02:29.159Z"
   },
   {
    "duration": 169,
    "start_time": "2022-09-23T18:02:29.165Z"
   },
   {
    "duration": 272,
    "start_time": "2022-09-23T18:02:29.336Z"
   },
   {
    "duration": 148,
    "start_time": "2022-09-23T18:02:29.609Z"
   },
   {
    "duration": 9,
    "start_time": "2022-09-23T18:02:29.762Z"
   },
   {
    "duration": 231,
    "start_time": "2022-09-23T18:02:29.772Z"
   },
   {
    "duration": 211,
    "start_time": "2022-09-23T18:02:30.005Z"
   },
   {
    "duration": 223,
    "start_time": "2022-09-23T18:02:30.217Z"
   },
   {
    "duration": 158,
    "start_time": "2022-09-23T18:02:30.442Z"
   },
   {
    "duration": 6,
    "start_time": "2022-09-23T18:02:30.602Z"
   },
   {
    "duration": 205,
    "start_time": "2022-09-23T18:02:30.622Z"
   },
   {
    "duration": 325,
    "start_time": "2022-09-23T18:02:30.829Z"
   },
   {
    "duration": 202,
    "start_time": "2022-09-23T18:02:31.157Z"
   },
   {
    "duration": 176,
    "start_time": "2022-09-23T18:02:31.361Z"
   },
   {
    "duration": 44,
    "start_time": "2022-09-23T18:02:31.539Z"
   },
   {
    "duration": 43,
    "start_time": "2022-09-23T18:02:31.585Z"
   },
   {
    "duration": 300,
    "start_time": "2022-09-23T18:02:31.630Z"
   },
   {
    "duration": 7,
    "start_time": "2022-09-23T18:02:31.932Z"
   },
   {
    "duration": 611,
    "start_time": "2022-09-24T11:30:42.157Z"
   },
   {
    "duration": 24,
    "start_time": "2022-09-24T11:30:42.770Z"
   },
   {
    "duration": 2767,
    "start_time": "2022-09-24T11:30:42.796Z"
   },
   {
    "duration": 91,
    "start_time": "2022-09-24T11:30:45.565Z"
   },
   {
    "duration": 14,
    "start_time": "2022-09-24T11:30:45.658Z"
   },
   {
    "duration": 1783,
    "start_time": "2022-09-24T11:30:45.674Z"
   },
   {
    "duration": 1901,
    "start_time": "2022-09-24T11:30:47.459Z"
   },
   {
    "duration": 37,
    "start_time": "2022-09-24T11:30:49.363Z"
   },
   {
    "duration": 40,
    "start_time": "2022-09-24T11:30:49.402Z"
   },
   {
    "duration": 7,
    "start_time": "2022-09-24T11:30:49.446Z"
   },
   {
    "duration": 127,
    "start_time": "2022-09-24T11:30:49.456Z"
   },
   {
    "duration": 160,
    "start_time": "2022-09-24T11:30:49.585Z"
   },
   {
    "duration": 122,
    "start_time": "2022-09-24T11:30:49.747Z"
   },
   {
    "duration": 145,
    "start_time": "2022-09-24T11:30:49.871Z"
   },
   {
    "duration": 129,
    "start_time": "2022-09-24T11:30:50.019Z"
   },
   {
    "duration": 158,
    "start_time": "2022-09-24T11:30:50.150Z"
   },
   {
    "duration": 19,
    "start_time": "2022-09-24T11:30:50.318Z"
   },
   {
    "duration": 21,
    "start_time": "2022-09-24T11:30:50.339Z"
   },
   {
    "duration": 425,
    "start_time": "2022-09-24T11:30:50.362Z"
   },
   {
    "duration": 23,
    "start_time": "2022-09-24T11:30:50.789Z"
   },
   {
    "duration": 53,
    "start_time": "2022-09-24T11:30:50.815Z"
   },
   {
    "duration": 18,
    "start_time": "2022-09-24T11:30:50.870Z"
   },
   {
    "duration": 375,
    "start_time": "2022-09-24T11:30:50.893Z"
   },
   {
    "duration": 4,
    "start_time": "2022-09-24T11:30:51.270Z"
   },
   {
    "duration": 266,
    "start_time": "2022-09-24T11:30:51.276Z"
   },
   {
    "duration": 291,
    "start_time": "2022-09-24T11:30:51.544Z"
   },
   {
    "duration": 329,
    "start_time": "2022-09-24T11:30:51.837Z"
   },
   {
    "duration": 476,
    "start_time": "2022-09-24T11:30:52.170Z"
   },
   {
    "duration": 219,
    "start_time": "2022-09-24T11:30:52.648Z"
   },
   {
    "duration": 250,
    "start_time": "2022-09-24T11:30:52.868Z"
   },
   {
    "duration": 227,
    "start_time": "2022-09-24T11:30:53.120Z"
   },
   {
    "duration": 190,
    "start_time": "2022-09-24T11:30:53.349Z"
   },
   {
    "duration": 219,
    "start_time": "2022-09-24T11:30:53.541Z"
   },
   {
    "duration": 451,
    "start_time": "2022-09-24T11:30:53.762Z"
   },
   {
    "duration": 424,
    "start_time": "2022-09-24T11:30:54.216Z"
   },
   {
    "duration": 526,
    "start_time": "2022-09-24T11:30:54.642Z"
   },
   {
    "duration": 242,
    "start_time": "2022-09-24T11:30:55.170Z"
   },
   {
    "duration": 7,
    "start_time": "2022-09-24T11:30:55.414Z"
   },
   {
    "duration": 228,
    "start_time": "2022-09-24T11:30:55.423Z"
   },
   {
    "duration": 330,
    "start_time": "2022-09-24T11:30:55.653Z"
   },
   {
    "duration": 178,
    "start_time": "2022-09-24T11:30:55.984Z"
   },
   {
    "duration": 14,
    "start_time": "2022-09-24T11:30:56.165Z"
   },
   {
    "duration": 250,
    "start_time": "2022-09-24T11:30:56.203Z"
   },
   {
    "duration": 298,
    "start_time": "2022-09-24T11:30:56.456Z"
   },
   {
    "duration": 270,
    "start_time": "2022-09-24T11:30:56.756Z"
   },
   {
    "duration": 201,
    "start_time": "2022-09-24T11:30:57.028Z"
   },
   {
    "duration": 6,
    "start_time": "2022-09-24T11:30:57.231Z"
   },
   {
    "duration": 282,
    "start_time": "2022-09-24T11:30:57.238Z"
   },
   {
    "duration": 208,
    "start_time": "2022-09-24T11:30:57.522Z"
   },
   {
    "duration": 316,
    "start_time": "2022-09-24T11:30:57.732Z"
   },
   {
    "duration": 223,
    "start_time": "2022-09-24T11:30:58.050Z"
   },
   {
    "duration": 114,
    "start_time": "2022-09-24T11:30:58.275Z"
   },
   {
    "duration": 0,
    "start_time": "2022-09-24T11:30:58.391Z"
   },
   {
    "duration": 0,
    "start_time": "2022-09-24T11:30:58.392Z"
   },
   {
    "duration": 0,
    "start_time": "2022-09-24T11:30:58.394Z"
   },
   {
    "duration": 0,
    "start_time": "2022-09-24T11:30:58.395Z"
   }
  ],
  "kernelspec": {
   "display_name": "Python 3 (ipykernel)",
   "language": "python",
   "name": "python3"
  },
  "language_info": {
   "codemirror_mode": {
    "name": "ipython",
    "version": 3
   },
   "file_extension": ".py",
   "mimetype": "text/x-python",
   "name": "python",
   "nbconvert_exporter": "python",
   "pygments_lexer": "ipython3",
   "version": "3.9.12"
  },
  "toc": {
   "base_numbering": 1,
   "nav_menu": {},
   "number_sections": true,
   "sideBar": true,
   "skip_h1_title": true,
   "title_cell": "Table of Contents",
   "title_sidebar": "Contents",
   "toc_cell": false,
   "toc_position": {},
   "toc_section_display": true,
   "toc_window_display": true
  }
 },
 "nbformat": 4,
 "nbformat_minor": 2
}

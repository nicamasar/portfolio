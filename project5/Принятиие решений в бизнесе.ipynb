{
 "cells": [
  {
   "cell_type": "markdown",
   "metadata": {},
   "source": [
    "# Цели и задачи проекта"
   ]
  },
  {
   "cell_type": "markdown",
   "metadata": {},
   "source": [
    "Вместе с отделом маркетинга мы подготовили список гипотез для увеличения выручки. Нам предстоит выбрать наиболее приоритетную гипотезу и проверить её перспективность с помощью A/B-теста.\n",
    "В ходе проекта мы проделаем следующее:\n",
    "- приоритизируем гипотезы\n",
    "- запустим A/B-тест и \n",
    "- проанализируем результаты:\n",
    " - Оценка стабильности кумулятивных метрик\n",
    " - Анализ выбросов и всплесков\n",
    " - Анализ «сырых» и «очищенных» данных\n",
    " \n"
   ]
  },
  {
   "cell_type": "markdown",
   "metadata": {},
   "source": [
    "## Часть 1. Приоритизация гипотез.\n",
    "У нас есть 9 гипотез по увеличению выручки интернет-магазина с указанными параметрами Reach, Impact, Confidence, Effort. Основываясь на этих параметрах, определим, с какой гипотизы стоит начинать тестирование. \n",
    "\n",
    "Для этого у нас есть Файл /datasets/hypothesis.csv с оценеными вышеупомянутыми параметрами.\n",
    "Hypothesis — краткое описание гипотезы;\n",
    "Reach — охват пользователей по 10-балльной шкале;\n",
    "Impact — влияние на пользователей по 10-балльной шкале;\n",
    "Confidence — уверенность в гипотезе по 10-балльной шкале;\n",
    "Efforts — затраты ресурсов на проверку гипотезы по 10-балльной шкале. Чем больше значение Efforts, тем дороже проверка гипотезы."
   ]
  },
  {
   "cell_type": "markdown",
   "metadata": {},
   "source": [
    "### Для начала ознакомимся с данными"
   ]
  },
  {
   "cell_type": "code",
   "execution_count": 1,
   "metadata": {},
   "outputs": [],
   "source": [
    "import pandas as pd\n",
    "import datetime as dt\n",
    "import scipy.stats as stats\n",
    "import numpy as np\n",
    "import matplotlib.pyplot as plt\n",
    "from pandas.plotting import register_matplotlib_converters\n",
    "import warnings"
   ]
  },
  {
   "cell_type": "code",
   "execution_count": 2,
   "metadata": {},
   "outputs": [
    {
     "name": "stdout",
     "output_type": "stream",
     "text": [
      "                                          Hypothesis  Reach  Impact  \\\n",
      "0  Добавить два новых канала привлечения трафика,...      3      10   \n",
      "1  Запустить собственную службу доставки, что сок...      2       5   \n",
      "2  Добавить блоки рекомендаций товаров на сайт ин...      8       3   \n",
      "3  Изменить структура категорий, что увеличит кон...      8       3   \n",
      "4  Изменить цвет фона главной страницы, чтобы уве...      3       1   \n",
      "5  Добавить страницу отзывов клиентов о магазине,...      3       2   \n",
      "6  Показать на главной странице баннеры с актуаль...      5       3   \n",
      "7  Добавить форму подписки на все основные страни...     10       7   \n",
      "8  Запустить акцию, дающую скидку на товар в день...      1       9   \n",
      "\n",
      "   Confidence  Efforts  \n",
      "0           8        6  \n",
      "1           4       10  \n",
      "2           7        3  \n",
      "3           3        8  \n",
      "4           1        1  \n",
      "5           2        3  \n",
      "6           8        3  \n",
      "7           8        5  \n",
      "8           9        5  \n"
     ]
    }
   ],
   "source": [
    "data = pd.read_csv('/datasets/hypothesis.csv', sep=',')\n",
    "\n",
    "print(data)"
   ]
  },
  {
   "cell_type": "code",
   "execution_count": 3,
   "metadata": {
    "scrolled": true
   },
   "outputs": [
    {
     "name": "stdout",
     "output_type": "stream",
     "text": [
      "<class 'pandas.core.frame.DataFrame'>\n",
      "RangeIndex: 9 entries, 0 to 8\n",
      "Data columns (total 5 columns):\n",
      " #   Column      Non-Null Count  Dtype \n",
      "---  ------      --------------  ----- \n",
      " 0   Hypothesis  9 non-null      object\n",
      " 1   Reach       9 non-null      int64 \n",
      " 2   Impact      9 non-null      int64 \n",
      " 3   Confidence  9 non-null      int64 \n",
      " 4   Efforts     9 non-null      int64 \n",
      "dtypes: int64(4), object(1)\n",
      "memory usage: 488.0+ bytes\n"
     ]
    }
   ],
   "source": [
    "data.info()"
   ]
  },
  {
   "cell_type": "markdown",
   "metadata": {},
   "source": [
    "Данные выглядят равномерными, перейдем сразу к приоритизации гипотез"
   ]
  },
  {
   "cell_type": "markdown",
   "metadata": {},
   "source": [
    "###  Применим фреймворк ICE для приоритизации гипотез. "
   ]
  },
  {
   "cell_type": "code",
   "execution_count": 4,
   "metadata": {
    "scrolled": true
   },
   "outputs": [
    {
     "data": {
      "text/html": [
       "<div>\n",
       "<style scoped>\n",
       "    .dataframe tbody tr th:only-of-type {\n",
       "        vertical-align: middle;\n",
       "    }\n",
       "\n",
       "    .dataframe tbody tr th {\n",
       "        vertical-align: top;\n",
       "    }\n",
       "\n",
       "    .dataframe thead th {\n",
       "        text-align: right;\n",
       "    }\n",
       "</style>\n",
       "<table border=\"1\" class=\"dataframe\">\n",
       "  <thead>\n",
       "    <tr style=\"text-align: right;\">\n",
       "      <th></th>\n",
       "      <th>Hypothesis</th>\n",
       "      <th>ICE</th>\n",
       "    </tr>\n",
       "  </thead>\n",
       "  <tbody>\n",
       "    <tr>\n",
       "      <th>8</th>\n",
       "      <td>Запустить акцию, дающую скидку на товар в день...</td>\n",
       "      <td>16.20</td>\n",
       "    </tr>\n",
       "    <tr>\n",
       "      <th>0</th>\n",
       "      <td>Добавить два новых канала привлечения трафика,...</td>\n",
       "      <td>13.33</td>\n",
       "    </tr>\n",
       "    <tr>\n",
       "      <th>7</th>\n",
       "      <td>Добавить форму подписки на все основные страни...</td>\n",
       "      <td>11.20</td>\n",
       "    </tr>\n",
       "    <tr>\n",
       "      <th>6</th>\n",
       "      <td>Показать на главной странице баннеры с актуаль...</td>\n",
       "      <td>8.00</td>\n",
       "    </tr>\n",
       "    <tr>\n",
       "      <th>2</th>\n",
       "      <td>Добавить блоки рекомендаций товаров на сайт ин...</td>\n",
       "      <td>7.00</td>\n",
       "    </tr>\n",
       "    <tr>\n",
       "      <th>1</th>\n",
       "      <td>Запустить собственную службу доставки, что сок...</td>\n",
       "      <td>2.00</td>\n",
       "    </tr>\n",
       "    <tr>\n",
       "      <th>5</th>\n",
       "      <td>Добавить страницу отзывов клиентов о магазине,...</td>\n",
       "      <td>1.33</td>\n",
       "    </tr>\n",
       "    <tr>\n",
       "      <th>3</th>\n",
       "      <td>Изменить структура категорий, что увеличит кон...</td>\n",
       "      <td>1.12</td>\n",
       "    </tr>\n",
       "    <tr>\n",
       "      <th>4</th>\n",
       "      <td>Изменить цвет фона главной страницы, чтобы уве...</td>\n",
       "      <td>1.00</td>\n",
       "    </tr>\n",
       "  </tbody>\n",
       "</table>\n",
       "</div>"
      ],
      "text/plain": [
       "                                          Hypothesis    ICE\n",
       "8  Запустить акцию, дающую скидку на товар в день...  16.20\n",
       "0  Добавить два новых канала привлечения трафика,...  13.33\n",
       "7  Добавить форму подписки на все основные страни...  11.20\n",
       "6  Показать на главной странице баннеры с актуаль...   8.00\n",
       "2  Добавить блоки рекомендаций товаров на сайт ин...   7.00\n",
       "1  Запустить собственную службу доставки, что сок...   2.00\n",
       "5  Добавить страницу отзывов клиентов о магазине,...   1.33\n",
       "3  Изменить структура категорий, что увеличит кон...   1.12\n",
       "4  Изменить цвет фона главной страницы, чтобы уве...   1.00"
      ]
     },
     "metadata": {},
     "output_type": "display_data"
    }
   ],
   "source": [
    "data['ICE'] = ((data['Impact'] * data['Confidence'])/data['Efforts']).round(2)\n",
    "\n",
    "display(data[['Hypothesis', 'ICE']].sort_values(by='ICE', ascending=False))"
   ]
  },
  {
   "cell_type": "markdown",
   "metadata": {},
   "source": [
    "Исходя из оценки выше, наиболее перспективные гипотезы - номер 8, 0 и 7. Посмотрим, как позиции изменятся при учтении охвата пользователей."
   ]
  },
  {
   "cell_type": "markdown",
   "metadata": {},
   "source": [
    "### Применим фреймворк RICE для приоритизации гипотез. \n"
   ]
  },
  {
   "cell_type": "code",
   "execution_count": 5,
   "metadata": {
    "scrolled": true
   },
   "outputs": [
    {
     "data": {
      "text/html": [
       "<div>\n",
       "<style scoped>\n",
       "    .dataframe tbody tr th:only-of-type {\n",
       "        vertical-align: middle;\n",
       "    }\n",
       "\n",
       "    .dataframe tbody tr th {\n",
       "        vertical-align: top;\n",
       "    }\n",
       "\n",
       "    .dataframe thead th {\n",
       "        text-align: right;\n",
       "    }\n",
       "</style>\n",
       "<table border=\"1\" class=\"dataframe\">\n",
       "  <thead>\n",
       "    <tr style=\"text-align: right;\">\n",
       "      <th></th>\n",
       "      <th>Hypothesis</th>\n",
       "      <th>RICE</th>\n",
       "    </tr>\n",
       "  </thead>\n",
       "  <tbody>\n",
       "    <tr>\n",
       "      <th>7</th>\n",
       "      <td>Добавить форму подписки на все основные страни...</td>\n",
       "      <td>112.0</td>\n",
       "    </tr>\n",
       "    <tr>\n",
       "      <th>2</th>\n",
       "      <td>Добавить блоки рекомендаций товаров на сайт ин...</td>\n",
       "      <td>56.0</td>\n",
       "    </tr>\n",
       "    <tr>\n",
       "      <th>0</th>\n",
       "      <td>Добавить два новых канала привлечения трафика,...</td>\n",
       "      <td>40.0</td>\n",
       "    </tr>\n",
       "    <tr>\n",
       "      <th>6</th>\n",
       "      <td>Показать на главной странице баннеры с актуаль...</td>\n",
       "      <td>40.0</td>\n",
       "    </tr>\n",
       "    <tr>\n",
       "      <th>8</th>\n",
       "      <td>Запустить акцию, дающую скидку на товар в день...</td>\n",
       "      <td>16.2</td>\n",
       "    </tr>\n",
       "    <tr>\n",
       "      <th>3</th>\n",
       "      <td>Изменить структура категорий, что увеличит кон...</td>\n",
       "      <td>9.0</td>\n",
       "    </tr>\n",
       "    <tr>\n",
       "      <th>1</th>\n",
       "      <td>Запустить собственную службу доставки, что сок...</td>\n",
       "      <td>4.0</td>\n",
       "    </tr>\n",
       "    <tr>\n",
       "      <th>5</th>\n",
       "      <td>Добавить страницу отзывов клиентов о магазине,...</td>\n",
       "      <td>4.0</td>\n",
       "    </tr>\n",
       "    <tr>\n",
       "      <th>4</th>\n",
       "      <td>Изменить цвет фона главной страницы, чтобы уве...</td>\n",
       "      <td>3.0</td>\n",
       "    </tr>\n",
       "  </tbody>\n",
       "</table>\n",
       "</div>"
      ],
      "text/plain": [
       "                                          Hypothesis   RICE\n",
       "7  Добавить форму подписки на все основные страни...  112.0\n",
       "2  Добавить блоки рекомендаций товаров на сайт ин...   56.0\n",
       "0  Добавить два новых канала привлечения трафика,...   40.0\n",
       "6  Показать на главной странице баннеры с актуаль...   40.0\n",
       "8  Запустить акцию, дающую скидку на товар в день...   16.2\n",
       "3  Изменить структура категорий, что увеличит кон...    9.0\n",
       "1  Запустить собственную службу доставки, что сок...    4.0\n",
       "5  Добавить страницу отзывов клиентов о магазине,...    4.0\n",
       "4  Изменить цвет фона главной страницы, чтобы уве...    3.0"
      ]
     },
     "metadata": {},
     "output_type": "display_data"
    }
   ],
   "source": [
    "\n",
    "data['RICE'] = ((data['Reach'] * data['Impact'] * data['Confidence'])/data['Efforts']).round(2)\n",
    "\n",
    "display(data[['Hypothesis', 'RICE']].sort_values(by='RICE', ascending=False))"
   ]
  },
  {
   "cell_type": "markdown",
   "metadata": {},
   "source": [
    "Добавив еще один параметр - охват пользователей, мы видим изменение в порядке гипотез. Гипотезы 0 и 7 все еще в топ-3, однако на других позициях. При этом, гипотеза 7 (Добавить форму подписки на все основные страницы, чтобы собрать базу клиентов для email-рассылок) значительно оторвалась от остальных за счет охвата всех посетителей онлайн магазина, а гипотеза 8 (Запустить акцию, дающую скидку на товар в день рождения) касается только тех пользователей, которые родились в определенный период."
   ]
  },
  {
   "cell_type": "markdown",
   "metadata": {},
   "source": [
    "## Часть 2. Анализ результатов A/B-теста\n"
   ]
  },
  {
   "cell_type": "markdown",
   "metadata": {},
   "source": [
    "Мы провели A/B-тест и получили результаты, которые описаны в файлах /datasets/orders.csv и /datasets/visitors.csv. Теперь нам надо проанализировать результаты и выяснить, стоит ли продолжать тест и считать ли его успешным. \n",
    "\n",
    "Для этого мы оценим результаты по следующим показателям: \n",
    "- общая выручка\n",
    "- средний чек\n",
    "- общее количество заказов\n",
    "- количество заказов на посетителя сайта\n"
   ]
  },
  {
   "cell_type": "markdown",
   "metadata": {},
   "source": [
    "### Знакомство и предобработка данных\n",
    "Начнем с того, что ознакомимся с данными и их структурой."
   ]
  },
  {
   "cell_type": "code",
   "execution_count": 6,
   "metadata": {},
   "outputs": [],
   "source": [
    "orders = pd.read_csv('/datasets/orders.csv', parse_dates=['date'])\n",
    "visitors = pd.read_csv('/datasets/visitors.csv', parse_dates=['date'])\n"
   ]
  },
  {
   "cell_type": "code",
   "execution_count": 7,
   "metadata": {
    "scrolled": true
   },
   "outputs": [
    {
     "name": "stdout",
     "output_type": "stream",
     "text": [
      "<class 'pandas.core.frame.DataFrame'>\n",
      "RangeIndex: 1197 entries, 0 to 1196\n",
      "Data columns (total 5 columns):\n",
      " #   Column         Non-Null Count  Dtype         \n",
      "---  ------         --------------  -----         \n",
      " 0   transactionId  1197 non-null   int64         \n",
      " 1   visitorId      1197 non-null   int64         \n",
      " 2   date           1197 non-null   datetime64[ns]\n",
      " 3   revenue        1197 non-null   int64         \n",
      " 4   group          1197 non-null   object        \n",
      "dtypes: datetime64[ns](1), int64(3), object(1)\n",
      "memory usage: 46.9+ KB\n",
      "<class 'pandas.core.frame.DataFrame'>\n",
      "RangeIndex: 62 entries, 0 to 61\n",
      "Data columns (total 3 columns):\n",
      " #   Column    Non-Null Count  Dtype         \n",
      "---  ------    --------------  -----         \n",
      " 0   date      62 non-null     datetime64[ns]\n",
      " 1   group     62 non-null     object        \n",
      " 2   visitors  62 non-null     int64         \n",
      "dtypes: datetime64[ns](1), int64(1), object(1)\n",
      "memory usage: 1.6+ KB\n"
     ]
    }
   ],
   "source": [
    "orders.info()\n",
    "visitors.info()"
   ]
  },
  {
   "cell_type": "code",
   "execution_count": 8,
   "metadata": {},
   "outputs": [
    {
     "name": "stdout",
     "output_type": "stream",
     "text": [
      "0\n",
      "0\n"
     ]
    }
   ],
   "source": [
    "print(visitors.duplicated().sum())\n",
    "print(orders.duplicated().sum())"
   ]
  },
  {
   "cell_type": "code",
   "execution_count": 9,
   "metadata": {
    "scrolled": false
   },
   "outputs": [
    {
     "data": {
      "text/html": [
       "<div>\n",
       "<style scoped>\n",
       "    .dataframe tbody tr th:only-of-type {\n",
       "        vertical-align: middle;\n",
       "    }\n",
       "\n",
       "    .dataframe tbody tr th {\n",
       "        vertical-align: top;\n",
       "    }\n",
       "\n",
       "    .dataframe thead th {\n",
       "        text-align: right;\n",
       "    }\n",
       "</style>\n",
       "<table border=\"1\" class=\"dataframe\">\n",
       "  <thead>\n",
       "    <tr style=\"text-align: right;\">\n",
       "      <th></th>\n",
       "      <th>transactionId</th>\n",
       "      <th>visitorId</th>\n",
       "      <th>date</th>\n",
       "      <th>revenue</th>\n",
       "      <th>group</th>\n",
       "    </tr>\n",
       "  </thead>\n",
       "  <tbody>\n",
       "    <tr>\n",
       "      <th>0</th>\n",
       "      <td>3667963787</td>\n",
       "      <td>3312258926</td>\n",
       "      <td>2019-08-15</td>\n",
       "      <td>1650</td>\n",
       "      <td>B</td>\n",
       "    </tr>\n",
       "    <tr>\n",
       "      <th>1</th>\n",
       "      <td>2804400009</td>\n",
       "      <td>3642806036</td>\n",
       "      <td>2019-08-15</td>\n",
       "      <td>730</td>\n",
       "      <td>B</td>\n",
       "    </tr>\n",
       "    <tr>\n",
       "      <th>2</th>\n",
       "      <td>2961555356</td>\n",
       "      <td>4069496402</td>\n",
       "      <td>2019-08-15</td>\n",
       "      <td>400</td>\n",
       "      <td>A</td>\n",
       "    </tr>\n",
       "    <tr>\n",
       "      <th>3</th>\n",
       "      <td>3797467345</td>\n",
       "      <td>1196621759</td>\n",
       "      <td>2019-08-15</td>\n",
       "      <td>9759</td>\n",
       "      <td>B</td>\n",
       "    </tr>\n",
       "    <tr>\n",
       "      <th>4</th>\n",
       "      <td>2282983706</td>\n",
       "      <td>2322279887</td>\n",
       "      <td>2019-08-15</td>\n",
       "      <td>2308</td>\n",
       "      <td>B</td>\n",
       "    </tr>\n",
       "  </tbody>\n",
       "</table>\n",
       "</div>"
      ],
      "text/plain": [
       "   transactionId   visitorId       date  revenue group\n",
       "0     3667963787  3312258926 2019-08-15     1650     B\n",
       "1     2804400009  3642806036 2019-08-15      730     B\n",
       "2     2961555356  4069496402 2019-08-15      400     A\n",
       "3     3797467345  1196621759 2019-08-15     9759     B\n",
       "4     2282983706  2322279887 2019-08-15     2308     B"
      ]
     },
     "execution_count": 9,
     "metadata": {},
     "output_type": "execute_result"
    }
   ],
   "source": [
    "orders.head()"
   ]
  },
  {
   "cell_type": "code",
   "execution_count": 10,
   "metadata": {},
   "outputs": [
    {
     "data": {
      "text/html": [
       "<div>\n",
       "<style scoped>\n",
       "    .dataframe tbody tr th:only-of-type {\n",
       "        vertical-align: middle;\n",
       "    }\n",
       "\n",
       "    .dataframe tbody tr th {\n",
       "        vertical-align: top;\n",
       "    }\n",
       "\n",
       "    .dataframe thead th {\n",
       "        text-align: right;\n",
       "    }\n",
       "</style>\n",
       "<table border=\"1\" class=\"dataframe\">\n",
       "  <thead>\n",
       "    <tr style=\"text-align: right;\">\n",
       "      <th></th>\n",
       "      <th>date</th>\n",
       "      <th>group</th>\n",
       "      <th>visitors</th>\n",
       "    </tr>\n",
       "  </thead>\n",
       "  <tbody>\n",
       "    <tr>\n",
       "      <th>0</th>\n",
       "      <td>2019-08-01</td>\n",
       "      <td>A</td>\n",
       "      <td>719</td>\n",
       "    </tr>\n",
       "    <tr>\n",
       "      <th>1</th>\n",
       "      <td>2019-08-02</td>\n",
       "      <td>A</td>\n",
       "      <td>619</td>\n",
       "    </tr>\n",
       "    <tr>\n",
       "      <th>2</th>\n",
       "      <td>2019-08-03</td>\n",
       "      <td>A</td>\n",
       "      <td>507</td>\n",
       "    </tr>\n",
       "    <tr>\n",
       "      <th>3</th>\n",
       "      <td>2019-08-04</td>\n",
       "      <td>A</td>\n",
       "      <td>717</td>\n",
       "    </tr>\n",
       "    <tr>\n",
       "      <th>4</th>\n",
       "      <td>2019-08-05</td>\n",
       "      <td>A</td>\n",
       "      <td>756</td>\n",
       "    </tr>\n",
       "  </tbody>\n",
       "</table>\n",
       "</div>"
      ],
      "text/plain": [
       "        date group  visitors\n",
       "0 2019-08-01     A       719\n",
       "1 2019-08-02     A       619\n",
       "2 2019-08-03     A       507\n",
       "3 2019-08-04     A       717\n",
       "4 2019-08-05     A       756"
      ]
     },
     "execution_count": 10,
     "metadata": {},
     "output_type": "execute_result"
    }
   ],
   "source": [
    "visitors.head()"
   ]
  },
  {
   "cell_type": "code",
   "execution_count": 11,
   "metadata": {},
   "outputs": [
    {
     "name": "stdout",
     "output_type": "stream",
     "text": [
      "date        0\n",
      "group       0\n",
      "visitors    0\n",
      "dtype: int64\n",
      "transactionId    0\n",
      "visitorId        0\n",
      "date             0\n",
      "revenue          0\n",
      "group            0\n",
      "dtype: int64\n"
     ]
    }
   ],
   "source": [
    "print(visitors.isna().sum())\n",
    "print(orders.isna().sum())"
   ]
  },
  {
   "cell_type": "markdown",
   "metadata": {},
   "source": [
    "Данные равномерные, без пропусков и дубликатов. Названия столбцов и типы данных соответствуют самим данным."
   ]
  },
  {
   "cell_type": "code",
   "execution_count": 12,
   "metadata": {
    "scrolled": true
   },
   "outputs": [
    {
     "name": "stdout",
     "output_type": "stream",
     "text": [
      "2019-08-31 00:00:00\n",
      "2019-08-01 00:00:00\n"
     ]
    }
   ],
   "source": [
    "print(orders['date'].max())\n",
    "print(orders['date'].min())"
   ]
  },
  {
   "cell_type": "code",
   "execution_count": 13,
   "metadata": {},
   "outputs": [
    {
     "name": "stdout",
     "output_type": "stream",
     "text": [
      "Посетителей в группе А: 557\n",
      "Посетителей в группе В: 640\n"
     ]
    }
   ],
   "source": [
    "print('Посетителей в группе А:', orders[orders['group']=='A']['visitorId'].count())\n",
    "print('Посетителей в группе В:', orders[orders['group']=='B']['visitorId'].count())"
   ]
  },
  {
   "cell_type": "markdown",
   "metadata": {},
   "source": [
    "\n",
    "Итого, в результате А/В теста, у нас есть две группы -  А и В. Тест проходил в течение 30 дней с 1 по 31 августа 2019 года. В группе В значительно больше посетителей, чем в группе А, учтем это при сравнении общей выручки. На показатели средней выручки и количество заказов на пользователя сильного влияние это не окажет."
   ]
  },
  {
   "cell_type": "code",
   "execution_count": 14,
   "metadata": {
    "scrolled": true
   },
   "outputs": [],
   "source": [
    "orders.groupby('visitorId').agg({'group' : 'nunique'}).query('group>1').count()\n",
    "double_users = orders.groupby('visitorId').agg({'group' : 'nunique'}).reset_index().query('group>1')['visitorId'].unique()\n"
   ]
  },
  {
   "cell_type": "code",
   "execution_count": 15,
   "metadata": {},
   "outputs": [],
   "source": [
    "orders = orders.query('visitorId not in @double_users')\n"
   ]
  },
  {
   "cell_type": "markdown",
   "metadata": {},
   "source": [
    "### Оценка стабильности кумулятивных метрик\n",
    "\n",
    "Для понимания достаточно ли у нас данных для анализа результатов теста, на надо оценить стабильность кумулятивных метрик. Сначала соберем данные в таблицу cumulativeData."
   ]
  },
  {
   "cell_type": "code",
   "execution_count": 16,
   "metadata": {},
   "outputs": [
    {
     "name": "stdout",
     "output_type": "stream",
     "text": [
      "        date group  orders  buyers  revenue  visitors\n",
      "0 2019-08-01     A      23      19   142779       719\n",
      "1 2019-08-01     B      17      17    59758       713\n",
      "2 2019-08-02     A      42      36   234381      1338\n",
      "3 2019-08-02     B      40      39   221801      1294\n",
      "4 2019-08-03     A      66      60   346854      1845\n"
     ]
    }
   ],
   "source": [
    "\n",
    "datesGroups = orders[['date', 'group']].drop_duplicates()\n",
    "\n",
    "ordersAggregated = datesGroups.apply(lambda x: orders[np.logical_and(orders['date'] <= x['date'], orders['group'] == x['group'])].agg({'date' : 'max', 'group' : 'max', 'transactionId' : 'nunique', 'visitorId' : 'nunique', 'revenue' : 'sum'}), axis=1).sort_values(by=['date','group'])\n",
    "\n",
    "\n",
    "visitorsAggregated = datesGroups.apply(lambda x: visitors[np.logical_and(visitors['date'] <= x['date'], visitors['group'] == x['group'])].agg({'date' : 'max', 'group' : 'max', 'visitors' : 'sum'}), axis=1).sort_values(by=['date','group'])\n",
    "\n",
    "cumulativeData = ordersAggregated.merge(visitorsAggregated, left_on=['date', 'group'], right_on=['date', 'group'])\n",
    "cumulativeData.columns = ['date', 'group', 'orders', 'buyers', 'revenue', 'visitors']\n",
    "\n",
    "print(cumulativeData.head(5)) "
   ]
  },
  {
   "cell_type": "markdown",
   "metadata": {},
   "source": [
    "Построим график кумулятивной выручки по группам."
   ]
  },
  {
   "cell_type": "code",
   "execution_count": 17,
   "metadata": {},
   "outputs": [
    {
     "data": {
      "image/png": "[encoded data removed]",
      "text/plain": [
       "<Figure size 432x288 with 1 Axes>"
      ]
     },
     "metadata": {
      "needs_background": "light"
     },
     "output_type": "display_data"
    }
   ],
   "source": [
    "cumulativeRevenueA = cumulativeData[cumulativeData['group']=='A'][['date','revenue', 'orders']]\n",
    "\n",
    "# датафрейм с кумулятивным количеством заказов и кумулятивной выручкой по дням в группе B\n",
    "cumulativeRevenueB = cumulativeData[cumulativeData['group']=='B'][['date','revenue', 'orders']]\n",
    "\n",
    "# Строим график выручки группы А\n",
    "plt.plot(cumulativeRevenueA['date'], cumulativeRevenueA['revenue'], label='A')\n",
    "\n",
    "# Строим график выручки группы B\n",
    "plt.plot(cumulativeRevenueB['date'], cumulativeRevenueB['revenue'], label='B')\n",
    "plt.title('График кумулятивной выручки по группам')\n",
    "plt.ylabel('Кумулятивная выручка')\n",
    "plt.xlabel('Дата')\n",
    "plt.xticks(rotation='45')\n",
    "plt.legend(); "
   ]
  },
  {
   "cell_type": "markdown",
   "metadata": {},
   "source": [
    "Из графика видим, что выручка группы В значительно превышает выручку группы А, однако, мы знаем, что в группе В больше посетителей, чем в группе А, поэтому средний чек будет более показательным.\n",
    "На графике есть резкий всплеск, что скорее всего указывает на выбросы в данных.\n",
    "\n",
    "Посмотрим на график кумулятивного среднего чека по группам."
   ]
  },
  {
   "cell_type": "code",
   "execution_count": 18,
   "metadata": {},
   "outputs": [
    {
     "data": {
      "image/png": "[encoded data removed]",
      "text/plain": [
       "<Figure size 432x288 with 1 Axes>"
      ]
     },
     "metadata": {
      "needs_background": "light"
     },
     "output_type": "display_data"
    }
   ],
   "source": [
    "\n",
    "cumulativeRevenueA = cumulativeData[cumulativeData['group'] == 'A'][\n",
    "    ['date', 'revenue', 'orders']\n",
    "]\n",
    "cumulativeRevenueB = cumulativeData[cumulativeData['group'] == 'B'][\n",
    "    ['date', 'revenue', 'orders']\n",
    "]\n",
    "\n",
    "plt.plot(cumulativeRevenueA['date'], cumulativeRevenueA['revenue']/cumulativeRevenueA['orders'], label='A')\n",
    "plt.plot(cumulativeRevenueB['date'], cumulativeRevenueB['revenue']/cumulativeRevenueB['orders'], label='B')\n",
    "plt.legend()\n",
    "plt.ylabel('Средний чек')\n",
    "plt.xlabel('Дата')\n",
    "plt.title('График кумулятивного среднего чека по группам')\n",
    "plt.xticks(rotation='45');"
   ]
  },
  {
   "cell_type": "markdown",
   "metadata": {},
   "source": [
    "Опять же группа В сильно опережает и всплеск так же остается, после чего средний чек группы В начинает стабилизироваться. В группе В скорее всего есть выбросы с большими суммами заказов.\n",
    "\n",
    "Построим график относительного изменения кумулятивного среднего чека группы B к группе A. "
   ]
  },
  {
   "cell_type": "code",
   "execution_count": 19,
   "metadata": {
    "scrolled": true
   },
   "outputs": [
    {
     "data": {
      "image/png": "[encoded data removed]",
      "text/plain": [
       "<Figure size 432x288 with 1 Axes>"
      ]
     },
     "metadata": {
      "needs_background": "light"
     },
     "output_type": "display_data"
    }
   ],
   "source": [
    "# собираем данные в одном датафрейме\n",
    "mergedCumulativeRevenue = cumulativeRevenueA.merge(cumulativeRevenueB, left_on='date', right_on='date', how='left', suffixes=['A', 'B'])\n",
    "x = mergedCumulativeRevenue['date']\n",
    "# cтроим отношение средних чеков\n",
    "plt.plot(mergedCumulativeRevenue['date'], (mergedCumulativeRevenue['revenueB']/mergedCumulativeRevenue['ordersB'])/(mergedCumulativeRevenue['revenueA']/mergedCumulativeRevenue['ordersA'])-1)\n",
    "\n",
    "# добавляем ось X\n",
    "plt.axhline(y=0, color='black', linestyle='--')\n",
    "plt.ylabel('Разница по среднему чеку между группами')\n",
    "plt.xlabel('Дата')\n",
    "plt.title('График относительного изменения кумулятивного среднего чека группы B к группе A. ')\n",
    "plt.xticks(rotation='45');\n"
   ]
  },
  {
   "cell_type": "markdown",
   "metadata": {},
   "source": [
    "Не смотря на всплески и выбросы, мы видим, что средний чек группы В постоянно лучше группы А\n",
    "\n",
    "Построим график кумулятивного среднего количества заказов на посетителя по группам. "
   ]
  },
  {
   "cell_type": "code",
   "execution_count": 20,
   "metadata": {},
   "outputs": [
    {
     "data": {
      "image/png": "[encoded data removed]",
      "text/plain": [
       "<Figure size 432x288 with 1 Axes>"
      ]
     },
     "metadata": {
      "needs_background": "light"
     },
     "output_type": "display_data"
    }
   ],
   "source": [
    "cumulativeOrdPerUserA = cumulativeData[cumulativeData['group']=='A'][['date','visitors', 'orders']]\n",
    "cumulativeOrdPerUserB = cumulativeData[cumulativeData['group']=='B'][['date','visitors', 'orders']]\n",
    "\n",
    "plt.plot(cumulativeOrdPerUserA['date'], cumulativeOrdPerUserA['orders']/cumulativeOrdPerUserA['visitors'], label='A')\n",
    "plt.plot(cumulativeOrdPerUserB['date'], cumulativeOrdPerUserB['orders']/cumulativeOrdPerUserB['visitors'], label='B')\n",
    "plt.legend()\n",
    "plt.ylabel('Среднее количество заказов на посетителя')\n",
    "plt.xlabel('Дата')\n",
    "plt.title('График кумулятивного среднего количества заказов на посетителя по группам')\n",
    "plt.xticks(rotation='45');"
   ]
  },
  {
   "cell_type": "markdown",
   "metadata": {},
   "source": [
    "Опять же группа В показывает лучшие результаты и по среднему количеству заказов на посетителя. Показательно, что оба графика стабилизировались, а значит, у нас достаточно данных для оценки.\n",
    "\n",
    "Теперь построим график относительного изменения кумулятивного среднего количества заказов на посетителя группы B к группе A. "
   ]
  },
  {
   "cell_type": "code",
   "execution_count": 21,
   "metadata": {},
   "outputs": [],
   "source": [
    "# собираем данные в одном датафрейме\n",
    "mergedCumulativeOrdPerUser = cumulativeOrdPerUserA.merge(cumulativeOrdPerUserB, left_on='date', right_on='date', how='left', suffixes=['A', 'B'])\n"
   ]
  },
  {
   "cell_type": "code",
   "execution_count": 22,
   "metadata": {},
   "outputs": [
    {
     "data": {
      "image/png": "[encoded data removed]",
      "text/plain": [
       "<Figure size 432x288 with 1 Axes>"
      ]
     },
     "metadata": {
      "needs_background": "light"
     },
     "output_type": "display_data"
    }
   ],
   "source": [
    "\n",
    "# cтроим отношение средних чеков\n",
    "plt.plot(mergedCumulativeOrdPerUser['date'], (mergedCumulativeOrdPerUser['ordersB']/mergedCumulativeOrdPerUser['visitorsB'])/\n",
    "         (mergedCumulativeOrdPerUser['ordersA']/mergedCumulativeOrdPerUser['visitorsA'])-1)\n",
    "\n",
    "# добавляем ось X\n",
    "plt.axhline(y=0, color='black', linestyle='--')\n",
    "plt.ylabel('Разница по среднему количеству заказов ммежду группами')\n",
    "plt.xlabel('Дата')\n",
    "plt.title('График относительного изменения кумулятивного среднего количества заказов на посетителя группы B к группе A')\n",
    "plt.xticks(rotation='45');"
   ]
  },
  {
   "cell_type": "markdown",
   "metadata": {},
   "source": [
    "И снова ожидаемый результат - группа В показывает большее количество заказов на посетителя. Мы могли бы уже сделать вывод, что тест пора признать успешным, однако, мы помним, что в данных есть выбросы и стоит оценить их влияние на результат."
   ]
  },
  {
   "cell_type": "markdown",
   "metadata": {},
   "source": [
    "### Анализ выбросов и всплесков\n",
    "\n",
    "Сначала посмотрим, как распределены заказы по пользователям, лучше всего это покажет точечный график. "
   ]
  },
  {
   "cell_type": "code",
   "execution_count": 23,
   "metadata": {},
   "outputs": [
    {
     "data": {
      "image/png": "[encoded data removed]",
      "text/plain": [
       "<Figure size 432x288 with 1 Axes>"
      ]
     },
     "metadata": {
      "needs_background": "light"
     },
     "output_type": "display_data"
    }
   ],
   "source": [
    "ordersByUsers = (\n",
    "    orders.groupby('visitorId', as_index=False)\n",
    "    .agg({'transactionId': 'nunique'})\n",
    ")\n",
    "ordersByUsers.columns = ['userId', 'orders']\n",
    "\n",
    "x_values = pd.Series(range(0, len(ordersByUsers)))\n",
    "\n",
    "plt.scatter(x_values, ordersByUsers['orders'])\n",
    "plt.ylabel('Количество заказов')\n",
    "plt.xlabel('Количество пользователей')\n",
    "plt.title('График количества заказов по пользователям');"
   ]
  },
  {
   "cell_type": "markdown",
   "metadata": {},
   "source": [
    "    Большинство клиентов сделали по одному-двум заказам. Четыре и более заказов - большая редкость. \n",
    "    Посчитаем 95-й и 99-й перцентили количества заказов на пользователей для того, чтобы в последствии выбрать границу для определения аномальных пользователей."
   ]
  },
  {
   "cell_type": "code",
   "execution_count": 24,
   "metadata": {},
   "outputs": [
    {
     "name": "stdout",
     "output_type": "stream",
     "text": [
      "[1. 1. 2.]\n"
     ]
    }
   ],
   "source": [
    "print(np.percentile(ordersByUsers['orders'], [90, 95, 99]) )\n"
   ]
  },
  {
   "cell_type": "markdown",
   "metadata": {},
   "source": [
    "Как мы и предполагали, 95% пользователей сделали два и меньше заказов и 99% не более 4. Теперь оценим, выбросы в стоимостях заказов.\n",
    "\n",
    "Построим точечный график стоимостей заказов. \n"
   ]
  },
  {
   "cell_type": "code",
   "execution_count": 25,
   "metadata": {
    "scrolled": true
   },
   "outputs": [
    {
     "data": {
      "image/png": "[encoded data removed]",
      "text/plain": [
       "<Figure size 432x288 with 1 Axes>"
      ]
     },
     "metadata": {
      "needs_background": "light"
     },
     "output_type": "display_data"
    }
   ],
   "source": [
    "x_values = pd.Series(range(0, len(orders['revenue'])))\n",
    "plt.grid(True)\n",
    "plt.ylabel('Стоимость заказов')\n",
    "plt.xlabel('Количество пользователей')\n",
    "plt.scatter(x_values, orders['revenue']);"
   ]
  },
  {
   "cell_type": "markdown",
   "metadata": {},
   "source": [
    "В данных очень большой всплеск, посмотрим, как выглдит распределение без заказов дороже 120000 "
   ]
  },
  {
   "cell_type": "code",
   "execution_count": 26,
   "metadata": {},
   "outputs": [
    {
     "data": {
      "image/png": "[encoded data removed]",
      "text/plain": [
       "<Figure size 432x288 with 1 Axes>"
      ]
     },
     "metadata": {
      "needs_background": "light"
     },
     "output_type": "display_data"
    }
   ],
   "source": [
    "orders_filt = orders[orders['revenue']<120000]\n",
    "x_values = pd.Series(range(0, len(orders_filt['revenue'])))\n",
    "plt.grid(True)\n",
    "plt.ylabel('Стоимость заказов')\n",
    "plt.xlabel('Количество пользователей')\n",
    "plt.scatter(x_values, orders_filt['revenue']);"
   ]
  },
  {
   "cell_type": "markdown",
   "metadata": {},
   "source": [
    "Исходя из графика можно предположить, что большинство заказов не превышают 20000.\n",
    "Посмотрим, что покажут 95-й и 99-й перцентили стоимости заказов. \n",
    "Тогда мы сможем выбрать границу для определения аномальных заказов.\n"
   ]
  },
  {
   "cell_type": "code",
   "execution_count": 27,
   "metadata": {},
   "outputs": [
    {
     "name": "stdout",
     "output_type": "stream",
     "text": [
      "[17990. 26785. 53904.]\n"
     ]
    }
   ],
   "source": [
    "print(np.percentile(orders['revenue'], [90, 95, 99]) )\n"
   ]
  },
  {
   "cell_type": "markdown",
   "metadata": {},
   "source": [
    "Неожиданно, 95% покупателей сделали заказы на сумму до 28000, при том, что 95% на сумму до 31382 и совсем большую разницу представляют следующие 3% покупателей, повышающие этот параметр до 58233.2. \n",
    "\n",
    "Мы можем сделать вывод, что 4 и более заказов можно считать аномальными, как и сумма заказа выше 35000. "
   ]
  },
  {
   "cell_type": "markdown",
   "metadata": {},
   "source": [
    "###  Анализ «сырых» и «очищенных» данных\n",
    "\n",
    "Посчитаем статистическую значимость различий в среднем числе заказов на посетителя и среднем чеке между группами по «сырым» данным — без удаления аномальных пользователей.\n",
    "Сформулируем гипотезы. Нулевая: различий в среднем количестве заказов между группами нет. Альтернативная: \n",
    "различия в среднем между группами есть.\n",
    "\n",
    "Учитывая наличие выбросов в данных, мы не можем использовать параметрические тесты, в связи с чем, мы будем использовать критерий Уилкоксона-Манна-Уитни, позволяющий анализировать данные с выбросами."
   ]
  },
  {
   "cell_type": "code",
   "execution_count": 28,
   "metadata": {
    "scrolled": true
   },
   "outputs": [
    {
     "name": "stdout",
     "output_type": "stream",
     "text": [
      "        date  ordersPerDateA  revenuePerDateA  ordersPerDateB  \\\n",
      "0 2019-08-01              23           142779              17   \n",
      "1 2019-08-02              19            91602              23   \n",
      "2 2019-08-03              24           112473              14   \n",
      "3 2019-08-04              11            41176              14   \n",
      "4 2019-08-05              22            86383              21   \n",
      "\n",
      "   revenuePerDateB  ordersCummulativeA  revenueCummulativeA  \\\n",
      "0            59758                  23               142779   \n",
      "1           162043                  42               234381   \n",
      "2            67049                  66               346854   \n",
      "3            96890                  77               388030   \n",
      "4            89908                  99               474413   \n",
      "\n",
      "   ordersCummulativeB  revenueCummulativeB  visitorsPerDateA  \\\n",
      "0                  17                59758               719   \n",
      "1                  40               221801               619   \n",
      "2                  54               288850               507   \n",
      "3                  68               385740               717   \n",
      "4                  89               475648               756   \n",
      "\n",
      "   visitorsPerDateB  visitorsCummulativeA  visitorsCummulativeB  \n",
      "0               713                   719                   713  \n",
      "1               581                  1338                  1294  \n",
      "2               509                  1845                  1803  \n",
      "3               770                  2562                  2573  \n",
      "4               707                  3318                  3280  \n"
     ]
    }
   ],
   "source": [
    "\n",
    "visitorsADaily = visitors[visitors['group'] == 'A'][['date', 'visitors']]\n",
    "visitorsADaily.columns = ['date', 'visitorsPerDateA']\n",
    "\n",
    "visitorsACummulative = visitorsADaily.apply(\n",
    "    lambda x: visitorsADaily[visitorsADaily['date'] <= x['date']].agg(\n",
    "        {'date': 'max', 'visitorsPerDateA': 'sum'}\n",
    "    ),\n",
    "    axis=1,\n",
    ")\n",
    "visitorsACummulative.columns = ['date', 'visitorsCummulativeA']\n",
    "\n",
    "visitorsBDaily = visitors[visitors['group'] == 'B'][['date', 'visitors']]\n",
    "visitorsBDaily.columns = ['date', 'visitorsPerDateB']\n",
    "\n",
    "visitorsBCummulative = visitorsBDaily.apply(\n",
    "    lambda x: visitorsBDaily[visitorsBDaily['date'] <= x['date']].agg(\n",
    "        {'date': 'max', 'visitorsPerDateB': 'sum'}\n",
    "    ),\n",
    "    axis=1,\n",
    ")\n",
    "visitorsBCummulative.columns = ['date', 'visitorsCummulativeB']\n",
    "\n",
    "ordersADaily = (\n",
    "    orders[orders['group'] == 'A'][['date', 'transactionId', 'visitorId', 'revenue']]\n",
    "    .groupby('date', as_index=False)\n",
    "    .agg({'transactionId': pd.Series.nunique, 'revenue': 'sum'})\n",
    ")\n",
    "ordersADaily.columns = ['date', 'ordersPerDateA', 'revenuePerDateA']\n",
    "\n",
    "ordersACummulative = ordersADaily.apply(\n",
    "    lambda x: ordersADaily[ordersADaily['date'] <= x['date']].agg(\n",
    "        {'date': 'max', 'ordersPerDateA': 'sum', 'revenuePerDateA': 'sum'}\n",
    "    ),\n",
    "    axis=1,\n",
    ").sort_values(by=['date'])\n",
    "ordersACummulative.columns = [\n",
    "    'date',\n",
    "    'ordersCummulativeA',\n",
    "    'revenueCummulativeA',\n",
    "]\n",
    "\n",
    "ordersBDaily = (\n",
    "    orders[orders['group'] == 'B'][['date', 'transactionId', 'visitorId','revenue']]\n",
    "    .groupby('date', as_index=False)\n",
    "    .agg({'transactionId': pd.Series.nunique, 'revenue': 'sum'})\n",
    ")\n",
    "ordersBDaily.columns = ['date', 'ordersPerDateB', 'revenuePerDateB']\n",
    "\n",
    "ordersBCummulative = ordersBDaily.apply(\n",
    "    lambda x: ordersBDaily[ordersBDaily['date'] <= x['date']].agg(\n",
    "        {'date': 'max', 'ordersPerDateB': 'sum', 'revenuePerDateB': 'sum'}\n",
    "    ),\n",
    "    axis=1,\n",
    ").sort_values(by=['date'])\n",
    "ordersBCummulative.columns = [\n",
    "    'date',\n",
    "    'ordersCummulativeB',\n",
    "    'revenueCummulativeB',\n",
    "]\n",
    "\n",
    "data = (\n",
    "    ordersADaily.merge(\n",
    "        ordersBDaily, left_on='date', right_on='date', how='left'\n",
    "    )\n",
    "    .merge(ordersACummulative, left_on='date', right_on='date', how='left')\n",
    "    .merge(ordersBCummulative, left_on='date', right_on='date', how='left')\n",
    "    .merge(visitorsADaily, left_on='date', right_on='date', how='left')\n",
    "    .merge(visitorsBDaily, left_on='date', right_on='date', how='left')\n",
    "    .merge(visitorsACummulative, left_on='date', right_on='date', how='left')\n",
    "    .merge(visitorsBCummulative, left_on='date', right_on='date', how='left')\n",
    ")\n",
    "\n",
    "print(data.head(5))"
   ]
  },
  {
   "cell_type": "code",
   "execution_count": 29,
   "metadata": {},
   "outputs": [
    {
     "name": "stdout",
     "output_type": "stream",
     "text": [
      "p-value = 0.011\n",
      "относительная разница в среднем количестве заказов на посетителя 0.160\n"
     ]
    }
   ],
   "source": [
    "ordersByUsersA = (\n",
    "    orders[orders['group'] == 'A']\n",
    "    .groupby('visitorId', as_index=False)\n",
    "    .agg({'transactionId': pd.Series.nunique})\n",
    ")\n",
    "ordersByUsersA.columns = ['userId', 'orders']\n",
    "\n",
    "ordersByUsersB = (\n",
    "    orders[orders['group'] == 'B']\n",
    "    .groupby('visitorId', as_index=False)\n",
    "    .agg({'transactionId': pd.Series.nunique})\n",
    ")\n",
    "ordersByUsersB.columns = ['userId', 'orders']\n",
    "\n",
    "sampleA = pd.concat([ordersByUsersA['orders'],pd.Series(0, index=np.arange(data['visitorsPerDateA'].sum() - len(ordersByUsersA['orders'])), name='orders')],axis=0)\n",
    "\n",
    "sampleB = pd.concat([ordersByUsersB['orders'],pd.Series(0, index=np.arange(data['visitorsPerDateB'].sum() - len(ordersByUsersB['orders'])), name='orders')],axis=0)\n",
    "\n",
    "print(\"p-value = {0:.3f}\".format(stats.mannwhitneyu(sampleA, sampleB)[1]))\n",
    "\n",
    "print(\"относительная разница в среднем количестве заказов на посетителя {0:.3f}\".format(sampleB.mean() / sampleA.mean() - 1))"
   ]
  },
  {
   "cell_type": "markdown",
   "metadata": {},
   "source": [
    "Вывод: По «сырым» данным различия в среднем числе заказов групп A и B есть. \n",
    "    Первое число — p-value = 0.011 меньше 0.05. Значит, нулевую гипотезу о том, что статистически значимых различий в среднем числе заказов между группами нет, можно отвергнуть. Относительный выигрыш группы B равен 16.0%."
   ]
  },
  {
   "cell_type": "markdown",
   "metadata": {},
   "source": [
    "Теперь проверим статистическую значимость различий в среднем чеке между сегментами. Нулевая гипотеза: различий в среднем чеке между группами нет. Альтернативная гипотеза: различия в среднем чеке между группами есть. \n",
    "    Чтобы рассчитать статистическую значимость различий в среднем чеке, передадим критерию mannwhitneyu() данные о выручке с заказов. \n",
    "    А ещё найдём относительные различия в среднем чеке между группами:\n"
   ]
  },
  {
   "cell_type": "code",
   "execution_count": 30,
   "metadata": {
    "scrolled": true
   },
   "outputs": [
    {
     "name": "stdout",
     "output_type": "stream",
     "text": [
      "p-value = 0.829\n",
      "относительная разница в среднем чеке между группами 0.287\n"
     ]
    }
   ],
   "source": [
    "print('p-value = {0:.3f}'.format(stats.mannwhitneyu(orders[orders['group']=='A']['revenue'], orders[orders['group']=='B']['revenue'])[1]))\n",
    "print('относительная разница в среднем чеке между группами {0:.3f}'.format(orders[orders['group']=='B']['revenue'].mean()/orders[orders['group']=='A']['revenue'].mean()-1))\n"
   ]
  },
  {
   "cell_type": "markdown",
   "metadata": {},
   "source": [
    "P-value значительно больше 0.05. Значит, причин отвергать нулевую гипотезу и считать, что в среднем чеке есть различия, нет. Впрочем, средний чек группы B значительно выше среднего чека группы A."
   ]
  },
  {
   "cell_type": "markdown",
   "metadata": {},
   "source": [
    "Наверняка, в этом виноваты выбросы и их стоит отбросить и посчитать статистическую значимость различий в среднем количестве заказов на посетителя между группами по «очищенным» данным. \n",
    "\n",
    "Напомним, что найденные 95-й и 99-й перцентили средних чеков равны 28000 и 58233 рублям. А 95-й и 99-й перцентили количества заказов на одного пользователя равны 2 и 4 заказа на пользователя.\n",
    "Примем за аномальных пользователей тех, кто совершил от 4 заказов или совершил заказ дороже 35 000 рублей. Так мы уберём 1% пользователей с наибольшим числом заказов и от 1% до 5% пользователей с дорогими заказами. Сделаем срезы пользователей с числом заказов больше 3 — usersWithManyOrders и пользователей, совершивших заказы дороже 35 000 — usersWithExpensiveOrders. Объединим их в таблице abnormalUsers. \n",
    "Узнаем, сколько всего аномальных пользователей атрибутом shape."
   ]
  },
  {
   "cell_type": "code",
   "execution_count": 32,
   "metadata": {},
   "outputs": [
    {
     "name": "stdout",
     "output_type": "stream",
     "text": [
      "Всего выбивающихся значений:  37\n",
      "Отношение выбивающихся значений к общим: = 3.80%\n"
     ]
    }
   ],
   "source": [
    "usersWithManyOrders = pd.concat(\n",
    "    [\n",
    "        ordersByUsersA[ordersByUsersA['orders'] > np.percentile(ordersByUsersA['orders'], 99)]['userId'],\n",
    "        ordersByUsersB[ordersByUsersB['orders'] > np.percentile(ordersByUsersB['orders'], 99)]['userId'],\n",
    "    ],\n",
    "    axis=0,\n",
    ")\n",
    "usersWithExpensiveOrders = orders[orders['revenue'] > np.percentile(orders['revenue'], 97.1)]['visitorId']\n",
    "abnormalUsers = (\n",
    "    pd.concat([usersWithManyOrders, usersWithExpensiveOrders], axis=0)\n",
    "    .drop_duplicates()\n",
    "    .sort_values()\n",
    ")\n",
    "print('Всего выбивающихся значений: ', abnormalUsers.shape[0])\n",
    "print('Отношение выбивающихся значений к общим: = {0:.2f}%'.format((abnormalUsers.shape[0]/orders['visitorId'].nunique())*100))"
   ]
  },
  {
   "cell_type": "markdown",
   "metadata": {},
   "source": [
    "37 записей - меньше 4% от всех данных, можем с ними попрощаться.\n",
    "Посчитаем статистическую значимость различий в среднем чеке заказа между группами по «очищенным» данным. "
   ]
  },
  {
   "cell_type": "code",
   "execution_count": 33,
   "metadata": {},
   "outputs": [
    {
     "name": "stdout",
     "output_type": "stream",
     "text": [
      "p-value = 0.007\n",
      "относительная разница в среднем количестве заказов на посетителя 0.194\n"
     ]
    }
   ],
   "source": [
    "sampleAFiltered = pd.concat(\n",
    "    [\n",
    "        ordersByUsersA[\n",
    "            np.logical_not(ordersByUsersA['userId'].isin(abnormalUsers))\n",
    "        ]['orders'],\n",
    "        pd.Series(\n",
    "            0,\n",
    "            index=np.arange(\n",
    "                data['visitorsPerDateA'].sum() - len(ordersByUsersA['orders'])\n",
    "            ),\n",
    "            name='orders',\n",
    "        ),\n",
    "    ],\n",
    "    axis=0,\n",
    ")\n",
    "\n",
    "sampleBFiltered = pd.concat(\n",
    "    [\n",
    "        ordersByUsersB[\n",
    "            np.logical_not(ordersByUsersB['userId'].isin(abnormalUsers))\n",
    "        ]['orders'],\n",
    "        pd.Series(\n",
    "            0,\n",
    "            index=np.arange(\n",
    "                data['visitorsPerDateB'].sum() - len(ordersByUsersB['orders'])\n",
    "            ),\n",
    "            name='orders',\n",
    "        ),\n",
    "    ],\n",
    "    axis=0,\n",
    ")\n",
    "\n",
    "print('p-value = {0:.3f}'.format(stats.mannwhitneyu(sampleAFiltered, sampleBFiltered)[1]))\n",
    "print('относительная разница в среднем количестве заказов на посетителя {0:.3f}'.format(sampleBFiltered.mean()/sampleAFiltered.mean()-1))"
   ]
  },
  {
   "cell_type": "markdown",
   "metadata": {},
   "source": [
    "Результаты по среднему количеству заказов изменились, не не сильно. Произошло ли что-нибудь с результатами по среднему чеку?"
   ]
  },
  {
   "cell_type": "code",
   "execution_count": 34,
   "metadata": {},
   "outputs": [
    {
     "name": "stdout",
     "output_type": "stream",
     "text": [
      "p-value =0.869\n",
      "относительная разница в среднем чеке между группами 0.003\n"
     ]
    }
   ],
   "source": [
    "print(\n",
    "    'p-value ={0:.3f}'.format(\n",
    "        stats.mannwhitneyu(\n",
    "            orders[\n",
    "                np.logical_and(\n",
    "                    orders['group'] == 'A',\n",
    "                    np.logical_not(orders['visitorId'].isin(abnormalUsers)),\n",
    "                )\n",
    "            ]['revenue'],\n",
    "            orders[\n",
    "                np.logical_and(\n",
    "                    orders['group'] == 'B',\n",
    "                    np.logical_not(orders['visitorId'].isin(abnormalUsers)),\n",
    "                )\n",
    "            ]['revenue'],\n",
    "        )[1]\n",
    "    )\n",
    ")\n",
    "\n",
    "print(\n",
    "    \"относительная разница в среднем чеке между группами {0:.3f}\".format(\n",
    "        orders[\n",
    "            np.logical_and(\n",
    "                orders['group'] == 'B',\n",
    "                np.logical_not(orders['visitorId'].isin(abnormalUsers)),\n",
    "            )\n",
    "        ]['revenue'].mean()\n",
    "        / orders[\n",
    "            np.logical_and(\n",
    "                orders['group'] == 'A',\n",
    "                np.logical_not(orders['visitorId'].isin(abnormalUsers)),\n",
    "            )\n",
    "        ]['revenue'].mean()\n",
    "        - 1\n",
    "    )\n",
    ")"
   ]
  },
  {
   "cell_type": "markdown",
   "metadata": {},
   "source": [
    "P-value увеличился, но и разница между сегментами сократилась с 26% до 3%.\n",
    "Хотя общие выводы по результатам теста не изменились, такой пример хорошо показывает, как сильно аномалии могут влиять на результаты A/B-теста!"
   ]
  },
  {
   "cell_type": "markdown",
   "metadata": {},
   "source": [
    "# Выводы по проекту\n",
    "Имеющиеся факты:\n",
    "Есть статистически значимое различие по среднему количеству заказов между группами и по «сырым», и по данным после фильтрации аномалий - группа В однозначно опережает группу А;\n",
    "Нет статистически значимого различия по среднему чеку между группами ни по «сырым», ни по данным после фильтрации аномалий;\n",
    "График различия среднего количества заказов, как и выручки и среднего чека между группами сообщает, что результаты группы B лучше группы A\n",
    "\n",
    "Исходя из обнаруженных фактов, тест следует остановить и признать его успешным."
   ]
  }
 ],
 "metadata": {
  "ExecuteTimeLog": [
   {
    "duration": 1681,
    "start_time": "2023-02-20T06:14:08.181Z"
   },
   {
    "duration": 29,
    "start_time": "2023-02-20T06:22:20.079Z"
   },
   {
    "duration": 11,
    "start_time": "2023-02-20T06:22:34.583Z"
   },
   {
    "duration": 13,
    "start_time": "2023-02-20T06:23:19.784Z"
   },
   {
    "duration": 10,
    "start_time": "2023-02-20T06:23:29.740Z"
   },
   {
    "duration": 13,
    "start_time": "2023-02-20T06:25:56.902Z"
   },
   {
    "duration": 10,
    "start_time": "2023-02-20T06:26:01.420Z"
   },
   {
    "duration": 100,
    "start_time": "2023-02-20T06:28:14.411Z"
   },
   {
    "duration": 11,
    "start_time": "2023-02-20T06:36:14.422Z"
   },
   {
    "duration": 108,
    "start_time": "2023-02-20T06:40:43.182Z"
   },
   {
    "duration": 17,
    "start_time": "2023-02-20T06:42:37.332Z"
   },
   {
    "duration": 317,
    "start_time": "2023-02-20T06:58:20.563Z"
   },
   {
    "duration": 445,
    "start_time": "2023-02-20T07:02:26.832Z"
   },
   {
    "duration": 12,
    "start_time": "2023-02-20T07:02:27.280Z"
   },
   {
    "duration": 21,
    "start_time": "2023-02-20T07:02:27.294Z"
   },
   {
    "duration": 12,
    "start_time": "2023-02-20T07:02:27.316Z"
   },
   {
    "duration": 55,
    "start_time": "2023-02-20T07:02:27.330Z"
   },
   {
    "duration": 17,
    "start_time": "2023-02-20T07:02:27.386Z"
   },
   {
    "duration": 473,
    "start_time": "2023-02-20T07:02:27.406Z"
   },
   {
    "duration": 90,
    "start_time": "2023-02-20T07:03:33.628Z"
   },
   {
    "duration": 7,
    "start_time": "2023-02-20T07:03:42.946Z"
   },
   {
    "duration": 359,
    "start_time": "2023-02-20T07:04:00.068Z"
   },
   {
    "duration": 557,
    "start_time": "2023-02-20T07:05:13.478Z"
   },
   {
    "duration": 30,
    "start_time": "2023-02-20T07:06:50.589Z"
   },
   {
    "duration": 601,
    "start_time": "2023-02-20T07:08:02.966Z"
   },
   {
    "duration": 5,
    "start_time": "2023-02-20T07:10:31.291Z"
   },
   {
    "duration": 621,
    "start_time": "2023-02-20T07:10:37.508Z"
   },
   {
    "duration": 7,
    "start_time": "2023-02-20T07:10:58.765Z"
   },
   {
    "duration": 299,
    "start_time": "2023-02-20T07:11:01.269Z"
   },
   {
    "duration": 268,
    "start_time": "2023-02-20T07:14:16.605Z"
   },
   {
    "duration": 174,
    "start_time": "2023-02-20T07:14:29.614Z"
   },
   {
    "duration": 381,
    "start_time": "2023-02-20T07:16:17.133Z"
   },
   {
    "duration": 192,
    "start_time": "2023-02-20T07:19:27.432Z"
   },
   {
    "duration": 164,
    "start_time": "2023-02-20T07:19:48.211Z"
   },
   {
    "duration": 857,
    "start_time": "2023-02-21T04:55:27.974Z"
   },
   {
    "duration": 12,
    "start_time": "2023-02-21T04:55:28.833Z"
   },
   {
    "duration": 12,
    "start_time": "2023-02-21T04:55:28.846Z"
   },
   {
    "duration": 8,
    "start_time": "2023-02-21T04:55:28.859Z"
   },
   {
    "duration": 166,
    "start_time": "2023-02-21T04:55:28.869Z"
   },
   {
    "duration": 17,
    "start_time": "2023-02-21T04:55:29.036Z"
   },
   {
    "duration": 8,
    "start_time": "2023-02-21T04:55:29.054Z"
   },
   {
    "duration": 5,
    "start_time": "2023-02-21T04:55:29.064Z"
   },
   {
    "duration": 268,
    "start_time": "2023-02-21T04:55:29.071Z"
   },
   {
    "duration": 250,
    "start_time": "2023-02-21T04:55:29.341Z"
   },
   {
    "duration": 162,
    "start_time": "2023-02-21T04:55:29.593Z"
   },
   {
    "duration": 345,
    "start_time": "2023-02-21T04:55:29.757Z"
   },
   {
    "duration": 7,
    "start_time": "2023-02-21T04:55:30.104Z"
   },
   {
    "duration": 239,
    "start_time": "2023-02-21T04:55:30.112Z"
   },
   {
    "duration": 205,
    "start_time": "2023-02-21T04:55:30.353Z"
   },
   {
    "duration": 0,
    "start_time": "2023-02-21T04:55:30.559Z"
   },
   {
    "duration": 150,
    "start_time": "2023-02-21T04:58:01.633Z"
   },
   {
    "duration": 1249,
    "start_time": "2023-02-21T04:59:08.237Z"
   },
   {
    "duration": 8,
    "start_time": "2023-02-21T04:59:31.919Z"
   },
   {
    "duration": 155,
    "start_time": "2023-02-21T04:59:50.630Z"
   },
   {
    "duration": 225,
    "start_time": "2023-02-21T05:00:36.024Z"
   },
   {
    "duration": 145,
    "start_time": "2023-02-21T05:00:47.573Z"
   },
   {
    "duration": 6,
    "start_time": "2023-02-21T05:01:31.137Z"
   },
   {
    "duration": 13,
    "start_time": "2023-02-21T05:01:40.130Z"
   },
   {
    "duration": 288,
    "start_time": "2023-02-21T05:02:36.108Z"
   },
   {
    "duration": 9,
    "start_time": "2023-02-21T05:06:58.450Z"
   },
   {
    "duration": 13,
    "start_time": "2023-02-21T05:12:05.898Z"
   },
   {
    "duration": 6,
    "start_time": "2023-02-21T05:12:44.947Z"
   },
   {
    "duration": 9,
    "start_time": "2023-02-21T05:13:03.371Z"
   },
   {
    "duration": 8,
    "start_time": "2023-02-21T05:13:14.321Z"
   },
   {
    "duration": 126,
    "start_time": "2023-02-21T05:13:33.127Z"
   },
   {
    "duration": 122,
    "start_time": "2023-02-21T05:13:44.810Z"
   },
   {
    "duration": 5,
    "start_time": "2023-02-21T05:14:03.018Z"
   },
   {
    "duration": 4,
    "start_time": "2023-02-21T05:14:37.362Z"
   },
   {
    "duration": 128,
    "start_time": "2023-02-21T05:41:35.021Z"
   },
   {
    "duration": 5,
    "start_time": "2023-02-21T05:42:14.889Z"
   },
   {
    "duration": 10,
    "start_time": "2023-02-21T05:46:14.368Z"
   },
   {
    "duration": 11,
    "start_time": "2023-02-21T05:47:13.751Z"
   },
   {
    "duration": 9,
    "start_time": "2023-02-21T05:47:14.622Z"
   },
   {
    "duration": 7,
    "start_time": "2023-02-21T05:48:26.149Z"
   },
   {
    "duration": 9,
    "start_time": "2023-02-21T05:49:02.873Z"
   },
   {
    "duration": 140,
    "start_time": "2023-02-21T05:49:26.669Z"
   },
   {
    "duration": 1933,
    "start_time": "2023-02-21T05:49:30.282Z"
   },
   {
    "duration": 102,
    "start_time": "2023-02-21T06:13:41.170Z"
   },
   {
    "duration": 11,
    "start_time": "2023-02-21T06:14:21.439Z"
   },
   {
    "duration": 12,
    "start_time": "2023-02-21T06:14:37.931Z"
   },
   {
    "duration": 98,
    "start_time": "2023-02-21T06:15:27.941Z"
   },
   {
    "duration": 281,
    "start_time": "2023-02-21T06:16:03.274Z"
   },
   {
    "duration": 372,
    "start_time": "2023-02-21T06:17:11.668Z"
   },
   {
    "duration": 388,
    "start_time": "2023-02-21T06:17:36.525Z"
   },
   {
    "duration": 345,
    "start_time": "2023-02-21T06:30:40.607Z"
   },
   {
    "duration": 371,
    "start_time": "2023-02-21T06:31:35.768Z"
   },
   {
    "duration": 13,
    "start_time": "2023-02-21T06:32:33.497Z"
   },
   {
    "duration": 1363,
    "start_time": "2023-02-21T06:38:46.195Z"
   },
   {
    "duration": 1231,
    "start_time": "2023-02-21T06:39:18.632Z"
   },
   {
    "duration": 8,
    "start_time": "2023-02-21T06:40:00.637Z"
   },
   {
    "duration": 8,
    "start_time": "2023-02-21T06:40:12.531Z"
   },
   {
    "duration": 9,
    "start_time": "2023-02-21T06:40:43.755Z"
   },
   {
    "duration": 10,
    "start_time": "2023-02-21T06:40:58.580Z"
   },
   {
    "duration": 12,
    "start_time": "2023-02-21T06:41:26.053Z"
   },
   {
    "duration": 11,
    "start_time": "2023-02-21T06:42:09.906Z"
   },
   {
    "duration": 8,
    "start_time": "2023-02-21T06:42:42.424Z"
   },
   {
    "duration": 10,
    "start_time": "2023-02-21T06:43:00.253Z"
   },
   {
    "duration": 4,
    "start_time": "2023-02-21T06:43:23.774Z"
   },
   {
    "duration": 5,
    "start_time": "2023-02-21T06:43:35.510Z"
   },
   {
    "duration": 8,
    "start_time": "2023-02-21T06:45:49.716Z"
   },
   {
    "duration": 28,
    "start_time": "2023-02-21T07:53:34.855Z"
   },
   {
    "duration": 2626,
    "start_time": "2023-02-21T07:54:47.633Z"
   },
   {
    "duration": 13,
    "start_time": "2023-02-21T07:55:34.936Z"
   },
   {
    "duration": 49,
    "start_time": "2023-02-21T10:30:21.881Z"
   },
   {
    "duration": 1323,
    "start_time": "2023-02-21T10:30:44.238Z"
   },
   {
    "duration": 10,
    "start_time": "2023-02-21T10:30:45.564Z"
   },
   {
    "duration": 33,
    "start_time": "2023-02-21T10:30:45.576Z"
   },
   {
    "duration": 17,
    "start_time": "2023-02-21T10:30:45.612Z"
   },
   {
    "duration": 12,
    "start_time": "2023-02-21T10:30:45.631Z"
   },
   {
    "duration": 3,
    "start_time": "2023-02-21T10:41:14.562Z"
   },
   {
    "duration": 7,
    "start_time": "2023-02-21T10:41:16.292Z"
   },
   {
    "duration": 3,
    "start_time": "2023-02-21T10:41:25.063Z"
   },
   {
    "duration": 28,
    "start_time": "2023-02-21T10:44:08.619Z"
   },
   {
    "duration": 11,
    "start_time": "2023-02-21T10:44:08.649Z"
   },
   {
    "duration": 8,
    "start_time": "2023-02-21T10:44:08.673Z"
   },
   {
    "duration": 16,
    "start_time": "2023-02-21T10:44:08.683Z"
   },
   {
    "duration": 59,
    "start_time": "2023-02-21T11:09:33.117Z"
   },
   {
    "duration": 9,
    "start_time": "2023-02-21T11:09:45.432Z"
   },
   {
    "duration": 11,
    "start_time": "2023-02-21T11:10:26.543Z"
   },
   {
    "duration": 27,
    "start_time": "2023-02-21T11:10:34.463Z"
   },
   {
    "duration": 21,
    "start_time": "2023-02-21T11:10:34.493Z"
   },
   {
    "duration": 20,
    "start_time": "2023-02-21T11:10:34.517Z"
   },
   {
    "duration": 24,
    "start_time": "2023-02-21T11:10:34.540Z"
   },
   {
    "duration": 144,
    "start_time": "2023-02-21T11:10:34.567Z"
   },
   {
    "duration": 20,
    "start_time": "2023-02-21T11:10:34.712Z"
   },
   {
    "duration": 9,
    "start_time": "2023-02-21T11:10:34.734Z"
   },
   {
    "duration": 9,
    "start_time": "2023-02-21T11:10:58.537Z"
   },
   {
    "duration": 6,
    "start_time": "2023-02-21T11:11:05.294Z"
   },
   {
    "duration": 8,
    "start_time": "2023-02-21T11:12:56.404Z"
   },
   {
    "duration": 6,
    "start_time": "2023-02-21T11:13:00.833Z"
   },
   {
    "duration": 284,
    "start_time": "2023-02-21T11:35:15.483Z"
   },
   {
    "duration": 278,
    "start_time": "2023-02-21T11:35:26.945Z"
   },
   {
    "duration": 27,
    "start_time": "2023-02-21T11:36:54.517Z"
   },
   {
    "duration": 10,
    "start_time": "2023-02-21T11:36:54.546Z"
   },
   {
    "duration": 9,
    "start_time": "2023-02-21T11:36:54.571Z"
   },
   {
    "duration": 7,
    "start_time": "2023-02-21T11:36:54.583Z"
   },
   {
    "duration": 44,
    "start_time": "2023-02-21T11:36:54.803Z"
   },
   {
    "duration": 19,
    "start_time": "2023-02-21T11:36:54.850Z"
   },
   {
    "duration": 11,
    "start_time": "2023-02-21T11:36:54.871Z"
   },
   {
    "duration": 10,
    "start_time": "2023-02-21T11:36:54.884Z"
   },
   {
    "duration": 7,
    "start_time": "2023-02-21T11:36:54.897Z"
   },
   {
    "duration": 305,
    "start_time": "2023-02-21T11:36:54.905Z"
   },
   {
    "duration": 183,
    "start_time": "2023-02-21T11:36:55.211Z"
   },
   {
    "duration": 30,
    "start_time": "2023-02-21T11:37:39.134Z"
   },
   {
    "duration": 29,
    "start_time": "2023-02-21T11:37:44.674Z"
   },
   {
    "duration": 28,
    "start_time": "2023-02-21T11:37:57.289Z"
   },
   {
    "duration": 10,
    "start_time": "2023-02-21T11:37:57.319Z"
   },
   {
    "duration": 9,
    "start_time": "2023-02-21T11:37:57.330Z"
   },
   {
    "duration": 10,
    "start_time": "2023-02-21T11:37:57.341Z"
   },
   {
    "duration": 46,
    "start_time": "2023-02-21T11:37:57.353Z"
   },
   {
    "duration": 18,
    "start_time": "2023-02-21T11:37:57.400Z"
   },
   {
    "duration": 5,
    "start_time": "2023-02-21T11:37:57.420Z"
   },
   {
    "duration": 8,
    "start_time": "2023-02-21T11:37:57.426Z"
   },
   {
    "duration": 6,
    "start_time": "2023-02-21T11:37:57.435Z"
   },
   {
    "duration": 292,
    "start_time": "2023-02-21T11:37:57.443Z"
   },
   {
    "duration": 200,
    "start_time": "2023-02-21T11:37:57.737Z"
   },
   {
    "duration": 176,
    "start_time": "2023-02-21T11:37:57.939Z"
   },
   {
    "duration": 328,
    "start_time": "2023-02-21T11:37:58.117Z"
   },
   {
    "duration": 203,
    "start_time": "2023-02-21T11:37:58.447Z"
   },
   {
    "duration": 11,
    "start_time": "2023-02-21T11:37:58.652Z"
   },
   {
    "duration": 8,
    "start_time": "2023-02-21T11:37:58.664Z"
   },
   {
    "duration": 296,
    "start_time": "2023-02-21T11:37:58.673Z"
   },
   {
    "duration": 114,
    "start_time": "2023-02-21T11:37:58.970Z"
   },
   {
    "duration": 4,
    "start_time": "2023-02-21T11:37:59.086Z"
   },
   {
    "duration": 126,
    "start_time": "2023-02-21T11:37:59.091Z"
   },
   {
    "duration": 11,
    "start_time": "2023-02-21T11:37:59.218Z"
   },
   {
    "duration": 18,
    "start_time": "2023-02-21T11:37:59.230Z"
   },
   {
    "duration": 449,
    "start_time": "2023-02-21T11:37:59.250Z"
   },
   {
    "duration": 10,
    "start_time": "2023-02-21T11:37:59.700Z"
   },
   {
    "duration": 21,
    "start_time": "2023-02-21T11:37:59.712Z"
   },
   {
    "duration": 28,
    "start_time": "2023-02-21T11:37:59.735Z"
   },
   {
    "duration": 16,
    "start_time": "2023-02-21T11:37:59.764Z"
   },
   {
    "duration": 169,
    "start_time": "2023-02-21T11:40:56.703Z"
   },
   {
    "duration": 162,
    "start_time": "2023-02-21T11:48:04.663Z"
   },
   {
    "duration": 282,
    "start_time": "2023-02-21T11:48:16.589Z"
   },
   {
    "duration": 278,
    "start_time": "2023-02-21T11:48:57.538Z"
   },
   {
    "duration": 231,
    "start_time": "2023-02-21T11:50:50.868Z"
   },
   {
    "duration": 271,
    "start_time": "2023-02-21T11:51:42.738Z"
   },
   {
    "duration": 365,
    "start_time": "2023-02-21T11:52:28.664Z"
   },
   {
    "duration": 270,
    "start_time": "2023-02-21T11:52:47.365Z"
   },
   {
    "duration": 259,
    "start_time": "2023-02-21T11:52:52.657Z"
   },
   {
    "duration": 275,
    "start_time": "2023-02-21T11:53:03.692Z"
   },
   {
    "duration": 473,
    "start_time": "2023-02-21T11:53:15.623Z"
   },
   {
    "duration": 251,
    "start_time": "2023-02-21T11:53:37.963Z"
   },
   {
    "duration": 273,
    "start_time": "2023-02-21T11:53:55.337Z"
   },
   {
    "duration": 262,
    "start_time": "2023-02-21T11:54:16.765Z"
   },
   {
    "duration": 248,
    "start_time": "2023-02-21T11:54:37.661Z"
   },
   {
    "duration": 276,
    "start_time": "2023-02-21T11:56:09.178Z"
   },
   {
    "duration": 293,
    "start_time": "2023-02-21T11:56:20.048Z"
   },
   {
    "duration": 275,
    "start_time": "2023-02-21T11:56:56.072Z"
   },
   {
    "duration": 324,
    "start_time": "2023-02-21T11:57:29.716Z"
   },
   {
    "duration": 305,
    "start_time": "2023-02-21T11:57:56.566Z"
   },
   {
    "duration": 178,
    "start_time": "2023-02-21T11:59:48.180Z"
   },
   {
    "duration": 268,
    "start_time": "2023-02-21T12:00:12.337Z"
   },
   {
    "duration": 323,
    "start_time": "2023-02-21T12:00:20.779Z"
   },
   {
    "duration": 51,
    "start_time": "2023-02-21T23:03:06.660Z"
   },
   {
    "duration": 1459,
    "start_time": "2023-02-21T23:14:23.098Z"
   },
   {
    "duration": 11,
    "start_time": "2023-02-21T23:14:24.559Z"
   },
   {
    "duration": 13,
    "start_time": "2023-02-21T23:14:24.572Z"
   },
   {
    "duration": 19,
    "start_time": "2023-02-21T23:14:24.587Z"
   },
   {
    "duration": 283,
    "start_time": "2023-02-21T23:14:24.608Z"
   },
   {
    "duration": 20,
    "start_time": "2023-02-21T23:14:24.893Z"
   },
   {
    "duration": 13,
    "start_time": "2023-02-21T23:14:24.916Z"
   },
   {
    "duration": 11,
    "start_time": "2023-02-21T23:14:24.931Z"
   },
   {
    "duration": 9,
    "start_time": "2023-02-21T23:14:24.943Z"
   },
   {
    "duration": 318,
    "start_time": "2023-02-21T23:14:24.954Z"
   },
   {
    "duration": 314,
    "start_time": "2023-02-21T23:14:25.274Z"
   },
   {
    "duration": 221,
    "start_time": "2023-02-21T23:14:25.589Z"
   },
   {
    "duration": 387,
    "start_time": "2023-02-21T23:14:25.812Z"
   },
   {
    "duration": 244,
    "start_time": "2023-02-21T23:14:26.202Z"
   },
   {
    "duration": 7,
    "start_time": "2023-02-21T23:14:26.448Z"
   },
   {
    "duration": 335,
    "start_time": "2023-02-21T23:14:26.457Z"
   },
   {
    "duration": 151,
    "start_time": "2023-02-21T23:14:26.794Z"
   },
   {
    "duration": 5,
    "start_time": "2023-02-21T23:14:26.948Z"
   },
   {
    "duration": 209,
    "start_time": "2023-02-21T23:14:26.955Z"
   },
   {
    "duration": 142,
    "start_time": "2023-02-21T23:15:25.016Z"
   },
   {
    "duration": 162,
    "start_time": "2023-02-21T23:15:33.743Z"
   },
   {
    "duration": 13,
    "start_time": "2023-02-21T23:29:07.681Z"
   },
   {
    "duration": 30,
    "start_time": "2023-02-21T23:30:13.844Z"
   },
   {
    "duration": 11,
    "start_time": "2023-02-21T23:30:13.875Z"
   },
   {
    "duration": 10,
    "start_time": "2023-02-21T23:30:13.888Z"
   },
   {
    "duration": 8,
    "start_time": "2023-02-21T23:30:13.900Z"
   },
   {
    "duration": 53,
    "start_time": "2023-02-21T23:30:13.910Z"
   },
   {
    "duration": 17,
    "start_time": "2023-02-21T23:30:13.965Z"
   },
   {
    "duration": 94,
    "start_time": "2023-02-21T23:30:13.984Z"
   },
   {
    "duration": 7,
    "start_time": "2023-02-21T23:30:14.080Z"
   },
   {
    "duration": 9,
    "start_time": "2023-02-21T23:30:14.088Z"
   },
   {
    "duration": 306,
    "start_time": "2023-02-21T23:30:14.098Z"
   },
   {
    "duration": 210,
    "start_time": "2023-02-21T23:30:14.406Z"
   },
   {
    "duration": 197,
    "start_time": "2023-02-21T23:30:14.618Z"
   },
   {
    "duration": 331,
    "start_time": "2023-02-21T23:30:14.816Z"
   },
   {
    "duration": 220,
    "start_time": "2023-02-21T23:30:15.150Z"
   },
   {
    "duration": 7,
    "start_time": "2023-02-21T23:30:15.372Z"
   },
   {
    "duration": 299,
    "start_time": "2023-02-21T23:30:15.381Z"
   },
   {
    "duration": 124,
    "start_time": "2023-02-21T23:30:15.682Z"
   },
   {
    "duration": 7,
    "start_time": "2023-02-21T23:30:15.808Z"
   },
   {
    "duration": 157,
    "start_time": "2023-02-21T23:30:15.817Z"
   },
   {
    "duration": 5,
    "start_time": "2023-02-21T23:30:15.975Z"
   },
   {
    "duration": 406,
    "start_time": "2023-02-21T23:30:15.981Z"
   },
   {
    "duration": 13,
    "start_time": "2023-02-21T23:30:16.388Z"
   },
   {
    "duration": 10,
    "start_time": "2023-02-21T23:38:08.359Z"
   },
   {
    "duration": 29,
    "start_time": "2023-02-21T23:39:42.748Z"
   },
   {
    "duration": 19,
    "start_time": "2023-02-21T23:41:00.507Z"
   },
   {
    "duration": 1127,
    "start_time": "2023-02-22T19:49:28.681Z"
   },
   {
    "duration": 116,
    "start_time": "2023-02-22T19:49:29.810Z"
   },
   {
    "duration": 9,
    "start_time": "2023-02-22T19:49:29.927Z"
   },
   {
    "duration": 23,
    "start_time": "2023-02-22T19:49:29.938Z"
   },
   {
    "duration": 11,
    "start_time": "2023-02-22T19:49:29.963Z"
   },
   {
    "duration": 132,
    "start_time": "2023-02-22T19:49:29.976Z"
   },
   {
    "duration": 15,
    "start_time": "2023-02-22T19:49:30.110Z"
   },
   {
    "duration": 12,
    "start_time": "2023-02-22T19:49:30.126Z"
   },
   {
    "duration": 23,
    "start_time": "2023-02-22T19:49:30.139Z"
   },
   {
    "duration": 23,
    "start_time": "2023-02-22T19:49:30.164Z"
   },
   {
    "duration": 34,
    "start_time": "2023-02-22T19:49:30.188Z"
   },
   {
    "duration": 31,
    "start_time": "2023-02-22T19:49:30.223Z"
   },
   {
    "duration": 55,
    "start_time": "2023-02-22T19:49:30.255Z"
   },
   {
    "duration": 36,
    "start_time": "2023-02-22T19:49:30.313Z"
   },
   {
    "duration": 32,
    "start_time": "2023-02-22T19:49:30.350Z"
   },
   {
    "duration": 320,
    "start_time": "2023-02-22T19:49:30.384Z"
   },
   {
    "duration": 253,
    "start_time": "2023-02-22T19:49:30.705Z"
   },
   {
    "duration": 188,
    "start_time": "2023-02-22T19:49:30.959Z"
   },
   {
    "duration": 351,
    "start_time": "2023-02-22T19:49:31.149Z"
   },
   {
    "duration": 179,
    "start_time": "2023-02-22T19:49:31.502Z"
   },
   {
    "duration": 5,
    "start_time": "2023-02-22T19:49:31.683Z"
   },
   {
    "duration": 281,
    "start_time": "2023-02-22T19:49:31.690Z"
   },
   {
    "duration": 140,
    "start_time": "2023-02-22T19:49:31.972Z"
   },
   {
    "duration": 3,
    "start_time": "2023-02-22T19:49:32.114Z"
   },
   {
    "duration": 135,
    "start_time": "2023-02-22T19:49:32.119Z"
   },
   {
    "duration": 4,
    "start_time": "2023-02-22T19:49:32.256Z"
   },
   {
    "duration": 244,
    "start_time": "2023-02-22T19:49:32.262Z"
   },
   {
    "duration": 139,
    "start_time": "2023-02-22T19:49:32.507Z"
   },
   {
    "duration": 9,
    "start_time": "2023-02-22T19:49:32.647Z"
   },
   {
    "duration": 15,
    "start_time": "2023-02-22T19:49:32.657Z"
   },
   {
    "duration": 42,
    "start_time": "2023-02-22T19:49:32.673Z"
   },
   {
    "duration": 12,
    "start_time": "2023-02-22T19:49:32.716Z"
   },
   {
    "duration": 122,
    "start_time": "2023-02-22T19:55:53.988Z"
   },
   {
    "duration": 105,
    "start_time": "2023-02-22T19:56:08.765Z"
   },
   {
    "duration": 4,
    "start_time": "2023-02-22T19:59:01.041Z"
   },
   {
    "duration": 8,
    "start_time": "2023-02-22T20:09:26.421Z"
   },
   {
    "duration": 130,
    "start_time": "2023-02-22T20:12:00.437Z"
   },
   {
    "duration": 9,
    "start_time": "2023-02-22T20:13:21.751Z"
   },
   {
    "duration": 11,
    "start_time": "2023-02-22T20:13:57.179Z"
   },
   {
    "duration": 11,
    "start_time": "2023-02-22T20:16:15.714Z"
   },
   {
    "duration": 138,
    "start_time": "2023-02-22T20:18:01.266Z"
   },
   {
    "duration": 1048,
    "start_time": "2023-02-22T20:20:20.570Z"
   },
   {
    "duration": 79,
    "start_time": "2023-02-22T20:20:21.620Z"
   },
   {
    "duration": 10,
    "start_time": "2023-02-22T20:20:21.701Z"
   },
   {
    "duration": 20,
    "start_time": "2023-02-22T20:20:21.713Z"
   },
   {
    "duration": 11,
    "start_time": "2023-02-22T20:20:21.735Z"
   },
   {
    "duration": 51,
    "start_time": "2023-02-22T20:20:21.747Z"
   },
   {
    "duration": 16,
    "start_time": "2023-02-22T20:20:21.799Z"
   },
   {
    "duration": 8,
    "start_time": "2023-02-22T20:20:21.817Z"
   },
   {
    "duration": 10,
    "start_time": "2023-02-22T20:20:21.826Z"
   },
   {
    "duration": 10,
    "start_time": "2023-02-22T20:20:21.837Z"
   },
   {
    "duration": 11,
    "start_time": "2023-02-22T20:20:21.849Z"
   },
   {
    "duration": 6,
    "start_time": "2023-02-22T20:20:21.861Z"
   },
   {
    "duration": 17,
    "start_time": "2023-02-22T20:20:21.868Z"
   },
   {
    "duration": 12,
    "start_time": "2023-02-22T20:20:21.888Z"
   },
   {
    "duration": 4,
    "start_time": "2023-02-22T20:20:21.901Z"
   },
   {
    "duration": 295,
    "start_time": "2023-02-22T20:20:21.906Z"
   },
   {
    "duration": 287,
    "start_time": "2023-02-22T20:20:22.203Z"
   },
   {
    "duration": 200,
    "start_time": "2023-02-22T20:20:22.491Z"
   },
   {
    "duration": 303,
    "start_time": "2023-02-22T20:20:22.693Z"
   },
   {
    "duration": 48,
    "start_time": "2023-02-22T20:20:22.998Z"
   },
   {
    "duration": 0,
    "start_time": "2023-02-22T20:20:23.047Z"
   },
   {
    "duration": 0,
    "start_time": "2023-02-22T20:20:23.049Z"
   },
   {
    "duration": 0,
    "start_time": "2023-02-22T20:20:23.050Z"
   },
   {
    "duration": 0,
    "start_time": "2023-02-22T20:20:23.051Z"
   },
   {
    "duration": 0,
    "start_time": "2023-02-22T20:20:23.052Z"
   },
   {
    "duration": 0,
    "start_time": "2023-02-22T20:20:23.054Z"
   },
   {
    "duration": 0,
    "start_time": "2023-02-22T20:20:23.055Z"
   },
   {
    "duration": 0,
    "start_time": "2023-02-22T20:20:23.056Z"
   },
   {
    "duration": 1,
    "start_time": "2023-02-22T20:20:23.057Z"
   },
   {
    "duration": 0,
    "start_time": "2023-02-22T20:20:23.058Z"
   },
   {
    "duration": 0,
    "start_time": "2023-02-22T20:20:23.060Z"
   },
   {
    "duration": 0,
    "start_time": "2023-02-22T20:20:23.061Z"
   },
   {
    "duration": 188,
    "start_time": "2023-02-22T20:21:06.664Z"
   },
   {
    "duration": 6,
    "start_time": "2023-02-22T20:21:15.885Z"
   },
   {
    "duration": 44,
    "start_time": "2023-02-22T20:21:15.893Z"
   },
   {
    "duration": 0,
    "start_time": "2023-02-22T20:21:15.939Z"
   },
   {
    "duration": 0,
    "start_time": "2023-02-22T20:21:15.940Z"
   },
   {
    "duration": 0,
    "start_time": "2023-02-22T20:21:15.941Z"
   },
   {
    "duration": 0,
    "start_time": "2023-02-22T20:21:15.942Z"
   },
   {
    "duration": 0,
    "start_time": "2023-02-22T20:21:15.943Z"
   },
   {
    "duration": 0,
    "start_time": "2023-02-22T20:21:15.944Z"
   },
   {
    "duration": 0,
    "start_time": "2023-02-22T20:21:15.945Z"
   },
   {
    "duration": 0,
    "start_time": "2023-02-22T20:21:15.946Z"
   },
   {
    "duration": 0,
    "start_time": "2023-02-22T20:21:15.947Z"
   },
   {
    "duration": 89,
    "start_time": "2023-02-22T20:21:15.968Z"
   },
   {
    "duration": 202,
    "start_time": "2023-02-22T20:21:54.761Z"
   },
   {
    "duration": 6,
    "start_time": "2023-02-22T20:21:54.965Z"
   },
   {
    "duration": 343,
    "start_time": "2023-02-22T20:21:54.972Z"
   },
   {
    "duration": 144,
    "start_time": "2023-02-22T20:21:55.316Z"
   },
   {
    "duration": 4,
    "start_time": "2023-02-22T20:21:55.462Z"
   },
   {
    "duration": 178,
    "start_time": "2023-02-22T20:21:55.467Z"
   },
   {
    "duration": 147,
    "start_time": "2023-02-22T20:21:55.647Z"
   },
   {
    "duration": 4,
    "start_time": "2023-02-22T20:21:55.796Z"
   },
   {
    "duration": 903,
    "start_time": "2023-02-22T20:21:55.802Z"
   },
   {
    "duration": 0,
    "start_time": "2023-02-22T20:21:56.706Z"
   },
   {
    "duration": 0,
    "start_time": "2023-02-22T20:21:56.708Z"
   },
   {
    "duration": 0,
    "start_time": "2023-02-22T20:21:56.710Z"
   },
   {
    "duration": 0,
    "start_time": "2023-02-22T20:21:56.711Z"
   },
   {
    "duration": 786,
    "start_time": "2023-02-22T20:23:03.349Z"
   },
   {
    "duration": 0,
    "start_time": "2023-02-22T20:23:04.137Z"
   },
   {
    "duration": 0,
    "start_time": "2023-02-22T20:23:04.138Z"
   },
   {
    "duration": 0,
    "start_time": "2023-02-22T20:23:04.139Z"
   },
   {
    "duration": 0,
    "start_time": "2023-02-22T20:23:04.139Z"
   },
   {
    "duration": 9,
    "start_time": "2023-02-22T20:23:19.554Z"
   },
   {
    "duration": 9,
    "start_time": "2023-02-22T20:23:25.124Z"
   },
   {
    "duration": 9,
    "start_time": "2023-02-22T20:23:25.135Z"
   },
   {
    "duration": 753,
    "start_time": "2023-02-22T20:23:25.157Z"
   },
   {
    "duration": 0,
    "start_time": "2023-02-22T20:23:25.911Z"
   },
   {
    "duration": 1030,
    "start_time": "2023-02-22T20:24:17.984Z"
   },
   {
    "duration": 56,
    "start_time": "2023-02-22T20:24:19.015Z"
   },
   {
    "duration": 21,
    "start_time": "2023-02-22T20:24:19.073Z"
   },
   {
    "duration": 20,
    "start_time": "2023-02-22T20:24:19.095Z"
   },
   {
    "duration": 10,
    "start_time": "2023-02-22T20:24:19.117Z"
   },
   {
    "duration": 47,
    "start_time": "2023-02-22T20:24:19.129Z"
   },
   {
    "duration": 21,
    "start_time": "2023-02-22T20:24:19.179Z"
   },
   {
    "duration": 16,
    "start_time": "2023-02-22T20:24:19.202Z"
   },
   {
    "duration": 9,
    "start_time": "2023-02-22T20:24:19.220Z"
   },
   {
    "duration": 10,
    "start_time": "2023-02-22T20:24:19.230Z"
   },
   {
    "duration": 10,
    "start_time": "2023-02-22T20:24:19.241Z"
   },
   {
    "duration": 9,
    "start_time": "2023-02-22T20:24:19.252Z"
   },
   {
    "duration": 28,
    "start_time": "2023-02-22T20:24:19.263Z"
   },
   {
    "duration": 13,
    "start_time": "2023-02-22T20:24:19.294Z"
   },
   {
    "duration": 5,
    "start_time": "2023-02-22T20:24:19.308Z"
   },
   {
    "duration": 274,
    "start_time": "2023-02-22T20:24:19.314Z"
   },
   {
    "duration": 256,
    "start_time": "2023-02-22T20:24:19.590Z"
   },
   {
    "duration": 193,
    "start_time": "2023-02-22T20:24:19.848Z"
   },
   {
    "duration": 269,
    "start_time": "2023-02-22T20:24:20.043Z"
   },
   {
    "duration": 212,
    "start_time": "2023-02-22T20:24:20.313Z"
   },
   {
    "duration": 6,
    "start_time": "2023-02-22T20:24:20.526Z"
   },
   {
    "duration": 297,
    "start_time": "2023-02-22T20:24:20.533Z"
   },
   {
    "duration": 130,
    "start_time": "2023-02-22T20:24:20.831Z"
   },
   {
    "duration": 4,
    "start_time": "2023-02-22T20:24:20.962Z"
   },
   {
    "duration": 135,
    "start_time": "2023-02-22T20:24:20.968Z"
   },
   {
    "duration": 140,
    "start_time": "2023-02-22T20:24:21.105Z"
   },
   {
    "duration": 5,
    "start_time": "2023-02-22T20:24:21.247Z"
   },
   {
    "duration": 219,
    "start_time": "2023-02-22T20:24:21.254Z"
   },
   {
    "duration": 148,
    "start_time": "2023-02-22T20:24:21.474Z"
   },
   {
    "duration": 10,
    "start_time": "2023-02-22T20:24:21.623Z"
   },
   {
    "duration": 9,
    "start_time": "2023-02-22T20:24:21.635Z"
   },
   {
    "duration": 43,
    "start_time": "2023-02-22T20:24:21.645Z"
   },
   {
    "duration": 12,
    "start_time": "2023-02-22T20:24:21.689Z"
   },
   {
    "duration": 1085,
    "start_time": "2023-02-23T17:01:23.457Z"
   },
   {
    "duration": 119,
    "start_time": "2023-02-23T17:01:24.544Z"
   },
   {
    "duration": 10,
    "start_time": "2023-02-23T17:01:24.665Z"
   },
   {
    "duration": 16,
    "start_time": "2023-02-23T17:01:24.677Z"
   },
   {
    "duration": 14,
    "start_time": "2023-02-23T17:01:24.694Z"
   },
   {
    "duration": 134,
    "start_time": "2023-02-23T17:01:24.709Z"
   },
   {
    "duration": 19,
    "start_time": "2023-02-23T17:01:24.845Z"
   },
   {
    "duration": 6,
    "start_time": "2023-02-23T17:01:24.866Z"
   },
   {
    "duration": 18,
    "start_time": "2023-02-23T17:01:24.874Z"
   },
   {
    "duration": 10,
    "start_time": "2023-02-23T17:01:24.894Z"
   },
   {
    "duration": 9,
    "start_time": "2023-02-23T17:01:24.906Z"
   },
   {
    "duration": 7,
    "start_time": "2023-02-23T17:01:24.916Z"
   },
   {
    "duration": 10,
    "start_time": "2023-02-23T17:01:24.925Z"
   },
   {
    "duration": 31,
    "start_time": "2023-02-23T17:01:24.937Z"
   },
   {
    "duration": 5,
    "start_time": "2023-02-23T17:01:24.970Z"
   },
   {
    "duration": 281,
    "start_time": "2023-02-23T17:01:24.977Z"
   },
   {
    "duration": 648,
    "start_time": "2023-02-23T17:01:25.260Z"
   },
   {
    "duration": 424,
    "start_time": "2023-02-23T17:01:25.910Z"
   },
   {
    "duration": 570,
    "start_time": "2023-02-23T17:01:26.335Z"
   },
   {
    "duration": 414,
    "start_time": "2023-02-23T17:01:26.906Z"
   },
   {
    "duration": 6,
    "start_time": "2023-02-23T17:01:27.322Z"
   },
   {
    "duration": 412,
    "start_time": "2023-02-23T17:01:27.331Z"
   },
   {
    "duration": 154,
    "start_time": "2023-02-23T17:01:27.745Z"
   },
   {
    "duration": 5,
    "start_time": "2023-02-23T17:01:27.900Z"
   },
   {
    "duration": 164,
    "start_time": "2023-02-23T17:01:27.907Z"
   },
   {
    "duration": 146,
    "start_time": "2023-02-23T17:01:28.073Z"
   },
   {
    "duration": 4,
    "start_time": "2023-02-23T17:01:28.221Z"
   },
   {
    "duration": 250,
    "start_time": "2023-02-23T17:01:28.228Z"
   },
   {
    "duration": 166,
    "start_time": "2023-02-23T17:01:28.480Z"
   },
   {
    "duration": 10,
    "start_time": "2023-02-23T17:01:28.648Z"
   },
   {
    "duration": 111,
    "start_time": "2023-02-23T17:01:28.660Z"
   },
   {
    "duration": 0,
    "start_time": "2023-02-23T17:01:28.773Z"
   },
   {
    "duration": 0,
    "start_time": "2023-02-23T17:01:28.774Z"
   },
   {
    "duration": 13,
    "start_time": "2023-02-23T17:02:11.631Z"
   },
   {
    "duration": 26,
    "start_time": "2023-02-23T17:02:11.646Z"
   },
   {
    "duration": 14,
    "start_time": "2023-02-23T17:02:11.674Z"
   }
  ],
  "kernelspec": {
   "display_name": "Python 3 (ipykernel)",
   "language": "python",
   "name": "python3"
  },
  "language_info": {
   "codemirror_mode": {
    "name": "ipython",
    "version": 3
   },
   "file_extension": ".py",
   "mimetype": "text/x-python",
   "name": "python",
   "nbconvert_exporter": "python",
   "pygments_lexer": "ipython3",
   "version": "3.9.12"
  },
  "toc": {
   "base_numbering": 1,
   "nav_menu": {},
   "number_sections": true,
   "sideBar": true,
   "skip_h1_title": true,
   "title_cell": "Table of Contents",
   "title_sidebar": "Contents",
   "toc_cell": false,
   "toc_position": {},
   "toc_section_display": true,
   "toc_window_display": true
  }
 },
 "nbformat": 4,
 "nbformat_minor": 2
}
